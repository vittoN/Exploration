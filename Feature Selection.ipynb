{
 "cells": [
  {
   "cell_type": "code",
   "execution_count": 13,
   "metadata": {},
   "outputs": [],
   "source": [
    "from itertools import chain, combinations\n",
    "import numpy as np # Fundamental package for scientific computing with Python\n",
    "import pandas as pd\n",
    "import calendar\n",
    "import time\n",
    "from sklearn.metrics import accuracy_score, precision_score, f1_score\n",
    "from lib.Utility import computeEquity, getData\n",
    "from sklearn.linear_model import LogisticRegression\n",
    "from sklearn.model_selection import train_test_split\n",
    "\n",
    "\n",
    "commissioni = 0.0008\n"
   ]
  },
  {
   "cell_type": "code",
   "execution_count": 14,
   "metadata": {},
   "outputs": [],
   "source": [
    "# Train the model\n",
    "def trainModel(X_train, y_train):\n",
    "    # Set regularization rate\n",
    "    reg = 0.01\n",
    "    # train a logistic regression model on the training set\n",
    "    mod = LogisticRegression(C=1/reg, solver=\"liblinear\", random_state=42).fit(X_train, y_train)\n",
    "\n",
    "    return mod"
   ]
  },
  {
   "cell_type": "code",
   "execution_count": 15,
   "metadata": {},
   "outputs": [
    {
     "name": "stderr",
     "output_type": "stream",
     "text": [
      "[*********************100%%**********************]  1 of 1 completed\n",
      "[*********************100%%**********************]  1 of 1 completed\n",
      "[*********************100%%**********************]  1 of 1 completed\n",
      "C:\\Users\\vitto\\AppData\\Local\\Temp\\ipykernel_10512\\820412064.py:67: SettingWithCopyWarning: \n",
      "A value is trying to be set on a copy of a slice from a DataFrame.\n",
      "Try using .loc[row_indexer,col_indexer] = value instead\n",
      "\n",
      "See the caveats in the documentation: https://pandas.pydata.org/pandas-docs/stable/user_guide/indexing.html#returning-a-view-versus-a-copy\n",
      "  test_data['cluster'] = y_test_pred\n"
     ]
    },
    {
     "name": "stdout",
     "output_type": "stream",
     "text": [
      "0 21:16:15 : ('feat_Open',)\n",
      "1 21:16:15 : ('feat_vixOpen',)\n",
      "2 21:16:15 : ('feat_vixPrevClose',)\n",
      "3 21:16:15 : ('feat_vvixOpen',)\n",
      "4 21:16:15 : ('feat_vvixPrevClose',)\n",
      "5 21:16:15 : ('feat_Acc',)\n",
      "6 21:16:15 : ('feat_PrevCluster',)\n",
      "7 21:16:15 : ('feat_bigBodyRange',)\n",
      "8 21:16:15 : ('feat_Open', 'feat_vixOpen')\n",
      "9 21:16:15 : ('feat_Open', 'feat_vixPrevClose')\n",
      "10 21:16:15 : ('feat_Open', 'feat_vvixOpen')\n",
      "11 21:16:15 : ('feat_Open', 'feat_vvixPrevClose')\n",
      "12 21:16:15 : ('feat_Open', 'feat_Acc')\n",
      "13 21:16:15 : ('feat_Open', 'feat_PrevCluster')\n",
      "14 21:16:15 : ('feat_Open', 'feat_bigBodyRange')\n",
      "15 21:16:15 : ('feat_vixOpen', 'feat_vixPrevClose')\n",
      "16 21:16:15 : ('feat_vixOpen', 'feat_vvixOpen')\n",
      "17 21:16:15 : ('feat_vixOpen', 'feat_vvixPrevClose')\n",
      "18 21:16:15 : ('feat_vixOpen', 'feat_Acc')\n",
      "19 21:16:15 : ('feat_vixOpen', 'feat_PrevCluster')\n",
      "20 21:16:15 : ('feat_vixOpen', 'feat_bigBodyRange')\n",
      "21 21:16:15 : ('feat_vixPrevClose', 'feat_vvixOpen')\n",
      "22 21:16:15 : ('feat_vixPrevClose', 'feat_vvixPrevClose')\n",
      "23 21:16:15 : ('feat_vixPrevClose', 'feat_Acc')\n",
      "24 21:16:15 : ('feat_vixPrevClose', 'feat_PrevCluster')\n",
      "25 21:16:15 : ('feat_vixPrevClose', 'feat_bigBodyRange')\n",
      "26 21:16:15 : ('feat_vvixOpen', 'feat_vvixPrevClose')\n",
      "27 21:16:15 : ('feat_vvixOpen', 'feat_Acc')\n",
      "28 21:16:15 : ('feat_vvixOpen', 'feat_PrevCluster')\n",
      "29 21:16:15 : ('feat_vvixOpen', 'feat_bigBodyRange')\n",
      "30 21:16:15 : ('feat_vvixPrevClose', 'feat_Acc')\n",
      "31 21:16:15 : ('feat_vvixPrevClose', 'feat_PrevCluster')\n",
      "32 21:16:15 : ('feat_vvixPrevClose', 'feat_bigBodyRange')\n",
      "33 21:16:15 : ('feat_Acc', 'feat_PrevCluster')\n",
      "34 21:16:15 : ('feat_Acc', 'feat_bigBodyRange')\n",
      "35 21:16:15 : ('feat_PrevCluster', 'feat_bigBodyRange')\n",
      "36 21:16:15 : ('feat_Open', 'feat_vixOpen', 'feat_vixPrevClose')\n",
      "37 21:16:15 : ('feat_Open', 'feat_vixOpen', 'feat_vvixOpen')\n",
      "38 21:16:15 : ('feat_Open', 'feat_vixOpen', 'feat_vvixPrevClose')\n",
      "39 21:16:15 : ('feat_Open', 'feat_vixOpen', 'feat_Acc')\n",
      "40 21:16:15 : ('feat_Open', 'feat_vixOpen', 'feat_PrevCluster')\n",
      "41 21:16:15 : ('feat_Open', 'feat_vixOpen', 'feat_bigBodyRange')\n",
      "42 21:16:15 : ('feat_Open', 'feat_vixPrevClose', 'feat_vvixOpen')\n",
      "43 21:16:15 : ('feat_Open', 'feat_vixPrevClose', 'feat_vvixPrevClose')\n",
      "44 21:16:15 : ('feat_Open', 'feat_vixPrevClose', 'feat_Acc')\n",
      "45 21:16:15 : ('feat_Open', 'feat_vixPrevClose', 'feat_PrevCluster')\n",
      "46 21:16:15 : ('feat_Open', 'feat_vixPrevClose', 'feat_bigBodyRange')\n",
      "47 21:16:15 : ('feat_Open', 'feat_vvixOpen', 'feat_vvixPrevClose')\n",
      "48 21:16:15 : ('feat_Open', 'feat_vvixOpen', 'feat_Acc')\n",
      "49 21:16:15 : ('feat_Open', 'feat_vvixOpen', 'feat_PrevCluster')\n",
      "50 21:16:15 : ('feat_Open', 'feat_vvixOpen', 'feat_bigBodyRange')\n",
      "51 21:16:15 : ('feat_Open', 'feat_vvixPrevClose', 'feat_Acc')\n",
      "52 21:16:15 : ('feat_Open', 'feat_vvixPrevClose', 'feat_PrevCluster')\n",
      "53 21:16:15 : ('feat_Open', 'feat_vvixPrevClose', 'feat_bigBodyRange')\n",
      "54 21:16:15 : ('feat_Open', 'feat_Acc', 'feat_PrevCluster')\n",
      "55 21:16:15 : ('feat_Open', 'feat_Acc', 'feat_bigBodyRange')\n",
      "56 21:16:15 : ('feat_Open', 'feat_PrevCluster', 'feat_bigBodyRange')\n",
      "57 21:16:15 : ('feat_vixOpen', 'feat_vixPrevClose', 'feat_vvixOpen')\n",
      "58 21:16:15 : ('feat_vixOpen', 'feat_vixPrevClose', 'feat_vvixPrevClose')\n",
      "59 21:16:15 : ('feat_vixOpen', 'feat_vixPrevClose', 'feat_Acc')\n",
      "60 21:16:15 : ('feat_vixOpen', 'feat_vixPrevClose', 'feat_PrevCluster')\n",
      "61 21:16:15 : ('feat_vixOpen', 'feat_vixPrevClose', 'feat_bigBodyRange')\n",
      "62 21:16:15 : ('feat_vixOpen', 'feat_vvixOpen', 'feat_vvixPrevClose')\n",
      "63 21:16:15 : ('feat_vixOpen', 'feat_vvixOpen', 'feat_Acc')\n",
      "64 21:16:15 : ('feat_vixOpen', 'feat_vvixOpen', 'feat_PrevCluster')\n",
      "65 21:16:15 : ('feat_vixOpen', 'feat_vvixOpen', 'feat_bigBodyRange')\n",
      "66 21:16:15 : ('feat_vixOpen', 'feat_vvixPrevClose', 'feat_Acc')\n",
      "67 21:16:15 : ('feat_vixOpen', 'feat_vvixPrevClose', 'feat_PrevCluster')\n",
      "68 21:16:15 : ('feat_vixOpen', 'feat_vvixPrevClose', 'feat_bigBodyRange')\n",
      "69 21:16:15 : ('feat_vixOpen', 'feat_Acc', 'feat_PrevCluster')\n",
      "70 21:16:15 : ('feat_vixOpen', 'feat_Acc', 'feat_bigBodyRange')\n",
      "71 21:16:15 : ('feat_vixOpen', 'feat_PrevCluster', 'feat_bigBodyRange')\n",
      "72 21:16:15 : ('feat_vixPrevClose', 'feat_vvixOpen', 'feat_vvixPrevClose')\n",
      "73 21:16:15 : ('feat_vixPrevClose', 'feat_vvixOpen', 'feat_Acc')\n",
      "74 21:16:15 : ('feat_vixPrevClose', 'feat_vvixOpen', 'feat_PrevCluster')\n",
      "75 21:16:15 : ('feat_vixPrevClose', 'feat_vvixOpen', 'feat_bigBodyRange')\n",
      "76 21:16:15 : ('feat_vixPrevClose', 'feat_vvixPrevClose', 'feat_Acc')\n",
      "77 21:16:15 : ('feat_vixPrevClose', 'feat_vvixPrevClose', 'feat_PrevCluster')\n",
      "78 21:16:15 : ('feat_vixPrevClose', 'feat_vvixPrevClose', 'feat_bigBodyRange')\n",
      "79 21:16:15 : ('feat_vixPrevClose', 'feat_Acc', 'feat_PrevCluster')\n",
      "80 21:16:15 : ('feat_vixPrevClose', 'feat_Acc', 'feat_bigBodyRange')\n",
      "81 21:16:15 : ('feat_vixPrevClose', 'feat_PrevCluster', 'feat_bigBodyRange')\n",
      "82 21:16:15 : ('feat_vvixOpen', 'feat_vvixPrevClose', 'feat_Acc')\n",
      "83 21:16:15 : ('feat_vvixOpen', 'feat_vvixPrevClose', 'feat_PrevCluster')\n",
      "84 21:16:15 : ('feat_vvixOpen', 'feat_vvixPrevClose', 'feat_bigBodyRange')\n",
      "85 21:16:15 : ('feat_vvixOpen', 'feat_Acc', 'feat_PrevCluster')\n",
      "86 21:16:15 : ('feat_vvixOpen', 'feat_Acc', 'feat_bigBodyRange')\n",
      "87 21:16:15 : ('feat_vvixOpen', 'feat_PrevCluster', 'feat_bigBodyRange')\n",
      "88 21:16:15 : ('feat_vvixPrevClose', 'feat_Acc', 'feat_PrevCluster')\n",
      "89 21:16:15 : ('feat_vvixPrevClose', 'feat_Acc', 'feat_bigBodyRange')\n",
      "90 21:16:15 : ('feat_vvixPrevClose', 'feat_PrevCluster', 'feat_bigBodyRange')\n",
      "91 21:16:15 : ('feat_Acc', 'feat_PrevCluster', 'feat_bigBodyRange')\n",
      "92 21:16:15 : ('feat_Open', 'feat_vixOpen', 'feat_vixPrevClose', 'feat_vvixOpen')\n",
      "93 21:16:15 : ('feat_Open', 'feat_vixOpen', 'feat_vixPrevClose', 'feat_vvixPrevClose')\n",
      "94 21:16:15 : ('feat_Open', 'feat_vixOpen', 'feat_vixPrevClose', 'feat_Acc')\n",
      "95 21:16:15 : ('feat_Open', 'feat_vixOpen', 'feat_vixPrevClose', 'feat_PrevCluster')\n",
      "96 21:16:15 : ('feat_Open', 'feat_vixOpen', 'feat_vixPrevClose', 'feat_bigBodyRange')\n",
      "97 21:16:15 : ('feat_Open', 'feat_vixOpen', 'feat_vvixOpen', 'feat_vvixPrevClose')\n",
      "98 21:16:15 : ('feat_Open', 'feat_vixOpen', 'feat_vvixOpen', 'feat_Acc')\n",
      "99 21:16:15 : ('feat_Open', 'feat_vixOpen', 'feat_vvixOpen', 'feat_PrevCluster')\n",
      "100 21:16:15 : ('feat_Open', 'feat_vixOpen', 'feat_vvixOpen', 'feat_bigBodyRange')\n",
      "101 21:16:15 : ('feat_Open', 'feat_vixOpen', 'feat_vvixPrevClose', 'feat_Acc')\n",
      "102 21:16:15 : ('feat_Open', 'feat_vixOpen', 'feat_vvixPrevClose', 'feat_PrevCluster')\n",
      "103 21:16:15 : ('feat_Open', 'feat_vixOpen', 'feat_vvixPrevClose', 'feat_bigBodyRange')\n",
      "104 21:16:15 : ('feat_Open', 'feat_vixOpen', 'feat_Acc', 'feat_PrevCluster')\n",
      "105 21:16:15 : ('feat_Open', 'feat_vixOpen', 'feat_Acc', 'feat_bigBodyRange')\n",
      "106 21:16:15 : ('feat_Open', 'feat_vixOpen', 'feat_PrevCluster', 'feat_bigBodyRange')\n",
      "107 21:16:15 : ('feat_Open', 'feat_vixPrevClose', 'feat_vvixOpen', 'feat_vvixPrevClose')\n",
      "108 21:16:15 : ('feat_Open', 'feat_vixPrevClose', 'feat_vvixOpen', 'feat_Acc')\n",
      "109 21:16:15 : ('feat_Open', 'feat_vixPrevClose', 'feat_vvixOpen', 'feat_PrevCluster')\n",
      "110 21:16:15 : ('feat_Open', 'feat_vixPrevClose', 'feat_vvixOpen', 'feat_bigBodyRange')\n",
      "111 21:16:15 : ('feat_Open', 'feat_vixPrevClose', 'feat_vvixPrevClose', 'feat_Acc')\n",
      "112 21:16:15 : ('feat_Open', 'feat_vixPrevClose', 'feat_vvixPrevClose', 'feat_PrevCluster')\n",
      "113 21:16:15 : ('feat_Open', 'feat_vixPrevClose', 'feat_vvixPrevClose', 'feat_bigBodyRange')\n",
      "114 21:16:15 : ('feat_Open', 'feat_vixPrevClose', 'feat_Acc', 'feat_PrevCluster')\n",
      "115 21:16:15 : ('feat_Open', 'feat_vixPrevClose', 'feat_Acc', 'feat_bigBodyRange')\n",
      "116 21:16:15 : ('feat_Open', 'feat_vixPrevClose', 'feat_PrevCluster', 'feat_bigBodyRange')\n",
      "117 21:16:15 : ('feat_Open', 'feat_vvixOpen', 'feat_vvixPrevClose', 'feat_Acc')\n",
      "118 21:16:15 : ('feat_Open', 'feat_vvixOpen', 'feat_vvixPrevClose', 'feat_PrevCluster')\n",
      "119 21:16:15 : ('feat_Open', 'feat_vvixOpen', 'feat_vvixPrevClose', 'feat_bigBodyRange')\n",
      "120 21:16:15 : ('feat_Open', 'feat_vvixOpen', 'feat_Acc', 'feat_PrevCluster')\n",
      "121 21:16:15 : ('feat_Open', 'feat_vvixOpen', 'feat_Acc', 'feat_bigBodyRange')\n",
      "122 21:16:15 : ('feat_Open', 'feat_vvixOpen', 'feat_PrevCluster', 'feat_bigBodyRange')\n",
      "123 21:16:15 : ('feat_Open', 'feat_vvixPrevClose', 'feat_Acc', 'feat_PrevCluster')\n",
      "124 21:16:15 : ('feat_Open', 'feat_vvixPrevClose', 'feat_Acc', 'feat_bigBodyRange')\n",
      "125 21:16:15 : ('feat_Open', 'feat_vvixPrevClose', 'feat_PrevCluster', 'feat_bigBodyRange')\n",
      "126 21:16:15 : ('feat_Open', 'feat_Acc', 'feat_PrevCluster', 'feat_bigBodyRange')\n",
      "127 21:16:15 : ('feat_vixOpen', 'feat_vixPrevClose', 'feat_vvixOpen', 'feat_vvixPrevClose')\n",
      "128 21:16:15 : ('feat_vixOpen', 'feat_vixPrevClose', 'feat_vvixOpen', 'feat_Acc')\n",
      "129 21:16:15 : ('feat_vixOpen', 'feat_vixPrevClose', 'feat_vvixOpen', 'feat_PrevCluster')\n",
      "130 21:16:15 : ('feat_vixOpen', 'feat_vixPrevClose', 'feat_vvixOpen', 'feat_bigBodyRange')\n",
      "131 21:16:15 : ('feat_vixOpen', 'feat_vixPrevClose', 'feat_vvixPrevClose', 'feat_Acc')\n",
      "132 21:16:15 : ('feat_vixOpen', 'feat_vixPrevClose', 'feat_vvixPrevClose', 'feat_PrevCluster')\n",
      "133 21:16:15 : ('feat_vixOpen', 'feat_vixPrevClose', 'feat_vvixPrevClose', 'feat_bigBodyRange')\n",
      "134 21:16:15 : ('feat_vixOpen', 'feat_vixPrevClose', 'feat_Acc', 'feat_PrevCluster')\n",
      "135 21:16:15 : ('feat_vixOpen', 'feat_vixPrevClose', 'feat_Acc', 'feat_bigBodyRange')\n",
      "136 21:16:15 : ('feat_vixOpen', 'feat_vixPrevClose', 'feat_PrevCluster', 'feat_bigBodyRange')\n",
      "137 21:16:15 : ('feat_vixOpen', 'feat_vvixOpen', 'feat_vvixPrevClose', 'feat_Acc')\n",
      "138 21:16:15 : ('feat_vixOpen', 'feat_vvixOpen', 'feat_vvixPrevClose', 'feat_PrevCluster')\n",
      "139 21:16:15 : ('feat_vixOpen', 'feat_vvixOpen', 'feat_vvixPrevClose', 'feat_bigBodyRange')\n",
      "140 21:16:15 : ('feat_vixOpen', 'feat_vvixOpen', 'feat_Acc', 'feat_PrevCluster')\n",
      "141 21:16:15 : ('feat_vixOpen', 'feat_vvixOpen', 'feat_Acc', 'feat_bigBodyRange')\n",
      "142 21:16:15 : ('feat_vixOpen', 'feat_vvixOpen', 'feat_PrevCluster', 'feat_bigBodyRange')\n",
      "143 21:16:15 : ('feat_vixOpen', 'feat_vvixPrevClose', 'feat_Acc', 'feat_PrevCluster')\n",
      "144 21:16:15 : ('feat_vixOpen', 'feat_vvixPrevClose', 'feat_Acc', 'feat_bigBodyRange')\n",
      "145 21:16:15 : ('feat_vixOpen', 'feat_vvixPrevClose', 'feat_PrevCluster', 'feat_bigBodyRange')\n",
      "146 21:16:15 : ('feat_vixOpen', 'feat_Acc', 'feat_PrevCluster', 'feat_bigBodyRange')\n",
      "147 21:16:15 : ('feat_vixPrevClose', 'feat_vvixOpen', 'feat_vvixPrevClose', 'feat_Acc')\n",
      "148 21:16:15 : ('feat_vixPrevClose', 'feat_vvixOpen', 'feat_vvixPrevClose', 'feat_PrevCluster')\n",
      "149 21:16:15 : ('feat_vixPrevClose', 'feat_vvixOpen', 'feat_vvixPrevClose', 'feat_bigBodyRange')\n",
      "150 21:16:15 : ('feat_vixPrevClose', 'feat_vvixOpen', 'feat_Acc', 'feat_PrevCluster')\n",
      "151 21:16:15 : ('feat_vixPrevClose', 'feat_vvixOpen', 'feat_Acc', 'feat_bigBodyRange')\n",
      "152 21:16:15 : ('feat_vixPrevClose', 'feat_vvixOpen', 'feat_PrevCluster', 'feat_bigBodyRange')\n",
      "153 21:16:15 : ('feat_vixPrevClose', 'feat_vvixPrevClose', 'feat_Acc', 'feat_PrevCluster')\n",
      "154 21:16:15 : ('feat_vixPrevClose', 'feat_vvixPrevClose', 'feat_Acc', 'feat_bigBodyRange')\n",
      "155 21:16:15 : ('feat_vixPrevClose', 'feat_vvixPrevClose', 'feat_PrevCluster', 'feat_bigBodyRange')\n",
      "156 21:16:15 : ('feat_vixPrevClose', 'feat_Acc', 'feat_PrevCluster', 'feat_bigBodyRange')\n",
      "157 21:16:15 : ('feat_vvixOpen', 'feat_vvixPrevClose', 'feat_Acc', 'feat_PrevCluster')\n",
      "158 21:16:15 : ('feat_vvixOpen', 'feat_vvixPrevClose', 'feat_Acc', 'feat_bigBodyRange')\n",
      "159 21:16:15 : ('feat_vvixOpen', 'feat_vvixPrevClose', 'feat_PrevCluster', 'feat_bigBodyRange')\n",
      "160 21:16:15 : ('feat_vvixOpen', 'feat_Acc', 'feat_PrevCluster', 'feat_bigBodyRange')\n",
      "161 21:16:15 : ('feat_vvixPrevClose', 'feat_Acc', 'feat_PrevCluster', 'feat_bigBodyRange')\n",
      "162 21:16:15 : ('feat_Open', 'feat_vixOpen', 'feat_vixPrevClose', 'feat_vvixOpen', 'feat_vvixPrevClose')\n",
      "163 21:16:15 : ('feat_Open', 'feat_vixOpen', 'feat_vixPrevClose', 'feat_vvixOpen', 'feat_Acc')\n",
      "164 21:16:15 : ('feat_Open', 'feat_vixOpen', 'feat_vixPrevClose', 'feat_vvixOpen', 'feat_PrevCluster')\n",
      "165 21:16:15 : ('feat_Open', 'feat_vixOpen', 'feat_vixPrevClose', 'feat_vvixOpen', 'feat_bigBodyRange')\n",
      "166 21:16:15 : ('feat_Open', 'feat_vixOpen', 'feat_vixPrevClose', 'feat_vvixPrevClose', 'feat_Acc')\n",
      "167 21:16:15 : ('feat_Open', 'feat_vixOpen', 'feat_vixPrevClose', 'feat_vvixPrevClose', 'feat_PrevCluster')\n",
      "168 21:16:15 : ('feat_Open', 'feat_vixOpen', 'feat_vixPrevClose', 'feat_vvixPrevClose', 'feat_bigBodyRange')\n",
      "169 21:16:15 : ('feat_Open', 'feat_vixOpen', 'feat_vixPrevClose', 'feat_Acc', 'feat_PrevCluster')\n",
      "170 21:16:15 : ('feat_Open', 'feat_vixOpen', 'feat_vixPrevClose', 'feat_Acc', 'feat_bigBodyRange')\n",
      "171 21:16:15 : ('feat_Open', 'feat_vixOpen', 'feat_vixPrevClose', 'feat_PrevCluster', 'feat_bigBodyRange')\n",
      "172 21:16:15 : ('feat_Open', 'feat_vixOpen', 'feat_vvixOpen', 'feat_vvixPrevClose', 'feat_Acc')\n",
      "173 21:16:15 : ('feat_Open', 'feat_vixOpen', 'feat_vvixOpen', 'feat_vvixPrevClose', 'feat_PrevCluster')\n",
      "174 21:16:15 : ('feat_Open', 'feat_vixOpen', 'feat_vvixOpen', 'feat_vvixPrevClose', 'feat_bigBodyRange')\n",
      "175 21:16:15 : ('feat_Open', 'feat_vixOpen', 'feat_vvixOpen', 'feat_Acc', 'feat_PrevCluster')\n",
      "176 21:16:15 : ('feat_Open', 'feat_vixOpen', 'feat_vvixOpen', 'feat_Acc', 'feat_bigBodyRange')\n",
      "177 21:16:15 : ('feat_Open', 'feat_vixOpen', 'feat_vvixOpen', 'feat_PrevCluster', 'feat_bigBodyRange')\n",
      "178 21:16:15 : ('feat_Open', 'feat_vixOpen', 'feat_vvixPrevClose', 'feat_Acc', 'feat_PrevCluster')\n",
      "179 21:16:15 : ('feat_Open', 'feat_vixOpen', 'feat_vvixPrevClose', 'feat_Acc', 'feat_bigBodyRange')\n",
      "180 21:16:15 : ('feat_Open', 'feat_vixOpen', 'feat_vvixPrevClose', 'feat_PrevCluster', 'feat_bigBodyRange')\n",
      "181 21:16:15 : ('feat_Open', 'feat_vixOpen', 'feat_Acc', 'feat_PrevCluster', 'feat_bigBodyRange')\n",
      "182 21:16:15 : ('feat_Open', 'feat_vixPrevClose', 'feat_vvixOpen', 'feat_vvixPrevClose', 'feat_Acc')\n",
      "183 21:16:15 : ('feat_Open', 'feat_vixPrevClose', 'feat_vvixOpen', 'feat_vvixPrevClose', 'feat_PrevCluster')\n",
      "184 21:16:15 : ('feat_Open', 'feat_vixPrevClose', 'feat_vvixOpen', 'feat_vvixPrevClose', 'feat_bigBodyRange')\n",
      "185 21:16:15 : ('feat_Open', 'feat_vixPrevClose', 'feat_vvixOpen', 'feat_Acc', 'feat_PrevCluster')\n",
      "186 21:16:15 : ('feat_Open', 'feat_vixPrevClose', 'feat_vvixOpen', 'feat_Acc', 'feat_bigBodyRange')\n",
      "187 21:16:15 : ('feat_Open', 'feat_vixPrevClose', 'feat_vvixOpen', 'feat_PrevCluster', 'feat_bigBodyRange')\n",
      "188 21:16:15 : ('feat_Open', 'feat_vixPrevClose', 'feat_vvixPrevClose', 'feat_Acc', 'feat_PrevCluster')\n",
      "189 21:16:15 : ('feat_Open', 'feat_vixPrevClose', 'feat_vvixPrevClose', 'feat_Acc', 'feat_bigBodyRange')\n",
      "190 21:16:15 : ('feat_Open', 'feat_vixPrevClose', 'feat_vvixPrevClose', 'feat_PrevCluster', 'feat_bigBodyRange')\n",
      "191 21:16:15 : ('feat_Open', 'feat_vixPrevClose', 'feat_Acc', 'feat_PrevCluster', 'feat_bigBodyRange')\n",
      "192 21:16:15 : ('feat_Open', 'feat_vvixOpen', 'feat_vvixPrevClose', 'feat_Acc', 'feat_PrevCluster')\n",
      "193 21:16:15 : ('feat_Open', 'feat_vvixOpen', 'feat_vvixPrevClose', 'feat_Acc', 'feat_bigBodyRange')\n",
      "194 21:16:15 : ('feat_Open', 'feat_vvixOpen', 'feat_vvixPrevClose', 'feat_PrevCluster', 'feat_bigBodyRange')\n",
      "195 21:16:15 : ('feat_Open', 'feat_vvixOpen', 'feat_Acc', 'feat_PrevCluster', 'feat_bigBodyRange')\n",
      "196 21:16:15 : ('feat_Open', 'feat_vvixPrevClose', 'feat_Acc', 'feat_PrevCluster', 'feat_bigBodyRange')\n",
      "197 21:16:15 : ('feat_vixOpen', 'feat_vixPrevClose', 'feat_vvixOpen', 'feat_vvixPrevClose', 'feat_Acc')\n",
      "198 21:16:15 : ('feat_vixOpen', 'feat_vixPrevClose', 'feat_vvixOpen', 'feat_vvixPrevClose', 'feat_PrevCluster')\n",
      "199 21:16:15 : ('feat_vixOpen', 'feat_vixPrevClose', 'feat_vvixOpen', 'feat_vvixPrevClose', 'feat_bigBodyRange')\n",
      "200 21:16:15 : ('feat_vixOpen', 'feat_vixPrevClose', 'feat_vvixOpen', 'feat_Acc', 'feat_PrevCluster')\n",
      "201 21:16:15 : ('feat_vixOpen', 'feat_vixPrevClose', 'feat_vvixOpen', 'feat_Acc', 'feat_bigBodyRange')\n",
      "202 21:16:15 : ('feat_vixOpen', 'feat_vixPrevClose', 'feat_vvixOpen', 'feat_PrevCluster', 'feat_bigBodyRange')\n",
      "203 21:16:15 : ('feat_vixOpen', 'feat_vixPrevClose', 'feat_vvixPrevClose', 'feat_Acc', 'feat_PrevCluster')\n",
      "204 21:16:15 : ('feat_vixOpen', 'feat_vixPrevClose', 'feat_vvixPrevClose', 'feat_Acc', 'feat_bigBodyRange')\n",
      "205 21:16:15 : ('feat_vixOpen', 'feat_vixPrevClose', 'feat_vvixPrevClose', 'feat_PrevCluster', 'feat_bigBodyRange')\n",
      "206 21:16:15 : ('feat_vixOpen', 'feat_vixPrevClose', 'feat_Acc', 'feat_PrevCluster', 'feat_bigBodyRange')\n",
      "207 21:16:15 : ('feat_vixOpen', 'feat_vvixOpen', 'feat_vvixPrevClose', 'feat_Acc', 'feat_PrevCluster')\n",
      "208 21:16:15 : ('feat_vixOpen', 'feat_vvixOpen', 'feat_vvixPrevClose', 'feat_Acc', 'feat_bigBodyRange')\n",
      "209 21:16:15 : ('feat_vixOpen', 'feat_vvixOpen', 'feat_vvixPrevClose', 'feat_PrevCluster', 'feat_bigBodyRange')\n",
      "210 21:16:15 : ('feat_vixOpen', 'feat_vvixOpen', 'feat_Acc', 'feat_PrevCluster', 'feat_bigBodyRange')\n",
      "211 21:16:15 : ('feat_vixOpen', 'feat_vvixPrevClose', 'feat_Acc', 'feat_PrevCluster', 'feat_bigBodyRange')\n",
      "212 21:16:15 : ('feat_vixPrevClose', 'feat_vvixOpen', 'feat_vvixPrevClose', 'feat_Acc', 'feat_PrevCluster')\n",
      "213 21:16:15 : ('feat_vixPrevClose', 'feat_vvixOpen', 'feat_vvixPrevClose', 'feat_Acc', 'feat_bigBodyRange')\n",
      "214 21:16:15 : ('feat_vixPrevClose', 'feat_vvixOpen', 'feat_vvixPrevClose', 'feat_PrevCluster', 'feat_bigBodyRange')\n",
      "215 21:16:15 : ('feat_vixPrevClose', 'feat_vvixOpen', 'feat_Acc', 'feat_PrevCluster', 'feat_bigBodyRange')\n",
      "216 21:16:15 : ('feat_vixPrevClose', 'feat_vvixPrevClose', 'feat_Acc', 'feat_PrevCluster', 'feat_bigBodyRange')\n",
      "217 21:16:15 : ('feat_vvixOpen', 'feat_vvixPrevClose', 'feat_Acc', 'feat_PrevCluster', 'feat_bigBodyRange')\n",
      "218 21:16:15 : ('feat_Open', 'feat_vixOpen', 'feat_vixPrevClose', 'feat_vvixOpen', 'feat_vvixPrevClose', 'feat_Acc')\n",
      "219 21:16:15 : ('feat_Open', 'feat_vixOpen', 'feat_vixPrevClose', 'feat_vvixOpen', 'feat_vvixPrevClose', 'feat_PrevCluster')\n",
      "220 21:16:15 : ('feat_Open', 'feat_vixOpen', 'feat_vixPrevClose', 'feat_vvixOpen', 'feat_vvixPrevClose', 'feat_bigBodyRange')\n",
      "221 21:16:15 : ('feat_Open', 'feat_vixOpen', 'feat_vixPrevClose', 'feat_vvixOpen', 'feat_Acc', 'feat_PrevCluster')\n",
      "222 21:16:15 : ('feat_Open', 'feat_vixOpen', 'feat_vixPrevClose', 'feat_vvixOpen', 'feat_Acc', 'feat_bigBodyRange')\n",
      "223 21:16:15 : ('feat_Open', 'feat_vixOpen', 'feat_vixPrevClose', 'feat_vvixOpen', 'feat_PrevCluster', 'feat_bigBodyRange')\n",
      "224 21:16:15 : ('feat_Open', 'feat_vixOpen', 'feat_vixPrevClose', 'feat_vvixPrevClose', 'feat_Acc', 'feat_PrevCluster')\n",
      "225 21:16:15 : ('feat_Open', 'feat_vixOpen', 'feat_vixPrevClose', 'feat_vvixPrevClose', 'feat_Acc', 'feat_bigBodyRange')\n",
      "226 21:16:15 : ('feat_Open', 'feat_vixOpen', 'feat_vixPrevClose', 'feat_vvixPrevClose', 'feat_PrevCluster', 'feat_bigBodyRange')\n",
      "227 21:16:15 : ('feat_Open', 'feat_vixOpen', 'feat_vixPrevClose', 'feat_Acc', 'feat_PrevCluster', 'feat_bigBodyRange')\n",
      "228 21:16:15 : ('feat_Open', 'feat_vixOpen', 'feat_vvixOpen', 'feat_vvixPrevClose', 'feat_Acc', 'feat_PrevCluster')\n",
      "229 21:16:15 : ('feat_Open', 'feat_vixOpen', 'feat_vvixOpen', 'feat_vvixPrevClose', 'feat_Acc', 'feat_bigBodyRange')\n",
      "230 21:16:15 : ('feat_Open', 'feat_vixOpen', 'feat_vvixOpen', 'feat_vvixPrevClose', 'feat_PrevCluster', 'feat_bigBodyRange')\n",
      "231 21:16:15 : ('feat_Open', 'feat_vixOpen', 'feat_vvixOpen', 'feat_Acc', 'feat_PrevCluster', 'feat_bigBodyRange')\n",
      "232 21:16:15 : ('feat_Open', 'feat_vixOpen', 'feat_vvixPrevClose', 'feat_Acc', 'feat_PrevCluster', 'feat_bigBodyRange')\n",
      "233 21:16:15 : ('feat_Open', 'feat_vixPrevClose', 'feat_vvixOpen', 'feat_vvixPrevClose', 'feat_Acc', 'feat_PrevCluster')\n",
      "234 21:16:15 : ('feat_Open', 'feat_vixPrevClose', 'feat_vvixOpen', 'feat_vvixPrevClose', 'feat_Acc', 'feat_bigBodyRange')\n",
      "235 21:16:15 : ('feat_Open', 'feat_vixPrevClose', 'feat_vvixOpen', 'feat_vvixPrevClose', 'feat_PrevCluster', 'feat_bigBodyRange')\n",
      "236 21:16:15 : ('feat_Open', 'feat_vixPrevClose', 'feat_vvixOpen', 'feat_Acc', 'feat_PrevCluster', 'feat_bigBodyRange')\n",
      "237 21:16:15 : ('feat_Open', 'feat_vixPrevClose', 'feat_vvixPrevClose', 'feat_Acc', 'feat_PrevCluster', 'feat_bigBodyRange')\n",
      "238 21:16:15 : ('feat_Open', 'feat_vvixOpen', 'feat_vvixPrevClose', 'feat_Acc', 'feat_PrevCluster', 'feat_bigBodyRange')\n",
      "239 21:16:15 : ('feat_vixOpen', 'feat_vixPrevClose', 'feat_vvixOpen', 'feat_vvixPrevClose', 'feat_Acc', 'feat_PrevCluster')\n",
      "240 21:16:15 : ('feat_vixOpen', 'feat_vixPrevClose', 'feat_vvixOpen', 'feat_vvixPrevClose', 'feat_Acc', 'feat_bigBodyRange')\n",
      "241 21:16:15 : ('feat_vixOpen', 'feat_vixPrevClose', 'feat_vvixOpen', 'feat_vvixPrevClose', 'feat_PrevCluster', 'feat_bigBodyRange')\n",
      "242 21:16:15 : ('feat_vixOpen', 'feat_vixPrevClose', 'feat_vvixOpen', 'feat_Acc', 'feat_PrevCluster', 'feat_bigBodyRange')\n",
      "243 21:16:15 : ('feat_vixOpen', 'feat_vixPrevClose', 'feat_vvixPrevClose', 'feat_Acc', 'feat_PrevCluster', 'feat_bigBodyRange')\n",
      "244 21:16:15 : ('feat_vixOpen', 'feat_vvixOpen', 'feat_vvixPrevClose', 'feat_Acc', 'feat_PrevCluster', 'feat_bigBodyRange')\n",
      "245 21:16:15 : ('feat_vixPrevClose', 'feat_vvixOpen', 'feat_vvixPrevClose', 'feat_Acc', 'feat_PrevCluster', 'feat_bigBodyRange')\n",
      "246 21:16:15 : ('feat_Open', 'feat_vixOpen', 'feat_vixPrevClose', 'feat_vvixOpen', 'feat_vvixPrevClose', 'feat_Acc', 'feat_PrevCluster')\n",
      "247 21:16:15 : ('feat_Open', 'feat_vixOpen', 'feat_vixPrevClose', 'feat_vvixOpen', 'feat_vvixPrevClose', 'feat_Acc', 'feat_bigBodyRange')\n",
      "248 21:16:15 : ('feat_Open', 'feat_vixOpen', 'feat_vixPrevClose', 'feat_vvixOpen', 'feat_vvixPrevClose', 'feat_PrevCluster', 'feat_bigBodyRange')\n",
      "249 21:16:15 : ('feat_Open', 'feat_vixOpen', 'feat_vixPrevClose', 'feat_vvixOpen', 'feat_Acc', 'feat_PrevCluster', 'feat_bigBodyRange')\n",
      "250 21:16:15 : ('feat_Open', 'feat_vixOpen', 'feat_vixPrevClose', 'feat_vvixPrevClose', 'feat_Acc', 'feat_PrevCluster', 'feat_bigBodyRange')\n",
      "251 21:16:15 : ('feat_Open', 'feat_vixOpen', 'feat_vvixOpen', 'feat_vvixPrevClose', 'feat_Acc', 'feat_PrevCluster', 'feat_bigBodyRange')\n",
      "252 21:16:15 : ('feat_Open', 'feat_vixPrevClose', 'feat_vvixOpen', 'feat_vvixPrevClose', 'feat_Acc', 'feat_PrevCluster', 'feat_bigBodyRange')\n",
      "253 21:16:15 : ('feat_vixOpen', 'feat_vixPrevClose', 'feat_vvixOpen', 'feat_vvixPrevClose', 'feat_Acc', 'feat_PrevCluster', 'feat_bigBodyRange')\n",
      "254 21:16:15 : ('feat_Open', 'feat_vixOpen', 'feat_vixPrevClose', 'feat_vvixOpen', 'feat_vvixPrevClose', 'feat_Acc', 'feat_PrevCluster', 'feat_bigBodyRange')\n",
      "Performing splitting operations....\n",
      "Extracting features columns and creating target variable...\n",
      "[('feat_Open',), ('feat_vixOpen',), ('feat_vixPrevClose',), ('feat_vvixOpen',), ('feat_vvixPrevClose',), ('feat_Acc',), ('feat_PrevCluster',), ('feat_bigBodyRange',), ('feat_Open', 'feat_vixOpen'), ('feat_Open', 'feat_vixPrevClose'), ('feat_Open', 'feat_vvixOpen'), ('feat_Open', 'feat_vvixPrevClose'), ('feat_Open', 'feat_Acc'), ('feat_Open', 'feat_PrevCluster'), ('feat_Open', 'feat_bigBodyRange'), ('feat_vixOpen', 'feat_vixPrevClose'), ('feat_vixOpen', 'feat_vvixOpen'), ('feat_vixOpen', 'feat_vvixPrevClose'), ('feat_vixOpen', 'feat_Acc'), ('feat_vixOpen', 'feat_PrevCluster'), ('feat_vixOpen', 'feat_bigBodyRange'), ('feat_vixPrevClose', 'feat_vvixOpen'), ('feat_vixPrevClose', 'feat_vvixPrevClose'), ('feat_vixPrevClose', 'feat_Acc'), ('feat_vixPrevClose', 'feat_PrevCluster'), ('feat_vixPrevClose', 'feat_bigBodyRange'), ('feat_vvixOpen', 'feat_vvixPrevClose'), ('feat_vvixOpen', 'feat_Acc'), ('feat_vvixOpen', 'feat_PrevCluster'), ('feat_vvixOpen', 'feat_bigBodyRange'), ('feat_vvixPrevClose', 'feat_Acc'), ('feat_vvixPrevClose', 'feat_PrevCluster'), ('feat_vvixPrevClose', 'feat_bigBodyRange'), ('feat_Acc', 'feat_PrevCluster'), ('feat_Acc', 'feat_bigBodyRange'), ('feat_PrevCluster', 'feat_bigBodyRange'), ('feat_Open', 'feat_vixOpen', 'feat_vixPrevClose'), ('feat_Open', 'feat_vixOpen', 'feat_vvixOpen'), ('feat_Open', 'feat_vixOpen', 'feat_vvixPrevClose'), ('feat_Open', 'feat_vixOpen', 'feat_Acc'), ('feat_Open', 'feat_vixOpen', 'feat_PrevCluster'), ('feat_Open', 'feat_vixOpen', 'feat_bigBodyRange'), ('feat_Open', 'feat_vixPrevClose', 'feat_vvixOpen'), ('feat_Open', 'feat_vixPrevClose', 'feat_vvixPrevClose'), ('feat_Open', 'feat_vixPrevClose', 'feat_Acc'), ('feat_Open', 'feat_vixPrevClose', 'feat_PrevCluster'), ('feat_Open', 'feat_vixPrevClose', 'feat_bigBodyRange'), ('feat_Open', 'feat_vvixOpen', 'feat_vvixPrevClose'), ('feat_Open', 'feat_vvixOpen', 'feat_Acc'), ('feat_Open', 'feat_vvixOpen', 'feat_PrevCluster'), ('feat_Open', 'feat_vvixOpen', 'feat_bigBodyRange'), ('feat_Open', 'feat_vvixPrevClose', 'feat_Acc'), ('feat_Open', 'feat_vvixPrevClose', 'feat_PrevCluster'), ('feat_Open', 'feat_vvixPrevClose', 'feat_bigBodyRange'), ('feat_Open', 'feat_Acc', 'feat_PrevCluster'), ('feat_Open', 'feat_Acc', 'feat_bigBodyRange'), ('feat_Open', 'feat_PrevCluster', 'feat_bigBodyRange'), ('feat_vixOpen', 'feat_vixPrevClose', 'feat_vvixOpen'), ('feat_vixOpen', 'feat_vixPrevClose', 'feat_vvixPrevClose'), ('feat_vixOpen', 'feat_vixPrevClose', 'feat_Acc'), ('feat_vixOpen', 'feat_vixPrevClose', 'feat_PrevCluster'), ('feat_vixOpen', 'feat_vixPrevClose', 'feat_bigBodyRange'), ('feat_vixOpen', 'feat_vvixOpen', 'feat_vvixPrevClose'), ('feat_vixOpen', 'feat_vvixOpen', 'feat_Acc'), ('feat_vixOpen', 'feat_vvixOpen', 'feat_PrevCluster'), ('feat_vixOpen', 'feat_vvixOpen', 'feat_bigBodyRange'), ('feat_vixOpen', 'feat_vvixPrevClose', 'feat_Acc'), ('feat_vixOpen', 'feat_vvixPrevClose', 'feat_PrevCluster'), ('feat_vixOpen', 'feat_vvixPrevClose', 'feat_bigBodyRange'), ('feat_vixOpen', 'feat_Acc', 'feat_PrevCluster'), ('feat_vixOpen', 'feat_Acc', 'feat_bigBodyRange'), ('feat_vixOpen', 'feat_PrevCluster', 'feat_bigBodyRange'), ('feat_vixPrevClose', 'feat_vvixOpen', 'feat_vvixPrevClose'), ('feat_vixPrevClose', 'feat_vvixOpen', 'feat_Acc'), ('feat_vixPrevClose', 'feat_vvixOpen', 'feat_PrevCluster'), ('feat_vixPrevClose', 'feat_vvixOpen', 'feat_bigBodyRange'), ('feat_vixPrevClose', 'feat_vvixPrevClose', 'feat_Acc'), ('feat_vixPrevClose', 'feat_vvixPrevClose', 'feat_PrevCluster'), ('feat_vixPrevClose', 'feat_vvixPrevClose', 'feat_bigBodyRange'), ('feat_vixPrevClose', 'feat_Acc', 'feat_PrevCluster'), ('feat_vixPrevClose', 'feat_Acc', 'feat_bigBodyRange'), ('feat_vixPrevClose', 'feat_PrevCluster', 'feat_bigBodyRange'), ('feat_vvixOpen', 'feat_vvixPrevClose', 'feat_Acc'), ('feat_vvixOpen', 'feat_vvixPrevClose', 'feat_PrevCluster'), ('feat_vvixOpen', 'feat_vvixPrevClose', 'feat_bigBodyRange'), ('feat_vvixOpen', 'feat_Acc', 'feat_PrevCluster'), ('feat_vvixOpen', 'feat_Acc', 'feat_bigBodyRange'), ('feat_vvixOpen', 'feat_PrevCluster', 'feat_bigBodyRange'), ('feat_vvixPrevClose', 'feat_Acc', 'feat_PrevCluster'), ('feat_vvixPrevClose', 'feat_Acc', 'feat_bigBodyRange'), ('feat_vvixPrevClose', 'feat_PrevCluster', 'feat_bigBodyRange'), ('feat_Acc', 'feat_PrevCluster', 'feat_bigBodyRange'), ('feat_Open', 'feat_vixOpen', 'feat_vixPrevClose', 'feat_vvixOpen'), ('feat_Open', 'feat_vixOpen', 'feat_vixPrevClose', 'feat_vvixPrevClose'), ('feat_Open', 'feat_vixOpen', 'feat_vixPrevClose', 'feat_Acc'), ('feat_Open', 'feat_vixOpen', 'feat_vixPrevClose', 'feat_PrevCluster'), ('feat_Open', 'feat_vixOpen', 'feat_vixPrevClose', 'feat_bigBodyRange'), ('feat_Open', 'feat_vixOpen', 'feat_vvixOpen', 'feat_vvixPrevClose'), ('feat_Open', 'feat_vixOpen', 'feat_vvixOpen', 'feat_Acc'), ('feat_Open', 'feat_vixOpen', 'feat_vvixOpen', 'feat_PrevCluster'), ('feat_Open', 'feat_vixOpen', 'feat_vvixOpen', 'feat_bigBodyRange'), ('feat_Open', 'feat_vixOpen', 'feat_vvixPrevClose', 'feat_Acc'), ('feat_Open', 'feat_vixOpen', 'feat_vvixPrevClose', 'feat_PrevCluster'), ('feat_Open', 'feat_vixOpen', 'feat_vvixPrevClose', 'feat_bigBodyRange'), ('feat_Open', 'feat_vixOpen', 'feat_Acc', 'feat_PrevCluster'), ('feat_Open', 'feat_vixOpen', 'feat_Acc', 'feat_bigBodyRange'), ('feat_Open', 'feat_vixOpen', 'feat_PrevCluster', 'feat_bigBodyRange'), ('feat_Open', 'feat_vixPrevClose', 'feat_vvixOpen', 'feat_vvixPrevClose'), ('feat_Open', 'feat_vixPrevClose', 'feat_vvixOpen', 'feat_Acc'), ('feat_Open', 'feat_vixPrevClose', 'feat_vvixOpen', 'feat_PrevCluster'), ('feat_Open', 'feat_vixPrevClose', 'feat_vvixOpen', 'feat_bigBodyRange'), ('feat_Open', 'feat_vixPrevClose', 'feat_vvixPrevClose', 'feat_Acc'), ('feat_Open', 'feat_vixPrevClose', 'feat_vvixPrevClose', 'feat_PrevCluster'), ('feat_Open', 'feat_vixPrevClose', 'feat_vvixPrevClose', 'feat_bigBodyRange'), ('feat_Open', 'feat_vixPrevClose', 'feat_Acc', 'feat_PrevCluster'), ('feat_Open', 'feat_vixPrevClose', 'feat_Acc', 'feat_bigBodyRange'), ('feat_Open', 'feat_vixPrevClose', 'feat_PrevCluster', 'feat_bigBodyRange'), ('feat_Open', 'feat_vvixOpen', 'feat_vvixPrevClose', 'feat_Acc'), ('feat_Open', 'feat_vvixOpen', 'feat_vvixPrevClose', 'feat_PrevCluster'), ('feat_Open', 'feat_vvixOpen', 'feat_vvixPrevClose', 'feat_bigBodyRange'), ('feat_Open', 'feat_vvixOpen', 'feat_Acc', 'feat_PrevCluster'), ('feat_Open', 'feat_vvixOpen', 'feat_Acc', 'feat_bigBodyRange'), ('feat_Open', 'feat_vvixOpen', 'feat_PrevCluster', 'feat_bigBodyRange'), ('feat_Open', 'feat_vvixPrevClose', 'feat_Acc', 'feat_PrevCluster'), ('feat_Open', 'feat_vvixPrevClose', 'feat_Acc', 'feat_bigBodyRange'), ('feat_Open', 'feat_vvixPrevClose', 'feat_PrevCluster', 'feat_bigBodyRange'), ('feat_Open', 'feat_Acc', 'feat_PrevCluster', 'feat_bigBodyRange'), ('feat_vixOpen', 'feat_vixPrevClose', 'feat_vvixOpen', 'feat_vvixPrevClose'), ('feat_vixOpen', 'feat_vixPrevClose', 'feat_vvixOpen', 'feat_Acc'), ('feat_vixOpen', 'feat_vixPrevClose', 'feat_vvixOpen', 'feat_PrevCluster'), ('feat_vixOpen', 'feat_vixPrevClose', 'feat_vvixOpen', 'feat_bigBodyRange'), ('feat_vixOpen', 'feat_vixPrevClose', 'feat_vvixPrevClose', 'feat_Acc'), ('feat_vixOpen', 'feat_vixPrevClose', 'feat_vvixPrevClose', 'feat_PrevCluster'), ('feat_vixOpen', 'feat_vixPrevClose', 'feat_vvixPrevClose', 'feat_bigBodyRange'), ('feat_vixOpen', 'feat_vixPrevClose', 'feat_Acc', 'feat_PrevCluster'), ('feat_vixOpen', 'feat_vixPrevClose', 'feat_Acc', 'feat_bigBodyRange'), ('feat_vixOpen', 'feat_vixPrevClose', 'feat_PrevCluster', 'feat_bigBodyRange'), ('feat_vixOpen', 'feat_vvixOpen', 'feat_vvixPrevClose', 'feat_Acc'), ('feat_vixOpen', 'feat_vvixOpen', 'feat_vvixPrevClose', 'feat_PrevCluster'), ('feat_vixOpen', 'feat_vvixOpen', 'feat_vvixPrevClose', 'feat_bigBodyRange'), ('feat_vixOpen', 'feat_vvixOpen', 'feat_Acc', 'feat_PrevCluster'), ('feat_vixOpen', 'feat_vvixOpen', 'feat_Acc', 'feat_bigBodyRange'), ('feat_vixOpen', 'feat_vvixOpen', 'feat_PrevCluster', 'feat_bigBodyRange'), ('feat_vixOpen', 'feat_vvixPrevClose', 'feat_Acc', 'feat_PrevCluster'), ('feat_vixOpen', 'feat_vvixPrevClose', 'feat_Acc', 'feat_bigBodyRange'), ('feat_vixOpen', 'feat_vvixPrevClose', 'feat_PrevCluster', 'feat_bigBodyRange'), ('feat_vixOpen', 'feat_Acc', 'feat_PrevCluster', 'feat_bigBodyRange'), ('feat_vixPrevClose', 'feat_vvixOpen', 'feat_vvixPrevClose', 'feat_Acc'), ('feat_vixPrevClose', 'feat_vvixOpen', 'feat_vvixPrevClose', 'feat_PrevCluster'), ('feat_vixPrevClose', 'feat_vvixOpen', 'feat_vvixPrevClose', 'feat_bigBodyRange'), ('feat_vixPrevClose', 'feat_vvixOpen', 'feat_Acc', 'feat_PrevCluster'), ('feat_vixPrevClose', 'feat_vvixOpen', 'feat_Acc', 'feat_bigBodyRange'), ('feat_vixPrevClose', 'feat_vvixOpen', 'feat_PrevCluster', 'feat_bigBodyRange'), ('feat_vixPrevClose', 'feat_vvixPrevClose', 'feat_Acc', 'feat_PrevCluster'), ('feat_vixPrevClose', 'feat_vvixPrevClose', 'feat_Acc', 'feat_bigBodyRange'), ('feat_vixPrevClose', 'feat_vvixPrevClose', 'feat_PrevCluster', 'feat_bigBodyRange'), ('feat_vixPrevClose', 'feat_Acc', 'feat_PrevCluster', 'feat_bigBodyRange'), ('feat_vvixOpen', 'feat_vvixPrevClose', 'feat_Acc', 'feat_PrevCluster'), ('feat_vvixOpen', 'feat_vvixPrevClose', 'feat_Acc', 'feat_bigBodyRange'), ('feat_vvixOpen', 'feat_vvixPrevClose', 'feat_PrevCluster', 'feat_bigBodyRange'), ('feat_vvixOpen', 'feat_Acc', 'feat_PrevCluster', 'feat_bigBodyRange'), ('feat_vvixPrevClose', 'feat_Acc', 'feat_PrevCluster', 'feat_bigBodyRange'), ('feat_Open', 'feat_vixOpen', 'feat_vixPrevClose', 'feat_vvixOpen', 'feat_vvixPrevClose'), ('feat_Open', 'feat_vixOpen', 'feat_vixPrevClose', 'feat_vvixOpen', 'feat_Acc'), ('feat_Open', 'feat_vixOpen', 'feat_vixPrevClose', 'feat_vvixOpen', 'feat_PrevCluster'), ('feat_Open', 'feat_vixOpen', 'feat_vixPrevClose', 'feat_vvixOpen', 'feat_bigBodyRange'), ('feat_Open', 'feat_vixOpen', 'feat_vixPrevClose', 'feat_vvixPrevClose', 'feat_Acc'), ('feat_Open', 'feat_vixOpen', 'feat_vixPrevClose', 'feat_vvixPrevClose', 'feat_PrevCluster'), ('feat_Open', 'feat_vixOpen', 'feat_vixPrevClose', 'feat_vvixPrevClose', 'feat_bigBodyRange'), ('feat_Open', 'feat_vixOpen', 'feat_vixPrevClose', 'feat_Acc', 'feat_PrevCluster'), ('feat_Open', 'feat_vixOpen', 'feat_vixPrevClose', 'feat_Acc', 'feat_bigBodyRange'), ('feat_Open', 'feat_vixOpen', 'feat_vixPrevClose', 'feat_PrevCluster', 'feat_bigBodyRange'), ('feat_Open', 'feat_vixOpen', 'feat_vvixOpen', 'feat_vvixPrevClose', 'feat_Acc'), ('feat_Open', 'feat_vixOpen', 'feat_vvixOpen', 'feat_vvixPrevClose', 'feat_PrevCluster'), ('feat_Open', 'feat_vixOpen', 'feat_vvixOpen', 'feat_vvixPrevClose', 'feat_bigBodyRange'), ('feat_Open', 'feat_vixOpen', 'feat_vvixOpen', 'feat_Acc', 'feat_PrevCluster'), ('feat_Open', 'feat_vixOpen', 'feat_vvixOpen', 'feat_Acc', 'feat_bigBodyRange'), ('feat_Open', 'feat_vixOpen', 'feat_vvixOpen', 'feat_PrevCluster', 'feat_bigBodyRange'), ('feat_Open', 'feat_vixOpen', 'feat_vvixPrevClose', 'feat_Acc', 'feat_PrevCluster'), ('feat_Open', 'feat_vixOpen', 'feat_vvixPrevClose', 'feat_Acc', 'feat_bigBodyRange'), ('feat_Open', 'feat_vixOpen', 'feat_vvixPrevClose', 'feat_PrevCluster', 'feat_bigBodyRange'), ('feat_Open', 'feat_vixOpen', 'feat_Acc', 'feat_PrevCluster', 'feat_bigBodyRange'), ('feat_Open', 'feat_vixPrevClose', 'feat_vvixOpen', 'feat_vvixPrevClose', 'feat_Acc'), ('feat_Open', 'feat_vixPrevClose', 'feat_vvixOpen', 'feat_vvixPrevClose', 'feat_PrevCluster'), ('feat_Open', 'feat_vixPrevClose', 'feat_vvixOpen', 'feat_vvixPrevClose', 'feat_bigBodyRange'), ('feat_Open', 'feat_vixPrevClose', 'feat_vvixOpen', 'feat_Acc', 'feat_PrevCluster'), ('feat_Open', 'feat_vixPrevClose', 'feat_vvixOpen', 'feat_Acc', 'feat_bigBodyRange'), ('feat_Open', 'feat_vixPrevClose', 'feat_vvixOpen', 'feat_PrevCluster', 'feat_bigBodyRange'), ('feat_Open', 'feat_vixPrevClose', 'feat_vvixPrevClose', 'feat_Acc', 'feat_PrevCluster'), ('feat_Open', 'feat_vixPrevClose', 'feat_vvixPrevClose', 'feat_Acc', 'feat_bigBodyRange'), ('feat_Open', 'feat_vixPrevClose', 'feat_vvixPrevClose', 'feat_PrevCluster', 'feat_bigBodyRange'), ('feat_Open', 'feat_vixPrevClose', 'feat_Acc', 'feat_PrevCluster', 'feat_bigBodyRange'), ('feat_Open', 'feat_vvixOpen', 'feat_vvixPrevClose', 'feat_Acc', 'feat_PrevCluster'), ('feat_Open', 'feat_vvixOpen', 'feat_vvixPrevClose', 'feat_Acc', 'feat_bigBodyRange'), ('feat_Open', 'feat_vvixOpen', 'feat_vvixPrevClose', 'feat_PrevCluster', 'feat_bigBodyRange'), ('feat_Open', 'feat_vvixOpen', 'feat_Acc', 'feat_PrevCluster', 'feat_bigBodyRange'), ('feat_Open', 'feat_vvixPrevClose', 'feat_Acc', 'feat_PrevCluster', 'feat_bigBodyRange'), ('feat_vixOpen', 'feat_vixPrevClose', 'feat_vvixOpen', 'feat_vvixPrevClose', 'feat_Acc'), ('feat_vixOpen', 'feat_vixPrevClose', 'feat_vvixOpen', 'feat_vvixPrevClose', 'feat_PrevCluster'), ('feat_vixOpen', 'feat_vixPrevClose', 'feat_vvixOpen', 'feat_vvixPrevClose', 'feat_bigBodyRange'), ('feat_vixOpen', 'feat_vixPrevClose', 'feat_vvixOpen', 'feat_Acc', 'feat_PrevCluster'), ('feat_vixOpen', 'feat_vixPrevClose', 'feat_vvixOpen', 'feat_Acc', 'feat_bigBodyRange'), ('feat_vixOpen', 'feat_vixPrevClose', 'feat_vvixOpen', 'feat_PrevCluster', 'feat_bigBodyRange'), ('feat_vixOpen', 'feat_vixPrevClose', 'feat_vvixPrevClose', 'feat_Acc', 'feat_PrevCluster'), ('feat_vixOpen', 'feat_vixPrevClose', 'feat_vvixPrevClose', 'feat_Acc', 'feat_bigBodyRange'), ('feat_vixOpen', 'feat_vixPrevClose', 'feat_vvixPrevClose', 'feat_PrevCluster', 'feat_bigBodyRange'), ('feat_vixOpen', 'feat_vixPrevClose', 'feat_Acc', 'feat_PrevCluster', 'feat_bigBodyRange'), ('feat_vixOpen', 'feat_vvixOpen', 'feat_vvixPrevClose', 'feat_Acc', 'feat_PrevCluster'), ('feat_vixOpen', 'feat_vvixOpen', 'feat_vvixPrevClose', 'feat_Acc', 'feat_bigBodyRange'), ('feat_vixOpen', 'feat_vvixOpen', 'feat_vvixPrevClose', 'feat_PrevCluster', 'feat_bigBodyRange'), ('feat_vixOpen', 'feat_vvixOpen', 'feat_Acc', 'feat_PrevCluster', 'feat_bigBodyRange'), ('feat_vixOpen', 'feat_vvixPrevClose', 'feat_Acc', 'feat_PrevCluster', 'feat_bigBodyRange'), ('feat_vixPrevClose', 'feat_vvixOpen', 'feat_vvixPrevClose', 'feat_Acc', 'feat_PrevCluster'), ('feat_vixPrevClose', 'feat_vvixOpen', 'feat_vvixPrevClose', 'feat_Acc', 'feat_bigBodyRange'), ('feat_vixPrevClose', 'feat_vvixOpen', 'feat_vvixPrevClose', 'feat_PrevCluster', 'feat_bigBodyRange'), ('feat_vixPrevClose', 'feat_vvixOpen', 'feat_Acc', 'feat_PrevCluster', 'feat_bigBodyRange'), ('feat_vixPrevClose', 'feat_vvixPrevClose', 'feat_Acc', 'feat_PrevCluster', 'feat_bigBodyRange'), ('feat_vvixOpen', 'feat_vvixPrevClose', 'feat_Acc', 'feat_PrevCluster', 'feat_bigBodyRange'), ('feat_Open', 'feat_vixOpen', 'feat_vixPrevClose', 'feat_vvixOpen', 'feat_vvixPrevClose', 'feat_Acc'), ('feat_Open', 'feat_vixOpen', 'feat_vixPrevClose', 'feat_vvixOpen', 'feat_vvixPrevClose', 'feat_PrevCluster'), ('feat_Open', 'feat_vixOpen', 'feat_vixPrevClose', 'feat_vvixOpen', 'feat_vvixPrevClose', 'feat_bigBodyRange'), ('feat_Open', 'feat_vixOpen', 'feat_vixPrevClose', 'feat_vvixOpen', 'feat_Acc', 'feat_PrevCluster'), ('feat_Open', 'feat_vixOpen', 'feat_vixPrevClose', 'feat_vvixOpen', 'feat_Acc', 'feat_bigBodyRange'), ('feat_Open', 'feat_vixOpen', 'feat_vixPrevClose', 'feat_vvixOpen', 'feat_PrevCluster', 'feat_bigBodyRange'), ('feat_Open', 'feat_vixOpen', 'feat_vixPrevClose', 'feat_vvixPrevClose', 'feat_Acc', 'feat_PrevCluster'), ('feat_Open', 'feat_vixOpen', 'feat_vixPrevClose', 'feat_vvixPrevClose', 'feat_Acc', 'feat_bigBodyRange'), ('feat_Open', 'feat_vixOpen', 'feat_vixPrevClose', 'feat_vvixPrevClose', 'feat_PrevCluster', 'feat_bigBodyRange'), ('feat_Open', 'feat_vixOpen', 'feat_vixPrevClose', 'feat_Acc', 'feat_PrevCluster', 'feat_bigBodyRange'), ('feat_Open', 'feat_vixOpen', 'feat_vvixOpen', 'feat_vvixPrevClose', 'feat_Acc', 'feat_PrevCluster'), ('feat_Open', 'feat_vixOpen', 'feat_vvixOpen', 'feat_vvixPrevClose', 'feat_Acc', 'feat_bigBodyRange'), ('feat_Open', 'feat_vixOpen', 'feat_vvixOpen', 'feat_vvixPrevClose', 'feat_PrevCluster', 'feat_bigBodyRange'), ('feat_Open', 'feat_vixOpen', 'feat_vvixOpen', 'feat_Acc', 'feat_PrevCluster', 'feat_bigBodyRange'), ('feat_Open', 'feat_vixOpen', 'feat_vvixPrevClose', 'feat_Acc', 'feat_PrevCluster', 'feat_bigBodyRange'), ('feat_Open', 'feat_vixPrevClose', 'feat_vvixOpen', 'feat_vvixPrevClose', 'feat_Acc', 'feat_PrevCluster'), ('feat_Open', 'feat_vixPrevClose', 'feat_vvixOpen', 'feat_vvixPrevClose', 'feat_Acc', 'feat_bigBodyRange'), ('feat_Open', 'feat_vixPrevClose', 'feat_vvixOpen', 'feat_vvixPrevClose', 'feat_PrevCluster', 'feat_bigBodyRange'), ('feat_Open', 'feat_vixPrevClose', 'feat_vvixOpen', 'feat_Acc', 'feat_PrevCluster', 'feat_bigBodyRange'), ('feat_Open', 'feat_vixPrevClose', 'feat_vvixPrevClose', 'feat_Acc', 'feat_PrevCluster', 'feat_bigBodyRange'), ('feat_Open', 'feat_vvixOpen', 'feat_vvixPrevClose', 'feat_Acc', 'feat_PrevCluster', 'feat_bigBodyRange'), ('feat_vixOpen', 'feat_vixPrevClose', 'feat_vvixOpen', 'feat_vvixPrevClose', 'feat_Acc', 'feat_PrevCluster'), ('feat_vixOpen', 'feat_vixPrevClose', 'feat_vvixOpen', 'feat_vvixPrevClose', 'feat_Acc', 'feat_bigBodyRange'), ('feat_vixOpen', 'feat_vixPrevClose', 'feat_vvixOpen', 'feat_vvixPrevClose', 'feat_PrevCluster', 'feat_bigBodyRange'), ('feat_vixOpen', 'feat_vixPrevClose', 'feat_vvixOpen', 'feat_Acc', 'feat_PrevCluster', 'feat_bigBodyRange'), ('feat_vixOpen', 'feat_vixPrevClose', 'feat_vvixPrevClose', 'feat_Acc', 'feat_PrevCluster', 'feat_bigBodyRange'), ('feat_vixOpen', 'feat_vvixOpen', 'feat_vvixPrevClose', 'feat_Acc', 'feat_PrevCluster', 'feat_bigBodyRange'), ('feat_vixPrevClose', 'feat_vvixOpen', 'feat_vvixPrevClose', 'feat_Acc', 'feat_PrevCluster', 'feat_bigBodyRange'), ('feat_Open', 'feat_vixOpen', 'feat_vixPrevClose', 'feat_vvixOpen', 'feat_vvixPrevClose', 'feat_Acc', 'feat_PrevCluster'), ('feat_Open', 'feat_vixOpen', 'feat_vixPrevClose', 'feat_vvixOpen', 'feat_vvixPrevClose', 'feat_Acc', 'feat_bigBodyRange'), ('feat_Open', 'feat_vixOpen', 'feat_vixPrevClose', 'feat_vvixOpen', 'feat_vvixPrevClose', 'feat_PrevCluster', 'feat_bigBodyRange'), ('feat_Open', 'feat_vixOpen', 'feat_vixPrevClose', 'feat_vvixOpen', 'feat_Acc', 'feat_PrevCluster', 'feat_bigBodyRange'), ('feat_Open', 'feat_vixOpen', 'feat_vixPrevClose', 'feat_vvixPrevClose', 'feat_Acc', 'feat_PrevCluster', 'feat_bigBodyRange'), ('feat_Open', 'feat_vixOpen', 'feat_vvixOpen', 'feat_vvixPrevClose', 'feat_Acc', 'feat_PrevCluster', 'feat_bigBodyRange'), ('feat_Open', 'feat_vixPrevClose', 'feat_vvixOpen', 'feat_vvixPrevClose', 'feat_Acc', 'feat_PrevCluster', 'feat_bigBodyRange'), ('feat_vixOpen', 'feat_vixPrevClose', 'feat_vvixOpen', 'feat_vvixPrevClose', 'feat_Acc', 'feat_PrevCluster', 'feat_bigBodyRange'), ('feat_Open', 'feat_vixOpen', 'feat_vixPrevClose', 'feat_vvixOpen', 'feat_vvixPrevClose', 'feat_Acc', 'feat_PrevCluster', 'feat_bigBodyRange')]\n",
      "0 21:16:15 Trying with following combo ('feat_Open',)\n",
      "Equity: -685.0361626464856\n",
      "Train metrics...\n",
      "Test metrics...\n",
      "DataSetName                                            (feat_Open,)\n",
      "TrainAccuracy                                              0.537578\n",
      "TrainPrecision                                             0.539639\n",
      "TestAccuracy                                               0.543645\n",
      "TestPrecision                                              0.544594\n",
      "TestF1                                                     0.698381\n",
      "BestParams        <bound method BaseEstimator.get_params of Logi...\n",
      "TestEquity                                              -685.036163\n",
      "TestCagr                                                -125.887197\n",
      "dtype: object\n",
      "1 21:16:15 Trying with following combo ('feat_vixOpen',)\n",
      "Equity: -815.7346489746105\n"
     ]
    },
    {
     "name": "stderr",
     "output_type": "stream",
     "text": [
      "C:\\Users\\vitto\\AppData\\Local\\Temp\\ipykernel_10512\\820412064.py:67: SettingWithCopyWarning: \n",
      "A value is trying to be set on a copy of a slice from a DataFrame.\n",
      "Try using .loc[row_indexer,col_indexer] = value instead\n",
      "\n",
      "See the caveats in the documentation: https://pandas.pydata.org/pandas-docs/stable/user_guide/indexing.html#returning-a-view-versus-a-copy\n",
      "  test_data['cluster'] = y_test_pred\n"
     ]
    },
    {
     "name": "stdout",
     "output_type": "stream",
     "text": [
      "Train metrics...\n",
      "Test metrics...\n",
      "DataSetName                                         (feat_vixOpen,)\n",
      "TrainAccuracy                                              0.540532\n",
      "TrainPrecision                                             0.540333\n",
      "TestAccuracy                                               0.545176\n",
      "TestPrecision                                              0.545098\n",
      "TestF1                                                     0.700605\n",
      "BestParams        <bound method BaseEstimator.get_params of Logi...\n",
      "TestEquity                                              -815.734649\n",
      "TestCagr                                                -149.905295\n",
      "dtype: object\n",
      "2 21:16:16 Trying with following combo ('feat_vixPrevClose',)\n",
      "Equity: -729.7549126464855\n"
     ]
    },
    {
     "name": "stderr",
     "output_type": "stream",
     "text": [
      "C:\\Users\\vitto\\AppData\\Local\\Temp\\ipykernel_10512\\820412064.py:67: SettingWithCopyWarning: \n",
      "A value is trying to be set on a copy of a slice from a DataFrame.\n",
      "Try using .loc[row_indexer,col_indexer] = value instead\n",
      "\n",
      "See the caveats in the documentation: https://pandas.pydata.org/pandas-docs/stable/user_guide/indexing.html#returning-a-view-versus-a-copy\n",
      "  test_data['cluster'] = y_test_pred\n"
     ]
    },
    {
     "name": "stdout",
     "output_type": "stream",
     "text": [
      "Train metrics...\n",
      "Test metrics...\n",
      "DataSetName                                    (feat_vixPrevClose,)\n",
      "TrainAccuracy                                              0.538891\n",
      "TrainPrecision                                             0.538891\n",
      "TestAccuracy                                               0.542879\n",
      "TestPrecision                                              0.542879\n",
      "TestF1                                                     0.703722\n",
      "BestParams        <bound method BaseEstimator.get_params of Logi...\n",
      "TestEquity                                              -729.754913\n",
      "TestCagr                                                -134.105038\n",
      "dtype: object\n",
      "3 21:16:16 Trying with following combo ('feat_vvixOpen',)\n",
      "Equity: -2400.4187310058614\n"
     ]
    },
    {
     "name": "stderr",
     "output_type": "stream",
     "text": [
      "C:\\Users\\vitto\\AppData\\Local\\Temp\\ipykernel_10512\\820412064.py:67: SettingWithCopyWarning: \n",
      "A value is trying to be set on a copy of a slice from a DataFrame.\n",
      "Try using .loc[row_indexer,col_indexer] = value instead\n",
      "\n",
      "See the caveats in the documentation: https://pandas.pydata.org/pandas-docs/stable/user_guide/indexing.html#returning-a-view-versus-a-copy\n",
      "  test_data['cluster'] = y_test_pred\n"
     ]
    },
    {
     "name": "stdout",
     "output_type": "stream",
     "text": [
      "Train metrics...\n",
      "Test metrics...\n",
      "DataSetName                                        (feat_vvixOpen,)\n",
      "TrainAccuracy                                              0.550377\n",
      "TrainPrecision                                             0.554706\n",
      "TestAccuracy                                               0.517611\n",
      "TestPrecision                                               0.53737\n",
      "TestF1                                                     0.643262\n",
      "BestParams        <bound method BaseEstimator.get_params of Logi...\n",
      "TestEquity                                             -2400.418731\n",
      "TestCagr                                                -441.118297\n",
      "dtype: object\n",
      "4 21:16:17 Trying with following combo ('feat_vvixPrevClose',)\n",
      "Equity: -1116.2344048339846\n"
     ]
    },
    {
     "name": "stderr",
     "output_type": "stream",
     "text": [
      "C:\\Users\\vitto\\AppData\\Local\\Temp\\ipykernel_10512\\820412064.py:67: SettingWithCopyWarning: \n",
      "A value is trying to be set on a copy of a slice from a DataFrame.\n",
      "Try using .loc[row_indexer,col_indexer] = value instead\n",
      "\n",
      "See the caveats in the documentation: https://pandas.pydata.org/pandas-docs/stable/user_guide/indexing.html#returning-a-view-versus-a-copy\n",
      "  test_data['cluster'] = y_test_pred\n"
     ]
    },
    {
     "name": "stdout",
     "output_type": "stream",
     "text": [
      "Train metrics...\n",
      "Test metrics...\n",
      "DataSetName                                   (feat_vvixPrevClose,)\n",
      "TrainAccuracy                                               0.53725\n",
      "TrainPrecision                                             0.538284\n",
      "TestAccuracy                                               0.541348\n",
      "TestPrecision                                               0.54257\n",
      "TestF1                                                      0.70065\n",
      "BestParams        <bound method BaseEstimator.get_params of Logi...\n",
      "TestEquity                                             -1116.234405\n",
      "TestCagr                                                -205.127303\n",
      "dtype: object\n",
      "5 21:16:17 Trying with following combo ('feat_Acc',)\n",
      "Equity: -729.7549126464855\n"
     ]
    },
    {
     "name": "stderr",
     "output_type": "stream",
     "text": [
      "C:\\Users\\vitto\\AppData\\Local\\Temp\\ipykernel_10512\\820412064.py:67: SettingWithCopyWarning: \n",
      "A value is trying to be set on a copy of a slice from a DataFrame.\n",
      "Try using .loc[row_indexer,col_indexer] = value instead\n",
      "\n",
      "See the caveats in the documentation: https://pandas.pydata.org/pandas-docs/stable/user_guide/indexing.html#returning-a-view-versus-a-copy\n",
      "  test_data['cluster'] = y_test_pred\n"
     ]
    },
    {
     "name": "stdout",
     "output_type": "stream",
     "text": [
      "Train metrics...\n",
      "Test metrics...\n",
      "DataSetName                                             (feat_Acc,)\n",
      "TrainAccuracy                                              0.538891\n",
      "TrainPrecision                                             0.538891\n",
      "TestAccuracy                                               0.542879\n",
      "TestPrecision                                              0.542879\n",
      "TestF1                                                     0.703722\n",
      "BestParams        <bound method BaseEstimator.get_params of Logi...\n",
      "TestEquity                                              -729.754913\n",
      "TestCagr                                                -134.105038\n",
      "dtype: object\n",
      "6 21:16:18 Trying with following combo ('feat_PrevCluster',)\n",
      "Equity: -729.7549126464855\n"
     ]
    },
    {
     "name": "stderr",
     "output_type": "stream",
     "text": [
      "C:\\Users\\vitto\\AppData\\Local\\Temp\\ipykernel_10512\\820412064.py:67: SettingWithCopyWarning: \n",
      "A value is trying to be set on a copy of a slice from a DataFrame.\n",
      "Try using .loc[row_indexer,col_indexer] = value instead\n",
      "\n",
      "See the caveats in the documentation: https://pandas.pydata.org/pandas-docs/stable/user_guide/indexing.html#returning-a-view-versus-a-copy\n",
      "  test_data['cluster'] = y_test_pred\n"
     ]
    },
    {
     "name": "stdout",
     "output_type": "stream",
     "text": [
      "Train metrics...\n",
      "Test metrics...\n",
      "DataSetName                                     (feat_PrevCluster,)\n",
      "TrainAccuracy                                              0.538891\n",
      "TrainPrecision                                             0.538891\n",
      "TestAccuracy                                               0.542879\n",
      "TestPrecision                                              0.542879\n",
      "TestF1                                                     0.703722\n",
      "BestParams        <bound method BaseEstimator.get_params of Logi...\n",
      "TestEquity                                              -729.754913\n",
      "TestCagr                                                -134.105038\n",
      "dtype: object\n",
      "7 21:16:18 Trying with following combo ('feat_bigBodyRange',)\n",
      "Equity: -360.89590385742207\n"
     ]
    },
    {
     "name": "stderr",
     "output_type": "stream",
     "text": [
      "C:\\Users\\vitto\\AppData\\Local\\Temp\\ipykernel_10512\\820412064.py:67: SettingWithCopyWarning: \n",
      "A value is trying to be set on a copy of a slice from a DataFrame.\n",
      "Try using .loc[row_indexer,col_indexer] = value instead\n",
      "\n",
      "See the caveats in the documentation: https://pandas.pydata.org/pandas-docs/stable/user_guide/indexing.html#returning-a-view-versus-a-copy\n",
      "  test_data['cluster'] = y_test_pred\n"
     ]
    },
    {
     "name": "stdout",
     "output_type": "stream",
     "text": [
      "Train metrics...\n",
      "Test metrics...\n",
      "DataSetName                                    (feat_bigBodyRange,)\n",
      "TrainAccuracy                                              0.542501\n",
      "TrainPrecision                                             0.552766\n",
      "TestAccuracy                                                0.54977\n",
      "TestPrecision                                              0.561049\n",
      "TestF1                                                     0.654118\n",
      "BestParams        <bound method BaseEstimator.get_params of Logi...\n",
      "TestEquity                                              -360.895904\n",
      "TestCagr                                                  -66.32084\n",
      "dtype: object\n",
      "8 21:16:19 Trying with following combo ('feat_Open', 'feat_vixOpen')\n",
      "Equity: -2081.6994927246074\n"
     ]
    },
    {
     "name": "stderr",
     "output_type": "stream",
     "text": [
      "C:\\Users\\vitto\\AppData\\Local\\Temp\\ipykernel_10512\\820412064.py:67: SettingWithCopyWarning: \n",
      "A value is trying to be set on a copy of a slice from a DataFrame.\n",
      "Try using .loc[row_indexer,col_indexer] = value instead\n",
      "\n",
      "See the caveats in the documentation: https://pandas.pydata.org/pandas-docs/stable/user_guide/indexing.html#returning-a-view-versus-a-copy\n",
      "  test_data['cluster'] = y_test_pred\n"
     ]
    },
    {
     "name": "stdout",
     "output_type": "stream",
     "text": [
      "Train metrics...\n",
      "Test metrics...\n",
      "DataSetName                               (feat_Open, feat_vixOpen)\n",
      "TrainAccuracy                                              0.546767\n",
      "TrainPrecision                                             0.547437\n",
      "TestAccuracy                                               0.531394\n",
      "TestPrecision                                              0.541488\n",
      "TestF1                                                     0.674121\n",
      "BestParams        <bound method BaseEstimator.get_params of Logi...\n",
      "TestEquity                                             -2081.699493\n",
      "TestCagr                                                -382.548146\n",
      "dtype: object\n",
      "9 21:16:19 Trying with following combo ('feat_Open', 'feat_vixPrevClose')\n",
      "Equity: -759.3174126464856\n"
     ]
    },
    {
     "name": "stderr",
     "output_type": "stream",
     "text": [
      "C:\\Users\\vitto\\AppData\\Local\\Temp\\ipykernel_10512\\820412064.py:67: SettingWithCopyWarning: \n",
      "A value is trying to be set on a copy of a slice from a DataFrame.\n",
      "Try using .loc[row_indexer,col_indexer] = value instead\n",
      "\n",
      "See the caveats in the documentation: https://pandas.pydata.org/pandas-docs/stable/user_guide/indexing.html#returning-a-view-versus-a-copy\n",
      "  test_data['cluster'] = y_test_pred\n"
     ]
    },
    {
     "name": "stdout",
     "output_type": "stream",
     "text": [
      "Train metrics...\n",
      "Test metrics...\n",
      "DataSetName                          (feat_Open, feat_vixPrevClose)\n",
      "TrainAccuracy                                              0.539547\n",
      "TrainPrecision                                             0.541079\n",
      "TestAccuracy                                                0.54441\n",
      "TestPrecision                                              0.545382\n",
      "TestF1                                                     0.697201\n",
      "BestParams        <bound method BaseEstimator.get_params of Logi...\n",
      "TestEquity                                              -759.317413\n",
      "TestCagr                                                -139.537656\n",
      "dtype: object\n",
      "10 21:16:20 Trying with following combo ('feat_Open', 'feat_vvixOpen')\n",
      "Equity: -3066.9385063964846\n"
     ]
    },
    {
     "name": "stderr",
     "output_type": "stream",
     "text": [
      "C:\\Users\\vitto\\AppData\\Local\\Temp\\ipykernel_10512\\820412064.py:67: SettingWithCopyWarning: \n",
      "A value is trying to be set on a copy of a slice from a DataFrame.\n",
      "Try using .loc[row_indexer,col_indexer] = value instead\n",
      "\n",
      "See the caveats in the documentation: https://pandas.pydata.org/pandas-docs/stable/user_guide/indexing.html#returning-a-view-versus-a-copy\n",
      "  test_data['cluster'] = y_test_pred\n"
     ]
    },
    {
     "name": "stdout",
     "output_type": "stream",
     "text": [
      "Train metrics...\n",
      "Test metrics...\n",
      "DataSetName                              (feat_Open, feat_vvixOpen)\n",
      "TrainAccuracy                                              0.550706\n",
      "TrainPrecision                                              0.55493\n",
      "TestAccuracy                                               0.509188\n",
      "TestPrecision                                              0.532319\n",
      "TestF1                                                     0.636002\n",
      "BestParams        <bound method BaseEstimator.get_params of Logi...\n",
      "TestEquity                                             -3066.938506\n",
      "TestCagr                                                -563.602788\n",
      "dtype: object\n",
      "11 21:16:20 Trying with following combo ('feat_Open', 'feat_vvixPrevClose')\n",
      "Equity: -133.436064990235\n"
     ]
    },
    {
     "name": "stderr",
     "output_type": "stream",
     "text": [
      "C:\\Users\\vitto\\AppData\\Local\\Temp\\ipykernel_10512\\820412064.py:67: SettingWithCopyWarning: \n",
      "A value is trying to be set on a copy of a slice from a DataFrame.\n",
      "Try using .loc[row_indexer,col_indexer] = value instead\n",
      "\n",
      "See the caveats in the documentation: https://pandas.pydata.org/pandas-docs/stable/user_guide/indexing.html#returning-a-view-versus-a-copy\n",
      "  test_data['cluster'] = y_test_pred\n"
     ]
    },
    {
     "name": "stdout",
     "output_type": "stream",
     "text": [
      "Train metrics...\n",
      "Test metrics...\n",
      "DataSetName                         (feat_Open, feat_vvixPrevClose)\n",
      "TrainAccuracy                                              0.533311\n",
      "TrainPrecision                                             0.537723\n",
      "TestAccuracy                                               0.538285\n",
      "TestPrecision                                              0.542265\n",
      "TestF1                                                     0.692817\n",
      "BestParams        <bound method BaseEstimator.get_params of Logi...\n",
      "TestEquity                                              -133.436065\n",
      "TestCagr                                                 -24.521176\n",
      "dtype: object\n",
      "12 21:16:21 Trying with following combo ('feat_Open', 'feat_Acc')\n",
      "Equity: -1173.156279833985\n"
     ]
    },
    {
     "name": "stderr",
     "output_type": "stream",
     "text": [
      "C:\\Users\\vitto\\AppData\\Local\\Temp\\ipykernel_10512\\820412064.py:67: SettingWithCopyWarning: \n",
      "A value is trying to be set on a copy of a slice from a DataFrame.\n",
      "Try using .loc[row_indexer,col_indexer] = value instead\n",
      "\n",
      "See the caveats in the documentation: https://pandas.pydata.org/pandas-docs/stable/user_guide/indexing.html#returning-a-view-versus-a-copy\n",
      "  test_data['cluster'] = y_test_pred\n"
     ]
    },
    {
     "name": "stdout",
     "output_type": "stream",
     "text": [
      "Train metrics...\n",
      "Test metrics...\n",
      "DataSetName                                   (feat_Open, feat_Acc)\n",
      "TrainAccuracy                                              0.534296\n",
      "TrainPrecision                                              0.53881\n",
      "TestAccuracy                                               0.532925\n",
      "TestPrecision                                              0.540146\n",
      "TestF1                                                     0.685891\n",
      "BestParams        <bound method BaseEstimator.get_params of Logi...\n",
      "TestEquity                                              -1173.15628\n",
      "TestCagr                                                -215.587678\n",
      "dtype: object\n",
      "13 21:16:21 Trying with following combo ('feat_Open', 'feat_PrevCluster')\n",
      "Equity: -969.1142876464858\n"
     ]
    },
    {
     "name": "stderr",
     "output_type": "stream",
     "text": [
      "C:\\Users\\vitto\\AppData\\Local\\Temp\\ipykernel_10512\\820412064.py:67: SettingWithCopyWarning: \n",
      "A value is trying to be set on a copy of a slice from a DataFrame.\n",
      "Try using .loc[row_indexer,col_indexer] = value instead\n",
      "\n",
      "See the caveats in the documentation: https://pandas.pydata.org/pandas-docs/stable/user_guide/indexing.html#returning-a-view-versus-a-copy\n",
      "  test_data['cluster'] = y_test_pred\n"
     ]
    },
    {
     "name": "stdout",
     "output_type": "stream",
     "text": [
      "Train metrics...\n",
      "Test metrics...\n",
      "DataSetName                           (feat_Open, feat_PrevCluster)\n",
      "TrainAccuracy                                              0.536593\n",
      "TrainPrecision                                             0.542186\n",
      "TestAccuracy                                               0.529862\n",
      "TestPrecision                                              0.540288\n",
      "TestF1                                                     0.674788\n",
      "BestParams        <bound method BaseEstimator.get_params of Logi...\n",
      "TestEquity                                              -969.114288\n",
      "TestCagr                                                -178.091446\n",
      "dtype: object\n",
      "14 21:16:22 Trying with following combo ('feat_Open', 'feat_bigBodyRange')\n",
      "Equity: -472.3576958496091\n"
     ]
    },
    {
     "name": "stderr",
     "output_type": "stream",
     "text": [
      "C:\\Users\\vitto\\AppData\\Local\\Temp\\ipykernel_10512\\820412064.py:67: SettingWithCopyWarning: \n",
      "A value is trying to be set on a copy of a slice from a DataFrame.\n",
      "Try using .loc[row_indexer,col_indexer] = value instead\n",
      "\n",
      "See the caveats in the documentation: https://pandas.pydata.org/pandas-docs/stable/user_guide/indexing.html#returning-a-view-versus-a-copy\n",
      "  test_data['cluster'] = y_test_pred\n"
     ]
    },
    {
     "name": "stdout",
     "output_type": "stream",
     "text": [
      "Train metrics...\n",
      "Test metrics...\n",
      "DataSetName                          (feat_Open, feat_bigBodyRange)\n",
      "TrainAccuracy                                              0.547096\n",
      "TrainPrecision                                             0.548268\n",
      "TestAccuracy                                                0.54441\n",
      "TestPrecision                                              0.549308\n",
      "TestF1                                                     0.680965\n",
      "BestParams        <bound method BaseEstimator.get_params of Logi...\n",
      "TestEquity                                              -472.357696\n",
      "TestCagr                                                 -86.803864\n",
      "dtype: object\n",
      "15 21:16:22 Trying with following combo ('feat_vixOpen', 'feat_vixPrevClose')\n",
      "Equity: 2300.382050244136\n"
     ]
    },
    {
     "name": "stderr",
     "output_type": "stream",
     "text": [
      "C:\\Users\\vitto\\AppData\\Local\\Temp\\ipykernel_10512\\820412064.py:67: SettingWithCopyWarning: \n",
      "A value is trying to be set on a copy of a slice from a DataFrame.\n",
      "Try using .loc[row_indexer,col_indexer] = value instead\n",
      "\n",
      "See the caveats in the documentation: https://pandas.pydata.org/pandas-docs/stable/user_guide/indexing.html#returning-a-view-versus-a-copy\n",
      "  test_data['cluster'] = y_test_pred\n"
     ]
    },
    {
     "name": "stdout",
     "output_type": "stream",
     "text": [
      "Train metrics...\n",
      "Test metrics...\n",
      "DataSetName                       (feat_vixOpen, feat_vixPrevClose)\n",
      "TrainAccuracy                                               0.58976\n",
      "TrainPrecision                                             0.585965\n",
      "TestAccuracy                                               0.595712\n",
      "TestPrecision                                              0.593588\n",
      "TestF1                                                     0.684964\n",
      "BestParams        <bound method BaseEstimator.get_params of Logi...\n",
      "TestEquity                                               2300.38205\n",
      "TestCagr                                                 422.734833\n",
      "dtype: object\n",
      "16 21:16:23 Trying with following combo ('feat_vixOpen', 'feat_vvixOpen')\n",
      "Equity: -2002.520049365235\n"
     ]
    },
    {
     "name": "stderr",
     "output_type": "stream",
     "text": [
      "C:\\Users\\vitto\\AppData\\Local\\Temp\\ipykernel_10512\\820412064.py:67: SettingWithCopyWarning: \n",
      "A value is trying to be set on a copy of a slice from a DataFrame.\n",
      "Try using .loc[row_indexer,col_indexer] = value instead\n",
      "\n",
      "See the caveats in the documentation: https://pandas.pydata.org/pandas-docs/stable/user_guide/indexing.html#returning-a-view-versus-a-copy\n",
      "  test_data['cluster'] = y_test_pred\n"
     ]
    },
    {
     "name": "stdout",
     "output_type": "stream",
     "text": [
      "Train metrics...\n",
      "Test metrics...\n",
      "DataSetName                           (feat_vixOpen, feat_vvixOpen)\n",
      "TrainAccuracy                                              0.547752\n",
      "TrainPrecision                                             0.553441\n",
      "TestAccuracy                                               0.516845\n",
      "TestPrecision                                              0.537143\n",
      "TestF1                                                     0.641273\n",
      "BestParams        <bound method BaseEstimator.get_params of Logi...\n",
      "TestEquity                                             -2002.520049\n",
      "TestCagr                                                -367.997559\n",
      "dtype: object\n",
      "17 21:16:23 Trying with following combo ('feat_vixOpen', 'feat_vvixPrevClose')\n",
      "Equity: -1290.3541558105471\n"
     ]
    },
    {
     "name": "stderr",
     "output_type": "stream",
     "text": [
      "C:\\Users\\vitto\\AppData\\Local\\Temp\\ipykernel_10512\\820412064.py:67: SettingWithCopyWarning: \n",
      "A value is trying to be set on a copy of a slice from a DataFrame.\n",
      "Try using .loc[row_indexer,col_indexer] = value instead\n",
      "\n",
      "See the caveats in the documentation: https://pandas.pydata.org/pandas-docs/stable/user_guide/indexing.html#returning-a-view-versus-a-copy\n",
      "  test_data['cluster'] = y_test_pred\n"
     ]
    },
    {
     "name": "stdout",
     "output_type": "stream",
     "text": [
      "Train metrics...\n",
      "Test metrics...\n",
      "DataSetName                      (feat_vixOpen, feat_vvixPrevClose)\n",
      "TrainAccuracy                                              0.538234\n",
      "TrainPrecision                                             0.539258\n",
      "TestAccuracy                                               0.540582\n",
      "TestPrecision                                              0.542545\n",
      "TestF1                                                     0.698492\n",
      "BestParams        <bound method BaseEstimator.get_params of Logi...\n",
      "TestEquity                                             -1290.354156\n",
      "TestCagr                                                -237.124807\n",
      "dtype: object\n",
      "18 21:16:23 Trying with following combo ('feat_vixOpen', 'feat_Acc')\n",
      "Equity: -906.9346001464855\n"
     ]
    },
    {
     "name": "stderr",
     "output_type": "stream",
     "text": [
      "C:\\Users\\vitto\\AppData\\Local\\Temp\\ipykernel_10512\\820412064.py:67: SettingWithCopyWarning: \n",
      "A value is trying to be set on a copy of a slice from a DataFrame.\n",
      "Try using .loc[row_indexer,col_indexer] = value instead\n",
      "\n",
      "See the caveats in the documentation: https://pandas.pydata.org/pandas-docs/stable/user_guide/indexing.html#returning-a-view-versus-a-copy\n",
      "  test_data['cluster'] = y_test_pred\n"
     ]
    },
    {
     "name": "stdout",
     "output_type": "stream",
     "text": [
      "Train metrics...\n",
      "Test metrics...\n",
      "DataSetName                                (feat_vixOpen, feat_Acc)\n",
      "TrainAccuracy                                              0.539547\n",
      "TrainPrecision                                             0.539847\n",
      "TestAccuracy                                               0.545176\n",
      "TestPrecision                                              0.545027\n",
      "TestF1                                                     0.700906\n",
      "BestParams        <bound method BaseEstimator.get_params of Logi...\n",
      "TestEquity                                                -906.9346\n",
      "TestCagr                                                -166.664858\n",
      "dtype: object\n",
      "19 21:16:24 Trying with following combo ('feat_vixOpen', 'feat_PrevCluster')\n",
      "Equity: -828.0542290527351\n"
     ]
    },
    {
     "name": "stderr",
     "output_type": "stream",
     "text": [
      "C:\\Users\\vitto\\AppData\\Local\\Temp\\ipykernel_10512\\820412064.py:67: SettingWithCopyWarning: \n",
      "A value is trying to be set on a copy of a slice from a DataFrame.\n",
      "Try using .loc[row_indexer,col_indexer] = value instead\n",
      "\n",
      "See the caveats in the documentation: https://pandas.pydata.org/pandas-docs/stable/user_guide/indexing.html#returning-a-view-versus-a-copy\n",
      "  test_data['cluster'] = y_test_pred\n"
     ]
    },
    {
     "name": "stdout",
     "output_type": "stream",
     "text": [
      "Train metrics...\n",
      "Test metrics...\n",
      "DataSetName                        (feat_vixOpen, feat_PrevCluster)\n",
      "TrainAccuracy                                              0.541188\n",
      "TrainPrecision                                             0.541244\n",
      "TestAccuracy                                               0.542879\n",
      "TestPrecision                                              0.544657\n",
      "TestF1                                                     0.695874\n",
      "BestParams        <bound method BaseEstimator.get_params of Logi...\n",
      "TestEquity                                              -828.054229\n",
      "TestCagr                                                 -152.16923\n",
      "dtype: object\n",
      "20 21:16:25 Trying with following combo ('feat_vixOpen', 'feat_bigBodyRange')\n",
      "Equity: -360.89590385742207\n"
     ]
    },
    {
     "name": "stderr",
     "output_type": "stream",
     "text": [
      "C:\\Users\\vitto\\AppData\\Local\\Temp\\ipykernel_10512\\820412064.py:67: SettingWithCopyWarning: \n",
      "A value is trying to be set on a copy of a slice from a DataFrame.\n",
      "Try using .loc[row_indexer,col_indexer] = value instead\n",
      "\n",
      "See the caveats in the documentation: https://pandas.pydata.org/pandas-docs/stable/user_guide/indexing.html#returning-a-view-versus-a-copy\n",
      "  test_data['cluster'] = y_test_pred\n"
     ]
    },
    {
     "name": "stdout",
     "output_type": "stream",
     "text": [
      "Train metrics...\n",
      "Test metrics...\n",
      "DataSetName                       (feat_vixOpen, feat_bigBodyRange)\n",
      "TrainAccuracy                                              0.542501\n",
      "TrainPrecision                                             0.552766\n",
      "TestAccuracy                                                0.54977\n",
      "TestPrecision                                              0.561049\n",
      "TestF1                                                     0.654118\n",
      "BestParams        <bound method BaseEstimator.get_params of Logi...\n",
      "TestEquity                                              -360.895904\n",
      "TestCagr                                                  -66.32084\n",
      "dtype: object\n",
      "21 21:16:25 Trying with following combo ('feat_vixPrevClose', 'feat_vvixOpen')\n",
      "Equity: -1534.7607720214837\n"
     ]
    },
    {
     "name": "stderr",
     "output_type": "stream",
     "text": [
      "C:\\Users\\vitto\\AppData\\Local\\Temp\\ipykernel_10512\\820412064.py:67: SettingWithCopyWarning: \n",
      "A value is trying to be set on a copy of a slice from a DataFrame.\n",
      "Try using .loc[row_indexer,col_indexer] = value instead\n",
      "\n",
      "See the caveats in the documentation: https://pandas.pydata.org/pandas-docs/stable/user_guide/indexing.html#returning-a-view-versus-a-copy\n",
      "  test_data['cluster'] = y_test_pred\n"
     ]
    },
    {
     "name": "stdout",
     "output_type": "stream",
     "text": [
      "Train metrics...\n",
      "Test metrics...\n",
      "DataSetName                      (feat_vixPrevClose, feat_vvixOpen)\n",
      "TrainAccuracy                                              0.547752\n",
      "TrainPrecision                                                0.555\n",
      "TestAccuracy                                               0.523737\n",
      "TestPrecision                                              0.542356\n",
      "TestF1                                                     0.641705\n",
      "BestParams        <bound method BaseEstimator.get_params of Logi...\n",
      "TestEquity                                             -1534.760772\n",
      "TestCagr                                                -282.038733\n",
      "dtype: object\n",
      "22 21:16:25 Trying with following combo ('feat_vixPrevClose', 'feat_vvixPrevClose')\n",
      "Equity: -681.6943657714853\n"
     ]
    },
    {
     "name": "stderr",
     "output_type": "stream",
     "text": [
      "C:\\Users\\vitto\\AppData\\Local\\Temp\\ipykernel_10512\\820412064.py:67: SettingWithCopyWarning: \n",
      "A value is trying to be set on a copy of a slice from a DataFrame.\n",
      "Try using .loc[row_indexer,col_indexer] = value instead\n",
      "\n",
      "See the caveats in the documentation: https://pandas.pydata.org/pandas-docs/stable/user_guide/indexing.html#returning-a-view-versus-a-copy\n",
      "  test_data['cluster'] = y_test_pred\n"
     ]
    },
    {
     "name": "stdout",
     "output_type": "stream",
     "text": [
      "Train metrics...\n",
      "Test metrics...\n",
      "DataSetName                 (feat_vixPrevClose, feat_vvixPrevClose)\n",
      "TrainAccuracy                                              0.538563\n",
      "TrainPrecision                                             0.538867\n",
      "TestAccuracy                                               0.542113\n",
      "TestPrecision                                              0.542857\n",
      "TestF1                                                     0.701597\n",
      "BestParams        <bound method BaseEstimator.get_params of Logi...\n",
      "TestEquity                                              -681.694366\n",
      "TestCagr                                                -125.273084\n",
      "dtype: object\n",
      "23 21:16:26 Trying with following combo ('feat_vixPrevClose', 'feat_Acc')\n",
      "Equity: -729.7549126464855\n"
     ]
    },
    {
     "name": "stderr",
     "output_type": "stream",
     "text": [
      "C:\\Users\\vitto\\AppData\\Local\\Temp\\ipykernel_10512\\820412064.py:67: SettingWithCopyWarning: \n",
      "A value is trying to be set on a copy of a slice from a DataFrame.\n",
      "Try using .loc[row_indexer,col_indexer] = value instead\n",
      "\n",
      "See the caveats in the documentation: https://pandas.pydata.org/pandas-docs/stable/user_guide/indexing.html#returning-a-view-versus-a-copy\n",
      "  test_data['cluster'] = y_test_pred\n"
     ]
    },
    {
     "name": "stdout",
     "output_type": "stream",
     "text": [
      "Train metrics...\n",
      "Test metrics...\n",
      "DataSetName                           (feat_vixPrevClose, feat_Acc)\n",
      "TrainAccuracy                                              0.538891\n",
      "TrainPrecision                                             0.538891\n",
      "TestAccuracy                                               0.542879\n",
      "TestPrecision                                              0.542879\n",
      "TestF1                                                     0.703722\n",
      "BestParams        <bound method BaseEstimator.get_params of Logi...\n",
      "TestEquity                                              -729.754913\n",
      "TestCagr                                                -134.105038\n",
      "dtype: object\n",
      "24 21:16:26 Trying with following combo ('feat_vixPrevClose', 'feat_PrevCluster')\n",
      "Equity: -729.7549126464855\n"
     ]
    },
    {
     "name": "stderr",
     "output_type": "stream",
     "text": [
      "C:\\Users\\vitto\\AppData\\Local\\Temp\\ipykernel_10512\\820412064.py:67: SettingWithCopyWarning: \n",
      "A value is trying to be set on a copy of a slice from a DataFrame.\n",
      "Try using .loc[row_indexer,col_indexer] = value instead\n",
      "\n",
      "See the caveats in the documentation: https://pandas.pydata.org/pandas-docs/stable/user_guide/indexing.html#returning-a-view-versus-a-copy\n",
      "  test_data['cluster'] = y_test_pred\n"
     ]
    },
    {
     "name": "stdout",
     "output_type": "stream",
     "text": [
      "Train metrics...\n",
      "Test metrics...\n",
      "DataSetName                   (feat_vixPrevClose, feat_PrevCluster)\n",
      "TrainAccuracy                                              0.538891\n",
      "TrainPrecision                                             0.538891\n",
      "TestAccuracy                                               0.542879\n",
      "TestPrecision                                              0.542879\n",
      "TestF1                                                     0.703722\n",
      "BestParams        <bound method BaseEstimator.get_params of Logi...\n",
      "TestEquity                                              -729.754913\n",
      "TestCagr                                                -134.105038\n",
      "dtype: object\n",
      "25 21:16:27 Trying with following combo ('feat_vixPrevClose', 'feat_bigBodyRange')\n",
      "Equity: 814.4843451660156\n"
     ]
    },
    {
     "name": "stderr",
     "output_type": "stream",
     "text": [
      "C:\\Users\\vitto\\AppData\\Local\\Temp\\ipykernel_10512\\820412064.py:67: SettingWithCopyWarning: \n",
      "A value is trying to be set on a copy of a slice from a DataFrame.\n",
      "Try using .loc[row_indexer,col_indexer] = value instead\n",
      "\n",
      "See the caveats in the documentation: https://pandas.pydata.org/pandas-docs/stable/user_guide/indexing.html#returning-a-view-versus-a-copy\n",
      "  test_data['cluster'] = y_test_pred\n"
     ]
    },
    {
     "name": "stdout",
     "output_type": "stream",
     "text": [
      "Train metrics...\n",
      "Test metrics...\n",
      "DataSetName                  (feat_vixPrevClose, feat_bigBodyRange)\n",
      "TrainAccuracy                                              0.544798\n",
      "TrainPrecision                                             0.551061\n",
      "TestAccuracy                                               0.554364\n",
      "TestPrecision                                               0.55918\n",
      "TestF1                                                     0.673401\n",
      "BestParams        <bound method BaseEstimator.get_params of Logi...\n",
      "TestEquity                                               814.484345\n",
      "TestCagr                                                 149.675531\n",
      "dtype: object\n",
      "26 21:16:27 Trying with following combo ('feat_vvixOpen', 'feat_vvixPrevClose')\n",
      "Equity: 5754.640961376949\n"
     ]
    },
    {
     "name": "stderr",
     "output_type": "stream",
     "text": [
      "C:\\Users\\vitto\\AppData\\Local\\Temp\\ipykernel_10512\\820412064.py:67: SettingWithCopyWarning: \n",
      "A value is trying to be set on a copy of a slice from a DataFrame.\n",
      "Try using .loc[row_indexer,col_indexer] = value instead\n",
      "\n",
      "See the caveats in the documentation: https://pandas.pydata.org/pandas-docs/stable/user_guide/indexing.html#returning-a-view-versus-a-copy\n",
      "  test_data['cluster'] = y_test_pred\n"
     ]
    },
    {
     "name": "stdout",
     "output_type": "stream",
     "text": [
      "Train metrics...\n",
      "Test metrics...\n",
      "DataSetName                     (feat_vvixOpen, feat_vvixPrevClose)\n",
      "TrainAccuracy                                              0.633738\n",
      "TrainPrecision                                             0.628795\n",
      "TestAccuracy                                               0.648545\n",
      "TestPrecision                                              0.641084\n",
      "TestF1                                                     0.712226\n",
      "BestParams        <bound method BaseEstimator.get_params of Logi...\n",
      "TestEquity                                              5754.640961\n",
      "TestCagr                                                1057.514419\n",
      "dtype: object\n",
      "27 21:16:28 Trying with following combo ('feat_vvixOpen', 'feat_Acc')\n",
      "Equity: -1998.6390679199203\n"
     ]
    },
    {
     "name": "stderr",
     "output_type": "stream",
     "text": [
      "C:\\Users\\vitto\\AppData\\Local\\Temp\\ipykernel_10512\\820412064.py:67: SettingWithCopyWarning: \n",
      "A value is trying to be set on a copy of a slice from a DataFrame.\n",
      "Try using .loc[row_indexer,col_indexer] = value instead\n",
      "\n",
      "See the caveats in the documentation: https://pandas.pydata.org/pandas-docs/stable/user_guide/indexing.html#returning-a-view-versus-a-copy\n",
      "  test_data['cluster'] = y_test_pred\n"
     ]
    },
    {
     "name": "stdout",
     "output_type": "stream",
     "text": [
      "Train metrics...\n",
      "Test metrics...\n",
      "DataSetName                               (feat_vvixOpen, feat_Acc)\n",
      "TrainAccuracy                                              0.552018\n",
      "TrainPrecision                                             0.555914\n",
      "TestAccuracy                                               0.519142\n",
      "TestPrecision                                              0.538316\n",
      "TestF1                                                     0.644394\n",
      "BestParams        <bound method BaseEstimator.get_params of Logi...\n",
      "TestEquity                                             -1998.639068\n",
      "TestCagr                                                -367.284362\n",
      "dtype: object\n",
      "28 21:16:28 Trying with following combo ('feat_vvixOpen', 'feat_PrevCluster')\n",
      "Equity: -2339.8584282714846\n"
     ]
    },
    {
     "name": "stderr",
     "output_type": "stream",
     "text": [
      "C:\\Users\\vitto\\AppData\\Local\\Temp\\ipykernel_10512\\820412064.py:67: SettingWithCopyWarning: \n",
      "A value is trying to be set on a copy of a slice from a DataFrame.\n",
      "Try using .loc[row_indexer,col_indexer] = value instead\n",
      "\n",
      "See the caveats in the documentation: https://pandas.pydata.org/pandas-docs/stable/user_guide/indexing.html#returning-a-view-versus-a-copy\n",
      "  test_data['cluster'] = y_test_pred\n"
     ]
    },
    {
     "name": "stdout",
     "output_type": "stream",
     "text": [
      "Train metrics...\n",
      "Test metrics...\n",
      "DataSetName                       (feat_vvixOpen, feat_PrevCluster)\n",
      "TrainAccuracy                                              0.558254\n",
      "TrainPrecision                                             0.560956\n",
      "TestAccuracy                                               0.518377\n",
      "TestPrecision                                              0.537879\n",
      "TestF1                                                     0.643626\n",
      "BestParams        <bound method BaseEstimator.get_params of Logi...\n",
      "TestEquity                                             -2339.858428\n",
      "TestCagr                                                -429.989298\n",
      "dtype: object\n",
      "29 21:16:29 Trying with following combo ('feat_vvixOpen', 'feat_bigBodyRange')\n",
      "Equity: -2196.176909716796\n"
     ]
    },
    {
     "name": "stderr",
     "output_type": "stream",
     "text": [
      "C:\\Users\\vitto\\AppData\\Local\\Temp\\ipykernel_10512\\820412064.py:67: SettingWithCopyWarning: \n",
      "A value is trying to be set on a copy of a slice from a DataFrame.\n",
      "Try using .loc[row_indexer,col_indexer] = value instead\n",
      "\n",
      "See the caveats in the documentation: https://pandas.pydata.org/pandas-docs/stable/user_guide/indexing.html#returning-a-view-versus-a-copy\n",
      "  test_data['cluster'] = y_test_pred\n"
     ]
    },
    {
     "name": "stdout",
     "output_type": "stream",
     "text": [
      "Train metrics...\n",
      "Test metrics...\n",
      "DataSetName                      (feat_vvixOpen, feat_bigBodyRange)\n",
      "TrainAccuracy                                              0.561536\n",
      "TrainPrecision                                             0.562094\n",
      "TestAccuracy                                               0.525268\n",
      "TestPrecision                                              0.542665\n",
      "TestF1                                                     0.646119\n",
      "BestParams        <bound method BaseEstimator.get_params of Logi...\n",
      "TestEquity                                              -2196.17691\n",
      "TestCagr                                                -403.585343\n",
      "dtype: object\n",
      "30 21:16:29 Trying with following combo ('feat_vvixPrevClose', 'feat_Acc')\n",
      "Equity: -952.9936821777353\n"
     ]
    },
    {
     "name": "stderr",
     "output_type": "stream",
     "text": [
      "C:\\Users\\vitto\\AppData\\Local\\Temp\\ipykernel_10512\\820412064.py:67: SettingWithCopyWarning: \n",
      "A value is trying to be set on a copy of a slice from a DataFrame.\n",
      "Try using .loc[row_indexer,col_indexer] = value instead\n",
      "\n",
      "See the caveats in the documentation: https://pandas.pydata.org/pandas-docs/stable/user_guide/indexing.html#returning-a-view-versus-a-copy\n",
      "  test_data['cluster'] = y_test_pred\n"
     ]
    },
    {
     "name": "stdout",
     "output_type": "stream",
     "text": [
      "Train metrics...\n",
      "Test metrics...\n",
      "DataSetName                          (feat_vvixPrevClose, feat_Acc)\n",
      "TrainAccuracy                                              0.539219\n",
      "TrainPrecision                                             0.539326\n",
      "TestAccuracy                                               0.541348\n",
      "TestPrecision                                               0.54257\n",
      "TestF1                                                      0.70065\n",
      "BestParams        <bound method BaseEstimator.get_params of Logi...\n",
      "TestEquity                                              -952.993682\n",
      "TestCagr                                                -175.129007\n",
      "dtype: object\n",
      "31 21:16:30 Trying with following combo ('feat_vvixPrevClose', 'feat_PrevCluster')\n",
      "Equity: -1612.6120903808592\n"
     ]
    },
    {
     "name": "stderr",
     "output_type": "stream",
     "text": [
      "C:\\Users\\vitto\\AppData\\Local\\Temp\\ipykernel_10512\\820412064.py:67: SettingWithCopyWarning: \n",
      "A value is trying to be set on a copy of a slice from a DataFrame.\n",
      "Try using .loc[row_indexer,col_indexer] = value instead\n",
      "\n",
      "See the caveats in the documentation: https://pandas.pydata.org/pandas-docs/stable/user_guide/indexing.html#returning-a-view-versus-a-copy\n",
      "  test_data['cluster'] = y_test_pred\n"
     ]
    },
    {
     "name": "stdout",
     "output_type": "stream",
     "text": [
      "Train metrics...\n",
      "Test metrics...\n",
      "DataSetName                  (feat_vvixPrevClose, feat_PrevCluster)\n",
      "TrainAccuracy                                              0.543157\n",
      "TrainPrecision                                              0.54243\n",
      "TestAccuracy                                               0.533691\n",
      "TestPrecision                                              0.539809\n",
      "TestF1                                                     0.690076\n",
      "BestParams        <bound method BaseEstimator.get_params of Logi...\n",
      "TestEquity                                              -1612.61209\n",
      "TestCagr                                                -296.345254\n",
      "dtype: object\n",
      "32 21:16:30 Trying with following combo ('feat_vvixPrevClose', 'feat_bigBodyRange')\n",
      "Equity: -1564.5154106933596\n"
     ]
    },
    {
     "name": "stderr",
     "output_type": "stream",
     "text": [
      "C:\\Users\\vitto\\AppData\\Local\\Temp\\ipykernel_10512\\820412064.py:67: SettingWithCopyWarning: \n",
      "A value is trying to be set on a copy of a slice from a DataFrame.\n",
      "Try using .loc[row_indexer,col_indexer] = value instead\n",
      "\n",
      "See the caveats in the documentation: https://pandas.pydata.org/pandas-docs/stable/user_guide/indexing.html#returning-a-view-versus-a-copy\n",
      "  test_data['cluster'] = y_test_pred\n"
     ]
    },
    {
     "name": "stdout",
     "output_type": "stream",
     "text": [
      "Train metrics...\n",
      "Test metrics...\n",
      "DataSetName                 (feat_vvixPrevClose, feat_bigBodyRange)\n",
      "TrainAccuracy                                              0.541516\n",
      "TrainPrecision                                             0.549535\n",
      "TestAccuracy                                               0.538285\n",
      "TestPrecision                                              0.550476\n",
      "TestF1                                                     0.657192\n",
      "BestParams        <bound method BaseEstimator.get_params of Logi...\n",
      "TestEquity                                             -1564.515411\n",
      "TestCagr                                                 -287.50666\n",
      "dtype: object\n",
      "33 21:16:31 Trying with following combo ('feat_Acc', 'feat_PrevCluster')\n",
      "Equity: -729.7549126464855\n"
     ]
    },
    {
     "name": "stderr",
     "output_type": "stream",
     "text": [
      "C:\\Users\\vitto\\AppData\\Local\\Temp\\ipykernel_10512\\820412064.py:67: SettingWithCopyWarning: \n",
      "A value is trying to be set on a copy of a slice from a DataFrame.\n",
      "Try using .loc[row_indexer,col_indexer] = value instead\n",
      "\n",
      "See the caveats in the documentation: https://pandas.pydata.org/pandas-docs/stable/user_guide/indexing.html#returning-a-view-versus-a-copy\n",
      "  test_data['cluster'] = y_test_pred\n"
     ]
    },
    {
     "name": "stdout",
     "output_type": "stream",
     "text": [
      "Train metrics...\n",
      "Test metrics...\n",
      "DataSetName                            (feat_Acc, feat_PrevCluster)\n",
      "TrainAccuracy                                              0.538891\n",
      "TrainPrecision                                             0.538891\n",
      "TestAccuracy                                               0.542879\n",
      "TestPrecision                                              0.542879\n",
      "TestF1                                                     0.703722\n",
      "BestParams        <bound method BaseEstimator.get_params of Logi...\n",
      "TestEquity                                              -729.754913\n",
      "TestCagr                                                -134.105038\n",
      "dtype: object\n",
      "34 21:16:31 Trying with following combo ('feat_Acc', 'feat_bigBodyRange')\n",
      "Equity: -360.89590385742207\n"
     ]
    },
    {
     "name": "stderr",
     "output_type": "stream",
     "text": [
      "C:\\Users\\vitto\\AppData\\Local\\Temp\\ipykernel_10512\\820412064.py:67: SettingWithCopyWarning: \n",
      "A value is trying to be set on a copy of a slice from a DataFrame.\n",
      "Try using .loc[row_indexer,col_indexer] = value instead\n",
      "\n",
      "See the caveats in the documentation: https://pandas.pydata.org/pandas-docs/stable/user_guide/indexing.html#returning-a-view-versus-a-copy\n",
      "  test_data['cluster'] = y_test_pred\n"
     ]
    },
    {
     "name": "stdout",
     "output_type": "stream",
     "text": [
      "Train metrics...\n",
      "Test metrics...\n",
      "DataSetName                           (feat_Acc, feat_bigBodyRange)\n",
      "TrainAccuracy                                              0.542501\n",
      "TrainPrecision                                             0.552766\n",
      "TestAccuracy                                                0.54977\n",
      "TestPrecision                                              0.561049\n",
      "TestF1                                                     0.654118\n",
      "BestParams        <bound method BaseEstimator.get_params of Logi...\n",
      "TestEquity                                              -360.895904\n",
      "TestCagr                                                  -66.32084\n",
      "dtype: object\n",
      "35 21:16:32 Trying with following combo ('feat_PrevCluster', 'feat_bigBodyRange')\n",
      "Equity: -43.55252006836022\n"
     ]
    },
    {
     "name": "stderr",
     "output_type": "stream",
     "text": [
      "C:\\Users\\vitto\\AppData\\Local\\Temp\\ipykernel_10512\\820412064.py:67: SettingWithCopyWarning: \n",
      "A value is trying to be set on a copy of a slice from a DataFrame.\n",
      "Try using .loc[row_indexer,col_indexer] = value instead\n",
      "\n",
      "See the caveats in the documentation: https://pandas.pydata.org/pandas-docs/stable/user_guide/indexing.html#returning-a-view-versus-a-copy\n",
      "  test_data['cluster'] = y_test_pred\n"
     ]
    },
    {
     "name": "stdout",
     "output_type": "stream",
     "text": [
      "Train metrics...\n",
      "Test metrics...\n",
      "DataSetName                   (feat_PrevCluster, feat_bigBodyRange)\n",
      "TrainAccuracy                                              0.552347\n",
      "TrainPrecision                                             0.551673\n",
      "TestAccuracy                                                0.54441\n",
      "TestPrecision                                              0.549053\n",
      "TestF1                                                     0.681988\n",
      "BestParams        <bound method BaseEstimator.get_params of Logi...\n",
      "TestEquity                                                -43.55252\n",
      "TestCagr                                                  -8.003526\n",
      "dtype: object\n",
      "36 21:16:32 Trying with following combo ('feat_Open', 'feat_vixOpen', 'feat_vixPrevClose')\n",
      "Equity: 2133.202240673823\n"
     ]
    },
    {
     "name": "stderr",
     "output_type": "stream",
     "text": [
      "C:\\Users\\vitto\\AppData\\Local\\Temp\\ipykernel_10512\\820412064.py:67: SettingWithCopyWarning: \n",
      "A value is trying to be set on a copy of a slice from a DataFrame.\n",
      "Try using .loc[row_indexer,col_indexer] = value instead\n",
      "\n",
      "See the caveats in the documentation: https://pandas.pydata.org/pandas-docs/stable/user_guide/indexing.html#returning-a-view-versus-a-copy\n",
      "  test_data['cluster'] = y_test_pred\n"
     ]
    },
    {
     "name": "stdout",
     "output_type": "stream",
     "text": [
      "Train metrics...\n",
      "Test metrics...\n",
      "DataSetName            (feat_Open, feat_vixOpen, feat_vixPrevClose)\n",
      "TrainAccuracy                                              0.590417\n",
      "TrainPrecision                                             0.587014\n",
      "TestAccuracy                                               0.594181\n",
      "TestPrecision                                              0.594509\n",
      "TestF1                                                     0.679952\n",
      "BestParams        <bound method BaseEstimator.get_params of Logi...\n",
      "TestEquity                                              2133.202241\n",
      "TestCagr                                                 392.012663\n",
      "dtype: object\n",
      "37 21:16:33 Trying with following combo ('feat_Open', 'feat_vixOpen', 'feat_vvixOpen')\n",
      "Equity: -2002.520049365235\n"
     ]
    },
    {
     "name": "stderr",
     "output_type": "stream",
     "text": [
      "C:\\Users\\vitto\\AppData\\Local\\Temp\\ipykernel_10512\\820412064.py:67: SettingWithCopyWarning: \n",
      "A value is trying to be set on a copy of a slice from a DataFrame.\n",
      "Try using .loc[row_indexer,col_indexer] = value instead\n",
      "\n",
      "See the caveats in the documentation: https://pandas.pydata.org/pandas-docs/stable/user_guide/indexing.html#returning-a-view-versus-a-copy\n",
      "  test_data['cluster'] = y_test_pred\n"
     ]
    },
    {
     "name": "stdout",
     "output_type": "stream",
     "text": [
      "Train metrics...\n",
      "Test metrics...\n",
      "DataSetName                (feat_Open, feat_vixOpen, feat_vvixOpen)\n",
      "TrainAccuracy                                              0.547424\n",
      "TrainPrecision                                             0.553217\n",
      "TestAccuracy                                               0.516845\n",
      "TestPrecision                                              0.537143\n",
      "TestF1                                                     0.641273\n",
      "BestParams        <bound method BaseEstimator.get_params of Logi...\n",
      "TestEquity                                             -2002.520049\n",
      "TestCagr                                                -367.997559\n",
      "dtype: object\n",
      "38 21:16:33 Trying with following combo ('feat_Open', 'feat_vixOpen', 'feat_vvixPrevClose')\n",
      "Equity: -1828.9409478027344\n"
     ]
    },
    {
     "name": "stderr",
     "output_type": "stream",
     "text": [
      "C:\\Users\\vitto\\AppData\\Local\\Temp\\ipykernel_10512\\820412064.py:67: SettingWithCopyWarning: \n",
      "A value is trying to be set on a copy of a slice from a DataFrame.\n",
      "Try using .loc[row_indexer,col_indexer] = value instead\n",
      "\n",
      "See the caveats in the documentation: https://pandas.pydata.org/pandas-docs/stable/user_guide/indexing.html#returning-a-view-versus-a-copy\n",
      "  test_data['cluster'] = y_test_pred\n"
     ]
    },
    {
     "name": "stdout",
     "output_type": "stream",
     "text": [
      "Train metrics...\n",
      "Test metrics...\n",
      "DataSetName           (feat_Open, feat_vixOpen, feat_vvixPrevClose)\n",
      "TrainAccuracy                                              0.536922\n",
      "TrainPrecision                                             0.542199\n",
      "TestAccuracy                                               0.530628\n",
      "TestPrecision                                              0.541522\n",
      "TestF1                                                     0.671314\n",
      "BestParams        <bound method BaseEstimator.get_params of Logi...\n",
      "TestEquity                                             -1828.940948\n",
      "TestCagr                                                -336.099408\n",
      "dtype: object\n",
      "39 21:16:34 Trying with following combo ('feat_Open', 'feat_vixOpen', 'feat_Acc')\n",
      "Equity: -2243.0769341308587\n"
     ]
    },
    {
     "name": "stderr",
     "output_type": "stream",
     "text": [
      "C:\\Users\\vitto\\AppData\\Local\\Temp\\ipykernel_10512\\820412064.py:67: SettingWithCopyWarning: \n",
      "A value is trying to be set on a copy of a slice from a DataFrame.\n",
      "Try using .loc[row_indexer,col_indexer] = value instead\n",
      "\n",
      "See the caveats in the documentation: https://pandas.pydata.org/pandas-docs/stable/user_guide/indexing.html#returning-a-view-versus-a-copy\n",
      "  test_data['cluster'] = y_test_pred\n"
     ]
    },
    {
     "name": "stdout",
     "output_type": "stream",
     "text": [
      "Train metrics...\n",
      "Test metrics...\n",
      "DataSetName                     (feat_Open, feat_vixOpen, feat_Acc)\n",
      "TrainAccuracy                                              0.540532\n",
      "TrainPrecision                                             0.543338\n",
      "TestAccuracy                                               0.533691\n",
      "TestPrecision                                              0.542017\n",
      "TestF1                                                     0.679305\n",
      "BestParams        <bound method BaseEstimator.get_params of Logi...\n",
      "TestEquity                                             -2243.076934\n",
      "TestCagr                                                -412.204031\n",
      "dtype: object\n",
      "40 21:16:34 Trying with following combo ('feat_Open', 'feat_vixOpen', 'feat_PrevCluster')\n",
      "Equity: -1713.3950493652344\n"
     ]
    },
    {
     "name": "stderr",
     "output_type": "stream",
     "text": [
      "C:\\Users\\vitto\\AppData\\Local\\Temp\\ipykernel_10512\\820412064.py:67: SettingWithCopyWarning: \n",
      "A value is trying to be set on a copy of a slice from a DataFrame.\n",
      "Try using .loc[row_indexer,col_indexer] = value instead\n",
      "\n",
      "See the caveats in the documentation: https://pandas.pydata.org/pandas-docs/stable/user_guide/indexing.html#returning-a-view-versus-a-copy\n",
      "  test_data['cluster'] = y_test_pred\n"
     ]
    },
    {
     "name": "stdout",
     "output_type": "stream",
     "text": [
      "Train metrics...\n",
      "Test metrics...\n",
      "DataSetName             (feat_Open, feat_vixOpen, feat_PrevCluster)\n",
      "TrainAccuracy                                               0.54086\n",
      "TrainPrecision                                             0.546605\n",
      "TestAccuracy                                               0.522971\n",
      "TestPrecision                                              0.538188\n",
      "TestF1                                                      0.66049\n",
      "BestParams        <bound method BaseEstimator.get_params of Logi...\n",
      "TestEquity                                             -1713.395049\n",
      "TestCagr                                                -314.865859\n",
      "dtype: object\n",
      "41 21:16:35 Trying with following combo ('feat_Open', 'feat_vixOpen', 'feat_bigBodyRange')\n",
      "Equity: -670.8554985839851\n"
     ]
    },
    {
     "name": "stderr",
     "output_type": "stream",
     "text": [
      "C:\\Users\\vitto\\AppData\\Local\\Temp\\ipykernel_10512\\820412064.py:67: SettingWithCopyWarning: \n",
      "A value is trying to be set on a copy of a slice from a DataFrame.\n",
      "Try using .loc[row_indexer,col_indexer] = value instead\n",
      "\n",
      "See the caveats in the documentation: https://pandas.pydata.org/pandas-docs/stable/user_guide/indexing.html#returning-a-view-versus-a-copy\n",
      "  test_data['cluster'] = y_test_pred\n"
     ]
    },
    {
     "name": "stdout",
     "output_type": "stream",
     "text": [
      "Train metrics...\n",
      "Test metrics...\n",
      "DataSetName            (feat_Open, feat_vixOpen, feat_bigBodyRange)\n",
      "TrainAccuracy                                              0.543485\n",
      "TrainPrecision                                             0.546464\n",
      "TestAccuracy                                               0.547473\n",
      "TestPrecision                                              0.550862\n",
      "TestF1                                                     0.683788\n",
      "BestParams        <bound method BaseEstimator.get_params of Logi...\n",
      "TestEquity                                              -670.855499\n",
      "TestCagr                                                -123.281255\n",
      "dtype: object\n",
      "42 21:16:35 Trying with following combo ('feat_Open', 'feat_vixPrevClose', 'feat_vvixOpen')\n",
      "Equity: -1224.4382622558596\n"
     ]
    },
    {
     "name": "stderr",
     "output_type": "stream",
     "text": [
      "C:\\Users\\vitto\\AppData\\Local\\Temp\\ipykernel_10512\\820412064.py:67: SettingWithCopyWarning: \n",
      "A value is trying to be set on a copy of a slice from a DataFrame.\n",
      "Try using .loc[row_indexer,col_indexer] = value instead\n",
      "\n",
      "See the caveats in the documentation: https://pandas.pydata.org/pandas-docs/stable/user_guide/indexing.html#returning-a-view-versus-a-copy\n",
      "  test_data['cluster'] = y_test_pred\n"
     ]
    },
    {
     "name": "stdout",
     "output_type": "stream",
     "text": [
      "Train metrics...\n",
      "Test metrics...\n",
      "DataSetName           (feat_Open, feat_vixPrevClose, feat_vvixOpen)\n",
      "TrainAccuracy                                               0.54808\n",
      "TrainPrecision                                              0.55537\n",
      "TestAccuracy                                               0.523737\n",
      "TestPrecision                                               0.54211\n",
      "TestF1                                                     0.642939\n",
      "BestParams        <bound method BaseEstimator.get_params of Logi...\n",
      "TestEquity                                             -1224.438262\n",
      "TestCagr                                                -225.011626\n",
      "dtype: object\n",
      "43 21:16:36 Trying with following combo ('feat_Open', 'feat_vixPrevClose', 'feat_vvixPrevClose')\n",
      "Equity: -740.2373345214856\n"
     ]
    },
    {
     "name": "stderr",
     "output_type": "stream",
     "text": [
      "C:\\Users\\vitto\\AppData\\Local\\Temp\\ipykernel_10512\\820412064.py:67: SettingWithCopyWarning: \n",
      "A value is trying to be set on a copy of a slice from a DataFrame.\n",
      "Try using .loc[row_indexer,col_indexer] = value instead\n",
      "\n",
      "See the caveats in the documentation: https://pandas.pydata.org/pandas-docs/stable/user_guide/indexing.html#returning-a-view-versus-a-copy\n",
      "  test_data['cluster'] = y_test_pred\n"
     ]
    },
    {
     "name": "stdout",
     "output_type": "stream",
     "text": [
      "Train metrics...\n",
      "Test metrics...\n",
      "DataSetName       (feat_Open, feat_vixPrevClose, feat_vvixPrevCl...\n",
      "TrainAccuracy                                              0.539219\n",
      "TrainPrecision                                              0.53996\n",
      "TestAccuracy                                               0.541348\n",
      "TestPrecision                                              0.542969\n",
      "TestF1                                                     0.698844\n",
      "BestParams        <bound method BaseEstimator.get_params of Logi...\n",
      "TestEquity                                              -740.237335\n",
      "TestCagr                                                -136.031363\n",
      "dtype: object\n",
      "44 21:16:37 Trying with following combo ('feat_Open', 'feat_vixPrevClose', 'feat_Acc')\n",
      "Equity: -1419.4551079589844\n"
     ]
    },
    {
     "name": "stderr",
     "output_type": "stream",
     "text": [
      "C:\\Users\\vitto\\AppData\\Local\\Temp\\ipykernel_10512\\820412064.py:67: SettingWithCopyWarning: \n",
      "A value is trying to be set on a copy of a slice from a DataFrame.\n",
      "Try using .loc[row_indexer,col_indexer] = value instead\n",
      "\n",
      "See the caveats in the documentation: https://pandas.pydata.org/pandas-docs/stable/user_guide/indexing.html#returning-a-view-versus-a-copy\n",
      "  test_data['cluster'] = y_test_pred\n"
     ]
    },
    {
     "name": "stdout",
     "output_type": "stream",
     "text": [
      "Train metrics...\n",
      "Test metrics...\n",
      "DataSetName                (feat_Open, feat_vixPrevClose, feat_Acc)\n",
      "TrainAccuracy                                              0.534952\n",
      "TrainPrecision                                             0.539049\n",
      "TestAccuracy                                               0.530628\n",
      "TestPrecision                                              0.538772\n",
      "TestF1                                                     0.685157\n",
      "BestParams        <bound method BaseEstimator.get_params of Logi...\n",
      "TestEquity                                             -1419.455108\n",
      "TestCagr                                                -260.849331\n",
      "dtype: object\n",
      "45 21:16:37 Trying with following combo ('feat_Open', 'feat_vixPrevClose', 'feat_PrevCluster')\n",
      "Equity: -813.0337212402351\n"
     ]
    },
    {
     "name": "stderr",
     "output_type": "stream",
     "text": [
      "C:\\Users\\vitto\\AppData\\Local\\Temp\\ipykernel_10512\\820412064.py:67: SettingWithCopyWarning: \n",
      "A value is trying to be set on a copy of a slice from a DataFrame.\n",
      "Try using .loc[row_indexer,col_indexer] = value instead\n",
      "\n",
      "See the caveats in the documentation: https://pandas.pydata.org/pandas-docs/stable/user_guide/indexing.html#returning-a-view-versus-a-copy\n",
      "  test_data['cluster'] = y_test_pred\n"
     ]
    },
    {
     "name": "stdout",
     "output_type": "stream",
     "text": [
      "Train metrics...\n",
      "Test metrics...\n",
      "DataSetName        (feat_Open, feat_vixPrevClose, feat_PrevCluster)\n",
      "TrainAccuracy                                              0.536593\n",
      "TrainPrecision                                             0.540867\n",
      "TestAccuracy                                               0.529862\n",
      "TestPrecision                                              0.539419\n",
      "TestF1                                                     0.679206\n",
      "BestParams        <bound method BaseEstimator.get_params of Logi...\n",
      "TestEquity                                              -813.033721\n",
      "TestCagr                                                -149.408953\n",
      "dtype: object\n",
      "46 21:16:38 Trying with following combo ('feat_Open', 'feat_vixPrevClose', 'feat_bigBodyRange')\n",
      "Equity: 583.0036322753895\n"
     ]
    },
    {
     "name": "stderr",
     "output_type": "stream",
     "text": [
      "C:\\Users\\vitto\\AppData\\Local\\Temp\\ipykernel_10512\\820412064.py:67: SettingWithCopyWarning: \n",
      "A value is trying to be set on a copy of a slice from a DataFrame.\n",
      "Try using .loc[row_indexer,col_indexer] = value instead\n",
      "\n",
      "See the caveats in the documentation: https://pandas.pydata.org/pandas-docs/stable/user_guide/indexing.html#returning-a-view-versus-a-copy\n",
      "  test_data['cluster'] = y_test_pred\n"
     ]
    },
    {
     "name": "stdout",
     "output_type": "stream",
     "text": [
      "Train metrics...\n",
      "Test metrics...\n",
      "DataSetName       (feat_Open, feat_vixPrevClose, feat_bigBodyRange)\n",
      "TrainAccuracy                                               0.54808\n",
      "TrainPrecision                                             0.551778\n",
      "TestAccuracy                                               0.556662\n",
      "TestPrecision                                               0.55877\n",
      "TestF1                                                     0.680992\n",
      "BestParams        <bound method BaseEstimator.get_params of Logi...\n",
      "TestEquity                                               583.003632\n",
      "TestCagr                                                 107.136962\n",
      "dtype: object\n",
      "47 21:16:38 Trying with following combo ('feat_Open', 'feat_vvixOpen', 'feat_vvixPrevClose')\n",
      "Equity: 5757.920990673824\n"
     ]
    },
    {
     "name": "stderr",
     "output_type": "stream",
     "text": [
      "C:\\Users\\vitto\\AppData\\Local\\Temp\\ipykernel_10512\\820412064.py:67: SettingWithCopyWarning: \n",
      "A value is trying to be set on a copy of a slice from a DataFrame.\n",
      "Try using .loc[row_indexer,col_indexer] = value instead\n",
      "\n",
      "See the caveats in the documentation: https://pandas.pydata.org/pandas-docs/stable/user_guide/indexing.html#returning-a-view-versus-a-copy\n",
      "  test_data['cluster'] = y_test_pred\n"
     ]
    },
    {
     "name": "stdout",
     "output_type": "stream",
     "text": [
      "Train metrics...\n",
      "Test metrics...\n",
      "DataSetName          (feat_Open, feat_vvixOpen, feat_vvixPrevClose)\n",
      "TrainAccuracy                                              0.632754\n",
      "TrainPrecision                                             0.628249\n",
      "TestAccuracy                                               0.649311\n",
      "TestPrecision                                              0.641808\n",
      "TestF1                                                     0.712673\n",
      "BestParams        <bound method BaseEstimator.get_params of Logi...\n",
      "TestEquity                                              5757.920991\n",
      "TestCagr                                                1058.117181\n",
      "dtype: object\n",
      "48 21:16:39 Trying with following combo ('feat_Open', 'feat_vvixOpen', 'feat_Acc')\n",
      "Equity: -2172.558745654296\n"
     ]
    },
    {
     "name": "stderr",
     "output_type": "stream",
     "text": [
      "C:\\Users\\vitto\\AppData\\Local\\Temp\\ipykernel_10512\\820412064.py:67: SettingWithCopyWarning: \n",
      "A value is trying to be set on a copy of a slice from a DataFrame.\n",
      "Try using .loc[row_indexer,col_indexer] = value instead\n",
      "\n",
      "See the caveats in the documentation: https://pandas.pydata.org/pandas-docs/stable/user_guide/indexing.html#returning-a-view-versus-a-copy\n",
      "  test_data['cluster'] = y_test_pred\n"
     ]
    },
    {
     "name": "stdout",
     "output_type": "stream",
     "text": [
      "Train metrics...\n",
      "Test metrics...\n",
      "DataSetName                    (feat_Open, feat_vvixOpen, feat_Acc)\n",
      "TrainAccuracy                                              0.549721\n",
      "TrainPrecision                                             0.554043\n",
      "TestAccuracy                                               0.516845\n",
      "TestPrecision                                              0.536654\n",
      "TestF1                                                     0.644106\n",
      "BestParams        <bound method BaseEstimator.get_params of Logi...\n",
      "TestEquity                                             -2172.558746\n",
      "TestCagr                                                -399.245099\n",
      "dtype: object\n",
      "49 21:16:40 Trying with following combo ('feat_Open', 'feat_vvixOpen', 'feat_PrevCluster')\n",
      "Equity: -1751.6582329589837\n"
     ]
    },
    {
     "name": "stderr",
     "output_type": "stream",
     "text": [
      "C:\\Users\\vitto\\AppData\\Local\\Temp\\ipykernel_10512\\820412064.py:67: SettingWithCopyWarning: \n",
      "A value is trying to be set on a copy of a slice from a DataFrame.\n",
      "Try using .loc[row_indexer,col_indexer] = value instead\n",
      "\n",
      "See the caveats in the documentation: https://pandas.pydata.org/pandas-docs/stable/user_guide/indexing.html#returning-a-view-versus-a-copy\n",
      "  test_data['cluster'] = y_test_pred\n"
     ]
    },
    {
     "name": "stdout",
     "output_type": "stream",
     "text": [
      "Train metrics...\n",
      "Test metrics...\n",
      "DataSetName            (feat_Open, feat_vvixOpen, feat_PrevCluster)\n",
      "TrainAccuracy                                              0.553659\n",
      "TrainPrecision                                             0.556086\n",
      "TestAccuracy                                               0.528331\n",
      "TestPrecision                                              0.542857\n",
      "TestF1                                                     0.656633\n",
      "BestParams        <bound method BaseEstimator.get_params of Logi...\n",
      "TestEquity                                             -1751.658233\n",
      "TestCagr                                                -321.897378\n",
      "dtype: object\n",
      "50 21:16:40 Trying with following combo ('feat_Open', 'feat_vvixOpen', 'feat_bigBodyRange')\n",
      "Equity: -2581.2600395996096\n"
     ]
    },
    {
     "name": "stderr",
     "output_type": "stream",
     "text": [
      "C:\\Users\\vitto\\AppData\\Local\\Temp\\ipykernel_10512\\820412064.py:67: SettingWithCopyWarning: \n",
      "A value is trying to be set on a copy of a slice from a DataFrame.\n",
      "Try using .loc[row_indexer,col_indexer] = value instead\n",
      "\n",
      "See the caveats in the documentation: https://pandas.pydata.org/pandas-docs/stable/user_guide/indexing.html#returning-a-view-versus-a-copy\n",
      "  test_data['cluster'] = y_test_pred\n"
     ]
    },
    {
     "name": "stdout",
     "output_type": "stream",
     "text": [
      "Train metrics...\n",
      "Test metrics...\n",
      "DataSetName           (feat_Open, feat_vvixOpen, feat_bigBodyRange)\n",
      "TrainAccuracy                                              0.563177\n",
      "TrainPrecision                                             0.563599\n",
      "TestAccuracy                                               0.522971\n",
      "TestPrecision                                              0.541748\n",
      "TestF1                                                     0.641748\n",
      "BestParams        <bound method BaseEstimator.get_params of Logi...\n",
      "TestEquity                                              -2581.26004\n",
      "TestCagr                                                -474.351003\n",
      "dtype: object\n",
      "51 21:16:41 Trying with following combo ('feat_Open', 'feat_vvixPrevClose', 'feat_Acc')\n",
      "Equity: -1428.316436083984\n"
     ]
    },
    {
     "name": "stderr",
     "output_type": "stream",
     "text": [
      "C:\\Users\\vitto\\AppData\\Local\\Temp\\ipykernel_10512\\820412064.py:67: SettingWithCopyWarning: \n",
      "A value is trying to be set on a copy of a slice from a DataFrame.\n",
      "Try using .loc[row_indexer,col_indexer] = value instead\n",
      "\n",
      "See the caveats in the documentation: https://pandas.pydata.org/pandas-docs/stable/user_guide/indexing.html#returning-a-view-versus-a-copy\n",
      "  test_data['cluster'] = y_test_pred\n"
     ]
    },
    {
     "name": "stdout",
     "output_type": "stream",
     "text": [
      "Train metrics...\n",
      "Test metrics...\n",
      "DataSetName               (feat_Open, feat_vvixPrevClose, feat_Acc)\n",
      "TrainAccuracy                                              0.538563\n",
      "TrainPrecision                                             0.540634\n",
      "TestAccuracy                                               0.532925\n",
      "TestPrecision                                              0.539759\n",
      "TestF1                                                      0.68782\n",
      "BestParams        <bound method BaseEstimator.get_params of Logi...\n",
      "TestEquity                                             -1428.316436\n",
      "TestCagr                                                -262.477752\n",
      "dtype: object\n",
      "52 21:16:41 Trying with following combo ('feat_Open', 'feat_vvixPrevClose', 'feat_PrevCluster')\n",
      "Equity: -762.2744438964855\n"
     ]
    },
    {
     "name": "stderr",
     "output_type": "stream",
     "text": [
      "C:\\Users\\vitto\\AppData\\Local\\Temp\\ipykernel_10512\\820412064.py:67: SettingWithCopyWarning: \n",
      "A value is trying to be set on a copy of a slice from a DataFrame.\n",
      "Try using .loc[row_indexer,col_indexer] = value instead\n",
      "\n",
      "See the caveats in the documentation: https://pandas.pydata.org/pandas-docs/stable/user_guide/indexing.html#returning-a-view-versus-a-copy\n",
      "  test_data['cluster'] = y_test_pred\n"
     ]
    },
    {
     "name": "stdout",
     "output_type": "stream",
     "text": [
      "Train metrics...\n",
      "Test metrics...\n",
      "DataSetName       (feat_Open, feat_vvixPrevClose, feat_PrevCluster)\n",
      "TrainAccuracy                                              0.536265\n",
      "TrainPrecision                                             0.541621\n",
      "TestAccuracy                                               0.531394\n",
      "TestPrecision                                              0.540722\n",
      "TestF1                                                     0.677895\n",
      "BestParams        <bound method BaseEstimator.get_params of Logi...\n",
      "TestEquity                                              -762.274444\n",
      "TestCagr                                                -140.081062\n",
      "dtype: object\n",
      "53 21:16:42 Trying with following combo ('feat_Open', 'feat_vvixPrevClose', 'feat_bigBodyRange')\n",
      "Equity: -59.557158740234804\n"
     ]
    },
    {
     "name": "stderr",
     "output_type": "stream",
     "text": [
      "C:\\Users\\vitto\\AppData\\Local\\Temp\\ipykernel_10512\\820412064.py:67: SettingWithCopyWarning: \n",
      "A value is trying to be set on a copy of a slice from a DataFrame.\n",
      "Try using .loc[row_indexer,col_indexer] = value instead\n",
      "\n",
      "See the caveats in the documentation: https://pandas.pydata.org/pandas-docs/stable/user_guide/indexing.html#returning-a-view-versus-a-copy\n",
      "  test_data['cluster'] = y_test_pred\n"
     ]
    },
    {
     "name": "stdout",
     "output_type": "stream",
     "text": [
      "Train metrics...\n",
      "Test metrics...\n",
      "DataSetName       (feat_Open, feat_vvixPrevClose, feat_bigBodyRa...\n",
      "TrainAccuracy                                              0.550706\n",
      "TrainPrecision                                             0.551921\n",
      "TestAccuracy                                               0.546708\n",
      "TestPrecision                                              0.551724\n",
      "TestF1                                                     0.678261\n",
      "BestParams        <bound method BaseEstimator.get_params of Logi...\n",
      "TestEquity                                               -59.557159\n",
      "TestCagr                                                 -10.944654\n",
      "dtype: object\n",
      "54 21:16:43 Trying with following combo ('feat_Open', 'feat_Acc', 'feat_PrevCluster')\n",
      "Equity: -851.0952446777355\n"
     ]
    },
    {
     "name": "stderr",
     "output_type": "stream",
     "text": [
      "C:\\Users\\vitto\\AppData\\Local\\Temp\\ipykernel_10512\\820412064.py:67: SettingWithCopyWarning: \n",
      "A value is trying to be set on a copy of a slice from a DataFrame.\n",
      "Try using .loc[row_indexer,col_indexer] = value instead\n",
      "\n",
      "See the caveats in the documentation: https://pandas.pydata.org/pandas-docs/stable/user_guide/indexing.html#returning-a-view-versus-a-copy\n",
      "  test_data['cluster'] = y_test_pred\n"
     ]
    },
    {
     "name": "stdout",
     "output_type": "stream",
     "text": [
      "Train metrics...\n",
      "Test metrics...\n",
      "DataSetName                 (feat_Open, feat_Acc, feat_PrevCluster)\n",
      "TrainAccuracy                                              0.532983\n",
      "TrainPrecision                                             0.539431\n",
      "TestAccuracy                                               0.533691\n",
      "TestPrecision                                              0.541876\n",
      "TestF1                                                     0.679979\n",
      "BestParams        <bound method BaseEstimator.get_params of Logi...\n",
      "TestEquity                                              -851.095245\n",
      "TestCagr                                                -156.403414\n",
      "dtype: object\n",
      "55 21:16:43 Trying with following combo ('feat_Open', 'feat_Acc', 'feat_bigBodyRange')\n",
      "Equity: -580.4973442871094\n"
     ]
    },
    {
     "name": "stderr",
     "output_type": "stream",
     "text": [
      "C:\\Users\\vitto\\AppData\\Local\\Temp\\ipykernel_10512\\820412064.py:67: SettingWithCopyWarning: \n",
      "A value is trying to be set on a copy of a slice from a DataFrame.\n",
      "Try using .loc[row_indexer,col_indexer] = value instead\n",
      "\n",
      "See the caveats in the documentation: https://pandas.pydata.org/pandas-docs/stable/user_guide/indexing.html#returning-a-view-versus-a-copy\n",
      "  test_data['cluster'] = y_test_pred\n"
     ]
    },
    {
     "name": "stdout",
     "output_type": "stream",
     "text": [
      "Train metrics...\n",
      "Test metrics...\n",
      "DataSetName                (feat_Open, feat_Acc, feat_bigBodyRange)\n",
      "TrainAccuracy                                              0.547752\n",
      "TrainPrecision                                             0.549624\n",
      "TestAccuracy                                               0.545176\n",
      "TestPrecision                                              0.550044\n",
      "TestF1                                                     0.680301\n",
      "BestParams        <bound method BaseEstimator.get_params of Logi...\n",
      "TestEquity                                              -580.497344\n",
      "TestCagr                                                -106.676388\n",
      "dtype: object\n",
      "56 21:16:44 Trying with following combo ('feat_Open', 'feat_PrevCluster', 'feat_bigBodyRange')\n",
      "Equity: -1777.436797412109\n"
     ]
    },
    {
     "name": "stderr",
     "output_type": "stream",
     "text": [
      "C:\\Users\\vitto\\AppData\\Local\\Temp\\ipykernel_10512\\820412064.py:67: SettingWithCopyWarning: \n",
      "A value is trying to be set on a copy of a slice from a DataFrame.\n",
      "Try using .loc[row_indexer,col_indexer] = value instead\n",
      "\n",
      "See the caveats in the documentation: https://pandas.pydata.org/pandas-docs/stable/user_guide/indexing.html#returning-a-view-versus-a-copy\n",
      "  test_data['cluster'] = y_test_pred\n"
     ]
    },
    {
     "name": "stdout",
     "output_type": "stream",
     "text": [
      "Train metrics...\n",
      "Test metrics...\n",
      "DataSetName        (feat_Open, feat_PrevCluster, feat_bigBodyRange)\n",
      "TrainAccuracy                                              0.550049\n",
      "TrainPrecision                                             0.555059\n",
      "TestAccuracy                                               0.526799\n",
      "TestPrecision                                              0.542563\n",
      "TestF1                                                     0.652418\n",
      "BestParams        <bound method BaseEstimator.get_params of Logi...\n",
      "TestEquity                                             -1777.436797\n",
      "TestCagr                                                -326.634634\n",
      "dtype: object\n",
      "57 21:16:44 Trying with following combo ('feat_vixOpen', 'feat_vixPrevClose', 'feat_vvixOpen')\n",
      "Equity: 2569.0611273925724\n"
     ]
    },
    {
     "name": "stderr",
     "output_type": "stream",
     "text": [
      "C:\\Users\\vitto\\AppData\\Local\\Temp\\ipykernel_10512\\820412064.py:67: SettingWithCopyWarning: \n",
      "A value is trying to be set on a copy of a slice from a DataFrame.\n",
      "Try using .loc[row_indexer,col_indexer] = value instead\n",
      "\n",
      "See the caveats in the documentation: https://pandas.pydata.org/pandas-docs/stable/user_guide/indexing.html#returning-a-view-versus-a-copy\n",
      "  test_data['cluster'] = y_test_pred\n"
     ]
    },
    {
     "name": "stdout",
     "output_type": "stream",
     "text": [
      "Train metrics...\n",
      "Test metrics...\n",
      "DataSetName        (feat_vixOpen, feat_vixPrevClose, feat_vvixOpen)\n",
      "TrainAccuracy                                              0.597965\n",
      "TrainPrecision                                             0.594387\n",
      "TestAccuracy                                               0.594181\n",
      "TestPrecision                                              0.596133\n",
      "TestF1                                                     0.676829\n",
      "BestParams        <bound method BaseEstimator.get_params of Logi...\n",
      "TestEquity                                              2569.061127\n",
      "TestCagr                                                 472.109242\n",
      "dtype: object\n",
      "58 21:16:45 Trying with following combo ('feat_vixOpen', 'feat_vixPrevClose', 'feat_vvixPrevClose')\n",
      "Equity: 2188.2644965331974\n"
     ]
    },
    {
     "name": "stderr",
     "output_type": "stream",
     "text": [
      "C:\\Users\\vitto\\AppData\\Local\\Temp\\ipykernel_10512\\820412064.py:67: SettingWithCopyWarning: \n",
      "A value is trying to be set on a copy of a slice from a DataFrame.\n",
      "Try using .loc[row_indexer,col_indexer] = value instead\n",
      "\n",
      "See the caveats in the documentation: https://pandas.pydata.org/pandas-docs/stable/user_guide/indexing.html#returning-a-view-versus-a-copy\n",
      "  test_data['cluster'] = y_test_pred\n"
     ]
    },
    {
     "name": "stdout",
     "output_type": "stream",
     "text": [
      "Train metrics...\n",
      "Test metrics...\n",
      "DataSetName       (feat_vixOpen, feat_vixPrevClose, feat_vvixPre...\n",
      "TrainAccuracy                                              0.590089\n",
      "TrainPrecision                                             0.586146\n",
      "TestAccuracy                                               0.590352\n",
      "TestPrecision                                              0.591004\n",
      "TestF1                                                     0.678679\n",
      "BestParams        <bound method BaseEstimator.get_params of Logi...\n",
      "TestEquity                                              2188.264497\n",
      "TestCagr                                                 402.131301\n",
      "dtype: object\n",
      "59 21:16:45 Trying with following combo ('feat_vixOpen', 'feat_vixPrevClose', 'feat_Acc')\n",
      "Equity: 2300.382050244136\n"
     ]
    },
    {
     "name": "stderr",
     "output_type": "stream",
     "text": [
      "C:\\Users\\vitto\\AppData\\Local\\Temp\\ipykernel_10512\\820412064.py:67: SettingWithCopyWarning: \n",
      "A value is trying to be set on a copy of a slice from a DataFrame.\n",
      "Try using .loc[row_indexer,col_indexer] = value instead\n",
      "\n",
      "See the caveats in the documentation: https://pandas.pydata.org/pandas-docs/stable/user_guide/indexing.html#returning-a-view-versus-a-copy\n",
      "  test_data['cluster'] = y_test_pred\n"
     ]
    },
    {
     "name": "stdout",
     "output_type": "stream",
     "text": [
      "Train metrics...\n",
      "Test metrics...\n",
      "DataSetName             (feat_vixOpen, feat_vixPrevClose, feat_Acc)\n",
      "TrainAccuracy                                              0.590745\n",
      "TrainPrecision                                             0.586509\n",
      "TestAccuracy                                               0.595712\n",
      "TestPrecision                                              0.593588\n",
      "TestF1                                                     0.684964\n",
      "BestParams        <bound method BaseEstimator.get_params of Logi...\n",
      "TestEquity                                               2300.38205\n",
      "TestCagr                                                 422.734833\n",
      "dtype: object\n",
      "60 21:16:46 Trying with following combo ('feat_vixOpen', 'feat_vixPrevClose', 'feat_PrevCluster')\n",
      "Equity: 2766.742890087886\n"
     ]
    },
    {
     "name": "stderr",
     "output_type": "stream",
     "text": [
      "C:\\Users\\vitto\\AppData\\Local\\Temp\\ipykernel_10512\\820412064.py:67: SettingWithCopyWarning: \n",
      "A value is trying to be set on a copy of a slice from a DataFrame.\n",
      "Try using .loc[row_indexer,col_indexer] = value instead\n",
      "\n",
      "See the caveats in the documentation: https://pandas.pydata.org/pandas-docs/stable/user_guide/indexing.html#returning-a-view-versus-a-copy\n",
      "  test_data['cluster'] = y_test_pred\n"
     ]
    },
    {
     "name": "stdout",
     "output_type": "stream",
     "text": [
      "Train metrics...\n",
      "Test metrics...\n",
      "DataSetName       (feat_vixOpen, feat_vixPrevClose, feat_PrevClu...\n",
      "TrainAccuracy                                              0.593042\n",
      "TrainPrecision                                             0.588859\n",
      "TestAccuracy                                               0.607198\n",
      "TestPrecision                                              0.601871\n",
      "TestF1                                                     0.692998\n",
      "BestParams        <bound method BaseEstimator.get_params of Logi...\n",
      "TestEquity                                               2766.74289\n",
      "TestCagr                                                 508.436672\n",
      "dtype: object\n",
      "61 21:16:47 Trying with following combo ('feat_vixOpen', 'feat_vixPrevClose', 'feat_bigBodyRange')\n",
      "Equity: 3705.6404730956956\n"
     ]
    },
    {
     "name": "stderr",
     "output_type": "stream",
     "text": [
      "C:\\Users\\vitto\\AppData\\Local\\Temp\\ipykernel_10512\\820412064.py:67: SettingWithCopyWarning: \n",
      "A value is trying to be set on a copy of a slice from a DataFrame.\n",
      "Try using .loc[row_indexer,col_indexer] = value instead\n",
      "\n",
      "See the caveats in the documentation: https://pandas.pydata.org/pandas-docs/stable/user_guide/indexing.html#returning-a-view-versus-a-copy\n",
      "  test_data['cluster'] = y_test_pred\n"
     ]
    },
    {
     "name": "stdout",
     "output_type": "stream",
     "text": [
      "Train metrics...\n",
      "Test metrics...\n",
      "DataSetName       (feat_vixOpen, feat_vixPrevClose, feat_bigBody...\n",
      "TrainAccuracy                                              0.597309\n",
      "TrainPrecision                                             0.591692\n",
      "TestAccuracy                                               0.613323\n",
      "TestPrecision                                              0.606695\n",
      "TestF1                                                     0.696697\n",
      "BestParams        <bound method BaseEstimator.get_params of Logi...\n",
      "TestEquity                                              3705.640473\n",
      "TestCagr                                                 680.975278\n",
      "dtype: object\n",
      "62 21:16:47 Trying with following combo ('feat_vixOpen', 'feat_vvixOpen', 'feat_vvixPrevClose')\n",
      "Equity: 5349.281830517578\n"
     ]
    },
    {
     "name": "stderr",
     "output_type": "stream",
     "text": [
      "C:\\Users\\vitto\\AppData\\Local\\Temp\\ipykernel_10512\\820412064.py:67: SettingWithCopyWarning: \n",
      "A value is trying to be set on a copy of a slice from a DataFrame.\n",
      "Try using .loc[row_indexer,col_indexer] = value instead\n",
      "\n",
      "See the caveats in the documentation: https://pandas.pydata.org/pandas-docs/stable/user_guide/indexing.html#returning-a-view-versus-a-copy\n",
      "  test_data['cluster'] = y_test_pred\n"
     ]
    },
    {
     "name": "stdout",
     "output_type": "stream",
     "text": [
      "Train metrics...\n",
      "Test metrics...\n",
      "DataSetName       (feat_vixOpen, feat_vvixOpen, feat_vvixPrevClose)\n",
      "TrainAccuracy                                              0.633738\n",
      "TrainPrecision                                             0.628543\n",
      "TestAccuracy                                               0.644717\n",
      "TestPrecision                                              0.639047\n",
      "TestF1                                                     0.708176\n",
      "BestParams        <bound method BaseEstimator.get_params of Logi...\n",
      "TestEquity                                              5349.281831\n",
      "TestCagr                                                 983.022695\n",
      "dtype: object\n",
      "63 21:16:48 Trying with following combo ('feat_vixOpen', 'feat_vvixOpen', 'feat_Acc')\n",
      "Equity: -1606.0198052246083\n"
     ]
    },
    {
     "name": "stderr",
     "output_type": "stream",
     "text": [
      "C:\\Users\\vitto\\AppData\\Local\\Temp\\ipykernel_10512\\820412064.py:67: SettingWithCopyWarning: \n",
      "A value is trying to be set on a copy of a slice from a DataFrame.\n",
      "Try using .loc[row_indexer,col_indexer] = value instead\n",
      "\n",
      "See the caveats in the documentation: https://pandas.pydata.org/pandas-docs/stable/user_guide/indexing.html#returning-a-view-versus-a-copy\n",
      "  test_data['cluster'] = y_test_pred\n"
     ]
    },
    {
     "name": "stdout",
     "output_type": "stream",
     "text": [
      "Train metrics...\n",
      "Test metrics...\n",
      "DataSetName                 (feat_vixOpen, feat_vvixOpen, feat_Acc)\n",
      "TrainAccuracy                                              0.551034\n",
      "TrainPrecision                                             0.555691\n",
      "TestAccuracy                                               0.519142\n",
      "TestPrecision                                              0.538316\n",
      "TestF1                                                     0.644394\n",
      "BestParams        <bound method BaseEstimator.get_params of Logi...\n",
      "TestEquity                                             -1606.019805\n",
      "TestCagr                                                -295.133808\n",
      "dtype: object\n",
      "64 21:16:48 Trying with following combo ('feat_vixOpen', 'feat_vvixOpen', 'feat_PrevCluster')\n",
      "Equity: -1568.8780815917958\n"
     ]
    },
    {
     "name": "stderr",
     "output_type": "stream",
     "text": [
      "C:\\Users\\vitto\\AppData\\Local\\Temp\\ipykernel_10512\\820412064.py:67: SettingWithCopyWarning: \n",
      "A value is trying to be set on a copy of a slice from a DataFrame.\n",
      "Try using .loc[row_indexer,col_indexer] = value instead\n",
      "\n",
      "See the caveats in the documentation: https://pandas.pydata.org/pandas-docs/stable/user_guide/indexing.html#returning-a-view-versus-a-copy\n",
      "  test_data['cluster'] = y_test_pred\n"
     ]
    },
    {
     "name": "stdout",
     "output_type": "stream",
     "text": [
      "Train metrics...\n",
      "Test metrics...\n",
      "DataSetName         (feat_vixOpen, feat_vvixOpen, feat_PrevCluster)\n",
      "TrainAccuracy                                              0.557269\n",
      "TrainPrecision                                             0.561067\n",
      "TestAccuracy                                               0.525268\n",
      "TestPrecision                                              0.542584\n",
      "TestF1                                                     0.646522\n",
      "BestParams        <bound method BaseEstimator.get_params of Logi...\n",
      "TestEquity                                             -1568.878082\n",
      "TestCagr                                                -288.308376\n",
      "dtype: object\n",
      "65 21:16:49 Trying with following combo ('feat_vixOpen', 'feat_vvixOpen', 'feat_bigBodyRange')\n",
      "Equity: -1465.5183403808587\n"
     ]
    },
    {
     "name": "stderr",
     "output_type": "stream",
     "text": [
      "C:\\Users\\vitto\\AppData\\Local\\Temp\\ipykernel_10512\\820412064.py:67: SettingWithCopyWarning: \n",
      "A value is trying to be set on a copy of a slice from a DataFrame.\n",
      "Try using .loc[row_indexer,col_indexer] = value instead\n",
      "\n",
      "See the caveats in the documentation: https://pandas.pydata.org/pandas-docs/stable/user_guide/indexing.html#returning-a-view-versus-a-copy\n",
      "  test_data['cluster'] = y_test_pred\n"
     ]
    },
    {
     "name": "stdout",
     "output_type": "stream",
     "text": [
      "Train metrics...\n",
      "Test metrics...\n",
      "DataSetName        (feat_vixOpen, feat_vvixOpen, feat_bigBodyRange)\n",
      "TrainAccuracy                                              0.561864\n",
      "TrainPrecision                                             0.563351\n",
      "TestAccuracy                                               0.535222\n",
      "TestPrecision                                              0.548757\n",
      "TestF1                                                     0.654131\n",
      "BestParams        <bound method BaseEstimator.get_params of Logi...\n",
      "TestEquity                                              -1465.51834\n",
      "TestCagr                                                -269.314243\n",
      "dtype: object\n",
      "66 21:16:50 Trying with following combo ('feat_vixOpen', 'feat_vvixPrevClose', 'feat_Acc')\n",
      "Equity: -1087.67410209961\n"
     ]
    },
    {
     "name": "stderr",
     "output_type": "stream",
     "text": [
      "C:\\Users\\vitto\\AppData\\Local\\Temp\\ipykernel_10512\\820412064.py:67: SettingWithCopyWarning: \n",
      "A value is trying to be set on a copy of a slice from a DataFrame.\n",
      "Try using .loc[row_indexer,col_indexer] = value instead\n",
      "\n",
      "See the caveats in the documentation: https://pandas.pydata.org/pandas-docs/stable/user_guide/indexing.html#returning-a-view-versus-a-copy\n",
      "  test_data['cluster'] = y_test_pred\n"
     ]
    },
    {
     "name": "stdout",
     "output_type": "stream",
     "text": [
      "Train metrics...\n",
      "Test metrics...\n",
      "DataSetName            (feat_vixOpen, feat_vvixPrevClose, feat_Acc)\n",
      "TrainAccuracy                                              0.540203\n",
      "TrainPrecision                                             0.540396\n",
      "TestAccuracy                                               0.541348\n",
      "TestPrecision                                              0.543036\n",
      "TestF1                                                     0.698541\n",
      "BestParams        <bound method BaseEstimator.get_params of Logi...\n",
      "TestEquity                                             -1087.674102\n",
      "TestCagr                                                -199.878855\n",
      "dtype: object\n",
      "67 21:16:51 Trying with following combo ('feat_vixOpen', 'feat_vvixPrevClose', 'feat_PrevCluster')\n",
      "Equity: -1840.7743218261717\n"
     ]
    },
    {
     "name": "stderr",
     "output_type": "stream",
     "text": [
      "C:\\Users\\vitto\\AppData\\Local\\Temp\\ipykernel_10512\\820412064.py:67: SettingWithCopyWarning: \n",
      "A value is trying to be set on a copy of a slice from a DataFrame.\n",
      "Try using .loc[row_indexer,col_indexer] = value instead\n",
      "\n",
      "See the caveats in the documentation: https://pandas.pydata.org/pandas-docs/stable/user_guide/indexing.html#returning-a-view-versus-a-copy\n",
      "  test_data['cluster'] = y_test_pred\n"
     ]
    },
    {
     "name": "stdout",
     "output_type": "stream",
     "text": [
      "Train metrics...\n",
      "Test metrics...\n",
      "DataSetName       (feat_vixOpen, feat_vvixPrevClose, feat_PrevCl...\n",
      "TrainAccuracy                                              0.545783\n",
      "TrainPrecision                                             0.544299\n",
      "TestAccuracy                                               0.532159\n",
      "TestPrecision                                              0.539452\n",
      "TestF1                                                     0.686827\n",
      "BestParams        <bound method BaseEstimator.get_params of Logi...\n",
      "TestEquity                                             -1840.774322\n",
      "TestCagr                                                -338.273995\n",
      "dtype: object\n",
      "68 21:16:51 Trying with following combo ('feat_vixOpen', 'feat_vvixPrevClose', 'feat_bigBodyRange')\n",
      "Equity: -1448.5155327636712\n"
     ]
    },
    {
     "name": "stderr",
     "output_type": "stream",
     "text": [
      "C:\\Users\\vitto\\AppData\\Local\\Temp\\ipykernel_10512\\820412064.py:67: SettingWithCopyWarning: \n",
      "A value is trying to be set on a copy of a slice from a DataFrame.\n",
      "Try using .loc[row_indexer,col_indexer] = value instead\n",
      "\n",
      "See the caveats in the documentation: https://pandas.pydata.org/pandas-docs/stable/user_guide/indexing.html#returning-a-view-versus-a-copy\n",
      "  test_data['cluster'] = y_test_pred\n"
     ]
    },
    {
     "name": "stdout",
     "output_type": "stream",
     "text": [
      "Train metrics...\n",
      "Test metrics...\n",
      "DataSetName       (feat_vixOpen, feat_vvixPrevClose, feat_bigBod...\n",
      "TrainAccuracy                                              0.542829\n",
      "TrainPrecision                                             0.550384\n",
      "TestAccuracy                                               0.539816\n",
      "TestPrecision                                              0.550943\n",
      "TestF1                                                      0.66026\n",
      "BestParams        <bound method BaseEstimator.get_params of Logi...\n",
      "TestEquity                                             -1448.515533\n",
      "TestCagr                                                -266.189684\n",
      "dtype: object\n",
      "69 21:16:52 Trying with following combo ('feat_vixOpen', 'feat_Acc', 'feat_PrevCluster')\n",
      "Equity: -760.774565966798\n"
     ]
    },
    {
     "name": "stderr",
     "output_type": "stream",
     "text": [
      "C:\\Users\\vitto\\AppData\\Local\\Temp\\ipykernel_10512\\820412064.py:67: SettingWithCopyWarning: \n",
      "A value is trying to be set on a copy of a slice from a DataFrame.\n",
      "Try using .loc[row_indexer,col_indexer] = value instead\n",
      "\n",
      "See the caveats in the documentation: https://pandas.pydata.org/pandas-docs/stable/user_guide/indexing.html#returning-a-view-versus-a-copy\n",
      "  test_data['cluster'] = y_test_pred\n"
     ]
    },
    {
     "name": "stdout",
     "output_type": "stream",
     "text": [
      "Train metrics...\n",
      "Test metrics...\n",
      "DataSetName              (feat_vixOpen, feat_Acc, feat_PrevCluster)\n",
      "TrainAccuracy                                              0.540203\n",
      "TrainPrecision                                             0.540778\n",
      "TestAccuracy                                                0.54441\n",
      "TestPrecision                                              0.545527\n",
      "TestF1                                                     0.696583\n",
      "BestParams        <bound method BaseEstimator.get_params of Logi...\n",
      "TestEquity                                              -760.774566\n",
      "TestCagr                                                -139.805433\n",
      "dtype: object\n",
      "70 21:16:52 Trying with following combo ('feat_vixOpen', 'feat_Acc', 'feat_bigBodyRange')\n",
      "Equity: -360.89590385742207\n"
     ]
    },
    {
     "name": "stderr",
     "output_type": "stream",
     "text": [
      "C:\\Users\\vitto\\AppData\\Local\\Temp\\ipykernel_10512\\820412064.py:67: SettingWithCopyWarning: \n",
      "A value is trying to be set on a copy of a slice from a DataFrame.\n",
      "Try using .loc[row_indexer,col_indexer] = value instead\n",
      "\n",
      "See the caveats in the documentation: https://pandas.pydata.org/pandas-docs/stable/user_guide/indexing.html#returning-a-view-versus-a-copy\n",
      "  test_data['cluster'] = y_test_pred\n"
     ]
    },
    {
     "name": "stdout",
     "output_type": "stream",
     "text": [
      "Train metrics...\n",
      "Test metrics...\n",
      "DataSetName             (feat_vixOpen, feat_Acc, feat_bigBodyRange)\n",
      "TrainAccuracy                                              0.542501\n",
      "TrainPrecision                                             0.552766\n",
      "TestAccuracy                                                0.54977\n",
      "TestPrecision                                              0.561049\n",
      "TestF1                                                     0.654118\n",
      "BestParams        <bound method BaseEstimator.get_params of Logi...\n",
      "TestEquity                                              -360.895904\n",
      "TestCagr                                                  -66.32084\n",
      "dtype: object\n",
      "71 21:16:53 Trying with following combo ('feat_vixOpen', 'feat_PrevCluster', 'feat_bigBodyRange')\n",
      "Equity: -460.2926323730473\n"
     ]
    },
    {
     "name": "stderr",
     "output_type": "stream",
     "text": [
      "C:\\Users\\vitto\\AppData\\Local\\Temp\\ipykernel_10512\\820412064.py:67: SettingWithCopyWarning: \n",
      "A value is trying to be set on a copy of a slice from a DataFrame.\n",
      "Try using .loc[row_indexer,col_indexer] = value instead\n",
      "\n",
      "See the caveats in the documentation: https://pandas.pydata.org/pandas-docs/stable/user_guide/indexing.html#returning-a-view-versus-a-copy\n",
      "  test_data['cluster'] = y_test_pred\n"
     ]
    },
    {
     "name": "stdout",
     "output_type": "stream",
     "text": [
      "Train metrics...\n",
      "Test metrics...\n",
      "DataSetName       (feat_vixOpen, feat_PrevCluster, feat_bigBodyR...\n",
      "TrainAccuracy                                              0.551362\n",
      "TrainPrecision                                              0.55144\n",
      "TestAccuracy                                               0.542879\n",
      "TestPrecision                                              0.548611\n",
      "TestF1                                                     0.679205\n",
      "BestParams        <bound method BaseEstimator.get_params of Logi...\n",
      "TestEquity                                              -460.292632\n",
      "TestCagr                                                 -84.586701\n",
      "dtype: object\n",
      "72 21:16:54 Trying with following combo ('feat_vixPrevClose', 'feat_vvixOpen', 'feat_vvixPrevClose')\n",
      "Equity: 5671.620941845701\n"
     ]
    },
    {
     "name": "stderr",
     "output_type": "stream",
     "text": [
      "C:\\Users\\vitto\\AppData\\Local\\Temp\\ipykernel_10512\\820412064.py:67: SettingWithCopyWarning: \n",
      "A value is trying to be set on a copy of a slice from a DataFrame.\n",
      "Try using .loc[row_indexer,col_indexer] = value instead\n",
      "\n",
      "See the caveats in the documentation: https://pandas.pydata.org/pandas-docs/stable/user_guide/indexing.html#returning-a-view-versus-a-copy\n",
      "  test_data['cluster'] = y_test_pred\n"
     ]
    },
    {
     "name": "stdout",
     "output_type": "stream",
     "text": [
      "Train metrics...\n",
      "Test metrics...\n",
      "DataSetName       (feat_vixPrevClose, feat_vvixOpen, feat_vvixPr...\n",
      "TrainAccuracy                                              0.633738\n",
      "TrainPrecision                                             0.628795\n",
      "TestAccuracy                                               0.647014\n",
      "TestPrecision                                              0.640271\n",
      "TestF1                                                     0.710609\n",
      "BestParams        <bound method BaseEstimator.get_params of Logi...\n",
      "TestEquity                                              5671.620942\n",
      "TestCagr                                                 1042.25806\n",
      "dtype: object\n",
      "73 21:16:54 Trying with following combo ('feat_vixPrevClose', 'feat_vvixOpen', 'feat_Acc')\n",
      "Equity: -1580.7602837402337\n"
     ]
    },
    {
     "name": "stderr",
     "output_type": "stream",
     "text": [
      "C:\\Users\\vitto\\AppData\\Local\\Temp\\ipykernel_10512\\820412064.py:67: SettingWithCopyWarning: \n",
      "A value is trying to be set on a copy of a slice from a DataFrame.\n",
      "Try using .loc[row_indexer,col_indexer] = value instead\n",
      "\n",
      "See the caveats in the documentation: https://pandas.pydata.org/pandas-docs/stable/user_guide/indexing.html#returning-a-view-versus-a-copy\n",
      "  test_data['cluster'] = y_test_pred\n"
     ]
    },
    {
     "name": "stdout",
     "output_type": "stream",
     "text": [
      "Train metrics...\n",
      "Test metrics...\n",
      "DataSetName            (feat_vixPrevClose, feat_vvixOpen, feat_Acc)\n",
      "TrainAccuracy                                              0.549393\n",
      "TrainPrecision                                             0.556065\n",
      "TestAccuracy                                               0.519908\n",
      "TestPrecision                                              0.539652\n",
      "TestF1                                                     0.640275\n",
      "BestParams        <bound method BaseEstimator.get_params of Logi...\n",
      "TestEquity                                             -1580.760284\n",
      "TestCagr                                                -290.491936\n",
      "dtype: object\n",
      "74 21:16:55 Trying with following combo ('feat_vixPrevClose', 'feat_vvixOpen', 'feat_PrevCluster')\n",
      "Equity: -1540.2383110839837\n"
     ]
    },
    {
     "name": "stderr",
     "output_type": "stream",
     "text": [
      "C:\\Users\\vitto\\AppData\\Local\\Temp\\ipykernel_10512\\820412064.py:67: SettingWithCopyWarning: \n",
      "A value is trying to be set on a copy of a slice from a DataFrame.\n",
      "Try using .loc[row_indexer,col_indexer] = value instead\n",
      "\n",
      "See the caveats in the documentation: https://pandas.pydata.org/pandas-docs/stable/user_guide/indexing.html#returning-a-view-versus-a-copy\n",
      "  test_data['cluster'] = y_test_pred\n"
     ]
    },
    {
     "name": "stdout",
     "output_type": "stream",
     "text": [
      "Train metrics...\n",
      "Test metrics...\n",
      "DataSetName       (feat_vixPrevClose, feat_vvixOpen, feat_PrevCl...\n",
      "TrainAccuracy                                              0.549393\n",
      "TrainPrecision                                             0.557949\n",
      "TestAccuracy                                               0.520674\n",
      "TestPrecision                                              0.540806\n",
      "TestF1                                                     0.637312\n",
      "BestParams        <bound method BaseEstimator.get_params of Logi...\n",
      "TestEquity                                             -1540.238311\n",
      "TestCagr                                                -283.045325\n",
      "dtype: object\n",
      "75 21:16:55 Trying with following combo ('feat_vixPrevClose', 'feat_vvixOpen', 'feat_bigBodyRange')\n",
      "Equity: -811.2575981933599\n"
     ]
    },
    {
     "name": "stderr",
     "output_type": "stream",
     "text": [
      "C:\\Users\\vitto\\AppData\\Local\\Temp\\ipykernel_10512\\820412064.py:67: SettingWithCopyWarning: \n",
      "A value is trying to be set on a copy of a slice from a DataFrame.\n",
      "Try using .loc[row_indexer,col_indexer] = value instead\n",
      "\n",
      "See the caveats in the documentation: https://pandas.pydata.org/pandas-docs/stable/user_guide/indexing.html#returning-a-view-versus-a-copy\n",
      "  test_data['cluster'] = y_test_pred\n"
     ]
    },
    {
     "name": "stdout",
     "output_type": "stream",
     "text": [
      "Train metrics...\n",
      "Test metrics...\n",
      "DataSetName       (feat_vixPrevClose, feat_vvixOpen, feat_bigBod...\n",
      "TrainAccuracy                                              0.553331\n",
      "TrainPrecision                                              0.55961\n",
      "TestAccuracy                                               0.535988\n",
      "TestPrecision                                              0.550146\n",
      "TestF1                                                     0.650922\n",
      "BestParams        <bound method BaseEstimator.get_params of Logi...\n",
      "TestEquity                                              -811.257598\n",
      "TestCagr                                                 -149.08256\n",
      "dtype: object\n",
      "76 21:16:56 Trying with following combo ('feat_vixPrevClose', 'feat_vvixPrevClose', 'feat_Acc')\n",
      "Equity: -1444.1543267089842\n"
     ]
    },
    {
     "name": "stderr",
     "output_type": "stream",
     "text": [
      "C:\\Users\\vitto\\AppData\\Local\\Temp\\ipykernel_10512\\820412064.py:67: SettingWithCopyWarning: \n",
      "A value is trying to be set on a copy of a slice from a DataFrame.\n",
      "Try using .loc[row_indexer,col_indexer] = value instead\n",
      "\n",
      "See the caveats in the documentation: https://pandas.pydata.org/pandas-docs/stable/user_guide/indexing.html#returning-a-view-versus-a-copy\n",
      "  test_data['cluster'] = y_test_pred\n"
     ]
    },
    {
     "name": "stdout",
     "output_type": "stream",
     "text": [
      "Train metrics...\n",
      "Test metrics...\n",
      "DataSetName       (feat_vixPrevClose, feat_vvixPrevClose, feat_Acc)\n",
      "TrainAccuracy                                               0.53725\n",
      "TrainPrecision                                             0.538259\n",
      "TestAccuracy                                               0.539816\n",
      "TestPrecision                                               0.54186\n",
      "TestF1                                                      0.69935\n",
      "BestParams        <bound method BaseEstimator.get_params of Logi...\n",
      "TestEquity                                             -1444.154327\n",
      "TestCagr                                                -265.388238\n",
      "dtype: object\n",
      "77 21:16:57 Trying with following combo ('feat_vixPrevClose', 'feat_vvixPrevClose', 'feat_PrevCluster')\n",
      "Equity: -1255.3906548339846\n"
     ]
    },
    {
     "name": "stderr",
     "output_type": "stream",
     "text": [
      "C:\\Users\\vitto\\AppData\\Local\\Temp\\ipykernel_10512\\820412064.py:67: SettingWithCopyWarning: \n",
      "A value is trying to be set on a copy of a slice from a DataFrame.\n",
      "Try using .loc[row_indexer,col_indexer] = value instead\n",
      "\n",
      "See the caveats in the documentation: https://pandas.pydata.org/pandas-docs/stable/user_guide/indexing.html#returning-a-view-versus-a-copy\n",
      "  test_data['cluster'] = y_test_pred\n"
     ]
    },
    {
     "name": "stdout",
     "output_type": "stream",
     "text": [
      "Train metrics...\n",
      "Test metrics...\n",
      "DataSetName       (feat_vixPrevClose, feat_vvixPrevClose, feat_P...\n",
      "TrainAccuracy                                              0.541844\n",
      "TrainPrecision                                             0.541752\n",
      "TestAccuracy                                               0.535988\n",
      "TestPrecision                                              0.541167\n",
      "TestF1                                                     0.690816\n",
      "BestParams        <bound method BaseEstimator.get_params of Logi...\n",
      "TestEquity                                             -1255.390655\n",
      "TestCagr                                                -230.699661\n",
      "dtype: object\n",
      "78 21:16:57 Trying with following combo ('feat_vixPrevClose', 'feat_vvixPrevClose', 'feat_bigBodyRange')\n",
      "Equity: 479.50558540039094\n"
     ]
    },
    {
     "name": "stderr",
     "output_type": "stream",
     "text": [
      "C:\\Users\\vitto\\AppData\\Local\\Temp\\ipykernel_10512\\820412064.py:67: SettingWithCopyWarning: \n",
      "A value is trying to be set on a copy of a slice from a DataFrame.\n",
      "Try using .loc[row_indexer,col_indexer] = value instead\n",
      "\n",
      "See the caveats in the documentation: https://pandas.pydata.org/pandas-docs/stable/user_guide/indexing.html#returning-a-view-versus-a-copy\n",
      "  test_data['cluster'] = y_test_pred\n"
     ]
    },
    {
     "name": "stdout",
     "output_type": "stream",
     "text": [
      "Train metrics...\n",
      "Test metrics...\n",
      "DataSetName       (feat_vixPrevClose, feat_vvixPrevClose, feat_b...\n",
      "TrainAccuracy                                              0.547096\n",
      "TrainPrecision                                             0.551332\n",
      "TestAccuracy                                               0.554364\n",
      "TestPrecision                                               0.55778\n",
      "TestF1                                                     0.678097\n",
      "BestParams        <bound method BaseEstimator.get_params of Logi...\n",
      "TestEquity                                               479.505585\n",
      "TestCagr                                                  88.117412\n",
      "dtype: object\n",
      "79 21:16:58 Trying with following combo ('feat_vixPrevClose', 'feat_Acc', 'feat_PrevCluster')\n",
      "Equity: -729.7549126464855\n"
     ]
    },
    {
     "name": "stderr",
     "output_type": "stream",
     "text": [
      "C:\\Users\\vitto\\AppData\\Local\\Temp\\ipykernel_10512\\820412064.py:67: SettingWithCopyWarning: \n",
      "A value is trying to be set on a copy of a slice from a DataFrame.\n",
      "Try using .loc[row_indexer,col_indexer] = value instead\n",
      "\n",
      "See the caveats in the documentation: https://pandas.pydata.org/pandas-docs/stable/user_guide/indexing.html#returning-a-view-versus-a-copy\n",
      "  test_data['cluster'] = y_test_pred\n"
     ]
    },
    {
     "name": "stdout",
     "output_type": "stream",
     "text": [
      "Train metrics...\n",
      "Test metrics...\n",
      "DataSetName         (feat_vixPrevClose, feat_Acc, feat_PrevCluster)\n",
      "TrainAccuracy                                              0.538891\n",
      "TrainPrecision                                             0.538891\n",
      "TestAccuracy                                               0.542879\n",
      "TestPrecision                                              0.542879\n",
      "TestF1                                                     0.703722\n",
      "BestParams        <bound method BaseEstimator.get_params of Logi...\n",
      "TestEquity                                              -729.754913\n",
      "TestCagr                                                -134.105038\n",
      "dtype: object\n",
      "80 21:16:58 Trying with following combo ('feat_vixPrevClose', 'feat_Acc', 'feat_bigBodyRange')\n",
      "Equity: 1221.1051947753908\n"
     ]
    },
    {
     "name": "stderr",
     "output_type": "stream",
     "text": [
      "C:\\Users\\vitto\\AppData\\Local\\Temp\\ipykernel_10512\\820412064.py:67: SettingWithCopyWarning: \n",
      "A value is trying to be set on a copy of a slice from a DataFrame.\n",
      "Try using .loc[row_indexer,col_indexer] = value instead\n",
      "\n",
      "See the caveats in the documentation: https://pandas.pydata.org/pandas-docs/stable/user_guide/indexing.html#returning-a-view-versus-a-copy\n",
      "  test_data['cluster'] = y_test_pred\n"
     ]
    },
    {
     "name": "stdout",
     "output_type": "stream",
     "text": [
      "Train metrics...\n",
      "Test metrics...\n",
      "DataSetName        (feat_vixPrevClose, feat_Acc, feat_bigBodyRange)\n",
      "TrainAccuracy                                              0.549393\n",
      "TrainPrecision                                             0.553865\n",
      "TestAccuracy                                               0.558193\n",
      "TestPrecision                                              0.561682\n",
      "TestF1                                                      0.67566\n",
      "BestParams        <bound method BaseEstimator.get_params of Logi...\n",
      "TestEquity                                              1221.105195\n",
      "TestCagr                                                 224.399117\n",
      "dtype: object\n",
      "81 21:16:59 Trying with following combo ('feat_vixPrevClose', 'feat_PrevCluster', 'feat_bigBodyRange')\n",
      "Equity: 517.0275580566403\n"
     ]
    },
    {
     "name": "stderr",
     "output_type": "stream",
     "text": [
      "C:\\Users\\vitto\\AppData\\Local\\Temp\\ipykernel_10512\\820412064.py:67: SettingWithCopyWarning: \n",
      "A value is trying to be set on a copy of a slice from a DataFrame.\n",
      "Try using .loc[row_indexer,col_indexer] = value instead\n",
      "\n",
      "See the caveats in the documentation: https://pandas.pydata.org/pandas-docs/stable/user_guide/indexing.html#returning-a-view-versus-a-copy\n",
      "  test_data['cluster'] = y_test_pred\n"
     ]
    },
    {
     "name": "stdout",
     "output_type": "stream",
     "text": [
      "Train metrics...\n",
      "Test metrics...\n",
      "DataSetName       (feat_vixPrevClose, feat_PrevCluster, feat_big...\n",
      "TrainAccuracy                                              0.553331\n",
      "TrainPrecision                                             0.553079\n",
      "TestAccuracy                                               0.549005\n",
      "TestPrecision                                              0.552448\n",
      "TestF1                                                     0.682137\n",
      "BestParams        <bound method BaseEstimator.get_params of Logi...\n",
      "TestEquity                                               517.027558\n",
      "TestCagr                                                  95.012721\n",
      "dtype: object\n",
      "82 21:17:00 Trying with following combo ('feat_vvixOpen', 'feat_vvixPrevClose', 'feat_Acc')\n",
      "Equity: 5743.380707470699\n"
     ]
    },
    {
     "name": "stderr",
     "output_type": "stream",
     "text": [
      "C:\\Users\\vitto\\AppData\\Local\\Temp\\ipykernel_10512\\820412064.py:67: SettingWithCopyWarning: \n",
      "A value is trying to be set on a copy of a slice from a DataFrame.\n",
      "Try using .loc[row_indexer,col_indexer] = value instead\n",
      "\n",
      "See the caveats in the documentation: https://pandas.pydata.org/pandas-docs/stable/user_guide/indexing.html#returning-a-view-versus-a-copy\n",
      "  test_data['cluster'] = y_test_pred\n"
     ]
    },
    {
     "name": "stdout",
     "output_type": "stream",
     "text": [
      "Train metrics...\n",
      "Test metrics...\n",
      "DataSetName           (feat_vvixOpen, feat_vvixPrevClose, feat_Acc)\n",
      "TrainAccuracy                                              0.632425\n",
      "TrainPrecision                                             0.627816\n",
      "TestAccuracy                                               0.648545\n",
      "TestPrecision                                              0.641084\n",
      "TestF1                                                     0.712226\n",
      "BestParams        <bound method BaseEstimator.get_params of Logi...\n",
      "TestEquity                                              5743.380707\n",
      "TestCagr                                                1055.445153\n",
      "dtype: object\n",
      "83 21:17:00 Trying with following combo ('feat_vvixOpen', 'feat_vvixPrevClose', 'feat_PrevCluster')\n",
      "Equity: 5489.483002392578\n"
     ]
    },
    {
     "name": "stderr",
     "output_type": "stream",
     "text": [
      "C:\\Users\\vitto\\AppData\\Local\\Temp\\ipykernel_10512\\820412064.py:67: SettingWithCopyWarning: \n",
      "A value is trying to be set on a copy of a slice from a DataFrame.\n",
      "Try using .loc[row_indexer,col_indexer] = value instead\n",
      "\n",
      "See the caveats in the documentation: https://pandas.pydata.org/pandas-docs/stable/user_guide/indexing.html#returning-a-view-versus-a-copy\n",
      "  test_data['cluster'] = y_test_pred\n"
     ]
    },
    {
     "name": "stdout",
     "output_type": "stream",
     "text": [
      "Train metrics...\n",
      "Test metrics...\n",
      "DataSetName       (feat_vvixOpen, feat_vvixPrevClose, feat_PrevC...\n",
      "TrainAccuracy                                              0.635051\n",
      "TrainPrecision                                               0.6308\n",
      "TestAccuracy                                               0.644717\n",
      "TestPrecision                                              0.641947\n",
      "TestF1                                                     0.704835\n",
      "BestParams        <bound method BaseEstimator.get_params of Logi...\n",
      "TestEquity                                              5489.483002\n",
      "TestCagr                                                1008.787075\n",
      "dtype: object\n",
      "84 21:17:01 Trying with following combo ('feat_vvixOpen', 'feat_vvixPrevClose', 'feat_bigBodyRange')\n",
      "Equity: 5088.361786572264\n"
     ]
    },
    {
     "name": "stderr",
     "output_type": "stream",
     "text": [
      "C:\\Users\\vitto\\AppData\\Local\\Temp\\ipykernel_10512\\820412064.py:67: SettingWithCopyWarning: \n",
      "A value is trying to be set on a copy of a slice from a DataFrame.\n",
      "Try using .loc[row_indexer,col_indexer] = value instead\n",
      "\n",
      "See the caveats in the documentation: https://pandas.pydata.org/pandas-docs/stable/user_guide/indexing.html#returning-a-view-versus-a-copy\n",
      "  test_data['cluster'] = y_test_pred\n"
     ]
    },
    {
     "name": "stdout",
     "output_type": "stream",
     "text": [
      "Train metrics...\n",
      "Test metrics...\n",
      "DataSetName       (feat_vvixOpen, feat_vvixPrevClose, feat_bigBo...\n",
      "TrainAccuracy                                              0.638989\n",
      "TrainPrecision                                             0.632583\n",
      "TestAccuracy                                               0.643951\n",
      "TestPrecision                                              0.637698\n",
      "TestF1                                                     0.708464\n",
      "BestParams        <bound method BaseEstimator.get_params of Logi...\n",
      "TestEquity                                              5088.361787\n",
      "TestCagr                                                 935.074141\n",
      "dtype: object\n",
      "85 21:17:02 Trying with following combo ('feat_vvixOpen', 'feat_Acc', 'feat_PrevCluster')\n",
      "Equity: -2262.5783989746096\n"
     ]
    },
    {
     "name": "stderr",
     "output_type": "stream",
     "text": [
      "C:\\Users\\vitto\\AppData\\Local\\Temp\\ipykernel_10512\\820412064.py:67: SettingWithCopyWarning: \n",
      "A value is trying to be set on a copy of a slice from a DataFrame.\n",
      "Try using .loc[row_indexer,col_indexer] = value instead\n",
      "\n",
      "See the caveats in the documentation: https://pandas.pydata.org/pandas-docs/stable/user_guide/indexing.html#returning-a-view-versus-a-copy\n",
      "  test_data['cluster'] = y_test_pred\n"
     ]
    },
    {
     "name": "stdout",
     "output_type": "stream",
     "text": [
      "Train metrics...\n",
      "Test metrics...\n",
      "DataSetName             (feat_vvixOpen, feat_Acc, feat_PrevCluster)\n",
      "TrainAccuracy                                              0.558254\n",
      "TrainPrecision                                             0.560805\n",
      "TestAccuracy                                               0.519908\n",
      "TestPrecision                                              0.538752\n",
      "TestF1                                                     0.645161\n",
      "BestParams        <bound method BaseEstimator.get_params of Logi...\n",
      "TestEquity                                             -2262.578399\n",
      "TestCagr                                                -415.787761\n",
      "dtype: object\n",
      "86 21:17:02 Trying with following combo ('feat_vvixOpen', 'feat_Acc', 'feat_bigBodyRange')\n",
      "Equity: -2234.378814013671\n"
     ]
    },
    {
     "name": "stderr",
     "output_type": "stream",
     "text": [
      "C:\\Users\\vitto\\AppData\\Local\\Temp\\ipykernel_10512\\820412064.py:67: SettingWithCopyWarning: \n",
      "A value is trying to be set on a copy of a slice from a DataFrame.\n",
      "Try using .loc[row_indexer,col_indexer] = value instead\n",
      "\n",
      "See the caveats in the documentation: https://pandas.pydata.org/pandas-docs/stable/user_guide/indexing.html#returning-a-view-versus-a-copy\n",
      "  test_data['cluster'] = y_test_pred\n"
     ]
    },
    {
     "name": "stdout",
     "output_type": "stream",
     "text": [
      "Train metrics...\n",
      "Test metrics...\n",
      "DataSetName            (feat_vvixOpen, feat_Acc, feat_bigBodyRange)\n",
      "TrainAccuracy                                              0.558254\n",
      "TrainPrecision                                             0.560755\n",
      "TestAccuracy                                               0.526034\n",
      "TestPrecision                                              0.543269\n",
      "TestF1                                                     0.646083\n",
      "BestParams        <bound method BaseEstimator.get_params of Logi...\n",
      "TestEquity                                             -2234.378814\n",
      "TestCagr                                                -410.605601\n",
      "dtype: object\n",
      "87 21:17:03 Trying with following combo ('feat_vvixOpen', 'feat_PrevCluster', 'feat_bigBodyRange')\n",
      "Equity: -1805.2982476074212\n"
     ]
    },
    {
     "name": "stderr",
     "output_type": "stream",
     "text": [
      "C:\\Users\\vitto\\AppData\\Local\\Temp\\ipykernel_10512\\820412064.py:67: SettingWithCopyWarning: \n",
      "A value is trying to be set on a copy of a slice from a DataFrame.\n",
      "Try using .loc[row_indexer,col_indexer] = value instead\n",
      "\n",
      "See the caveats in the documentation: https://pandas.pydata.org/pandas-docs/stable/user_guide/indexing.html#returning-a-view-versus-a-copy\n",
      "  test_data['cluster'] = y_test_pred\n"
     ]
    },
    {
     "name": "stdout",
     "output_type": "stream",
     "text": [
      "Train metrics...\n",
      "Test metrics...\n",
      "DataSetName       (feat_vvixOpen, feat_PrevCluster, feat_bigBody...\n",
      "TrainAccuracy                                              0.557926\n",
      "TrainPrecision                                             0.561178\n",
      "TestAccuracy                                               0.529862\n",
      "TestPrecision                                              0.546072\n",
      "TestF1                                                     0.647126\n",
      "BestParams        <bound method BaseEstimator.get_params of Logi...\n",
      "TestEquity                                             -1805.298248\n",
      "TestCagr                                                -331.754655\n",
      "dtype: object\n",
      "88 21:17:03 Trying with following combo ('feat_vvixPrevClose', 'feat_Acc', 'feat_PrevCluster')\n",
      "Equity: -1711.4341118652342\n"
     ]
    },
    {
     "name": "stderr",
     "output_type": "stream",
     "text": [
      "C:\\Users\\vitto\\AppData\\Local\\Temp\\ipykernel_10512\\820412064.py:67: SettingWithCopyWarning: \n",
      "A value is trying to be set on a copy of a slice from a DataFrame.\n",
      "Try using .loc[row_indexer,col_indexer] = value instead\n",
      "\n",
      "See the caveats in the documentation: https://pandas.pydata.org/pandas-docs/stable/user_guide/indexing.html#returning-a-view-versus-a-copy\n",
      "  test_data['cluster'] = y_test_pred\n"
     ]
    },
    {
     "name": "stdout",
     "output_type": "stream",
     "text": [
      "Train metrics...\n",
      "Test metrics...\n",
      "DataSetName        (feat_vvixPrevClose, feat_Acc, feat_PrevCluster)\n",
      "TrainAccuracy                                              0.543814\n",
      "TrainPrecision                                             0.542741\n",
      "TestAccuracy                                               0.534456\n",
      "TestPrecision                                              0.540175\n",
      "TestF1                                                     0.690743\n",
      "BestParams        <bound method BaseEstimator.get_params of Logi...\n",
      "TestEquity                                             -1711.434112\n",
      "TestCagr                                                -314.505503\n",
      "dtype: object\n",
      "89 21:17:04 Trying with following combo ('feat_vvixPrevClose', 'feat_Acc', 'feat_bigBodyRange')\n",
      "Equity: -1549.175811083986\n"
     ]
    },
    {
     "name": "stderr",
     "output_type": "stream",
     "text": [
      "C:\\Users\\vitto\\AppData\\Local\\Temp\\ipykernel_10512\\820412064.py:67: SettingWithCopyWarning: \n",
      "A value is trying to be set on a copy of a slice from a DataFrame.\n",
      "Try using .loc[row_indexer,col_indexer] = value instead\n",
      "\n",
      "See the caveats in the documentation: https://pandas.pydata.org/pandas-docs/stable/user_guide/indexing.html#returning-a-view-versus-a-copy\n",
      "  test_data['cluster'] = y_test_pred\n"
     ]
    },
    {
     "name": "stdout",
     "output_type": "stream",
     "text": [
      "Train metrics...\n",
      "Test metrics...\n",
      "DataSetName       (feat_vvixPrevClose, feat_Acc, feat_bigBodyRange)\n",
      "TrainAccuracy                                               0.54447\n",
      "TrainPrecision                                             0.550719\n",
      "TestAccuracy                                               0.535222\n",
      "TestPrecision                                              0.547842\n",
      "TestF1                                                     0.658028\n",
      "BestParams        <bound method BaseEstimator.get_params of Logi...\n",
      "TestEquity                                             -1549.175811\n",
      "TestCagr                                                -284.687745\n",
      "dtype: object\n",
      "90 21:17:04 Trying with following combo ('feat_vvixPrevClose', 'feat_PrevCluster', 'feat_bigBodyRange')\n",
      "Equity: -458.07290581054707\n"
     ]
    },
    {
     "name": "stderr",
     "output_type": "stream",
     "text": [
      "C:\\Users\\vitto\\AppData\\Local\\Temp\\ipykernel_10512\\820412064.py:67: SettingWithCopyWarning: \n",
      "A value is trying to be set on a copy of a slice from a DataFrame.\n",
      "Try using .loc[row_indexer,col_indexer] = value instead\n",
      "\n",
      "See the caveats in the documentation: https://pandas.pydata.org/pandas-docs/stable/user_guide/indexing.html#returning-a-view-versus-a-copy\n",
      "  test_data['cluster'] = y_test_pred\n"
     ]
    },
    {
     "name": "stdout",
     "output_type": "stream",
     "text": [
      "Train metrics...\n",
      "Test metrics...\n",
      "DataSetName       (feat_vvixPrevClose, feat_PrevCluster, feat_bi...\n",
      "TrainAccuracy                                              0.548408\n",
      "TrainPrecision                                             0.550609\n",
      "TestAccuracy                                               0.545176\n",
      "TestPrecision                                               0.55075\n",
      "TestF1                                                     0.677524\n",
      "BestParams        <bound method BaseEstimator.get_params of Logi...\n",
      "TestEquity                                              -458.072906\n",
      "TestCagr                                                 -84.178788\n",
      "dtype: object\n",
      "91 21:17:05 Trying with following combo ('feat_Acc', 'feat_PrevCluster', 'feat_bigBodyRange')\n",
      "Equity: -43.55252006836022\n"
     ]
    },
    {
     "name": "stderr",
     "output_type": "stream",
     "text": [
      "C:\\Users\\vitto\\AppData\\Local\\Temp\\ipykernel_10512\\820412064.py:67: SettingWithCopyWarning: \n",
      "A value is trying to be set on a copy of a slice from a DataFrame.\n",
      "Try using .loc[row_indexer,col_indexer] = value instead\n",
      "\n",
      "See the caveats in the documentation: https://pandas.pydata.org/pandas-docs/stable/user_guide/indexing.html#returning-a-view-versus-a-copy\n",
      "  test_data['cluster'] = y_test_pred\n"
     ]
    },
    {
     "name": "stdout",
     "output_type": "stream",
     "text": [
      "Train metrics...\n",
      "Test metrics...\n",
      "DataSetName         (feat_Acc, feat_PrevCluster, feat_bigBodyRange)\n",
      "TrainAccuracy                                              0.552347\n",
      "TrainPrecision                                             0.551673\n",
      "TestAccuracy                                                0.54441\n",
      "TestPrecision                                              0.549053\n",
      "TestF1                                                     0.681988\n",
      "BestParams        <bound method BaseEstimator.get_params of Logi...\n",
      "TestEquity                                                -43.55252\n",
      "TestCagr                                                  -8.003526\n",
      "dtype: object\n",
      "92 21:17:06 Trying with following combo ('feat_Open', 'feat_vixOpen', 'feat_vixPrevClose', 'feat_vvixOpen')\n",
      "Equity: 2661.921601025383\n"
     ]
    },
    {
     "name": "stderr",
     "output_type": "stream",
     "text": [
      "C:\\Users\\vitto\\AppData\\Local\\Temp\\ipykernel_10512\\820412064.py:67: SettingWithCopyWarning: \n",
      "A value is trying to be set on a copy of a slice from a DataFrame.\n",
      "Try using .loc[row_indexer,col_indexer] = value instead\n",
      "\n",
      "See the caveats in the documentation: https://pandas.pydata.org/pandas-docs/stable/user_guide/indexing.html#returning-a-view-versus-a-copy\n",
      "  test_data['cluster'] = y_test_pred\n"
     ]
    },
    {
     "name": "stdout",
     "output_type": "stream",
     "text": [
      "Train metrics...\n",
      "Test metrics...\n",
      "DataSetName       (feat_Open, feat_vixOpen, feat_vixPrevClose, f...\n",
      "TrainAccuracy                                              0.597965\n",
      "TrainPrecision                                             0.594558\n",
      "TestAccuracy                                               0.596478\n",
      "TestPrecision                                              0.597222\n",
      "TestF1                                                     0.679635\n",
      "BestParams        <bound method BaseEstimator.get_params of Logi...\n",
      "TestEquity                                              2661.921601\n",
      "TestCagr                                                 489.173954\n",
      "dtype: object\n",
      "93 21:17:06 Trying with following combo ('feat_Open', 'feat_vixOpen', 'feat_vixPrevClose', 'feat_vvixPrevClose')\n",
      "Equity: 1969.2019965331974\n"
     ]
    },
    {
     "name": "stderr",
     "output_type": "stream",
     "text": [
      "C:\\Users\\vitto\\AppData\\Local\\Temp\\ipykernel_10512\\820412064.py:67: SettingWithCopyWarning: \n",
      "A value is trying to be set on a copy of a slice from a DataFrame.\n",
      "Try using .loc[row_indexer,col_indexer] = value instead\n",
      "\n",
      "See the caveats in the documentation: https://pandas.pydata.org/pandas-docs/stable/user_guide/indexing.html#returning-a-view-versus-a-copy\n",
      "  test_data['cluster'] = y_test_pred\n"
     ]
    },
    {
     "name": "stdout",
     "output_type": "stream",
     "text": [
      "Train metrics...\n",
      "Test metrics...\n",
      "DataSetName       (feat_Open, feat_vixOpen, feat_vixPrevClose, f...\n",
      "TrainAccuracy                                              0.589432\n",
      "TrainPrecision                                              0.58639\n",
      "TestAccuracy                                               0.594181\n",
      "TestPrecision                                              0.593717\n",
      "TestF1                                                      0.68149\n",
      "BestParams        <bound method BaseEstimator.get_params of Logi...\n",
      "TestEquity                                              1969.201997\n",
      "TestCagr                                                 361.874793\n",
      "dtype: object\n",
      "94 21:17:07 Trying with following combo ('feat_Open', 'feat_vixOpen', 'feat_vixPrevClose', 'feat_Acc')\n",
      "Equity: 2133.202240673823\n"
     ]
    },
    {
     "name": "stderr",
     "output_type": "stream",
     "text": [
      "C:\\Users\\vitto\\AppData\\Local\\Temp\\ipykernel_10512\\820412064.py:67: SettingWithCopyWarning: \n",
      "A value is trying to be set on a copy of a slice from a DataFrame.\n",
      "Try using .loc[row_indexer,col_indexer] = value instead\n",
      "\n",
      "See the caveats in the documentation: https://pandas.pydata.org/pandas-docs/stable/user_guide/indexing.html#returning-a-view-versus-a-copy\n",
      "  test_data['cluster'] = y_test_pred\n"
     ]
    },
    {
     "name": "stdout",
     "output_type": "stream",
     "text": [
      "Train metrics...\n",
      "Test metrics...\n",
      "DataSetName       (feat_Open, feat_vixOpen, feat_vixPrevClose, f...\n",
      "TrainAccuracy                                              0.590089\n",
      "TrainPrecision                                             0.586832\n",
      "TestAccuracy                                               0.594181\n",
      "TestPrecision                                              0.594509\n",
      "TestF1                                                     0.679952\n",
      "BestParams        <bound method BaseEstimator.get_params of Logi...\n",
      "TestEquity                                              2133.202241\n",
      "TestCagr                                                 392.012663\n",
      "dtype: object\n",
      "95 21:17:07 Trying with following combo ('feat_Open', 'feat_vixOpen', 'feat_vixPrevClose', 'feat_PrevCluster')\n",
      "Equity: 2663.9214789550733\n"
     ]
    },
    {
     "name": "stderr",
     "output_type": "stream",
     "text": [
      "C:\\Users\\vitto\\AppData\\Local\\Temp\\ipykernel_10512\\820412064.py:67: SettingWithCopyWarning: \n",
      "A value is trying to be set on a copy of a slice from a DataFrame.\n",
      "Try using .loc[row_indexer,col_indexer] = value instead\n",
      "\n",
      "See the caveats in the documentation: https://pandas.pydata.org/pandas-docs/stable/user_guide/indexing.html#returning-a-view-versus-a-copy\n",
      "  test_data['cluster'] = y_test_pred\n"
     ]
    },
    {
     "name": "stdout",
     "output_type": "stream",
     "text": [
      "Train metrics...\n",
      "Test metrics...\n",
      "DataSetName       (feat_Open, feat_vixOpen, feat_vixPrevClose, f...\n",
      "TrainAccuracy                                              0.589104\n",
      "TrainPrecision                                             0.587287\n",
      "TestAccuracy                                               0.600306\n",
      "TestPrecision                                              0.598733\n",
      "TestF1                                                     0.684783\n",
      "BestParams        <bound method BaseEstimator.get_params of Logi...\n",
      "TestEquity                                              2663.921479\n",
      "TestCagr                                                 489.541466\n",
      "dtype: object\n",
      "96 21:17:08 Trying with following combo ('feat_Open', 'feat_vixOpen', 'feat_vixPrevClose', 'feat_bigBodyRange')\n",
      "Equity: 3107.6600043456965\n"
     ]
    },
    {
     "name": "stderr",
     "output_type": "stream",
     "text": [
      "C:\\Users\\vitto\\AppData\\Local\\Temp\\ipykernel_10512\\820412064.py:67: SettingWithCopyWarning: \n",
      "A value is trying to be set on a copy of a slice from a DataFrame.\n",
      "Try using .loc[row_indexer,col_indexer] = value instead\n",
      "\n",
      "See the caveats in the documentation: https://pandas.pydata.org/pandas-docs/stable/user_guide/indexing.html#returning-a-view-versus-a-copy\n",
      "  test_data['cluster'] = y_test_pred\n"
     ]
    },
    {
     "name": "stdout",
     "output_type": "stream",
     "text": [
      "Train metrics...\n",
      "Test metrics...\n",
      "DataSetName       (feat_Open, feat_vixOpen, feat_vixPrevClose, f...\n",
      "TrainAccuracy                                              0.597637\n",
      "TrainPrecision                                             0.592609\n",
      "TestAccuracy                                                0.61026\n",
      "TestPrecision                                              0.605932\n",
      "TestF1                                                     0.692075\n",
      "BestParams        <bound method BaseEstimator.get_params of Logi...\n",
      "TestEquity                                              3107.660004\n",
      "TestCagr                                                 571.086065\n",
      "dtype: object\n",
      "97 21:17:09 Trying with following combo ('feat_Open', 'feat_vixOpen', 'feat_vvixOpen', 'feat_vvixPrevClose')\n",
      "Equity: 5300.742035595701\n"
     ]
    },
    {
     "name": "stderr",
     "output_type": "stream",
     "text": [
      "C:\\Users\\vitto\\AppData\\Local\\Temp\\ipykernel_10512\\820412064.py:67: SettingWithCopyWarning: \n",
      "A value is trying to be set on a copy of a slice from a DataFrame.\n",
      "Try using .loc[row_indexer,col_indexer] = value instead\n",
      "\n",
      "See the caveats in the documentation: https://pandas.pydata.org/pandas-docs/stable/user_guide/indexing.html#returning-a-view-versus-a-copy\n",
      "  test_data['cluster'] = y_test_pred\n"
     ]
    },
    {
     "name": "stdout",
     "output_type": "stream",
     "text": [
      "Train metrics...\n",
      "Test metrics...\n",
      "DataSetName       (feat_Open, feat_vixOpen, feat_vvixOpen, feat_...\n",
      "TrainAccuracy                                              0.634723\n",
      "TrainPrecision                                             0.629213\n",
      "TestAccuracy                                               0.645482\n",
      "TestPrecision                                              0.639456\n",
      "TestF1                                                     0.708988\n",
      "BestParams        <bound method BaseEstimator.get_params of Logi...\n",
      "TestEquity                                              5300.742036\n",
      "TestCagr                                                 974.102671\n",
      "dtype: object\n",
      "98 21:17:09 Trying with following combo ('feat_Open', 'feat_vixOpen', 'feat_vvixOpen', 'feat_Acc')\n",
      "Equity: -1400.6593315917967\n"
     ]
    },
    {
     "name": "stderr",
     "output_type": "stream",
     "text": [
      "C:\\Users\\vitto\\AppData\\Local\\Temp\\ipykernel_10512\\820412064.py:67: SettingWithCopyWarning: \n",
      "A value is trying to be set on a copy of a slice from a DataFrame.\n",
      "Try using .loc[row_indexer,col_indexer] = value instead\n",
      "\n",
      "See the caveats in the documentation: https://pandas.pydata.org/pandas-docs/stable/user_guide/indexing.html#returning-a-view-versus-a-copy\n",
      "  test_data['cluster'] = y_test_pred\n"
     ]
    },
    {
     "name": "stdout",
     "output_type": "stream",
     "text": [
      "Train metrics...\n",
      "Test metrics...\n",
      "DataSetName       (feat_Open, feat_vixOpen, feat_vvixOpen, feat_...\n",
      "TrainAccuracy                                              0.551034\n",
      "TrainPrecision                                             0.555691\n",
      "TestAccuracy                                                0.52144\n",
      "TestPrecision                                              0.539698\n",
      "TestF1                                                     0.646293\n",
      "BestParams        <bound method BaseEstimator.get_params of Logi...\n",
      "TestEquity                                             -1400.659332\n",
      "TestCagr                                                -257.395283\n",
      "dtype: object\n",
      "99 21:17:10 Trying with following combo ('feat_Open', 'feat_vixOpen', 'feat_vvixOpen', 'feat_PrevCluster')\n",
      "Equity: -1684.2168267089833\n"
     ]
    },
    {
     "name": "stderr",
     "output_type": "stream",
     "text": [
      "C:\\Users\\vitto\\AppData\\Local\\Temp\\ipykernel_10512\\820412064.py:67: SettingWithCopyWarning: \n",
      "A value is trying to be set on a copy of a slice from a DataFrame.\n",
      "Try using .loc[row_indexer,col_indexer] = value instead\n",
      "\n",
      "See the caveats in the documentation: https://pandas.pydata.org/pandas-docs/stable/user_guide/indexing.html#returning-a-view-versus-a-copy\n",
      "  test_data['cluster'] = y_test_pred\n"
     ]
    },
    {
     "name": "stdout",
     "output_type": "stream",
     "text": [
      "Train metrics...\n",
      "Test metrics...\n",
      "DataSetName       (feat_Open, feat_vixOpen, feat_vvixOpen, feat_...\n",
      "TrainAccuracy                                              0.557598\n",
      "TrainPrecision                                             0.558894\n",
      "TestAccuracy                                               0.529862\n",
      "TestPrecision                                              0.543458\n",
      "TestF1                                                     0.659267\n",
      "BestParams        <bound method BaseEstimator.get_params of Logi...\n",
      "TestEquity                                             -1684.216827\n",
      "TestCagr                                                -309.503858\n",
      "dtype: object\n",
      "100 21:17:10 Trying with following combo ('feat_Open', 'feat_vixOpen', 'feat_vvixOpen', 'feat_bigBodyRange')\n",
      "Equity: -1355.0781548339837\n"
     ]
    },
    {
     "name": "stderr",
     "output_type": "stream",
     "text": [
      "C:\\Users\\vitto\\AppData\\Local\\Temp\\ipykernel_10512\\820412064.py:67: SettingWithCopyWarning: \n",
      "A value is trying to be set on a copy of a slice from a DataFrame.\n",
      "Try using .loc[row_indexer,col_indexer] = value instead\n",
      "\n",
      "See the caveats in the documentation: https://pandas.pydata.org/pandas-docs/stable/user_guide/indexing.html#returning-a-view-versus-a-copy\n",
      "  test_data['cluster'] = y_test_pred\n"
     ]
    },
    {
     "name": "stdout",
     "output_type": "stream",
     "text": [
      "Train metrics...\n",
      "Test metrics...\n",
      "DataSetName       (feat_Open, feat_vixOpen, feat_vvixOpen, feat_...\n",
      "TrainAccuracy                                              0.561208\n",
      "TrainPrecision                                             0.562887\n",
      "TestAccuracy                                               0.535222\n",
      "TestPrecision                                              0.548851\n",
      "TestF1                                                     0.653736\n",
      "BestParams        <bound method BaseEstimator.get_params of Logi...\n",
      "TestEquity                                             -1355.078155\n",
      "TestCagr                                                -249.018956\n",
      "dtype: object\n",
      "101 21:17:11 Trying with following combo ('feat_Open', 'feat_vixOpen', 'feat_vvixPrevClose', 'feat_Acc')\n",
      "Equity: -1814.1011040527344\n"
     ]
    },
    {
     "name": "stderr",
     "output_type": "stream",
     "text": [
      "C:\\Users\\vitto\\AppData\\Local\\Temp\\ipykernel_10512\\820412064.py:67: SettingWithCopyWarning: \n",
      "A value is trying to be set on a copy of a slice from a DataFrame.\n",
      "Try using .loc[row_indexer,col_indexer] = value instead\n",
      "\n",
      "See the caveats in the documentation: https://pandas.pydata.org/pandas-docs/stable/user_guide/indexing.html#returning-a-view-versus-a-copy\n",
      "  test_data['cluster'] = y_test_pred\n"
     ]
    },
    {
     "name": "stdout",
     "output_type": "stream",
     "text": [
      "Train metrics...\n",
      "Test metrics...\n",
      "DataSetName       (feat_Open, feat_vixOpen, feat_vvixPrevClose, ...\n",
      "TrainAccuracy                                              0.538234\n",
      "TrainPrecision                                             0.542868\n",
      "TestAccuracy                                               0.530628\n",
      "TestPrecision                                              0.541451\n",
      "TestF1                                                     0.671666\n",
      "BestParams        <bound method BaseEstimator.get_params of Logi...\n",
      "TestEquity                                             -1814.101104\n",
      "TestCagr                                                -333.372332\n",
      "dtype: object\n",
      "102 21:17:11 Trying with following combo ('feat_Open', 'feat_vixOpen', 'feat_vvixPrevClose', 'feat_PrevCluster')\n",
      "Equity: -1759.1350395996099\n"
     ]
    },
    {
     "name": "stderr",
     "output_type": "stream",
     "text": [
      "C:\\Users\\vitto\\AppData\\Local\\Temp\\ipykernel_10512\\820412064.py:67: SettingWithCopyWarning: \n",
      "A value is trying to be set on a copy of a slice from a DataFrame.\n",
      "Try using .loc[row_indexer,col_indexer] = value instead\n",
      "\n",
      "See the caveats in the documentation: https://pandas.pydata.org/pandas-docs/stable/user_guide/indexing.html#returning-a-view-versus-a-copy\n",
      "  test_data['cluster'] = y_test_pred\n"
     ]
    },
    {
     "name": "stdout",
     "output_type": "stream",
     "text": [
      "Train metrics...\n",
      "Test metrics...\n",
      "DataSetName       (feat_Open, feat_vixOpen, feat_vvixPrevClose, ...\n",
      "TrainAccuracy                                              0.540532\n",
      "TrainPrecision                                             0.546396\n",
      "TestAccuracy                                               0.522205\n",
      "TestPrecision                                              0.537913\n",
      "TestF1                                                     0.659016\n",
      "BestParams        <bound method BaseEstimator.get_params of Logi...\n",
      "TestEquity                                              -1759.13504\n",
      "TestCagr                                                 -323.27137\n",
      "dtype: object\n",
      "103 21:17:12 Trying with following combo ('feat_Open', 'feat_vixOpen', 'feat_vvixPrevClose', 'feat_bigBodyRange')\n",
      "Equity: 386.2023627441408\n"
     ]
    },
    {
     "name": "stderr",
     "output_type": "stream",
     "text": [
      "C:\\Users\\vitto\\AppData\\Local\\Temp\\ipykernel_10512\\820412064.py:67: SettingWithCopyWarning: \n",
      "A value is trying to be set on a copy of a slice from a DataFrame.\n",
      "Try using .loc[row_indexer,col_indexer] = value instead\n",
      "\n",
      "See the caveats in the documentation: https://pandas.pydata.org/pandas-docs/stable/user_guide/indexing.html#returning-a-view-versus-a-copy\n",
      "  test_data['cluster'] = y_test_pred\n"
     ]
    },
    {
     "name": "stdout",
     "output_type": "stream",
     "text": [
      "Train metrics...\n",
      "Test metrics...\n",
      "DataSetName       (feat_Open, feat_vixOpen, feat_vvixPrevClose, ...\n",
      "TrainAccuracy                                              0.551362\n",
      "TrainPrecision                                             0.554326\n",
      "TestAccuracy                                               0.556662\n",
      "TestPrecision                                              0.560297\n",
      "TestF1                                                     0.675993\n",
      "BestParams        <bound method BaseEstimator.get_params of Logi...\n",
      "TestEquity                                               386.202363\n",
      "TestCagr                                                  70.971338\n",
      "dtype: object\n",
      "104 21:17:13 Trying with following combo ('feat_Open', 'feat_vixOpen', 'feat_Acc', 'feat_PrevCluster')\n",
      "Equity: -2276.6354058105467\n"
     ]
    },
    {
     "name": "stderr",
     "output_type": "stream",
     "text": [
      "C:\\Users\\vitto\\AppData\\Local\\Temp\\ipykernel_10512\\820412064.py:67: SettingWithCopyWarning: \n",
      "A value is trying to be set on a copy of a slice from a DataFrame.\n",
      "Try using .loc[row_indexer,col_indexer] = value instead\n",
      "\n",
      "See the caveats in the documentation: https://pandas.pydata.org/pandas-docs/stable/user_guide/indexing.html#returning-a-view-versus-a-copy\n",
      "  test_data['cluster'] = y_test_pred\n"
     ]
    },
    {
     "name": "stdout",
     "output_type": "stream",
     "text": [
      "Train metrics...\n",
      "Test metrics...\n",
      "DataSetName       (feat_Open, feat_vixOpen, feat_Acc, feat_PrevC...\n",
      "TrainAccuracy                                              0.539875\n",
      "TrainPrecision                                             0.546154\n",
      "TestAccuracy                                               0.517611\n",
      "TestPrecision                                              0.535426\n",
      "TestF1                                                     0.654605\n",
      "BestParams        <bound method BaseEstimator.get_params of Logi...\n",
      "TestEquity                                             -2276.635406\n",
      "TestCagr                                                -418.370978\n",
      "dtype: object\n",
      "105 21:17:13 Trying with following combo ('feat_Open', 'feat_vixOpen', 'feat_Acc', 'feat_bigBodyRange')\n",
      "Equity: -874.9577935058594\n"
     ]
    },
    {
     "name": "stderr",
     "output_type": "stream",
     "text": [
      "C:\\Users\\vitto\\AppData\\Local\\Temp\\ipykernel_10512\\820412064.py:67: SettingWithCopyWarning: \n",
      "A value is trying to be set on a copy of a slice from a DataFrame.\n",
      "Try using .loc[row_indexer,col_indexer] = value instead\n",
      "\n",
      "See the caveats in the documentation: https://pandas.pydata.org/pandas-docs/stable/user_guide/indexing.html#returning-a-view-versus-a-copy\n",
      "  test_data['cluster'] = y_test_pred\n"
     ]
    },
    {
     "name": "stdout",
     "output_type": "stream",
     "text": [
      "Train metrics...\n",
      "Test metrics...\n",
      "DataSetName       (feat_Open, feat_vixOpen, feat_Acc, feat_bigBo...\n",
      "TrainAccuracy                                              0.547424\n",
      "TrainPrecision                                             0.548794\n",
      "TestAccuracy                                               0.543645\n",
      "TestPrecision                                              0.548918\n",
      "TestF1                                                     0.680258\n",
      "BestParams        <bound method BaseEstimator.get_params of Logi...\n",
      "TestEquity                                              -874.957794\n",
      "TestCagr                                                -160.788568\n",
      "dtype: object\n",
      "106 21:17:14 Trying with following combo ('feat_Open', 'feat_vixOpen', 'feat_PrevCluster', 'feat_bigBodyRange')\n",
      "Equity: -939.2951958496099\n"
     ]
    },
    {
     "name": "stderr",
     "output_type": "stream",
     "text": [
      "C:\\Users\\vitto\\AppData\\Local\\Temp\\ipykernel_10512\\820412064.py:67: SettingWithCopyWarning: \n",
      "A value is trying to be set on a copy of a slice from a DataFrame.\n",
      "Try using .loc[row_indexer,col_indexer] = value instead\n",
      "\n",
      "See the caveats in the documentation: https://pandas.pydata.org/pandas-docs/stable/user_guide/indexing.html#returning-a-view-versus-a-copy\n",
      "  test_data['cluster'] = y_test_pred\n"
     ]
    },
    {
     "name": "stdout",
     "output_type": "stream",
     "text": [
      "Train metrics...\n",
      "Test metrics...\n",
      "DataSetName       (feat_Open, feat_vixOpen, feat_PrevCluster, fe...\n",
      "TrainAccuracy                                              0.545783\n",
      "TrainPrecision                                             0.553174\n",
      "TestAccuracy                                               0.536753\n",
      "TestPrecision                                              0.549904\n",
      "TestF1                                                     0.654483\n",
      "BestParams        <bound method BaseEstimator.get_params of Logi...\n",
      "TestEquity                                              -939.295196\n",
      "TestCagr                                                -172.611675\n",
      "dtype: object\n",
      "107 21:17:14 Trying with following combo ('feat_Open', 'feat_vixPrevClose', 'feat_vvixOpen', 'feat_vvixPrevClose')\n",
      "Equity: 5671.620941845701\n"
     ]
    },
    {
     "name": "stderr",
     "output_type": "stream",
     "text": [
      "C:\\Users\\vitto\\AppData\\Local\\Temp\\ipykernel_10512\\820412064.py:67: SettingWithCopyWarning: \n",
      "A value is trying to be set on a copy of a slice from a DataFrame.\n",
      "Try using .loc[row_indexer,col_indexer] = value instead\n",
      "\n",
      "See the caveats in the documentation: https://pandas.pydata.org/pandas-docs/stable/user_guide/indexing.html#returning-a-view-versus-a-copy\n",
      "  test_data['cluster'] = y_test_pred\n"
     ]
    },
    {
     "name": "stdout",
     "output_type": "stream",
     "text": [
      "Train metrics...\n",
      "Test metrics...\n",
      "DataSetName       (feat_Open, feat_vixPrevClose, feat_vvixOpen, ...\n",
      "TrainAccuracy                                              0.633738\n",
      "TrainPrecision                                             0.628795\n",
      "TestAccuracy                                               0.647014\n",
      "TestPrecision                                              0.640271\n",
      "TestF1                                                     0.710609\n",
      "BestParams        <bound method BaseEstimator.get_params of Logi...\n",
      "TestEquity                                              5671.620942\n",
      "TestCagr                                                 1042.25806\n",
      "dtype: object\n",
      "108 21:17:15 Trying with following combo ('feat_Open', 'feat_vixPrevClose', 'feat_vvixOpen', 'feat_Acc')\n",
      "Equity: -1467.5600884277337\n"
     ]
    },
    {
     "name": "stderr",
     "output_type": "stream",
     "text": [
      "C:\\Users\\vitto\\AppData\\Local\\Temp\\ipykernel_10512\\820412064.py:67: SettingWithCopyWarning: \n",
      "A value is trying to be set on a copy of a slice from a DataFrame.\n",
      "Try using .loc[row_indexer,col_indexer] = value instead\n",
      "\n",
      "See the caveats in the documentation: https://pandas.pydata.org/pandas-docs/stable/user_guide/indexing.html#returning-a-view-versus-a-copy\n",
      "  test_data['cluster'] = y_test_pred\n"
     ]
    },
    {
     "name": "stdout",
     "output_type": "stream",
     "text": [
      "Train metrics...\n",
      "Test metrics...\n",
      "DataSetName       (feat_Open, feat_vixPrevClose, feat_vvixOpen, ...\n",
      "TrainAccuracy                                              0.550377\n",
      "TrainPrecision                                             0.557095\n",
      "TestAccuracy                                               0.524502\n",
      "TestPrecision                                              0.542553\n",
      "TestF1                                                     0.643718\n",
      "BestParams        <bound method BaseEstimator.get_params of Logi...\n",
      "TestEquity                                             -1467.560088\n",
      "TestCagr                                                 -269.68945\n",
      "dtype: object\n",
      "109 21:17:16 Trying with following combo ('feat_Open', 'feat_vixPrevClose', 'feat_vvixOpen', 'feat_PrevCluster')\n",
      "Equity: -1917.5957329589837\n"
     ]
    },
    {
     "name": "stderr",
     "output_type": "stream",
     "text": [
      "C:\\Users\\vitto\\AppData\\Local\\Temp\\ipykernel_10512\\820412064.py:67: SettingWithCopyWarning: \n",
      "A value is trying to be set on a copy of a slice from a DataFrame.\n",
      "Try using .loc[row_indexer,col_indexer] = value instead\n",
      "\n",
      "See the caveats in the documentation: https://pandas.pydata.org/pandas-docs/stable/user_guide/indexing.html#returning-a-view-versus-a-copy\n",
      "  test_data['cluster'] = y_test_pred\n"
     ]
    },
    {
     "name": "stdout",
     "output_type": "stream",
     "text": [
      "Train metrics...\n",
      "Test metrics...\n",
      "DataSetName       (feat_Open, feat_vixPrevClose, feat_vvixOpen, ...\n",
      "TrainAccuracy                                              0.557269\n",
      "TrainPrecision                                             0.562634\n",
      "TestAccuracy                                               0.524502\n",
      "TestPrecision                                              0.543137\n",
      "TestF1                                                     0.640833\n",
      "BestParams        <bound method BaseEstimator.get_params of Logi...\n",
      "TestEquity                                             -1917.595733\n",
      "TestCagr                                                -352.391253\n",
      "dtype: object\n",
      "110 21:17:16 Trying with following combo ('feat_Open', 'feat_vixPrevClose', 'feat_vvixOpen', 'feat_bigBodyRange')\n",
      "Equity: -957.3974907714846\n"
     ]
    },
    {
     "name": "stderr",
     "output_type": "stream",
     "text": [
      "C:\\Users\\vitto\\AppData\\Local\\Temp\\ipykernel_10512\\820412064.py:67: SettingWithCopyWarning: \n",
      "A value is trying to be set on a copy of a slice from a DataFrame.\n",
      "Try using .loc[row_indexer,col_indexer] = value instead\n",
      "\n",
      "See the caveats in the documentation: https://pandas.pydata.org/pandas-docs/stable/user_guide/indexing.html#returning-a-view-versus-a-copy\n",
      "  test_data['cluster'] = y_test_pred\n"
     ]
    },
    {
     "name": "stdout",
     "output_type": "stream",
     "text": [
      "Train metrics...\n",
      "Test metrics...\n",
      "DataSetName       (feat_Open, feat_vixPrevClose, feat_vvixOpen, ...\n",
      "TrainAccuracy                                              0.553988\n",
      "TrainPrecision                                              0.55978\n",
      "TestAccuracy                                               0.535988\n",
      "TestPrecision                                              0.550049\n",
      "TestF1                                                     0.651323\n",
      "BestParams        <bound method BaseEstimator.get_params of Logi...\n",
      "TestEquity                                              -957.397491\n",
      "TestCagr                                                -175.938283\n",
      "dtype: object\n",
      "111 21:17:17 Trying with following combo ('feat_Open', 'feat_vixPrevClose', 'feat_vvixPrevClose', 'feat_Acc')\n",
      "Equity: -661.5967095214856\n"
     ]
    },
    {
     "name": "stderr",
     "output_type": "stream",
     "text": [
      "C:\\Users\\vitto\\AppData\\Local\\Temp\\ipykernel_10512\\820412064.py:67: SettingWithCopyWarning: \n",
      "A value is trying to be set on a copy of a slice from a DataFrame.\n",
      "Try using .loc[row_indexer,col_indexer] = value instead\n",
      "\n",
      "See the caveats in the documentation: https://pandas.pydata.org/pandas-docs/stable/user_guide/indexing.html#returning-a-view-versus-a-copy\n",
      "  test_data['cluster'] = y_test_pred\n"
     ]
    },
    {
     "name": "stdout",
     "output_type": "stream",
     "text": [
      "Train metrics...\n",
      "Test metrics...\n",
      "DataSetName       (feat_Open, feat_vixPrevClose, feat_vvixPrevCl...\n",
      "TrainAccuracy                                              0.536922\n",
      "TrainPrecision                                             0.538928\n",
      "TestAccuracy                                               0.542113\n",
      "TestPrecision                                              0.543666\n",
      "TestF1                                                      0.69798\n",
      "BestParams        <bound method BaseEstimator.get_params of Logi...\n",
      "TestEquity                                               -661.59671\n",
      "TestCagr                                                -121.579793\n",
      "dtype: object\n",
      "112 21:17:18 Trying with following combo ('feat_Open', 'feat_vixPrevClose', 'feat_vvixPrevClose', 'feat_PrevCluster')\n",
      "Equity: -983.9341118652358\n"
     ]
    },
    {
     "name": "stderr",
     "output_type": "stream",
     "text": [
      "C:\\Users\\vitto\\AppData\\Local\\Temp\\ipykernel_10512\\820412064.py:67: SettingWithCopyWarning: \n",
      "A value is trying to be set on a copy of a slice from a DataFrame.\n",
      "Try using .loc[row_indexer,col_indexer] = value instead\n",
      "\n",
      "See the caveats in the documentation: https://pandas.pydata.org/pandas-docs/stable/user_guide/indexing.html#returning-a-view-versus-a-copy\n",
      "  test_data['cluster'] = y_test_pred\n"
     ]
    },
    {
     "name": "stdout",
     "output_type": "stream",
     "text": [
      "Train metrics...\n",
      "Test metrics...\n",
      "DataSetName       (feat_Open, feat_vixPrevClose, feat_vvixPrevCl...\n",
      "TrainAccuracy                                              0.536265\n",
      "TrainPrecision                                             0.542204\n",
      "TestAccuracy                                               0.529096\n",
      "TestPrecision                                              0.539831\n",
      "TestF1                                                     0.674431\n",
      "BestParams        <bound method BaseEstimator.get_params of Logi...\n",
      "TestEquity                                              -983.934112\n",
      "TestCagr                                                -180.814844\n",
      "dtype: object\n",
      "113 21:17:18 Trying with following combo ('feat_Open', 'feat_vixPrevClose', 'feat_vvixPrevClose', 'feat_bigBodyRange')\n",
      "Equity: 314.52145454101617\n"
     ]
    },
    {
     "name": "stderr",
     "output_type": "stream",
     "text": [
      "C:\\Users\\vitto\\AppData\\Local\\Temp\\ipykernel_10512\\820412064.py:67: SettingWithCopyWarning: \n",
      "A value is trying to be set on a copy of a slice from a DataFrame.\n",
      "Try using .loc[row_indexer,col_indexer] = value instead\n",
      "\n",
      "See the caveats in the documentation: https://pandas.pydata.org/pandas-docs/stable/user_guide/indexing.html#returning-a-view-versus-a-copy\n",
      "  test_data['cluster'] = y_test_pred\n"
     ]
    },
    {
     "name": "stdout",
     "output_type": "stream",
     "text": [
      "Train metrics...\n",
      "Test metrics...\n",
      "DataSetName       (feat_Open, feat_vixPrevClose, feat_vvixPrevCl...\n",
      "TrainAccuracy                                              0.552675\n",
      "TrainPrecision                                               0.5549\n",
      "TestAccuracy                                               0.552833\n",
      "TestPrecision                                              0.557604\n",
      "TestF1                                                      0.67447\n",
      "BestParams        <bound method BaseEstimator.get_params of Logi...\n",
      "TestEquity                                               314.521455\n",
      "TestCagr                                                  57.798736\n",
      "dtype: object\n",
      "114 21:17:19 Trying with following combo ('feat_Open', 'feat_vixPrevClose', 'feat_Acc', 'feat_PrevCluster')\n",
      "Equity: -1043.7934868652353\n"
     ]
    },
    {
     "name": "stderr",
     "output_type": "stream",
     "text": [
      "C:\\Users\\vitto\\AppData\\Local\\Temp\\ipykernel_10512\\820412064.py:67: SettingWithCopyWarning: \n",
      "A value is trying to be set on a copy of a slice from a DataFrame.\n",
      "Try using .loc[row_indexer,col_indexer] = value instead\n",
      "\n",
      "See the caveats in the documentation: https://pandas.pydata.org/pandas-docs/stable/user_guide/indexing.html#returning-a-view-versus-a-copy\n",
      "  test_data['cluster'] = y_test_pred\n"
     ]
    },
    {
     "name": "stdout",
     "output_type": "stream",
     "text": [
      "Train metrics...\n",
      "Test metrics...\n",
      "DataSetName       (feat_Open, feat_vixPrevClose, feat_Acc, feat_...\n",
      "TrainAccuracy                                               0.53725\n",
      "TrainPrecision                                             0.543155\n",
      "TestAccuracy                                               0.529096\n",
      "TestPrecision                                              0.540378\n",
      "TestF1                                                      0.67165\n",
      "BestParams        <bound method BaseEstimator.get_params of Logi...\n",
      "TestEquity                                             -1043.793487\n",
      "TestCagr                                                -191.815036\n",
      "dtype: object\n",
      "115 21:17:19 Trying with following combo ('feat_Open', 'feat_vixPrevClose', 'feat_Acc', 'feat_bigBodyRange')\n",
      "Equity: 316.1813666503909\n"
     ]
    },
    {
     "name": "stderr",
     "output_type": "stream",
     "text": [
      "C:\\Users\\vitto\\AppData\\Local\\Temp\\ipykernel_10512\\820412064.py:67: SettingWithCopyWarning: \n",
      "A value is trying to be set on a copy of a slice from a DataFrame.\n",
      "Try using .loc[row_indexer,col_indexer] = value instead\n",
      "\n",
      "See the caveats in the documentation: https://pandas.pydata.org/pandas-docs/stable/user_guide/indexing.html#returning-a-view-versus-a-copy\n",
      "  test_data['cluster'] = y_test_pred\n"
     ]
    },
    {
     "name": "stdout",
     "output_type": "stream",
     "text": [
      "Train metrics...\n",
      "Test metrics...\n",
      "DataSetName       (feat_Open, feat_vixPrevClose, feat_Acc, feat_...\n",
      "TrainAccuracy                                              0.545126\n",
      "TrainPrecision                                              0.54893\n",
      "TestAccuracy                                                0.55513\n",
      "TestPrecision                                              0.557041\n",
      "TestF1                                                     0.682687\n",
      "BestParams        <bound method BaseEstimator.get_params of Logi...\n",
      "TestEquity                                               316.181367\n",
      "TestCagr                                                  58.103773\n",
      "dtype: object\n",
      "116 21:17:20 Trying with following combo ('feat_Open', 'feat_vixPrevClose', 'feat_PrevCluster', 'feat_bigBodyRange')\n",
      "Equity: -866.0349419433605\n"
     ]
    },
    {
     "name": "stderr",
     "output_type": "stream",
     "text": [
      "C:\\Users\\vitto\\AppData\\Local\\Temp\\ipykernel_10512\\820412064.py:67: SettingWithCopyWarning: \n",
      "A value is trying to be set on a copy of a slice from a DataFrame.\n",
      "Try using .loc[row_indexer,col_indexer] = value instead\n",
      "\n",
      "See the caveats in the documentation: https://pandas.pydata.org/pandas-docs/stable/user_guide/indexing.html#returning-a-view-versus-a-copy\n",
      "  test_data['cluster'] = y_test_pred\n"
     ]
    },
    {
     "name": "stdout",
     "output_type": "stream",
     "text": [
      "Train metrics...\n",
      "Test metrics...\n",
      "DataSetName       (feat_Open, feat_vixPrevClose, feat_PrevCluste...\n",
      "TrainAccuracy                                              0.546439\n",
      "TrainPrecision                                                0.552\n",
      "TestAccuracy                                               0.535222\n",
      "TestPrecision                                              0.546961\n",
      "TestF1                                                     0.661838\n",
      "BestParams        <bound method BaseEstimator.get_params of Logi...\n",
      "TestEquity                                              -866.034942\n",
      "TestCagr                                                -159.148841\n",
      "dtype: object\n",
      "117 21:17:21 Trying with following combo ('feat_Open', 'feat_vvixOpen', 'feat_vvixPrevClose', 'feat_Acc')\n",
      "Equity: 5770.860687939449\n"
     ]
    },
    {
     "name": "stderr",
     "output_type": "stream",
     "text": [
      "C:\\Users\\vitto\\AppData\\Local\\Temp\\ipykernel_10512\\820412064.py:67: SettingWithCopyWarning: \n",
      "A value is trying to be set on a copy of a slice from a DataFrame.\n",
      "Try using .loc[row_indexer,col_indexer] = value instead\n",
      "\n",
      "See the caveats in the documentation: https://pandas.pydata.org/pandas-docs/stable/user_guide/indexing.html#returning-a-view-versus-a-copy\n",
      "  test_data['cluster'] = y_test_pred\n"
     ]
    },
    {
     "name": "stdout",
     "output_type": "stream",
     "text": [
      "Train metrics...\n",
      "Test metrics...\n",
      "DataSetName       (feat_Open, feat_vvixOpen, feat_vvixPrevClose,...\n",
      "TrainAccuracy                                              0.632425\n",
      "TrainPrecision                                             0.627941\n",
      "TestAccuracy                                               0.649311\n",
      "TestPrecision                                              0.641808\n",
      "TestF1                                                     0.712673\n",
      "BestParams        <bound method BaseEstimator.get_params of Logi...\n",
      "TestEquity                                              5770.860688\n",
      "TestCagr                                                1060.495073\n",
      "dtype: object\n",
      "118 21:17:21 Trying with following combo ('feat_Open', 'feat_vvixOpen', 'feat_vvixPrevClose', 'feat_PrevCluster')\n",
      "Equity: 5491.282807080078\n"
     ]
    },
    {
     "name": "stderr",
     "output_type": "stream",
     "text": [
      "C:\\Users\\vitto\\AppData\\Local\\Temp\\ipykernel_10512\\820412064.py:67: SettingWithCopyWarning: \n",
      "A value is trying to be set on a copy of a slice from a DataFrame.\n",
      "Try using .loc[row_indexer,col_indexer] = value instead\n",
      "\n",
      "See the caveats in the documentation: https://pandas.pydata.org/pandas-docs/stable/user_guide/indexing.html#returning-a-view-versus-a-copy\n",
      "  test_data['cluster'] = y_test_pred\n"
     ]
    },
    {
     "name": "stdout",
     "output_type": "stream",
     "text": [
      "Train metrics...\n",
      "Test metrics...\n",
      "DataSetName       (feat_Open, feat_vvixOpen, feat_vvixPrevClose,...\n",
      "TrainAccuracy                                              0.636364\n",
      "TrainPrecision                                             0.631398\n",
      "TestAccuracy                                               0.645482\n",
      "TestPrecision                                              0.642361\n",
      "TestF1                                                     0.705658\n",
      "BestParams        <bound method BaseEstimator.get_params of Logi...\n",
      "TestEquity                                              5491.282807\n",
      "TestCagr                                                1009.117821\n",
      "dtype: object\n",
      "119 21:17:22 Trying with following combo ('feat_Open', 'feat_vvixOpen', 'feat_vvixPrevClose', 'feat_bigBodyRange')\n",
      "Equity: 5034.181366650392\n"
     ]
    },
    {
     "name": "stderr",
     "output_type": "stream",
     "text": [
      "C:\\Users\\vitto\\AppData\\Local\\Temp\\ipykernel_10512\\820412064.py:67: SettingWithCopyWarning: \n",
      "A value is trying to be set on a copy of a slice from a DataFrame.\n",
      "Try using .loc[row_indexer,col_indexer] = value instead\n",
      "\n",
      "See the caveats in the documentation: https://pandas.pydata.org/pandas-docs/stable/user_guide/indexing.html#returning-a-view-versus-a-copy\n",
      "  test_data['cluster'] = y_test_pred\n"
     ]
    },
    {
     "name": "stdout",
     "output_type": "stream",
     "text": [
      "Train metrics...\n",
      "Test metrics...\n",
      "DataSetName       (feat_Open, feat_vvixOpen, feat_vvixPrevClose,...\n",
      "TrainAccuracy                                              0.638989\n",
      "TrainPrecision                                             0.632583\n",
      "TestAccuracy                                               0.643951\n",
      "TestPrecision                                              0.637698\n",
      "TestF1                                                     0.708464\n",
      "BestParams        <bound method BaseEstimator.get_params of Logi...\n",
      "TestEquity                                              5034.181367\n",
      "TestCagr                                                 925.117556\n",
      "dtype: object\n",
      "120 21:17:23 Trying with following combo ('feat_Open', 'feat_vvixOpen', 'feat_Acc', 'feat_PrevCluster')\n",
      "Equity: -2233.7181694824203\n"
     ]
    },
    {
     "name": "stderr",
     "output_type": "stream",
     "text": [
      "C:\\Users\\vitto\\AppData\\Local\\Temp\\ipykernel_10512\\820412064.py:67: SettingWithCopyWarning: \n",
      "A value is trying to be set on a copy of a slice from a DataFrame.\n",
      "Try using .loc[row_indexer,col_indexer] = value instead\n",
      "\n",
      "See the caveats in the documentation: https://pandas.pydata.org/pandas-docs/stable/user_guide/indexing.html#returning-a-view-versus-a-copy\n",
      "  test_data['cluster'] = y_test_pred\n"
     ]
    },
    {
     "name": "stdout",
     "output_type": "stream",
     "text": [
      "Train metrics...\n",
      "Test metrics...\n",
      "DataSetName       (feat_Open, feat_vvixOpen, feat_Acc, feat_Prev...\n",
      "TrainAccuracy                                              0.554316\n",
      "TrainPrecision                                             0.558388\n",
      "TestAccuracy                                               0.519142\n",
      "TestPrecision                                              0.538172\n",
      "TestF1                                                     0.645198\n",
      "BestParams        <bound method BaseEstimator.get_params of Logi...\n",
      "TestEquity                                             -2233.718169\n",
      "TestCagr                                                -410.484197\n",
      "dtype: object\n",
      "121 21:17:23 Trying with following combo ('feat_Open', 'feat_vvixOpen', 'feat_Acc', 'feat_bigBodyRange')\n",
      "Equity: -2317.918608935547\n"
     ]
    },
    {
     "name": "stderr",
     "output_type": "stream",
     "text": [
      "C:\\Users\\vitto\\AppData\\Local\\Temp\\ipykernel_10512\\820412064.py:67: SettingWithCopyWarning: \n",
      "A value is trying to be set on a copy of a slice from a DataFrame.\n",
      "Try using .loc[row_indexer,col_indexer] = value instead\n",
      "\n",
      "See the caveats in the documentation: https://pandas.pydata.org/pandas-docs/stable/user_guide/indexing.html#returning-a-view-versus-a-copy\n",
      "  test_data['cluster'] = y_test_pred\n"
     ]
    },
    {
     "name": "stdout",
     "output_type": "stream",
     "text": [
      "Train metrics...\n",
      "Test metrics...\n",
      "DataSetName       (feat_Open, feat_vvixOpen, feat_Acc, feat_bigB...\n",
      "TrainAccuracy                                              0.554316\n",
      "TrainPrecision                                             0.558581\n",
      "TestAccuracy                                                0.52144\n",
      "TestPrecision                                              0.540541\n",
      "TestF1                                                     0.641834\n",
      "BestParams        <bound method BaseEstimator.get_params of Logi...\n",
      "TestEquity                                             -2317.918609\n",
      "TestCagr                                                -425.957478\n",
      "dtype: object\n",
      "122 21:17:24 Trying with following combo ('feat_Open', 'feat_vvixOpen', 'feat_PrevCluster', 'feat_bigBodyRange')\n",
      "Equity: -1787.1389458496087\n"
     ]
    },
    {
     "name": "stderr",
     "output_type": "stream",
     "text": [
      "C:\\Users\\vitto\\AppData\\Local\\Temp\\ipykernel_10512\\820412064.py:67: SettingWithCopyWarning: \n",
      "A value is trying to be set on a copy of a slice from a DataFrame.\n",
      "Try using .loc[row_indexer,col_indexer] = value instead\n",
      "\n",
      "See the caveats in the documentation: https://pandas.pydata.org/pandas-docs/stable/user_guide/indexing.html#returning-a-view-versus-a-copy\n",
      "  test_data['cluster'] = y_test_pred\n"
     ]
    },
    {
     "name": "stdout",
     "output_type": "stream",
     "text": [
      "Train metrics...\n",
      "Test metrics...\n",
      "DataSetName       (feat_Open, feat_vvixOpen, feat_PrevCluster, f...\n",
      "TrainAccuracy                                              0.560223\n",
      "TrainPrecision                                             0.563074\n",
      "TestAccuracy                                               0.525268\n",
      "TestPrecision                                              0.543078\n",
      "TestF1                                                     0.644087\n",
      "BestParams        <bound method BaseEstimator.get_params of Logi...\n",
      "TestEquity                                             -1787.138946\n",
      "TestCagr                                                 -328.41757\n",
      "dtype: object\n",
      "123 21:17:25 Trying with following combo ('feat_Open', 'feat_vvixPrevClose', 'feat_Acc', 'feat_PrevCluster')\n",
      "Equity: -438.694365771485\n"
     ]
    },
    {
     "name": "stderr",
     "output_type": "stream",
     "text": [
      "C:\\Users\\vitto\\AppData\\Local\\Temp\\ipykernel_10512\\820412064.py:67: SettingWithCopyWarning: \n",
      "A value is trying to be set on a copy of a slice from a DataFrame.\n",
      "Try using .loc[row_indexer,col_indexer] = value instead\n",
      "\n",
      "See the caveats in the documentation: https://pandas.pydata.org/pandas-docs/stable/user_guide/indexing.html#returning-a-view-versus-a-copy\n",
      "  test_data['cluster'] = y_test_pred\n"
     ]
    },
    {
     "name": "stdout",
     "output_type": "stream",
     "text": [
      "Train metrics...\n",
      "Test metrics...\n",
      "DataSetName       (feat_Open, feat_vvixPrevClose, feat_Acc, feat...\n",
      "TrainAccuracy                                              0.534296\n",
      "TrainPrecision                                              0.53933\n",
      "TestAccuracy                                               0.539051\n",
      "TestPrecision                                              0.543602\n",
      "TestF1                                                      0.68905\n",
      "BestParams        <bound method BaseEstimator.get_params of Logi...\n",
      "TestEquity                                              -438.694366\n",
      "TestCagr                                                 -80.617648\n",
      "dtype: object\n",
      "124 21:17:25 Trying with following combo ('feat_Open', 'feat_vvixPrevClose', 'feat_Acc', 'feat_bigBodyRange')\n",
      "Equity: 71.82125922851586\n"
     ]
    },
    {
     "name": "stderr",
     "output_type": "stream",
     "text": [
      "C:\\Users\\vitto\\AppData\\Local\\Temp\\ipykernel_10512\\820412064.py:67: SettingWithCopyWarning: \n",
      "A value is trying to be set on a copy of a slice from a DataFrame.\n",
      "Try using .loc[row_indexer,col_indexer] = value instead\n",
      "\n",
      "See the caveats in the documentation: https://pandas.pydata.org/pandas-docs/stable/user_guide/indexing.html#returning-a-view-versus-a-copy\n",
      "  test_data['cluster'] = y_test_pred\n"
     ]
    },
    {
     "name": "stdout",
     "output_type": "stream",
     "text": [
      "Train metrics...\n",
      "Test metrics...\n",
      "DataSetName       (feat_Open, feat_vvixPrevClose, feat_Acc, feat...\n",
      "TrainAccuracy                                              0.548408\n",
      "TrainPrecision                                             0.550725\n",
      "TestAccuracy                                               0.549005\n",
      "TestPrecision                                              0.553476\n",
      "TestF1                                                     0.678318\n",
      "BestParams        <bound method BaseEstimator.get_params of Logi...\n",
      "TestEquity                                                71.821259\n",
      "TestCagr                                                  13.198394\n",
      "dtype: object\n",
      "125 21:17:26 Trying with following combo ('feat_Open', 'feat_vvixPrevClose', 'feat_PrevCluster', 'feat_bigBodyRange')\n",
      "Equity: -485.6172173339842\n"
     ]
    },
    {
     "name": "stderr",
     "output_type": "stream",
     "text": [
      "C:\\Users\\vitto\\AppData\\Local\\Temp\\ipykernel_10512\\820412064.py:67: SettingWithCopyWarning: \n",
      "A value is trying to be set on a copy of a slice from a DataFrame.\n",
      "Try using .loc[row_indexer,col_indexer] = value instead\n",
      "\n",
      "See the caveats in the documentation: https://pandas.pydata.org/pandas-docs/stable/user_guide/indexing.html#returning-a-view-versus-a-copy\n",
      "  test_data['cluster'] = y_test_pred\n"
     ]
    },
    {
     "name": "stdout",
     "output_type": "stream",
     "text": [
      "Train metrics...\n",
      "Test metrics...\n",
      "DataSetName       (feat_Open, feat_vvixPrevClose, feat_PrevClust...\n",
      "TrainAccuracy                                              0.550377\n",
      "TrainPrecision                                              0.55524\n",
      "TestAccuracy                                               0.543645\n",
      "TestPrecision                                              0.553252\n",
      "TestF1                                                     0.663277\n",
      "BestParams        <bound method BaseEstimator.get_params of Logi...\n",
      "TestEquity                                              -485.617217\n",
      "TestCagr                                                  -89.24053\n",
      "dtype: object\n",
      "126 21:17:26 Trying with following combo ('feat_Open', 'feat_Acc', 'feat_PrevCluster', 'feat_bigBodyRange')\n",
      "Equity: -1268.494780810546\n"
     ]
    },
    {
     "name": "stderr",
     "output_type": "stream",
     "text": [
      "C:\\Users\\vitto\\AppData\\Local\\Temp\\ipykernel_10512\\820412064.py:67: SettingWithCopyWarning: \n",
      "A value is trying to be set on a copy of a slice from a DataFrame.\n",
      "Try using .loc[row_indexer,col_indexer] = value instead\n",
      "\n",
      "See the caveats in the documentation: https://pandas.pydata.org/pandas-docs/stable/user_guide/indexing.html#returning-a-view-versus-a-copy\n",
      "  test_data['cluster'] = y_test_pred\n"
     ]
    },
    {
     "name": "stdout",
     "output_type": "stream",
     "text": [
      "Train metrics...\n",
      "Test metrics...\n",
      "DataSetName       (feat_Open, feat_Acc, feat_PrevCluster, feat_b...\n",
      "TrainAccuracy                                              0.549065\n",
      "TrainPrecision                                             0.554694\n",
      "TestAccuracy                                               0.532925\n",
      "TestPrecision                                              0.546742\n",
      "TestF1                                                     0.654977\n",
      "BestParams        <bound method BaseEstimator.get_params of Logi...\n",
      "TestEquity                                             -1268.494781\n",
      "TestCagr                                                 -233.10777\n",
      "dtype: object\n",
      "127 21:17:27 Trying with following combo ('feat_vixOpen', 'feat_vixPrevClose', 'feat_vvixOpen', 'feat_vvixPrevClose')\n",
      "Equity: 4821.500946728514\n"
     ]
    },
    {
     "name": "stderr",
     "output_type": "stream",
     "text": [
      "C:\\Users\\vitto\\AppData\\Local\\Temp\\ipykernel_10512\\820412064.py:67: SettingWithCopyWarning: \n",
      "A value is trying to be set on a copy of a slice from a DataFrame.\n",
      "Try using .loc[row_indexer,col_indexer] = value instead\n",
      "\n",
      "See the caveats in the documentation: https://pandas.pydata.org/pandas-docs/stable/user_guide/indexing.html#returning-a-view-versus-a-copy\n",
      "  test_data['cluster'] = y_test_pred\n"
     ]
    },
    {
     "name": "stdout",
     "output_type": "stream",
     "text": [
      "Train metrics...\n",
      "Test metrics...\n",
      "DataSetName       (feat_vixOpen, feat_vixPrevClose, feat_vvixOpe...\n",
      "TrainAccuracy                                               0.63341\n",
      "TrainPrecision                                             0.630662\n",
      "TestAccuracy                                               0.640123\n",
      "TestPrecision                                              0.638792\n",
      "TestF1                                                     0.700637\n",
      "BestParams        <bound method BaseEstimator.get_params of Logi...\n",
      "TestEquity                                              4821.500947\n",
      "TestCagr                                                 886.033865\n",
      "dtype: object\n",
      "128 21:17:28 Trying with following combo ('feat_vixOpen', 'feat_vixPrevClose', 'feat_vvixOpen', 'feat_Acc')\n",
      "Equity: 2991.760956494134\n"
     ]
    },
    {
     "name": "stderr",
     "output_type": "stream",
     "text": [
      "C:\\Users\\vitto\\AppData\\Local\\Temp\\ipykernel_10512\\820412064.py:67: SettingWithCopyWarning: \n",
      "A value is trying to be set on a copy of a slice from a DataFrame.\n",
      "Try using .loc[row_indexer,col_indexer] = value instead\n",
      "\n",
      "See the caveats in the documentation: https://pandas.pydata.org/pandas-docs/stable/user_guide/indexing.html#returning-a-view-versus-a-copy\n",
      "  test_data['cluster'] = y_test_pred\n"
     ]
    },
    {
     "name": "stdout",
     "output_type": "stream",
     "text": [
      "Train metrics...\n",
      "Test metrics...\n",
      "DataSetName       (feat_vixOpen, feat_vixPrevClose, feat_vvixOpe...\n",
      "TrainAccuracy                                              0.598293\n",
      "TrainPrecision                                             0.594828\n",
      "TestAccuracy                                               0.598775\n",
      "TestPrecision                                               0.59893\n",
      "TestF1                                                     0.681265\n",
      "BestParams        <bound method BaseEstimator.get_params of Logi...\n",
      "TestEquity                                              2991.760956\n",
      "TestCagr                                                 549.787618\n",
      "dtype: object\n",
      "129 21:17:28 Trying with following combo ('feat_vixOpen', 'feat_vixPrevClose', 'feat_vvixOpen', 'feat_PrevCluster')\n",
      "Equity: 2783.221405712884\n"
     ]
    },
    {
     "name": "stderr",
     "output_type": "stream",
     "text": [
      "C:\\Users\\vitto\\AppData\\Local\\Temp\\ipykernel_10512\\820412064.py:67: SettingWithCopyWarning: \n",
      "A value is trying to be set on a copy of a slice from a DataFrame.\n",
      "Try using .loc[row_indexer,col_indexer] = value instead\n",
      "\n",
      "See the caveats in the documentation: https://pandas.pydata.org/pandas-docs/stable/user_guide/indexing.html#returning-a-view-versus-a-copy\n",
      "  test_data['cluster'] = y_test_pred\n"
     ]
    },
    {
     "name": "stdout",
     "output_type": "stream",
     "text": [
      "Train metrics...\n",
      "Test metrics...\n",
      "DataSetName       (feat_vixOpen, feat_vixPrevClose, feat_vvixOpe...\n",
      "TrainAccuracy                                              0.603544\n",
      "TrainPrecision                                             0.599268\n",
      "TestAccuracy                                               0.595712\n",
      "TestPrecision                                              0.597838\n",
      "TestF1                                                     0.676867\n",
      "BestParams        <bound method BaseEstimator.get_params of Logi...\n",
      "TestEquity                                              2783.221406\n",
      "TestCagr                                                 511.464883\n",
      "dtype: object\n",
      "130 21:17:29 Trying with following combo ('feat_vixOpen', 'feat_vixPrevClose', 'feat_vvixOpen', 'feat_bigBodyRange')\n",
      "Equity: 3014.721771923818\n"
     ]
    },
    {
     "name": "stderr",
     "output_type": "stream",
     "text": [
      "C:\\Users\\vitto\\AppData\\Local\\Temp\\ipykernel_10512\\820412064.py:67: SettingWithCopyWarning: \n",
      "A value is trying to be set on a copy of a slice from a DataFrame.\n",
      "Try using .loc[row_indexer,col_indexer] = value instead\n",
      "\n",
      "See the caveats in the documentation: https://pandas.pydata.org/pandas-docs/stable/user_guide/indexing.html#returning-a-view-versus-a-copy\n",
      "  test_data['cluster'] = y_test_pred\n"
     ]
    },
    {
     "name": "stdout",
     "output_type": "stream",
     "text": [
      "Train metrics...\n",
      "Test metrics...\n",
      "DataSetName       (feat_vixOpen, feat_vixPrevClose, feat_vvixOpe...\n",
      "TrainAccuracy                                              0.602888\n",
      "TrainPrecision                                             0.597738\n",
      "TestAccuracy                                               0.603369\n",
      "TestPrecision                                              0.602139\n",
      "TestF1                                                     0.684915\n",
      "BestParams        <bound method BaseEstimator.get_params of Logi...\n",
      "TestEquity                                              3014.721772\n",
      "TestCagr                                                 554.007064\n",
      "dtype: object\n",
      "131 21:17:30 Trying with following combo ('feat_vixOpen', 'feat_vixPrevClose', 'feat_vvixPrevClose', 'feat_Acc')\n",
      "Equity: 2293.8445746581974\n"
     ]
    },
    {
     "name": "stderr",
     "output_type": "stream",
     "text": [
      "C:\\Users\\vitto\\AppData\\Local\\Temp\\ipykernel_10512\\820412064.py:67: SettingWithCopyWarning: \n",
      "A value is trying to be set on a copy of a slice from a DataFrame.\n",
      "Try using .loc[row_indexer,col_indexer] = value instead\n",
      "\n",
      "See the caveats in the documentation: https://pandas.pydata.org/pandas-docs/stable/user_guide/indexing.html#returning-a-view-versus-a-copy\n",
      "  test_data['cluster'] = y_test_pred\n"
     ]
    },
    {
     "name": "stdout",
     "output_type": "stream",
     "text": [
      "Train metrics...\n",
      "Test metrics...\n",
      "DataSetName       (feat_vixOpen, feat_vixPrevClose, feat_vvixPre...\n",
      "TrainAccuracy                                              0.588448\n",
      "TrainPrecision                                             0.585088\n",
      "TestAccuracy                                               0.594946\n",
      "TestPrecision                                              0.594142\n",
      "TestF1                                                     0.682282\n",
      "BestParams        <bound method BaseEstimator.get_params of Logi...\n",
      "TestEquity                                              2293.844575\n",
      "TestCagr                                                 421.533459\n",
      "dtype: object\n",
      "132 21:17:30 Trying with following combo ('feat_vixOpen', 'feat_vixPrevClose', 'feat_vvixPrevClose', 'feat_PrevCluster')\n",
      "Equity: 2623.9837348144483\n"
     ]
    },
    {
     "name": "stderr",
     "output_type": "stream",
     "text": [
      "C:\\Users\\vitto\\AppData\\Local\\Temp\\ipykernel_10512\\820412064.py:67: SettingWithCopyWarning: \n",
      "A value is trying to be set on a copy of a slice from a DataFrame.\n",
      "Try using .loc[row_indexer,col_indexer] = value instead\n",
      "\n",
      "See the caveats in the documentation: https://pandas.pydata.org/pandas-docs/stable/user_guide/indexing.html#returning-a-view-versus-a-copy\n",
      "  test_data['cluster'] = y_test_pred\n"
     ]
    },
    {
     "name": "stdout",
     "output_type": "stream",
     "text": [
      "Train metrics...\n",
      "Test metrics...\n",
      "DataSetName       (feat_vixOpen, feat_vixPrevClose, feat_vvixPre...\n",
      "TrainAccuracy                                              0.592386\n",
      "TrainPrecision                                             0.588652\n",
      "TestAccuracy                                               0.602603\n",
      "TestPrecision                                               0.59979\n",
      "TestF1                                                     0.687538\n",
      "BestParams        <bound method BaseEstimator.get_params of Logi...\n",
      "TestEquity                                              2623.983735\n",
      "TestCagr                                                 482.202218\n",
      "dtype: object\n",
      "133 21:17:31 Trying with following combo ('feat_vixOpen', 'feat_vixPrevClose', 'feat_vvixPrevClose', 'feat_bigBodyRange')\n",
      "Equity: 3500.382050244134\n"
     ]
    },
    {
     "name": "stderr",
     "output_type": "stream",
     "text": [
      "C:\\Users\\vitto\\AppData\\Local\\Temp\\ipykernel_10512\\820412064.py:67: SettingWithCopyWarning: \n",
      "A value is trying to be set on a copy of a slice from a DataFrame.\n",
      "Try using .loc[row_indexer,col_indexer] = value instead\n",
      "\n",
      "See the caveats in the documentation: https://pandas.pydata.org/pandas-docs/stable/user_guide/indexing.html#returning-a-view-versus-a-copy\n",
      "  test_data['cluster'] = y_test_pred\n"
     ]
    },
    {
     "name": "stdout",
     "output_type": "stream",
     "text": [
      "Train metrics...\n",
      "Test metrics...\n",
      "DataSetName       (feat_vixOpen, feat_vixPrevClose, feat_vvixPre...\n",
      "TrainAccuracy                                              0.595011\n",
      "TrainPrecision                                             0.590426\n",
      "TestAccuracy                                                 0.6049\n",
      "TestPrecision                                              0.601259\n",
      "TestF1                                                     0.689531\n",
      "BestParams        <bound method BaseEstimator.get_params of Logi...\n",
      "TestEquity                                               3500.38205\n",
      "TestCagr                                                 643.255507\n",
      "dtype: object\n",
      "134 21:17:31 Trying with following combo ('feat_vixOpen', 'feat_vixPrevClose', 'feat_Acc', 'feat_PrevCluster')\n",
      "Equity: 2687.582977978511\n"
     ]
    },
    {
     "name": "stderr",
     "output_type": "stream",
     "text": [
      "C:\\Users\\vitto\\AppData\\Local\\Temp\\ipykernel_10512\\820412064.py:67: SettingWithCopyWarning: \n",
      "A value is trying to be set on a copy of a slice from a DataFrame.\n",
      "Try using .loc[row_indexer,col_indexer] = value instead\n",
      "\n",
      "See the caveats in the documentation: https://pandas.pydata.org/pandas-docs/stable/user_guide/indexing.html#returning-a-view-versus-a-copy\n",
      "  test_data['cluster'] = y_test_pred\n"
     ]
    },
    {
     "name": "stdout",
     "output_type": "stream",
     "text": [
      "Train metrics...\n",
      "Test metrics...\n",
      "DataSetName       (feat_vixOpen, feat_vixPrevClose, feat_Acc, fe...\n",
      "TrainAccuracy                                              0.591401\n",
      "TrainPrecision                                             0.587638\n",
      "TestAccuracy                                               0.605666\n",
      "TestPrecision                                              0.601464\n",
      "TestF1                                                     0.690691\n",
      "BestParams        <bound method BaseEstimator.get_params of Logi...\n",
      "TestEquity                                              2687.582978\n",
      "TestCagr                                                 493.889674\n",
      "dtype: object\n",
      "135 21:17:32 Trying with following combo ('feat_vixOpen', 'feat_vixPrevClose', 'feat_Acc', 'feat_bigBodyRange')\n",
      "Equity: 3673.1604926269456\n"
     ]
    },
    {
     "name": "stderr",
     "output_type": "stream",
     "text": [
      "C:\\Users\\vitto\\AppData\\Local\\Temp\\ipykernel_10512\\820412064.py:67: SettingWithCopyWarning: \n",
      "A value is trying to be set on a copy of a slice from a DataFrame.\n",
      "Try using .loc[row_indexer,col_indexer] = value instead\n",
      "\n",
      "See the caveats in the documentation: https://pandas.pydata.org/pandas-docs/stable/user_guide/indexing.html#returning-a-view-versus-a-copy\n",
      "  test_data['cluster'] = y_test_pred\n"
     ]
    },
    {
     "name": "stdout",
     "output_type": "stream",
     "text": [
      "Train metrics...\n",
      "Test metrics...\n",
      "DataSetName       (feat_vixOpen, feat_vixPrevClose, feat_Acc, fe...\n",
      "TrainAccuracy                                              0.597965\n",
      "TrainPrecision                                             0.592134\n",
      "TestAccuracy                                               0.612557\n",
      "TestPrecision                                              0.606283\n",
      "TestF1                                                     0.695913\n",
      "BestParams        <bound method BaseEstimator.get_params of Logi...\n",
      "TestEquity                                              3673.160493\n",
      "TestCagr                                                 675.006522\n",
      "dtype: object\n",
      "136 21:17:33 Trying with following combo ('feat_vixOpen', 'feat_vixPrevClose', 'feat_PrevCluster', 'feat_bigBodyRange')\n",
      "Equity: 3262.6221625488206\n"
     ]
    },
    {
     "name": "stderr",
     "output_type": "stream",
     "text": [
      "C:\\Users\\vitto\\AppData\\Local\\Temp\\ipykernel_10512\\820412064.py:67: SettingWithCopyWarning: \n",
      "A value is trying to be set on a copy of a slice from a DataFrame.\n",
      "Try using .loc[row_indexer,col_indexer] = value instead\n",
      "\n",
      "See the caveats in the documentation: https://pandas.pydata.org/pandas-docs/stable/user_guide/indexing.html#returning-a-view-versus-a-copy\n",
      "  test_data['cluster'] = y_test_pred\n"
     ]
    },
    {
     "name": "stdout",
     "output_type": "stream",
     "text": [
      "Train metrics...\n",
      "Test metrics...\n",
      "DataSetName       (feat_vixOpen, feat_vixPrevClose, feat_PrevClu...\n",
      "TrainAccuracy                                              0.603216\n",
      "TrainPrecision                                             0.596955\n",
      "TestAccuracy                                               0.607963\n",
      "TestPrecision                                              0.604676\n",
      "TestF1                                                     0.689697\n",
      "BestParams        <bound method BaseEstimator.get_params of Logi...\n",
      "TestEquity                                              3262.622163\n",
      "TestCagr                                                 599.563031\n",
      "dtype: object\n",
      "137 21:17:33 Trying with following combo ('feat_vixOpen', 'feat_vvixOpen', 'feat_vvixPrevClose', 'feat_Acc')\n",
      "Equity: 5349.281830517578\n"
     ]
    },
    {
     "name": "stderr",
     "output_type": "stream",
     "text": [
      "C:\\Users\\vitto\\AppData\\Local\\Temp\\ipykernel_10512\\820412064.py:67: SettingWithCopyWarning: \n",
      "A value is trying to be set on a copy of a slice from a DataFrame.\n",
      "Try using .loc[row_indexer,col_indexer] = value instead\n",
      "\n",
      "See the caveats in the documentation: https://pandas.pydata.org/pandas-docs/stable/user_guide/indexing.html#returning-a-view-versus-a-copy\n",
      "  test_data['cluster'] = y_test_pred\n"
     ]
    },
    {
     "name": "stdout",
     "output_type": "stream",
     "text": [
      "Train metrics...\n",
      "Test metrics...\n",
      "DataSetName       (feat_vixOpen, feat_vvixOpen, feat_vvixPrevClo...\n",
      "TrainAccuracy                                              0.633738\n",
      "TrainPrecision                                             0.628418\n",
      "TestAccuracy                                               0.644717\n",
      "TestPrecision                                              0.639047\n",
      "TestF1                                                     0.708176\n",
      "BestParams        <bound method BaseEstimator.get_params of Logi...\n",
      "TestEquity                                              5349.281831\n",
      "TestCagr                                                 983.022695\n",
      "dtype: object\n",
      "138 21:17:34 Trying with following combo ('feat_vixOpen', 'feat_vvixOpen', 'feat_vvixPrevClose', 'feat_PrevCluster')\n",
      "Equity: 5459.621674267576\n"
     ]
    },
    {
     "name": "stderr",
     "output_type": "stream",
     "text": [
      "C:\\Users\\vitto\\AppData\\Local\\Temp\\ipykernel_10512\\820412064.py:67: SettingWithCopyWarning: \n",
      "A value is trying to be set on a copy of a slice from a DataFrame.\n",
      "Try using .loc[row_indexer,col_indexer] = value instead\n",
      "\n",
      "See the caveats in the documentation: https://pandas.pydata.org/pandas-docs/stable/user_guide/indexing.html#returning-a-view-versus-a-copy\n",
      "  test_data['cluster'] = y_test_pred\n"
     ]
    },
    {
     "name": "stdout",
     "output_type": "stream",
     "text": [
      "Train metrics...\n",
      "Test metrics...\n",
      "DataSetName       (feat_vixOpen, feat_vvixOpen, feat_vvixPrevClo...\n",
      "TrainAccuracy                                              0.636035\n",
      "TrainPrecision                                             0.630701\n",
      "TestAccuracy                                               0.644717\n",
      "TestPrecision                                              0.641292\n",
      "TestF1                                                     0.705584\n",
      "BestParams        <bound method BaseEstimator.get_params of Logi...\n",
      "TestEquity                                              5459.621674\n",
      "TestCagr                                                1003.299542\n",
      "dtype: object\n",
      "139 21:17:34 Trying with following combo ('feat_vixOpen', 'feat_vvixOpen', 'feat_vvixPrevClose', 'feat_bigBodyRange')\n",
      "Equity: 5088.361786572264\n"
     ]
    },
    {
     "name": "stderr",
     "output_type": "stream",
     "text": [
      "C:\\Users\\vitto\\AppData\\Local\\Temp\\ipykernel_10512\\820412064.py:67: SettingWithCopyWarning: \n",
      "A value is trying to be set on a copy of a slice from a DataFrame.\n",
      "Try using .loc[row_indexer,col_indexer] = value instead\n",
      "\n",
      "See the caveats in the documentation: https://pandas.pydata.org/pandas-docs/stable/user_guide/indexing.html#returning-a-view-versus-a-copy\n",
      "  test_data['cluster'] = y_test_pred\n"
     ]
    },
    {
     "name": "stdout",
     "output_type": "stream",
     "text": [
      "Train metrics...\n",
      "Test metrics...\n",
      "DataSetName       (feat_vixOpen, feat_vvixOpen, feat_vvixPrevClo...\n",
      "TrainAccuracy                                              0.639317\n",
      "TrainPrecision                                             0.632893\n",
      "TestAccuracy                                               0.643951\n",
      "TestPrecision                                              0.637698\n",
      "TestF1                                                     0.708464\n",
      "BestParams        <bound method BaseEstimator.get_params of Logi...\n",
      "TestEquity                                              5088.361787\n",
      "TestCagr                                                 935.074141\n",
      "dtype: object\n",
      "140 21:17:35 Trying with following combo ('feat_vixOpen', 'feat_vvixOpen', 'feat_Acc', 'feat_PrevCluster')\n",
      "Equity: -1668.2184136230458\n"
     ]
    },
    {
     "name": "stderr",
     "output_type": "stream",
     "text": [
      "C:\\Users\\vitto\\AppData\\Local\\Temp\\ipykernel_10512\\820412064.py:67: SettingWithCopyWarning: \n",
      "A value is trying to be set on a copy of a slice from a DataFrame.\n",
      "Try using .loc[row_indexer,col_indexer] = value instead\n",
      "\n",
      "See the caveats in the documentation: https://pandas.pydata.org/pandas-docs/stable/user_guide/indexing.html#returning-a-view-versus-a-copy\n",
      "  test_data['cluster'] = y_test_pred\n"
     ]
    },
    {
     "name": "stdout",
     "output_type": "stream",
     "text": [
      "Train metrics...\n",
      "Test metrics...\n",
      "DataSetName       (feat_vixOpen, feat_vvixOpen, feat_Acc, feat_P...\n",
      "TrainAccuracy                                              0.557598\n",
      "TrainPrecision                                             0.561301\n",
      "TestAccuracy                                               0.524502\n",
      "TestPrecision                                              0.542146\n",
      "TestF1                                                      0.64575\n",
      "BestParams        <bound method BaseEstimator.get_params of Logi...\n",
      "TestEquity                                             -1668.218414\n",
      "TestCagr                                                -306.563874\n",
      "dtype: object\n",
      "141 21:17:36 Trying with following combo ('feat_vixOpen', 'feat_vvixOpen', 'feat_Acc', 'feat_bigBodyRange')\n",
      "Equity: -1329.1773979980458\n"
     ]
    },
    {
     "name": "stderr",
     "output_type": "stream",
     "text": [
      "C:\\Users\\vitto\\AppData\\Local\\Temp\\ipykernel_10512\\820412064.py:67: SettingWithCopyWarning: \n",
      "A value is trying to be set on a copy of a slice from a DataFrame.\n",
      "Try using .loc[row_indexer,col_indexer] = value instead\n",
      "\n",
      "See the caveats in the documentation: https://pandas.pydata.org/pandas-docs/stable/user_guide/indexing.html#returning-a-view-versus-a-copy\n",
      "  test_data['cluster'] = y_test_pred\n"
     ]
    },
    {
     "name": "stdout",
     "output_type": "stream",
     "text": [
      "Train metrics...\n",
      "Test metrics...\n",
      "DataSetName       (feat_vixOpen, feat_vvixOpen, feat_Acc, feat_b...\n",
      "TrainAccuracy                                              0.554644\n",
      "TrainPrecision                                             0.559006\n",
      "TestAccuracy                                               0.535222\n",
      "TestPrecision                                              0.549228\n",
      "TestF1                                                     0.652149\n",
      "BestParams        <bound method BaseEstimator.get_params of Logi...\n",
      "TestEquity                                             -1329.177398\n",
      "TestCagr                                                -244.259246\n",
      "dtype: object\n",
      "142 21:17:36 Trying with following combo ('feat_vixOpen', 'feat_vvixOpen', 'feat_PrevCluster', 'feat_bigBodyRange')\n",
      "Equity: -1480.0786431152328\n"
     ]
    },
    {
     "name": "stderr",
     "output_type": "stream",
     "text": [
      "C:\\Users\\vitto\\AppData\\Local\\Temp\\ipykernel_10512\\820412064.py:67: SettingWithCopyWarning: \n",
      "A value is trying to be set on a copy of a slice from a DataFrame.\n",
      "Try using .loc[row_indexer,col_indexer] = value instead\n",
      "\n",
      "See the caveats in the documentation: https://pandas.pydata.org/pandas-docs/stable/user_guide/indexing.html#returning-a-view-versus-a-copy\n",
      "  test_data['cluster'] = y_test_pred\n"
     ]
    },
    {
     "name": "stdout",
     "output_type": "stream",
     "text": [
      "Train metrics...\n",
      "Test metrics...\n",
      "DataSetName       (feat_vixOpen, feat_vvixOpen, feat_PrevCluster...\n",
      "TrainAccuracy                                              0.562849\n",
      "TrainPrecision                                             0.565567\n",
      "TestAccuracy                                               0.530628\n",
      "TestPrecision                                              0.546875\n",
      "TestF1                                                     0.646278\n",
      "BestParams        <bound method BaseEstimator.get_params of Logi...\n",
      "TestEquity                                             -1480.078643\n",
      "TestCagr                                                 -271.98995\n",
      "dtype: object\n",
      "143 21:17:37 Trying with following combo ('feat_vixOpen', 'feat_vvixPrevClose', 'feat_Acc', 'feat_PrevCluster')\n",
      "Equity: -1690.1737358886721\n"
     ]
    },
    {
     "name": "stderr",
     "output_type": "stream",
     "text": [
      "C:\\Users\\vitto\\AppData\\Local\\Temp\\ipykernel_10512\\820412064.py:67: SettingWithCopyWarning: \n",
      "A value is trying to be set on a copy of a slice from a DataFrame.\n",
      "Try using .loc[row_indexer,col_indexer] = value instead\n",
      "\n",
      "See the caveats in the documentation: https://pandas.pydata.org/pandas-docs/stable/user_guide/indexing.html#returning-a-view-versus-a-copy\n",
      "  test_data['cluster'] = y_test_pred\n"
     ]
    },
    {
     "name": "stdout",
     "output_type": "stream",
     "text": [
      "Train metrics...\n",
      "Test metrics...\n",
      "DataSetName       (feat_vixOpen, feat_vvixPrevClose, feat_Acc, f...\n",
      "TrainAccuracy                                              0.545455\n",
      "TrainPrecision                                             0.544204\n",
      "TestAccuracy                                               0.532159\n",
      "TestPrecision                                              0.539644\n",
      "TestF1                                                     0.685861\n",
      "BestParams        <bound method BaseEstimator.get_params of Logi...\n",
      "TestEquity                                             -1690.173736\n",
      "TestCagr                                                -310.598543\n",
      "dtype: object\n",
      "144 21:17:37 Trying with following combo ('feat_vixOpen', 'feat_vvixPrevClose', 'feat_Acc', 'feat_bigBodyRange')\n",
      "Equity: -1370.8751519042976\n"
     ]
    },
    {
     "name": "stderr",
     "output_type": "stream",
     "text": [
      "C:\\Users\\vitto\\AppData\\Local\\Temp\\ipykernel_10512\\820412064.py:67: SettingWithCopyWarning: \n",
      "A value is trying to be set on a copy of a slice from a DataFrame.\n",
      "Try using .loc[row_indexer,col_indexer] = value instead\n",
      "\n",
      "See the caveats in the documentation: https://pandas.pydata.org/pandas-docs/stable/user_guide/indexing.html#returning-a-view-versus-a-copy\n",
      "  test_data['cluster'] = y_test_pred\n"
     ]
    },
    {
     "name": "stdout",
     "output_type": "stream",
     "text": [
      "Train metrics...\n",
      "Test metrics...\n",
      "DataSetName       (feat_vixOpen, feat_vvixPrevClose, feat_Acc, f...\n",
      "TrainAccuracy                                              0.544798\n",
      "TrainPrecision                                             0.550898\n",
      "TestAccuracy                                               0.538285\n",
      "TestPrecision                                               0.54944\n",
      "TestF1                                                     0.661426\n",
      "BestParams        <bound method BaseEstimator.get_params of Logi...\n",
      "TestEquity                                             -1370.875152\n",
      "TestCagr                                                -251.921927\n",
      "dtype: object\n",
      "145 21:17:38 Trying with following combo ('feat_vixOpen', 'feat_vvixPrevClose', 'feat_PrevCluster', 'feat_bigBodyRange')\n",
      "Equity: -291.05325249023457\n"
     ]
    },
    {
     "name": "stderr",
     "output_type": "stream",
     "text": [
      "C:\\Users\\vitto\\AppData\\Local\\Temp\\ipykernel_10512\\820412064.py:67: SettingWithCopyWarning: \n",
      "A value is trying to be set on a copy of a slice from a DataFrame.\n",
      "Try using .loc[row_indexer,col_indexer] = value instead\n",
      "\n",
      "See the caveats in the documentation: https://pandas.pydata.org/pandas-docs/stable/user_guide/indexing.html#returning-a-view-versus-a-copy\n",
      "  test_data['cluster'] = y_test_pred\n"
     ]
    },
    {
     "name": "stdout",
     "output_type": "stream",
     "text": [
      "Train metrics...\n",
      "Test metrics...\n",
      "DataSetName       (feat_vixOpen, feat_vvixPrevClose, feat_PrevCl...\n",
      "TrainAccuracy                                               0.54808\n",
      "TrainPrecision                                             0.550438\n",
      "TestAccuracy                                               0.545942\n",
      "TestPrecision                                              0.551237\n",
      "TestF1                                                     0.677892\n",
      "BestParams        <bound method BaseEstimator.get_params of Logi...\n",
      "TestEquity                                              -291.053252\n",
      "TestCagr                                                 -53.486049\n",
      "dtype: object\n",
      "146 21:17:39 Trying with following combo ('feat_vixOpen', 'feat_Acc', 'feat_PrevCluster', 'feat_bigBodyRange')\n",
      "Equity: -47.152251513672034\n"
     ]
    },
    {
     "name": "stderr",
     "output_type": "stream",
     "text": [
      "C:\\Users\\vitto\\AppData\\Local\\Temp\\ipykernel_10512\\820412064.py:67: SettingWithCopyWarning: \n",
      "A value is trying to be set on a copy of a slice from a DataFrame.\n",
      "Try using .loc[row_indexer,col_indexer] = value instead\n",
      "\n",
      "See the caveats in the documentation: https://pandas.pydata.org/pandas-docs/stable/user_guide/indexing.html#returning-a-view-versus-a-copy\n",
      "  test_data['cluster'] = y_test_pred\n"
     ]
    },
    {
     "name": "stdout",
     "output_type": "stream",
     "text": [
      "Train metrics...\n",
      "Test metrics...\n",
      "DataSetName       (feat_vixOpen, feat_Acc, feat_PrevCluster, fea...\n",
      "TrainAccuracy                                              0.550706\n",
      "TrainPrecision                                             0.551104\n",
      "TestAccuracy                                               0.545942\n",
      "TestPrecision                                              0.550435\n",
      "TestF1                                                     0.681011\n",
      "BestParams        <bound method BaseEstimator.get_params of Logi...\n",
      "TestEquity                                               -47.152252\n",
      "TestCagr                                                  -8.665039\n",
      "dtype: object\n",
      "147 21:17:39 Trying with following combo ('feat_vixPrevClose', 'feat_vvixOpen', 'feat_vvixPrevClose', 'feat_Acc')\n",
      "Equity: 5671.620941845701\n"
     ]
    },
    {
     "name": "stderr",
     "output_type": "stream",
     "text": [
      "C:\\Users\\vitto\\AppData\\Local\\Temp\\ipykernel_10512\\820412064.py:67: SettingWithCopyWarning: \n",
      "A value is trying to be set on a copy of a slice from a DataFrame.\n",
      "Try using .loc[row_indexer,col_indexer] = value instead\n",
      "\n",
      "See the caveats in the documentation: https://pandas.pydata.org/pandas-docs/stable/user_guide/indexing.html#returning-a-view-versus-a-copy\n",
      "  test_data['cluster'] = y_test_pred\n"
     ]
    },
    {
     "name": "stdout",
     "output_type": "stream",
     "text": [
      "Train metrics...\n",
      "Test metrics...\n",
      "DataSetName       (feat_vixPrevClose, feat_vvixOpen, feat_vvixPr...\n",
      "TrainAccuracy                                               0.63341\n",
      "TrainPrecision                                             0.628613\n",
      "TestAccuracy                                               0.647014\n",
      "TestPrecision                                              0.640271\n",
      "TestF1                                                     0.710609\n",
      "BestParams        <bound method BaseEstimator.get_params of Logi...\n",
      "TestEquity                                              5671.620942\n",
      "TestCagr                                                 1042.25806\n",
      "dtype: object\n",
      "148 21:17:40 Trying with following combo ('feat_vixPrevClose', 'feat_vvixOpen', 'feat_vvixPrevClose', 'feat_PrevCluster')\n",
      "Equity: 5484.922943798828\n"
     ]
    },
    {
     "name": "stderr",
     "output_type": "stream",
     "text": [
      "C:\\Users\\vitto\\AppData\\Local\\Temp\\ipykernel_10512\\820412064.py:67: SettingWithCopyWarning: \n",
      "A value is trying to be set on a copy of a slice from a DataFrame.\n",
      "Try using .loc[row_indexer,col_indexer] = value instead\n",
      "\n",
      "See the caveats in the documentation: https://pandas.pydata.org/pandas-docs/stable/user_guide/indexing.html#returning-a-view-versus-a-copy\n",
      "  test_data['cluster'] = y_test_pred\n"
     ]
    },
    {
     "name": "stdout",
     "output_type": "stream",
     "text": [
      "Train metrics...\n",
      "Test metrics...\n",
      "DataSetName       (feat_vixPrevClose, feat_vvixOpen, feat_vvixPr...\n",
      "TrainAccuracy                                              0.635707\n",
      "TrainPrecision                                             0.630906\n",
      "TestAccuracy                                               0.644717\n",
      "TestPrecision                                              0.641618\n",
      "TestF1                                                      0.70521\n",
      "BestParams        <bound method BaseEstimator.get_params of Logi...\n",
      "TestEquity                                              5484.922944\n",
      "TestCagr                                                1007.949086\n",
      "dtype: object\n",
      "149 21:17:41 Trying with following combo ('feat_vixPrevClose', 'feat_vvixOpen', 'feat_vvixPrevClose', 'feat_bigBodyRange')\n",
      "Equity: 5126.142060009762\n"
     ]
    },
    {
     "name": "stderr",
     "output_type": "stream",
     "text": [
      "C:\\Users\\vitto\\AppData\\Local\\Temp\\ipykernel_10512\\820412064.py:67: SettingWithCopyWarning: \n",
      "A value is trying to be set on a copy of a slice from a DataFrame.\n",
      "Try using .loc[row_indexer,col_indexer] = value instead\n",
      "\n",
      "See the caveats in the documentation: https://pandas.pydata.org/pandas-docs/stable/user_guide/indexing.html#returning-a-view-versus-a-copy\n",
      "  test_data['cluster'] = y_test_pred\n"
     ]
    },
    {
     "name": "stdout",
     "output_type": "stream",
     "text": [
      "Train metrics...\n",
      "Test metrics...\n",
      "DataSetName       (feat_vixPrevClose, feat_vvixOpen, feat_vvixPr...\n",
      "TrainAccuracy                                              0.638661\n",
      "TrainPrecision                                             0.632533\n",
      "TestAccuracy                                               0.645482\n",
      "TestPrecision                                              0.640091\n",
      "TestF1                                                     0.708255\n",
      "BestParams        <bound method BaseEstimator.get_params of Logi...\n",
      "TestEquity                                               5126.14206\n",
      "TestCagr                                                 942.016918\n",
      "dtype: object\n",
      "150 21:17:41 Trying with following combo ('feat_vixPrevClose', 'feat_vvixOpen', 'feat_Acc', 'feat_PrevCluster')\n",
      "Equity: -1518.2578423339837\n"
     ]
    },
    {
     "name": "stderr",
     "output_type": "stream",
     "text": [
      "C:\\Users\\vitto\\AppData\\Local\\Temp\\ipykernel_10512\\820412064.py:67: SettingWithCopyWarning: \n",
      "A value is trying to be set on a copy of a slice from a DataFrame.\n",
      "Try using .loc[row_indexer,col_indexer] = value instead\n",
      "\n",
      "See the caveats in the documentation: https://pandas.pydata.org/pandas-docs/stable/user_guide/indexing.html#returning-a-view-versus-a-copy\n",
      "  test_data['cluster'] = y_test_pred\n"
     ]
    },
    {
     "name": "stdout",
     "output_type": "stream",
     "text": [
      "Train metrics...\n",
      "Test metrics...\n",
      "DataSetName       (feat_vixPrevClose, feat_vvixOpen, feat_Acc, f...\n",
      "TrainAccuracy                                               0.54808\n",
      "TrainPrecision                                             0.557087\n",
      "TestAccuracy                                               0.522205\n",
      "TestPrecision                                              0.541708\n",
      "TestF1                                                     0.638889\n",
      "BestParams        <bound method BaseEstimator.get_params of Logi...\n",
      "TestEquity                                             -1518.257842\n",
      "TestCagr                                                -279.006035\n",
      "dtype: object\n",
      "151 21:17:42 Trying with following combo ('feat_vixPrevClose', 'feat_vvixOpen', 'feat_Acc', 'feat_bigBodyRange')\n",
      "Equity: -859.6782524902346\n"
     ]
    },
    {
     "name": "stderr",
     "output_type": "stream",
     "text": [
      "C:\\Users\\vitto\\AppData\\Local\\Temp\\ipykernel_10512\\820412064.py:67: SettingWithCopyWarning: \n",
      "A value is trying to be set on a copy of a slice from a DataFrame.\n",
      "Try using .loc[row_indexer,col_indexer] = value instead\n",
      "\n",
      "See the caveats in the documentation: https://pandas.pydata.org/pandas-docs/stable/user_guide/indexing.html#returning-a-view-versus-a-copy\n",
      "  test_data['cluster'] = y_test_pred\n"
     ]
    },
    {
     "name": "stdout",
     "output_type": "stream",
     "text": [
      "Train metrics...\n",
      "Test metrics...\n",
      "DataSetName       (feat_vixPrevClose, feat_vvixOpen, feat_Acc, f...\n",
      "TrainAccuracy                                              0.555957\n",
      "TrainPrecision                                             0.561463\n",
      "TestAccuracy                                               0.535988\n",
      "TestPrecision                                               0.55054\n",
      "TestF1                                                     0.649306\n",
      "BestParams        <bound method BaseEstimator.get_params of Logi...\n",
      "TestEquity                                              -859.678252\n",
      "TestCagr                                                 -157.98069\n",
      "dtype: object\n",
      "152 21:17:42 Trying with following combo ('feat_vixPrevClose', 'feat_vvixOpen', 'feat_PrevCluster', 'feat_bigBodyRange')\n",
      "Equity: -914.6784966308603\n"
     ]
    },
    {
     "name": "stderr",
     "output_type": "stream",
     "text": [
      "C:\\Users\\vitto\\AppData\\Local\\Temp\\ipykernel_10512\\820412064.py:67: SettingWithCopyWarning: \n",
      "A value is trying to be set on a copy of a slice from a DataFrame.\n",
      "Try using .loc[row_indexer,col_indexer] = value instead\n",
      "\n",
      "See the caveats in the documentation: https://pandas.pydata.org/pandas-docs/stable/user_guide/indexing.html#returning-a-view-versus-a-copy\n",
      "  test_data['cluster'] = y_test_pred\n"
     ]
    },
    {
     "name": "stdout",
     "output_type": "stream",
     "text": [
      "Train metrics...\n",
      "Test metrics...\n",
      "DataSetName       (feat_vixPrevClose, feat_vvixOpen, feat_PrevCl...\n",
      "TrainAccuracy                                              0.566787\n",
      "TrainPrecision                                                 0.57\n",
      "TestAccuracy                                               0.531394\n",
      "TestPrecision                                              0.548067\n",
      "TestF1                                                     0.643772\n",
      "BestParams        <bound method BaseEstimator.get_params of Logi...\n",
      "TestEquity                                              -914.678497\n",
      "TestCagr                                                -168.087932\n",
      "dtype: object\n",
      "153 21:17:43 Trying with following combo ('feat_vixPrevClose', 'feat_vvixPrevClose', 'feat_Acc', 'feat_PrevCluster')\n",
      "Equity: -1671.5893853027342\n"
     ]
    },
    {
     "name": "stderr",
     "output_type": "stream",
     "text": [
      "C:\\Users\\vitto\\AppData\\Local\\Temp\\ipykernel_10512\\820412064.py:67: SettingWithCopyWarning: \n",
      "A value is trying to be set on a copy of a slice from a DataFrame.\n",
      "Try using .loc[row_indexer,col_indexer] = value instead\n",
      "\n",
      "See the caveats in the documentation: https://pandas.pydata.org/pandas-docs/stable/user_guide/indexing.html#returning-a-view-versus-a-copy\n",
      "  test_data['cluster'] = y_test_pred\n"
     ]
    },
    {
     "name": "stdout",
     "output_type": "stream",
     "text": [
      "Train metrics...\n",
      "Test metrics...\n",
      "DataSetName       (feat_vixPrevClose, feat_vvixPrevClose, feat_A...\n",
      "TrainAccuracy                                              0.543157\n",
      "TrainPrecision                                              0.54243\n",
      "TestAccuracy                                               0.531394\n",
      "TestPrecision                                              0.538831\n",
      "TestF1                                                     0.687436\n",
      "BestParams        <bound method BaseEstimator.get_params of Logi...\n",
      "TestEquity                                             -1671.589385\n",
      "TestCagr                                                -307.183348\n",
      "dtype: object\n",
      "154 21:17:44 Trying with following combo ('feat_vixPrevClose', 'feat_vvixPrevClose', 'feat_Acc', 'feat_bigBodyRange')\n",
      "Equity: 569.8454291503904\n"
     ]
    },
    {
     "name": "stderr",
     "output_type": "stream",
     "text": [
      "C:\\Users\\vitto\\AppData\\Local\\Temp\\ipykernel_10512\\820412064.py:67: SettingWithCopyWarning: \n",
      "A value is trying to be set on a copy of a slice from a DataFrame.\n",
      "Try using .loc[row_indexer,col_indexer] = value instead\n",
      "\n",
      "See the caveats in the documentation: https://pandas.pydata.org/pandas-docs/stable/user_guide/indexing.html#returning-a-view-versus-a-copy\n",
      "  test_data['cluster'] = y_test_pred\n"
     ]
    },
    {
     "name": "stdout",
     "output_type": "stream",
     "text": [
      "Train metrics...\n",
      "Test metrics...\n",
      "DataSetName       (feat_vixPrevClose, feat_vvixPrevClose, feat_A...\n",
      "TrainAccuracy                                               0.55169\n",
      "TrainPrecision                                             0.553948\n",
      "TestAccuracy                                               0.553599\n",
      "TestPrecision                                              0.556859\n",
      "TestF1                                                     0.679141\n",
      "BestParams        <bound method BaseEstimator.get_params of Logi...\n",
      "TestEquity                                               569.845429\n",
      "TestCagr                                                 104.718915\n",
      "dtype: object\n",
      "155 21:17:44 Trying with following combo ('feat_vixPrevClose', 'feat_vvixPrevClose', 'feat_PrevCluster', 'feat_bigBodyRange')\n",
      "Equity: -215.7541802246093\n"
     ]
    },
    {
     "name": "stderr",
     "output_type": "stream",
     "text": [
      "C:\\Users\\vitto\\AppData\\Local\\Temp\\ipykernel_10512\\820412064.py:67: SettingWithCopyWarning: \n",
      "A value is trying to be set on a copy of a slice from a DataFrame.\n",
      "Try using .loc[row_indexer,col_indexer] = value instead\n",
      "\n",
      "See the caveats in the documentation: https://pandas.pydata.org/pandas-docs/stable/user_guide/indexing.html#returning-a-view-versus-a-copy\n",
      "  test_data['cluster'] = y_test_pred\n"
     ]
    },
    {
     "name": "stdout",
     "output_type": "stream",
     "text": [
      "Train metrics...\n",
      "Test metrics...\n",
      "DataSetName       (feat_vixPrevClose, feat_vvixPrevClose, feat_P...\n",
      "TrainAccuracy                                              0.549065\n",
      "TrainPrecision                                             0.551737\n",
      "TestAccuracy                                               0.543645\n",
      "TestPrecision                                              0.549868\n",
      "TestF1                                                     0.676439\n",
      "BestParams        <bound method BaseEstimator.get_params of Logi...\n",
      "TestEquity                                               -215.75418\n",
      "TestCagr                                                 -39.648548\n",
      "dtype: object\n",
      "156 21:17:45 Trying with following combo ('feat_vixPrevClose', 'feat_Acc', 'feat_PrevCluster', 'feat_bigBodyRange')\n",
      "Equity: 821.5065619628899\n"
     ]
    },
    {
     "name": "stderr",
     "output_type": "stream",
     "text": [
      "C:\\Users\\vitto\\AppData\\Local\\Temp\\ipykernel_10512\\820412064.py:67: SettingWithCopyWarning: \n",
      "A value is trying to be set on a copy of a slice from a DataFrame.\n",
      "Try using .loc[row_indexer,col_indexer] = value instead\n",
      "\n",
      "See the caveats in the documentation: https://pandas.pydata.org/pandas-docs/stable/user_guide/indexing.html#returning-a-view-versus-a-copy\n",
      "  test_data['cluster'] = y_test_pred\n"
     ]
    },
    {
     "name": "stdout",
     "output_type": "stream",
     "text": [
      "Train metrics...\n",
      "Test metrics...\n",
      "DataSetName       (feat_vixPrevClose, feat_Acc, feat_PrevCluster...\n",
      "TrainAccuracy                                              0.552018\n",
      "TrainPrecision                                             0.552682\n",
      "TestAccuracy                                               0.552833\n",
      "TestPrecision                                              0.554969\n",
      "TestF1                                                      0.68364\n",
      "BestParams        <bound method BaseEstimator.get_params of Logi...\n",
      "TestEquity                                               821.506562\n",
      "TestCagr                                                 150.965984\n",
      "dtype: object\n",
      "157 21:17:45 Trying with following combo ('feat_vvixOpen', 'feat_vvixPrevClose', 'feat_Acc', 'feat_PrevCluster')\n",
      "Equity: 5519.522309033203\n"
     ]
    },
    {
     "name": "stderr",
     "output_type": "stream",
     "text": [
      "C:\\Users\\vitto\\AppData\\Local\\Temp\\ipykernel_10512\\820412064.py:67: SettingWithCopyWarning: \n",
      "A value is trying to be set on a copy of a slice from a DataFrame.\n",
      "Try using .loc[row_indexer,col_indexer] = value instead\n",
      "\n",
      "See the caveats in the documentation: https://pandas.pydata.org/pandas-docs/stable/user_guide/indexing.html#returning-a-view-versus-a-copy\n",
      "  test_data['cluster'] = y_test_pred\n"
     ]
    },
    {
     "name": "stdout",
     "output_type": "stream",
     "text": [
      "Train metrics...\n",
      "Test metrics...\n",
      "DataSetName       (feat_vvixOpen, feat_vvixPrevClose, feat_Acc, ...\n",
      "TrainAccuracy                                              0.637348\n",
      "TrainPrecision                                             0.632724\n",
      "TestAccuracy                                               0.648545\n",
      "TestPrecision                                              0.644342\n",
      "TestF1                                                     0.708571\n",
      "BestParams        <bound method BaseEstimator.get_params of Logi...\n",
      "TestEquity                                              5519.522309\n",
      "TestCagr                                                1014.307316\n",
      "dtype: object\n",
      "158 21:17:46 Trying with following combo ('feat_vvixOpen', 'feat_vvixPrevClose', 'feat_Acc', 'feat_bigBodyRange')\n",
      "Equity: 5088.361786572264\n"
     ]
    },
    {
     "name": "stderr",
     "output_type": "stream",
     "text": [
      "C:\\Users\\vitto\\AppData\\Local\\Temp\\ipykernel_10512\\820412064.py:67: SettingWithCopyWarning: \n",
      "A value is trying to be set on a copy of a slice from a DataFrame.\n",
      "Try using .loc[row_indexer,col_indexer] = value instead\n",
      "\n",
      "See the caveats in the documentation: https://pandas.pydata.org/pandas-docs/stable/user_guide/indexing.html#returning-a-view-versus-a-copy\n",
      "  test_data['cluster'] = y_test_pred\n"
     ]
    },
    {
     "name": "stdout",
     "output_type": "stream",
     "text": [
      "Train metrics...\n",
      "Test metrics...\n",
      "DataSetName       (feat_vvixOpen, feat_vvixPrevClose, feat_Acc, ...\n",
      "TrainAccuracy                                              0.638989\n",
      "TrainPrecision                                             0.632583\n",
      "TestAccuracy                                               0.643951\n",
      "TestPrecision                                              0.637698\n",
      "TestF1                                                     0.708464\n",
      "BestParams        <bound method BaseEstimator.get_params of Logi...\n",
      "TestEquity                                              5088.361787\n",
      "TestCagr                                                 935.074141\n",
      "dtype: object\n",
      "159 21:17:47 Trying with following combo ('feat_vvixOpen', 'feat_vvixPrevClose', 'feat_PrevCluster', 'feat_bigBodyRange')\n",
      "Equity: 5135.202362744139\n"
     ]
    },
    {
     "name": "stderr",
     "output_type": "stream",
     "text": [
      "C:\\Users\\vitto\\AppData\\Local\\Temp\\ipykernel_10512\\820412064.py:67: SettingWithCopyWarning: \n",
      "A value is trying to be set on a copy of a slice from a DataFrame.\n",
      "Try using .loc[row_indexer,col_indexer] = value instead\n",
      "\n",
      "See the caveats in the documentation: https://pandas.pydata.org/pandas-docs/stable/user_guide/indexing.html#returning-a-view-versus-a-copy\n",
      "  test_data['cluster'] = y_test_pred\n"
     ]
    },
    {
     "name": "stdout",
     "output_type": "stream",
     "text": [
      "Train metrics...\n",
      "Test metrics...\n",
      "DataSetName       (feat_vvixOpen, feat_vvixPrevClose, feat_PrevC...\n",
      "TrainAccuracy                                              0.639317\n",
      "TrainPrecision                                             0.632893\n",
      "TestAccuracy                                               0.650077\n",
      "TestPrecision                                              0.644165\n",
      "TestF1                                                     0.711308\n",
      "BestParams        <bound method BaseEstimator.get_params of Logi...\n",
      "TestEquity                                              5135.202363\n",
      "TestCagr                                                 943.681904\n",
      "dtype: object\n",
      "160 21:17:47 Trying with following combo ('feat_vvixOpen', 'feat_Acc', 'feat_PrevCluster', 'feat_bigBodyRange')\n",
      "Equity: -1662.0985405761712\n"
     ]
    },
    {
     "name": "stderr",
     "output_type": "stream",
     "text": [
      "C:\\Users\\vitto\\AppData\\Local\\Temp\\ipykernel_10512\\820412064.py:67: SettingWithCopyWarning: \n",
      "A value is trying to be set on a copy of a slice from a DataFrame.\n",
      "Try using .loc[row_indexer,col_indexer] = value instead\n",
      "\n",
      "See the caveats in the documentation: https://pandas.pydata.org/pandas-docs/stable/user_guide/indexing.html#returning-a-view-versus-a-copy\n",
      "  test_data['cluster'] = y_test_pred\n"
     ]
    },
    {
     "name": "stdout",
     "output_type": "stream",
     "text": [
      "Train metrics...\n",
      "Test metrics...\n",
      "DataSetName       (feat_vvixOpen, feat_Acc, feat_PrevCluster, fe...\n",
      "TrainAccuracy                                              0.561208\n",
      "TrainPrecision                                             0.563462\n",
      "TestAccuracy                                               0.529862\n",
      "TestPrecision                                              0.545983\n",
      "TestF1                                                     0.647532\n",
      "BestParams        <bound method BaseEstimator.get_params of Logi...\n",
      "TestEquity                                             -1662.098541\n",
      "TestCagr                                                -305.439242\n",
      "dtype: object\n",
      "161 21:17:48 Trying with following combo ('feat_vvixPrevClose', 'feat_Acc', 'feat_PrevCluster', 'feat_bigBodyRange')\n",
      "Equity: -361.2538140136716\n"
     ]
    },
    {
     "name": "stderr",
     "output_type": "stream",
     "text": [
      "C:\\Users\\vitto\\AppData\\Local\\Temp\\ipykernel_10512\\820412064.py:67: SettingWithCopyWarning: \n",
      "A value is trying to be set on a copy of a slice from a DataFrame.\n",
      "Try using .loc[row_indexer,col_indexer] = value instead\n",
      "\n",
      "See the caveats in the documentation: https://pandas.pydata.org/pandas-docs/stable/user_guide/indexing.html#returning-a-view-versus-a-copy\n",
      "  test_data['cluster'] = y_test_pred\n"
     ]
    },
    {
     "name": "stdout",
     "output_type": "stream",
     "text": [
      "Train metrics...\n",
      "Test metrics...\n",
      "DataSetName       (feat_vvixPrevClose, feat_Acc, feat_PrevCluste...\n",
      "TrainAccuracy                                              0.546767\n",
      "TrainPrecision                                             0.549981\n",
      "TestAccuracy                                               0.546708\n",
      "TestPrecision                                              0.551816\n",
      "TestF1                                                     0.677911\n",
      "BestParams        <bound method BaseEstimator.get_params of Logi...\n",
      "TestEquity                                              -361.253814\n",
      "TestCagr                                                 -66.386612\n",
      "dtype: object\n",
      "162 21:17:49 Trying with following combo ('feat_Open', 'feat_vixOpen', 'feat_vixPrevClose', 'feat_vvixOpen', 'feat_vvixPrevClose')\n",
      "Equity: 4856.101532666014\n"
     ]
    },
    {
     "name": "stderr",
     "output_type": "stream",
     "text": [
      "C:\\Users\\vitto\\AppData\\Local\\Temp\\ipykernel_10512\\820412064.py:67: SettingWithCopyWarning: \n",
      "A value is trying to be set on a copy of a slice from a DataFrame.\n",
      "Try using .loc[row_indexer,col_indexer] = value instead\n",
      "\n",
      "See the caveats in the documentation: https://pandas.pydata.org/pandas-docs/stable/user_guide/indexing.html#returning-a-view-versus-a-copy\n",
      "  test_data['cluster'] = y_test_pred\n"
     ]
    },
    {
     "name": "stdout",
     "output_type": "stream",
     "text": [
      "Train metrics...\n",
      "Test metrics...\n",
      "DataSetName       (feat_Open, feat_vixOpen, feat_vixPrevClose, f...\n",
      "TrainAccuracy                                              0.635379\n",
      "TrainPrecision                                             0.632287\n",
      "TestAccuracy                                               0.638591\n",
      "TestPrecision                                              0.638921\n",
      "TestF1                                                     0.697823\n",
      "BestParams        <bound method BaseEstimator.get_params of Logi...\n",
      "TestEquity                                              4856.101533\n",
      "TestCagr                                                 892.392318\n",
      "dtype: object\n",
      "163 21:17:49 Trying with following combo ('feat_Open', 'feat_vixOpen', 'feat_vixPrevClose', 'feat_vvixOpen', 'feat_Acc')\n",
      "Equity: 3008.6226508300724\n"
     ]
    },
    {
     "name": "stderr",
     "output_type": "stream",
     "text": [
      "C:\\Users\\vitto\\AppData\\Local\\Temp\\ipykernel_10512\\820412064.py:67: SettingWithCopyWarning: \n",
      "A value is trying to be set on a copy of a slice from a DataFrame.\n",
      "Try using .loc[row_indexer,col_indexer] = value instead\n",
      "\n",
      "See the caveats in the documentation: https://pandas.pydata.org/pandas-docs/stable/user_guide/indexing.html#returning-a-view-versus-a-copy\n",
      "  test_data['cluster'] = y_test_pred\n"
     ]
    },
    {
     "name": "stdout",
     "output_type": "stream",
     "text": [
      "Train metrics...\n",
      "Test metrics...\n",
      "DataSetName       (feat_Open, feat_vixOpen, feat_vixPrevClose, f...\n",
      "TrainAccuracy                                              0.600591\n",
      "TrainPrecision                                             0.596285\n",
      "TestAccuracy                                               0.598775\n",
      "TestPrecision                                               0.59893\n",
      "TestF1                                                     0.681265\n",
      "BestParams        <bound method BaseEstimator.get_params of Logi...\n",
      "TestEquity                                              3008.622651\n",
      "TestCagr                                                 552.886245\n",
      "dtype: object\n",
      "164 21:17:50 Trying with following combo ('feat_Open', 'feat_vixOpen', 'feat_vixPrevClose', 'feat_vvixOpen', 'feat_PrevCluster')\n",
      "Equity: 2600.643036572259\n"
     ]
    },
    {
     "name": "stderr",
     "output_type": "stream",
     "text": [
      "C:\\Users\\vitto\\AppData\\Local\\Temp\\ipykernel_10512\\820412064.py:67: SettingWithCopyWarning: \n",
      "A value is trying to be set on a copy of a slice from a DataFrame.\n",
      "Try using .loc[row_indexer,col_indexer] = value instead\n",
      "\n",
      "See the caveats in the documentation: https://pandas.pydata.org/pandas-docs/stable/user_guide/indexing.html#returning-a-view-versus-a-copy\n",
      "  test_data['cluster'] = y_test_pred\n"
     ]
    },
    {
     "name": "stdout",
     "output_type": "stream",
     "text": [
      "Train metrics...\n",
      "Test metrics...\n",
      "DataSetName       (feat_Open, feat_vixOpen, feat_vixPrevClose, f...\n",
      "TrainAccuracy                                              0.603216\n",
      "TrainPrecision                                             0.598723\n",
      "TestAccuracy                                               0.594946\n",
      "TestPrecision                                              0.597192\n",
      "TestF1                                                     0.676453\n",
      "BestParams        <bound method BaseEstimator.get_params of Logi...\n",
      "TestEquity                                              2600.643037\n",
      "TestCagr                                                 477.912962\n",
      "dtype: object\n",
      "165 21:17:50 Trying with following combo ('feat_Open', 'feat_vixOpen', 'feat_vixPrevClose', 'feat_vvixOpen', 'feat_bigBodyRange')\n",
      "Equity: 2951.642426220692\n"
     ]
    },
    {
     "name": "stderr",
     "output_type": "stream",
     "text": [
      "C:\\Users\\vitto\\AppData\\Local\\Temp\\ipykernel_10512\\820412064.py:67: SettingWithCopyWarning: \n",
      "A value is trying to be set on a copy of a slice from a DataFrame.\n",
      "Try using .loc[row_indexer,col_indexer] = value instead\n",
      "\n",
      "See the caveats in the documentation: https://pandas.pydata.org/pandas-docs/stable/user_guide/indexing.html#returning-a-view-versus-a-copy\n",
      "  test_data['cluster'] = y_test_pred\n"
     ]
    },
    {
     "name": "stdout",
     "output_type": "stream",
     "text": [
      "Train metrics...\n",
      "Test metrics...\n",
      "DataSetName       (feat_Open, feat_vixOpen, feat_vixPrevClose, f...\n",
      "TrainAccuracy                                              0.601904\n",
      "TrainPrecision                                             0.597279\n",
      "TestAccuracy                                               0.605666\n",
      "TestPrecision                                              0.603412\n",
      "TestF1                                                      0.68731\n",
      "BestParams        <bound method BaseEstimator.get_params of Logi...\n",
      "TestEquity                                              2951.642426\n",
      "TestCagr                                                 542.415147\n",
      "dtype: object\n",
      "166 21:17:51 Trying with following combo ('feat_Open', 'feat_vixOpen', 'feat_vixPrevClose', 'feat_vvixPrevClose', 'feat_Acc')\n",
      "Equity: 1923.601898876947\n"
     ]
    },
    {
     "name": "stderr",
     "output_type": "stream",
     "text": [
      "C:\\Users\\vitto\\AppData\\Local\\Temp\\ipykernel_10512\\820412064.py:67: SettingWithCopyWarning: \n",
      "A value is trying to be set on a copy of a slice from a DataFrame.\n",
      "Try using .loc[row_indexer,col_indexer] = value instead\n",
      "\n",
      "See the caveats in the documentation: https://pandas.pydata.org/pandas-docs/stable/user_guide/indexing.html#returning-a-view-versus-a-copy\n",
      "  test_data['cluster'] = y_test_pred\n"
     ]
    },
    {
     "name": "stdout",
     "output_type": "stream",
     "text": [
      "Train metrics...\n",
      "Test metrics...\n",
      "DataSetName       (feat_Open, feat_vixOpen, feat_vixPrevClose, f...\n",
      "TrainAccuracy                                               0.58976\n",
      "TrainPrecision                                             0.586572\n",
      "TestAccuracy                                               0.593415\n",
      "TestPrecision                                              0.593291\n",
      "TestF1                                                     0.680698\n",
      "BestParams        <bound method BaseEstimator.get_params of Logi...\n",
      "TestEquity                                              1923.601899\n",
      "TestCagr                                                 353.494989\n",
      "dtype: object\n",
      "167 21:17:52 Trying with following combo ('feat_Open', 'feat_vixOpen', 'feat_vixPrevClose', 'feat_vvixPrevClose', 'feat_PrevCluster')\n",
      "Equity: 2756.1429145019483\n"
     ]
    },
    {
     "name": "stderr",
     "output_type": "stream",
     "text": [
      "C:\\Users\\vitto\\AppData\\Local\\Temp\\ipykernel_10512\\820412064.py:67: SettingWithCopyWarning: \n",
      "A value is trying to be set on a copy of a slice from a DataFrame.\n",
      "Try using .loc[row_indexer,col_indexer] = value instead\n",
      "\n",
      "See the caveats in the documentation: https://pandas.pydata.org/pandas-docs/stable/user_guide/indexing.html#returning-a-view-versus-a-copy\n",
      "  test_data['cluster'] = y_test_pred\n"
     ]
    },
    {
     "name": "stdout",
     "output_type": "stream",
     "text": [
      "Train metrics...\n",
      "Test metrics...\n",
      "DataSetName       (feat_Open, feat_vixOpen, feat_vixPrevClose, f...\n",
      "TrainAccuracy                                              0.588119\n",
      "TrainPrecision                                             0.586038\n",
      "TestAccuracy                                               0.600306\n",
      "TestPrecision                                              0.598525\n",
      "TestF1                                                     0.685163\n",
      "BestParams        <bound method BaseEstimator.get_params of Logi...\n",
      "TestEquity                                              2756.142915\n",
      "TestCagr                                                 506.488744\n",
      "dtype: object\n",
      "168 21:17:52 Trying with following combo ('feat_Open', 'feat_vixOpen', 'feat_vixPrevClose', 'feat_vvixPrevClose', 'feat_bigBodyRange')\n",
      "Equity: 2579.7215277831965\n"
     ]
    },
    {
     "name": "stderr",
     "output_type": "stream",
     "text": [
      "C:\\Users\\vitto\\AppData\\Local\\Temp\\ipykernel_10512\\820412064.py:67: SettingWithCopyWarning: \n",
      "A value is trying to be set on a copy of a slice from a DataFrame.\n",
      "Try using .loc[row_indexer,col_indexer] = value instead\n",
      "\n",
      "See the caveats in the documentation: https://pandas.pydata.org/pandas-docs/stable/user_guide/indexing.html#returning-a-view-versus-a-copy\n",
      "  test_data['cluster'] = y_test_pred\n"
     ]
    },
    {
     "name": "stdout",
     "output_type": "stream",
     "text": [
      "Train metrics...\n",
      "Test metrics...\n",
      "DataSetName       (feat_Open, feat_vixOpen, feat_vixPrevClose, f...\n",
      "TrainAccuracy                                              0.596324\n",
      "TrainPrecision                                             0.591474\n",
      "TestAccuracy                                               0.604135\n",
      "TestPrecision                                              0.601695\n",
      "TestF1                                                     0.687235\n",
      "BestParams        <bound method BaseEstimator.get_params of Logi...\n",
      "TestEquity                                              2579.721528\n",
      "TestCagr                                                 474.068275\n",
      "dtype: object\n",
      "169 21:17:53 Trying with following combo ('feat_Open', 'feat_vixOpen', 'feat_vixPrevClose', 'feat_Acc', 'feat_PrevCluster')\n",
      "Equity: 2741.4207465331983\n"
     ]
    },
    {
     "name": "stderr",
     "output_type": "stream",
     "text": [
      "C:\\Users\\vitto\\AppData\\Local\\Temp\\ipykernel_10512\\820412064.py:67: SettingWithCopyWarning: \n",
      "A value is trying to be set on a copy of a slice from a DataFrame.\n",
      "Try using .loc[row_indexer,col_indexer] = value instead\n",
      "\n",
      "See the caveats in the documentation: https://pandas.pydata.org/pandas-docs/stable/user_guide/indexing.html#returning-a-view-versus-a-copy\n",
      "  test_data['cluster'] = y_test_pred\n"
     ]
    },
    {
     "name": "stdout",
     "output_type": "stream",
     "text": [
      "Train metrics...\n",
      "Test metrics...\n",
      "DataSetName       (feat_Open, feat_vixOpen, feat_vixPrevClose, f...\n",
      "TrainAccuracy                                              0.587135\n",
      "TrainPrecision                                             0.585944\n",
      "TestAccuracy                                               0.601838\n",
      "TestPrecision                                              0.599789\n",
      "TestF1                                                      0.68599\n",
      "BestParams        <bound method BaseEstimator.get_params of Logi...\n",
      "TestEquity                                              2741.420747\n",
      "TestCagr                                                 503.783292\n",
      "dtype: object\n",
      "170 21:17:54 Trying with following combo ('feat_Open', 'feat_vixOpen', 'feat_vixPrevClose', 'feat_Acc', 'feat_bigBodyRange')\n",
      "Equity: 2854.1997992675715\n"
     ]
    },
    {
     "name": "stderr",
     "output_type": "stream",
     "text": [
      "C:\\Users\\vitto\\AppData\\Local\\Temp\\ipykernel_10512\\820412064.py:67: SettingWithCopyWarning: \n",
      "A value is trying to be set on a copy of a slice from a DataFrame.\n",
      "Try using .loc[row_indexer,col_indexer] = value instead\n",
      "\n",
      "See the caveats in the documentation: https://pandas.pydata.org/pandas-docs/stable/user_guide/indexing.html#returning-a-view-versus-a-copy\n",
      "  test_data['cluster'] = y_test_pred\n"
     ]
    },
    {
     "name": "stdout",
     "output_type": "stream",
     "text": [
      "Train metrics...\n",
      "Test metrics...\n",
      "DataSetName       (feat_Open, feat_vixOpen, feat_vixPrevClose, f...\n",
      "TrainAccuracy                                              0.596981\n",
      "TrainPrecision                                             0.592082\n",
      "TestAccuracy                                               0.606432\n",
      "TestPrecision                                              0.603393\n",
      "TestF1                                                     0.688862\n",
      "BestParams        <bound method BaseEstimator.get_params of Logi...\n",
      "TestEquity                                              2854.199799\n",
      "TestCagr                                                 524.508386\n",
      "dtype: object\n",
      "171 21:17:54 Trying with following combo ('feat_Open', 'feat_vixOpen', 'feat_vixPrevClose', 'feat_PrevCluster', 'feat_bigBodyRange')\n",
      "Equity: 3577.4822699706956\n"
     ]
    },
    {
     "name": "stderr",
     "output_type": "stream",
     "text": [
      "C:\\Users\\vitto\\AppData\\Local\\Temp\\ipykernel_10512\\820412064.py:67: SettingWithCopyWarning: \n",
      "A value is trying to be set on a copy of a slice from a DataFrame.\n",
      "Try using .loc[row_indexer,col_indexer] = value instead\n",
      "\n",
      "See the caveats in the documentation: https://pandas.pydata.org/pandas-docs/stable/user_guide/indexing.html#returning-a-view-versus-a-copy\n",
      "  test_data['cluster'] = y_test_pred\n"
     ]
    },
    {
     "name": "stdout",
     "output_type": "stream",
     "text": [
      "Train metrics...\n",
      "Test metrics...\n",
      "DataSetName       (feat_Open, feat_vixOpen, feat_vixPrevClose, f...\n",
      "TrainAccuracy                                              0.595668\n",
      "TrainPrecision                                             0.592593\n",
      "TestAccuracy                                               0.616386\n",
      "TestPrecision                                              0.610638\n",
      "TestF1                                                      0.69618\n",
      "BestParams        <bound method BaseEstimator.get_params of Logi...\n",
      "TestEquity                                               3577.48227\n",
      "TestCagr                                                 657.424001\n",
      "dtype: object\n",
      "172 21:17:55 Trying with following combo ('feat_Open', 'feat_vixOpen', 'feat_vvixOpen', 'feat_vvixPrevClose', 'feat_Acc')\n",
      "Equity: 5284.122162548824\n"
     ]
    },
    {
     "name": "stderr",
     "output_type": "stream",
     "text": [
      "C:\\Users\\vitto\\AppData\\Local\\Temp\\ipykernel_10512\\820412064.py:67: SettingWithCopyWarning: \n",
      "A value is trying to be set on a copy of a slice from a DataFrame.\n",
      "Try using .loc[row_indexer,col_indexer] = value instead\n",
      "\n",
      "See the caveats in the documentation: https://pandas.pydata.org/pandas-docs/stable/user_guide/indexing.html#returning-a-view-versus-a-copy\n",
      "  test_data['cluster'] = y_test_pred\n"
     ]
    },
    {
     "name": "stdout",
     "output_type": "stream",
     "text": [
      "Train metrics...\n",
      "Test metrics...\n",
      "DataSetName       (feat_Open, feat_vixOpen, feat_vvixOpen, feat_...\n",
      "TrainAccuracy                                              0.635051\n",
      "TrainPrecision                                             0.629268\n",
      "TestAccuracy                                               0.644717\n",
      "TestPrecision                                              0.639047\n",
      "TestF1                                                     0.708176\n",
      "BestParams        <bound method BaseEstimator.get_params of Logi...\n",
      "TestEquity                                              5284.122163\n",
      "TestCagr                                                 971.048483\n",
      "dtype: object\n",
      "173 21:17:56 Trying with following combo ('feat_Open', 'feat_vixOpen', 'feat_vvixOpen', 'feat_vvixPrevClose', 'feat_PrevCluster')\n",
      "Equity: 5455.001435009762\n"
     ]
    },
    {
     "name": "stderr",
     "output_type": "stream",
     "text": [
      "C:\\Users\\vitto\\AppData\\Local\\Temp\\ipykernel_10512\\820412064.py:67: SettingWithCopyWarning: \n",
      "A value is trying to be set on a copy of a slice from a DataFrame.\n",
      "Try using .loc[row_indexer,col_indexer] = value instead\n",
      "\n",
      "See the caveats in the documentation: https://pandas.pydata.org/pandas-docs/stable/user_guide/indexing.html#returning-a-view-versus-a-copy\n",
      "  test_data['cluster'] = y_test_pred\n"
     ]
    },
    {
     "name": "stdout",
     "output_type": "stream",
     "text": [
      "Train metrics...\n",
      "Test metrics...\n",
      "DataSetName       (feat_Open, feat_vixOpen, feat_vvixOpen, feat_...\n",
      "TrainAccuracy                                              0.634723\n",
      "TrainPrecision                                             0.630746\n",
      "TestAccuracy                                               0.641654\n",
      "TestPrecision                                              0.640279\n",
      "TestF1                                                     0.701531\n",
      "BestParams        <bound method BaseEstimator.get_params of Logi...\n",
      "TestEquity                                              5455.001435\n",
      "TestCagr                                                1002.450493\n",
      "dtype: object\n",
      "174 21:17:56 Trying with following combo ('feat_Open', 'feat_vixOpen', 'feat_vvixOpen', 'feat_vvixPrevClose', 'feat_bigBodyRange')\n",
      "Equity: 5116.401581494142\n"
     ]
    },
    {
     "name": "stderr",
     "output_type": "stream",
     "text": [
      "C:\\Users\\vitto\\AppData\\Local\\Temp\\ipykernel_10512\\820412064.py:67: SettingWithCopyWarning: \n",
      "A value is trying to be set on a copy of a slice from a DataFrame.\n",
      "Try using .loc[row_indexer,col_indexer] = value instead\n",
      "\n",
      "See the caveats in the documentation: https://pandas.pydata.org/pandas-docs/stable/user_guide/indexing.html#returning-a-view-versus-a-copy\n",
      "  test_data['cluster'] = y_test_pred\n"
     ]
    },
    {
     "name": "stdout",
     "output_type": "stream",
     "text": [
      "Train metrics...\n",
      "Test metrics...\n",
      "DataSetName       (feat_Open, feat_vixOpen, feat_vvixOpen, feat_...\n",
      "TrainAccuracy                                              0.638989\n",
      "TrainPrecision                                             0.632583\n",
      "TestAccuracy                                               0.643951\n",
      "TestPrecision                                              0.637698\n",
      "TestF1                                                     0.708464\n",
      "BestParams        <bound method BaseEstimator.get_params of Logi...\n",
      "TestEquity                                              5116.401581\n",
      "TestCagr                                                 940.226937\n",
      "dtype: object\n",
      "175 21:17:57 Trying with following combo ('feat_Open', 'feat_vixOpen', 'feat_vvixOpen', 'feat_Acc', 'feat_PrevCluster')\n",
      "Equity: -1761.1183159667962\n"
     ]
    },
    {
     "name": "stderr",
     "output_type": "stream",
     "text": [
      "C:\\Users\\vitto\\AppData\\Local\\Temp\\ipykernel_10512\\820412064.py:67: SettingWithCopyWarning: \n",
      "A value is trying to be set on a copy of a slice from a DataFrame.\n",
      "Try using .loc[row_indexer,col_indexer] = value instead\n",
      "\n",
      "See the caveats in the documentation: https://pandas.pydata.org/pandas-docs/stable/user_guide/indexing.html#returning-a-view-versus-a-copy\n",
      "  test_data['cluster'] = y_test_pred\n"
     ]
    },
    {
     "name": "stdout",
     "output_type": "stream",
     "text": [
      "Train metrics...\n",
      "Test metrics...\n",
      "DataSetName       (feat_Open, feat_vixOpen, feat_vvixOpen, feat_...\n",
      "TrainAccuracy                                              0.556285\n",
      "TrainPrecision                                             0.560467\n",
      "TestAccuracy                                               0.522971\n",
      "TestPrecision                                              0.541109\n",
      "TestF1                                                     0.645014\n",
      "BestParams        <bound method BaseEstimator.get_params of Logi...\n",
      "TestEquity                                             -1761.118316\n",
      "TestCagr                                                -323.635831\n",
      "dtype: object\n",
      "176 21:17:58 Trying with following combo ('feat_Open', 'feat_vixOpen', 'feat_vvixOpen', 'feat_Acc', 'feat_bigBodyRange')\n",
      "Equity: -1222.6383354980462\n"
     ]
    },
    {
     "name": "stderr",
     "output_type": "stream",
     "text": [
      "C:\\Users\\vitto\\AppData\\Local\\Temp\\ipykernel_10512\\820412064.py:67: SettingWithCopyWarning: \n",
      "A value is trying to be set on a copy of a slice from a DataFrame.\n",
      "Try using .loc[row_indexer,col_indexer] = value instead\n",
      "\n",
      "See the caveats in the documentation: https://pandas.pydata.org/pandas-docs/stable/user_guide/indexing.html#returning-a-view-versus-a-copy\n",
      "  test_data['cluster'] = y_test_pred\n"
     ]
    },
    {
     "name": "stdout",
     "output_type": "stream",
     "text": [
      "Train metrics...\n",
      "Test metrics...\n",
      "DataSetName       (feat_Open, feat_vixOpen, feat_vvixOpen, feat_...\n",
      "TrainAccuracy                                              0.553988\n",
      "TrainPrecision                                             0.558738\n",
      "TestAccuracy                                               0.535988\n",
      "TestPrecision                                              0.549758\n",
      "TestF1                                                     0.652523\n",
      "BestParams        <bound method BaseEstimator.get_params of Logi...\n",
      "TestEquity                                             -1222.638335\n",
      "TestCagr                                                -224.680858\n",
      "dtype: object\n",
      "177 21:17:58 Trying with following combo ('feat_Open', 'feat_vixOpen', 'feat_vvixOpen', 'feat_PrevCluster', 'feat_bigBodyRange')\n",
      "Equity: -1273.2583306152337\n"
     ]
    },
    {
     "name": "stderr",
     "output_type": "stream",
     "text": [
      "C:\\Users\\vitto\\AppData\\Local\\Temp\\ipykernel_10512\\820412064.py:67: SettingWithCopyWarning: \n",
      "A value is trying to be set on a copy of a slice from a DataFrame.\n",
      "Try using .loc[row_indexer,col_indexer] = value instead\n",
      "\n",
      "See the caveats in the documentation: https://pandas.pydata.org/pandas-docs/stable/user_guide/indexing.html#returning-a-view-versus-a-copy\n",
      "  test_data['cluster'] = y_test_pred\n"
     ]
    },
    {
     "name": "stdout",
     "output_type": "stream",
     "text": [
      "Train metrics...\n",
      "Test metrics...\n",
      "DataSetName       (feat_Open, feat_vixOpen, feat_vvixOpen, feat_...\n",
      "TrainAccuracy                                              0.561536\n",
      "TrainPrecision                                             0.564666\n",
      "TestAccuracy                                               0.531394\n",
      "TestPrecision                                              0.547502\n",
      "TestF1                                                     0.646243\n",
      "BestParams        <bound method BaseEstimator.get_params of Logi...\n",
      "TestEquity                                             -1273.258331\n",
      "TestCagr                                                -233.983154\n",
      "dtype: object\n",
      "178 21:17:59 Trying with following combo ('feat_Open', 'feat_vixOpen', 'feat_vvixPrevClose', 'feat_Acc', 'feat_PrevCluster')\n",
      "Equity: -2131.3550103027333\n"
     ]
    },
    {
     "name": "stderr",
     "output_type": "stream",
     "text": [
      "C:\\Users\\vitto\\AppData\\Local\\Temp\\ipykernel_10512\\820412064.py:67: SettingWithCopyWarning: \n",
      "A value is trying to be set on a copy of a slice from a DataFrame.\n",
      "Try using .loc[row_indexer,col_indexer] = value instead\n",
      "\n",
      "See the caveats in the documentation: https://pandas.pydata.org/pandas-docs/stable/user_guide/indexing.html#returning-a-view-versus-a-copy\n",
      "  test_data['cluster'] = y_test_pred\n"
     ]
    },
    {
     "name": "stdout",
     "output_type": "stream",
     "text": [
      "Train metrics...\n",
      "Test metrics...\n",
      "DataSetName       (feat_Open, feat_vixOpen, feat_vvixPrevClose, ...\n",
      "TrainAccuracy                                              0.541516\n",
      "TrainPrecision                                             0.546953\n",
      "TestAccuracy                                               0.519142\n",
      "TestPrecision                                              0.536258\n",
      "TestF1                                                     0.656079\n",
      "BestParams        <bound method BaseEstimator.get_params of Logi...\n",
      "TestEquity                                              -2131.35501\n",
      "TestCagr                                                -391.673203\n",
      "dtype: object\n",
      "179 21:18:00 Trying with following combo ('feat_Open', 'feat_vixOpen', 'feat_vvixPrevClose', 'feat_Acc', 'feat_bigBodyRange')\n",
      "Equity: 150.4834906738283\n"
     ]
    },
    {
     "name": "stderr",
     "output_type": "stream",
     "text": [
      "C:\\Users\\vitto\\AppData\\Local\\Temp\\ipykernel_10512\\820412064.py:67: SettingWithCopyWarning: \n",
      "A value is trying to be set on a copy of a slice from a DataFrame.\n",
      "Try using .loc[row_indexer,col_indexer] = value instead\n",
      "\n",
      "See the caveats in the documentation: https://pandas.pydata.org/pandas-docs/stable/user_guide/indexing.html#returning-a-view-versus-a-copy\n",
      "  test_data['cluster'] = y_test_pred\n"
     ]
    },
    {
     "name": "stdout",
     "output_type": "stream",
     "text": [
      "Train metrics...\n",
      "Test metrics...\n",
      "DataSetName       (feat_Open, feat_vixOpen, feat_vvixPrevClose, ...\n",
      "TrainAccuracy                                              0.552018\n",
      "TrainPrecision                                             0.555289\n",
      "TestAccuracy                                               0.552833\n",
      "TestPrecision                                               0.55814\n",
      "TestF1                                                     0.672646\n",
      "BestParams        <bound method BaseEstimator.get_params of Logi...\n",
      "TestEquity                                               150.483491\n",
      "TestCagr                                                  27.653934\n",
      "dtype: object\n",
      "180 21:18:00 Trying with following combo ('feat_Open', 'feat_vixOpen', 'feat_vvixPrevClose', 'feat_PrevCluster', 'feat_bigBodyRange')\n",
      "Equity: -1116.436675341798\n"
     ]
    },
    {
     "name": "stderr",
     "output_type": "stream",
     "text": [
      "C:\\Users\\vitto\\AppData\\Local\\Temp\\ipykernel_10512\\820412064.py:67: SettingWithCopyWarning: \n",
      "A value is trying to be set on a copy of a slice from a DataFrame.\n",
      "Try using .loc[row_indexer,col_indexer] = value instead\n",
      "\n",
      "See the caveats in the documentation: https://pandas.pydata.org/pandas-docs/stable/user_guide/indexing.html#returning-a-view-versus-a-copy\n",
      "  test_data['cluster'] = y_test_pred\n"
     ]
    },
    {
     "name": "stdout",
     "output_type": "stream",
     "text": [
      "Train metrics...\n",
      "Test metrics...\n",
      "DataSetName       (feat_Open, feat_vixOpen, feat_vvixPrevClose, ...\n",
      "TrainAccuracy                                              0.548736\n",
      "TrainPrecision                                             0.555188\n",
      "TestAccuracy                                               0.537519\n",
      "TestPrecision                                              0.550143\n",
      "TestF1                                                     0.656036\n",
      "BestParams        <bound method BaseEstimator.get_params of Logi...\n",
      "TestEquity                                             -1116.436675\n",
      "TestCagr                                                -205.164473\n",
      "dtype: object\n",
      "181 21:18:01 Trying with following combo ('feat_Open', 'feat_vixOpen', 'feat_Acc', 'feat_PrevCluster', 'feat_bigBodyRange')\n",
      "Equity: -1115.154204638671\n"
     ]
    },
    {
     "name": "stderr",
     "output_type": "stream",
     "text": [
      "C:\\Users\\vitto\\AppData\\Local\\Temp\\ipykernel_10512\\820412064.py:67: SettingWithCopyWarning: \n",
      "A value is trying to be set on a copy of a slice from a DataFrame.\n",
      "Try using .loc[row_indexer,col_indexer] = value instead\n",
      "\n",
      "See the caveats in the documentation: https://pandas.pydata.org/pandas-docs/stable/user_guide/indexing.html#returning-a-view-versus-a-copy\n",
      "  test_data['cluster'] = y_test_pred\n"
     ]
    },
    {
     "name": "stdout",
     "output_type": "stream",
     "text": [
      "Train metrics...\n",
      "Test metrics...\n",
      "DataSetName       (feat_Open, feat_vixOpen, feat_Acc, feat_PrevC...\n",
      "TrainAccuracy                                              0.551362\n",
      "TrainPrecision                                             0.556468\n",
      "TestAccuracy                                               0.535222\n",
      "TestPrecision                                              0.548664\n",
      "TestF1                                                     0.654525\n",
      "BestParams        <bound method BaseEstimator.get_params of Logi...\n",
      "TestEquity                                             -1115.154205\n",
      "TestCagr                                                -204.928797\n",
      "dtype: object\n",
      "182 21:18:01 Trying with following combo ('feat_Open', 'feat_vixPrevClose', 'feat_vvixOpen', 'feat_vvixPrevClose', 'feat_Acc')\n",
      "Equity: 5584.162689892578\n"
     ]
    },
    {
     "name": "stderr",
     "output_type": "stream",
     "text": [
      "C:\\Users\\vitto\\AppData\\Local\\Temp\\ipykernel_10512\\820412064.py:67: SettingWithCopyWarning: \n",
      "A value is trying to be set on a copy of a slice from a DataFrame.\n",
      "Try using .loc[row_indexer,col_indexer] = value instead\n",
      "\n",
      "See the caveats in the documentation: https://pandas.pydata.org/pandas-docs/stable/user_guide/indexing.html#returning-a-view-versus-a-copy\n",
      "  test_data['cluster'] = y_test_pred\n"
     ]
    },
    {
     "name": "stdout",
     "output_type": "stream",
     "text": [
      "Train metrics...\n",
      "Test metrics...\n",
      "DataSetName       (feat_Open, feat_vixPrevClose, feat_vvixOpen, ...\n",
      "TrainAccuracy                                              0.630128\n",
      "TrainPrecision                                              0.62716\n",
      "TestAccuracy                                               0.643185\n",
      "TestPrecision                                              0.639816\n",
      "TestF1                                                     0.704689\n",
      "BestParams        <bound method BaseEstimator.get_params of Logi...\n",
      "TestEquity                                               5584.16269\n",
      "TestCagr                                                1026.186099\n",
      "dtype: object\n",
      "183 21:18:02 Trying with following combo ('feat_Open', 'feat_vixPrevClose', 'feat_vvixOpen', 'feat_vvixPrevClose', 'feat_PrevCluster')\n",
      "Equity: 5453.702728955076\n"
     ]
    },
    {
     "name": "stderr",
     "output_type": "stream",
     "text": [
      "C:\\Users\\vitto\\AppData\\Local\\Temp\\ipykernel_10512\\820412064.py:67: SettingWithCopyWarning: \n",
      "A value is trying to be set on a copy of a slice from a DataFrame.\n",
      "Try using .loc[row_indexer,col_indexer] = value instead\n",
      "\n",
      "See the caveats in the documentation: https://pandas.pydata.org/pandas-docs/stable/user_guide/indexing.html#returning-a-view-versus-a-copy\n",
      "  test_data['cluster'] = y_test_pred\n"
     ]
    },
    {
     "name": "stdout",
     "output_type": "stream",
     "text": [
      "Train metrics...\n",
      "Test metrics...\n",
      "DataSetName       (feat_Open, feat_vixPrevClose, feat_vvixOpen, ...\n",
      "TrainAccuracy                                              0.635051\n",
      "TrainPrecision                                             0.630929\n",
      "TestAccuracy                                               0.643185\n",
      "TestPrecision                                              0.641444\n",
      "TestF1                                                     0.702806\n",
      "BestParams        <bound method BaseEstimator.get_params of Logi...\n",
      "TestEquity                                              5453.702729\n",
      "TestCagr                                                1002.211834\n",
      "dtype: object\n",
      "184 21:18:03 Trying with following combo ('feat_Open', 'feat_vixPrevClose', 'feat_vvixOpen', 'feat_vvixPrevClose', 'feat_bigBodyRange')\n",
      "Equity: 5095.682099072262\n"
     ]
    },
    {
     "name": "stderr",
     "output_type": "stream",
     "text": [
      "C:\\Users\\vitto\\AppData\\Local\\Temp\\ipykernel_10512\\820412064.py:67: SettingWithCopyWarning: \n",
      "A value is trying to be set on a copy of a slice from a DataFrame.\n",
      "Try using .loc[row_indexer,col_indexer] = value instead\n",
      "\n",
      "See the caveats in the documentation: https://pandas.pydata.org/pandas-docs/stable/user_guide/indexing.html#returning-a-view-versus-a-copy\n",
      "  test_data['cluster'] = y_test_pred\n"
     ]
    },
    {
     "name": "stdout",
     "output_type": "stream",
     "text": [
      "Train metrics...\n",
      "Test metrics...\n",
      "DataSetName       (feat_Open, feat_vixPrevClose, feat_vvixOpen, ...\n",
      "TrainAccuracy                                              0.638661\n",
      "TrainPrecision                                             0.632533\n",
      "TestAccuracy                                               0.644717\n",
      "TestPrecision                                              0.639681\n",
      "TestF1                                                      0.70744\n",
      "BestParams        <bound method BaseEstimator.get_params of Logi...\n",
      "TestEquity                                              5095.682099\n",
      "TestCagr                                                 936.419375\n",
      "dtype: object\n",
      "185 21:18:03 Trying with following combo ('feat_Open', 'feat_vixPrevClose', 'feat_vvixOpen', 'feat_Acc', 'feat_PrevCluster')\n",
      "Equity: -1659.0952446777337\n"
     ]
    },
    {
     "name": "stderr",
     "output_type": "stream",
     "text": [
      "C:\\Users\\vitto\\AppData\\Local\\Temp\\ipykernel_10512\\820412064.py:67: SettingWithCopyWarning: \n",
      "A value is trying to be set on a copy of a slice from a DataFrame.\n",
      "Try using .loc[row_indexer,col_indexer] = value instead\n",
      "\n",
      "See the caveats in the documentation: https://pandas.pydata.org/pandas-docs/stable/user_guide/indexing.html#returning-a-view-versus-a-copy\n",
      "  test_data['cluster'] = y_test_pred\n"
     ]
    },
    {
     "name": "stdout",
     "output_type": "stream",
     "text": [
      "Train metrics...\n",
      "Test metrics...\n",
      "DataSetName       (feat_Open, feat_vixPrevClose, feat_vvixOpen, ...\n",
      "TrainAccuracy                                              0.556941\n",
      "TrainPrecision                                             0.562022\n",
      "TestAccuracy                                               0.525268\n",
      "TestPrecision                                               0.54333\n",
      "TestF1                                                     0.642857\n",
      "BestParams        <bound method BaseEstimator.get_params of Logi...\n",
      "TestEquity                                             -1659.095245\n",
      "TestCagr                                                -304.887334\n",
      "dtype: object\n",
      "186 21:18:04 Trying with following combo ('feat_Open', 'feat_vixPrevClose', 'feat_vvixOpen', 'feat_Acc', 'feat_bigBodyRange')\n",
      "Equity: -311.1963188964839\n"
     ]
    },
    {
     "name": "stderr",
     "output_type": "stream",
     "text": [
      "C:\\Users\\vitto\\AppData\\Local\\Temp\\ipykernel_10512\\820412064.py:67: SettingWithCopyWarning: \n",
      "A value is trying to be set on a copy of a slice from a DataFrame.\n",
      "Try using .loc[row_indexer,col_indexer] = value instead\n",
      "\n",
      "See the caveats in the documentation: https://pandas.pydata.org/pandas-docs/stable/user_guide/indexing.html#returning-a-view-versus-a-copy\n",
      "  test_data['cluster'] = y_test_pred\n"
     ]
    },
    {
     "name": "stdout",
     "output_type": "stream",
     "text": [
      "Train metrics...\n",
      "Test metrics...\n",
      "DataSetName       (feat_Open, feat_vixPrevClose, feat_vvixOpen, ...\n",
      "TrainAccuracy                                              0.559239\n",
      "TrainPrecision                                              0.56316\n",
      "TestAccuracy                                               0.542113\n",
      "TestPrecision                                              0.554146\n",
      "TestF1                                                     0.655133\n",
      "BestParams        <bound method BaseEstimator.get_params of Logi...\n",
      "TestEquity                                              -311.196319\n",
      "TestCagr                                                 -57.187685\n",
      "dtype: object\n",
      "187 21:18:05 Trying with following combo ('feat_Open', 'feat_vixPrevClose', 'feat_vvixOpen', 'feat_PrevCluster', 'feat_bigBodyRange')\n",
      "Equity: -806.6387017089853\n"
     ]
    },
    {
     "name": "stderr",
     "output_type": "stream",
     "text": [
      "C:\\Users\\vitto\\AppData\\Local\\Temp\\ipykernel_10512\\820412064.py:67: SettingWithCopyWarning: \n",
      "A value is trying to be set on a copy of a slice from a DataFrame.\n",
      "Try using .loc[row_indexer,col_indexer] = value instead\n",
      "\n",
      "See the caveats in the documentation: https://pandas.pydata.org/pandas-docs/stable/user_guide/indexing.html#returning-a-view-versus-a-copy\n",
      "  test_data['cluster'] = y_test_pred\n"
     ]
    },
    {
     "name": "stdout",
     "output_type": "stream",
     "text": [
      "Train metrics...\n",
      "Test metrics...\n",
      "DataSetName       (feat_Open, feat_vixPrevClose, feat_vvixOpen, ...\n",
      "TrainAccuracy                                              0.563177\n",
      "TrainPrecision                                             0.567874\n",
      "TestAccuracy                                               0.533691\n",
      "TestPrecision                                              0.549603\n",
      "TestF1                                                     0.645312\n",
      "BestParams        <bound method BaseEstimator.get_params of Logi...\n",
      "TestEquity                                              -806.638702\n",
      "TestCagr                                                -148.233758\n",
      "dtype: object\n",
      "188 21:18:05 Trying with following combo ('feat_Open', 'feat_vixPrevClose', 'feat_vvixPrevClose', 'feat_Acc', 'feat_PrevCluster')\n",
      "Equity: -1320.8735649902344\n"
     ]
    },
    {
     "name": "stderr",
     "output_type": "stream",
     "text": [
      "C:\\Users\\vitto\\AppData\\Local\\Temp\\ipykernel_10512\\820412064.py:67: SettingWithCopyWarning: \n",
      "A value is trying to be set on a copy of a slice from a DataFrame.\n",
      "Try using .loc[row_indexer,col_indexer] = value instead\n",
      "\n",
      "See the caveats in the documentation: https://pandas.pydata.org/pandas-docs/stable/user_guide/indexing.html#returning-a-view-versus-a-copy\n",
      "  test_data['cluster'] = y_test_pred\n"
     ]
    },
    {
     "name": "stdout",
     "output_type": "stream",
     "text": [
      "Train metrics...\n",
      "Test metrics...\n",
      "DataSetName       (feat_Open, feat_vixPrevClose, feat_vvixPrevCl...\n",
      "TrainAccuracy                                              0.538891\n",
      "TrainPrecision                                             0.544003\n",
      "TestAccuracy                                               0.527565\n",
      "TestPrecision                                              0.539384\n",
      "TestF1                                                     0.671284\n",
      "BestParams        <bound method BaseEstimator.get_params of Logi...\n",
      "TestEquity                                             -1320.873565\n",
      "TestCagr                                                -242.733274\n",
      "dtype: object\n",
      "189 21:18:06 Trying with following combo ('feat_Open', 'feat_vixPrevClose', 'feat_vvixPrevClose', 'feat_Acc', 'feat_bigBodyRange')\n",
      "Equity: 121.40158149414033\n"
     ]
    },
    {
     "name": "stderr",
     "output_type": "stream",
     "text": [
      "C:\\Users\\vitto\\AppData\\Local\\Temp\\ipykernel_10512\\820412064.py:67: SettingWithCopyWarning: \n",
      "A value is trying to be set on a copy of a slice from a DataFrame.\n",
      "Try using .loc[row_indexer,col_indexer] = value instead\n",
      "\n",
      "See the caveats in the documentation: https://pandas.pydata.org/pandas-docs/stable/user_guide/indexing.html#returning-a-view-versus-a-copy\n",
      "  test_data['cluster'] = y_test_pred\n"
     ]
    },
    {
     "name": "stdout",
     "output_type": "stream",
     "text": [
      "Train metrics...\n",
      "Test metrics...\n",
      "DataSetName       (feat_Open, feat_vixPrevClose, feat_vvixPrevCl...\n",
      "TrainAccuracy                                               0.54808\n",
      "TrainPrecision                                             0.551778\n",
      "TestAccuracy                                               0.551302\n",
      "TestPrecision                                              0.555858\n",
      "TestF1                                                     0.676243\n",
      "BestParams        <bound method BaseEstimator.get_params of Logi...\n",
      "TestEquity                                               121.401581\n",
      "TestCagr                                                  22.309632\n",
      "dtype: object\n",
      "190 21:18:06 Trying with following combo ('feat_Open', 'feat_vixPrevClose', 'feat_vvixPrevClose', 'feat_PrevCluster', 'feat_bigBodyRange')\n",
      "Equity: -868.4946587402353\n"
     ]
    },
    {
     "name": "stderr",
     "output_type": "stream",
     "text": [
      "C:\\Users\\vitto\\AppData\\Local\\Temp\\ipykernel_10512\\820412064.py:67: SettingWithCopyWarning: \n",
      "A value is trying to be set on a copy of a slice from a DataFrame.\n",
      "Try using .loc[row_indexer,col_indexer] = value instead\n",
      "\n",
      "See the caveats in the documentation: https://pandas.pydata.org/pandas-docs/stable/user_guide/indexing.html#returning-a-view-versus-a-copy\n",
      "  test_data['cluster'] = y_test_pred\n"
     ]
    },
    {
     "name": "stdout",
     "output_type": "stream",
     "text": [
      "Train metrics...\n",
      "Test metrics...\n",
      "DataSetName       (feat_Open, feat_vixPrevClose, feat_vvixPrevCl...\n",
      "TrainAccuracy                                              0.549065\n",
      "TrainPrecision                                             0.553217\n",
      "TestAccuracy                                               0.533691\n",
      "TestPrecision                                              0.545956\n",
      "TestF1                                                     0.661102\n",
      "BestParams        <bound method BaseEstimator.get_params of Logi...\n",
      "TestEquity                                              -868.494659\n",
      "TestCagr                                                -159.600856\n",
      "dtype: object\n",
      "191 21:18:07 Trying with following combo ('feat_Open', 'feat_vixPrevClose', 'feat_Acc', 'feat_PrevCluster', 'feat_bigBodyRange')\n",
      "Equity: -1261.255400927733\n"
     ]
    },
    {
     "name": "stderr",
     "output_type": "stream",
     "text": [
      "C:\\Users\\vitto\\AppData\\Local\\Temp\\ipykernel_10512\\820412064.py:67: SettingWithCopyWarning: \n",
      "A value is trying to be set on a copy of a slice from a DataFrame.\n",
      "Try using .loc[row_indexer,col_indexer] = value instead\n",
      "\n",
      "See the caveats in the documentation: https://pandas.pydata.org/pandas-docs/stable/user_guide/indexing.html#returning-a-view-versus-a-copy\n",
      "  test_data['cluster'] = y_test_pred\n"
     ]
    },
    {
     "name": "stdout",
     "output_type": "stream",
     "text": [
      "Train metrics...\n",
      "Test metrics...\n",
      "DataSetName       (feat_Open, feat_vixPrevClose, feat_Acc, feat_...\n",
      "TrainAccuracy                                              0.551362\n",
      "TrainPrecision                                             0.555066\n",
      "TestAccuracy                                               0.533691\n",
      "TestPrecision                                              0.546125\n",
      "TestF1                                                     0.660346\n",
      "BestParams        <bound method BaseEstimator.get_params of Logi...\n",
      "TestEquity                                             -1261.255401\n",
      "TestCagr                                                -231.777409\n",
      "dtype: object\n",
      "192 21:18:08 Trying with following combo ('feat_Open', 'feat_vvixOpen', 'feat_vvixPrevClose', 'feat_Acc', 'feat_PrevCluster')\n",
      "Equity: 5458.542328564453\n"
     ]
    },
    {
     "name": "stderr",
     "output_type": "stream",
     "text": [
      "C:\\Users\\vitto\\AppData\\Local\\Temp\\ipykernel_10512\\820412064.py:67: SettingWithCopyWarning: \n",
      "A value is trying to be set on a copy of a slice from a DataFrame.\n",
      "Try using .loc[row_indexer,col_indexer] = value instead\n",
      "\n",
      "See the caveats in the documentation: https://pandas.pydata.org/pandas-docs/stable/user_guide/indexing.html#returning-a-view-versus-a-copy\n",
      "  test_data['cluster'] = y_test_pred\n"
     ]
    },
    {
     "name": "stdout",
     "output_type": "stream",
     "text": [
      "Train metrics...\n",
      "Test metrics...\n",
      "DataSetName       (feat_Open, feat_vvixOpen, feat_vvixPrevClose,...\n",
      "TrainAccuracy                                              0.636692\n",
      "TrainPrecision                                             0.631709\n",
      "TestAccuracy                                               0.647779\n",
      "TestPrecision                                              0.643599\n",
      "TestF1                                                     0.708122\n",
      "BestParams        <bound method BaseEstimator.get_params of Logi...\n",
      "TestEquity                                              5458.542329\n",
      "TestCagr                                                1003.101194\n",
      "dtype: object\n",
      "193 21:18:08 Trying with following combo ('feat_Open', 'feat_vvixOpen', 'feat_vvixPrevClose', 'feat_Acc', 'feat_bigBodyRange')\n",
      "Equity: 5150.081757275392\n"
     ]
    },
    {
     "name": "stderr",
     "output_type": "stream",
     "text": [
      "C:\\Users\\vitto\\AppData\\Local\\Temp\\ipykernel_10512\\820412064.py:67: SettingWithCopyWarning: \n",
      "A value is trying to be set on a copy of a slice from a DataFrame.\n",
      "Try using .loc[row_indexer,col_indexer] = value instead\n",
      "\n",
      "See the caveats in the documentation: https://pandas.pydata.org/pandas-docs/stable/user_guide/indexing.html#returning-a-view-versus-a-copy\n",
      "  test_data['cluster'] = y_test_pred\n"
     ]
    },
    {
     "name": "stdout",
     "output_type": "stream",
     "text": [
      "Train metrics...\n",
      "Test metrics...\n",
      "DataSetName       (feat_Open, feat_vvixOpen, feat_vvixPrevClose,...\n",
      "TrainAccuracy                                              0.638989\n",
      "TrainPrecision                                             0.632583\n",
      "TestAccuracy                                               0.644717\n",
      "TestPrecision                                              0.638106\n",
      "TestF1                                                     0.709273\n",
      "BestParams        <bound method BaseEstimator.get_params of Logi...\n",
      "TestEquity                                              5150.081757\n",
      "TestCagr                                                 946.416249\n",
      "dtype: object\n",
      "194 21:18:09 Trying with following combo ('feat_Open', 'feat_vvixOpen', 'feat_vvixPrevClose', 'feat_PrevCluster', 'feat_bigBodyRange')\n",
      "Equity: 5117.222138134765\n"
     ]
    },
    {
     "name": "stderr",
     "output_type": "stream",
     "text": [
      "C:\\Users\\vitto\\AppData\\Local\\Temp\\ipykernel_10512\\820412064.py:67: SettingWithCopyWarning: \n",
      "A value is trying to be set on a copy of a slice from a DataFrame.\n",
      "Try using .loc[row_indexer,col_indexer] = value instead\n",
      "\n",
      "See the caveats in the documentation: https://pandas.pydata.org/pandas-docs/stable/user_guide/indexing.html#returning-a-view-versus-a-copy\n",
      "  test_data['cluster'] = y_test_pred\n"
     ]
    },
    {
     "name": "stdout",
     "output_type": "stream",
     "text": [
      "Train metrics...\n",
      "Test metrics...\n",
      "DataSetName       (feat_Open, feat_vvixOpen, feat_vvixPrevClose,...\n",
      "TrainAccuracy                                              0.638005\n",
      "TrainPrecision                                             0.631914\n",
      "TestAccuracy                                               0.648545\n",
      "TestPrecision                                              0.642694\n",
      "TestF1                                                      0.71041\n",
      "BestParams        <bound method BaseEstimator.get_params of Logi...\n",
      "TestEquity                                              5117.222138\n",
      "TestCagr                                                 940.377728\n",
      "dtype: object\n",
      "195 21:18:10 Trying with following combo ('feat_Open', 'feat_vvixOpen', 'feat_Acc', 'feat_PrevCluster', 'feat_bigBodyRange')\n",
      "Equity: -1651.4590142089837\n"
     ]
    },
    {
     "name": "stderr",
     "output_type": "stream",
     "text": [
      "C:\\Users\\vitto\\AppData\\Local\\Temp\\ipykernel_10512\\820412064.py:67: SettingWithCopyWarning: \n",
      "A value is trying to be set on a copy of a slice from a DataFrame.\n",
      "Try using .loc[row_indexer,col_indexer] = value instead\n",
      "\n",
      "See the caveats in the documentation: https://pandas.pydata.org/pandas-docs/stable/user_guide/indexing.html#returning-a-view-versus-a-copy\n",
      "  test_data['cluster'] = y_test_pred\n"
     ]
    },
    {
     "name": "stdout",
     "output_type": "stream",
     "text": [
      "Train metrics...\n",
      "Test metrics...\n",
      "DataSetName       (feat_Open, feat_vvixOpen, feat_Acc, feat_Prev...\n",
      "TrainAccuracy                                              0.562849\n",
      "TrainPrecision                                             0.564908\n",
      "TestAccuracy                                               0.527565\n",
      "TestPrecision                                              0.544487\n",
      "TestF1                                                     0.646013\n",
      "BestParams        <bound method BaseEstimator.get_params of Logi...\n",
      "TestEquity                                             -1651.459014\n",
      "TestCagr                                                -303.484045\n",
      "dtype: object\n",
      "196 21:18:10 Trying with following combo ('feat_Open', 'feat_vvixPrevClose', 'feat_Acc', 'feat_PrevCluster', 'feat_bigBodyRange')\n",
      "Equity: -757.1745903808603\n"
     ]
    },
    {
     "name": "stderr",
     "output_type": "stream",
     "text": [
      "C:\\Users\\vitto\\AppData\\Local\\Temp\\ipykernel_10512\\820412064.py:67: SettingWithCopyWarning: \n",
      "A value is trying to be set on a copy of a slice from a DataFrame.\n",
      "Try using .loc[row_indexer,col_indexer] = value instead\n",
      "\n",
      "See the caveats in the documentation: https://pandas.pydata.org/pandas-docs/stable/user_guide/indexing.html#returning-a-view-versus-a-copy\n",
      "  test_data['cluster'] = y_test_pred\n"
     ]
    },
    {
     "name": "stdout",
     "output_type": "stream",
     "text": [
      "Train metrics...\n",
      "Test metrics...\n",
      "DataSetName       (feat_Open, feat_vvixPrevClose, feat_Acc, feat...\n",
      "TrainAccuracy                                              0.547424\n",
      "TrainPrecision                                             0.553131\n",
      "TestAccuracy                                               0.539816\n",
      "TestPrecision                                              0.550657\n",
      "TestF1                                                     0.661408\n",
      "BestParams        <bound method BaseEstimator.get_params of Logi...\n",
      "TestEquity                                               -757.17459\n",
      "TestCagr                                                -139.143876\n",
      "dtype: object\n",
      "197 21:18:11 Trying with following combo ('feat_vixOpen', 'feat_vixPrevClose', 'feat_vvixOpen', 'feat_vvixPrevClose', 'feat_Acc')\n",
      "Equity: 4812.980927197262\n"
     ]
    },
    {
     "name": "stderr",
     "output_type": "stream",
     "text": [
      "C:\\Users\\vitto\\AppData\\Local\\Temp\\ipykernel_10512\\820412064.py:67: SettingWithCopyWarning: \n",
      "A value is trying to be set on a copy of a slice from a DataFrame.\n",
      "Try using .loc[row_indexer,col_indexer] = value instead\n",
      "\n",
      "See the caveats in the documentation: https://pandas.pydata.org/pandas-docs/stable/user_guide/indexing.html#returning-a-view-versus-a-copy\n",
      "  test_data['cluster'] = y_test_pred\n"
     ]
    },
    {
     "name": "stdout",
     "output_type": "stream",
     "text": [
      "Train metrics...\n",
      "Test metrics...\n",
      "DataSetName       (feat_vixOpen, feat_vixPrevClose, feat_vvixOpe...\n",
      "TrainAccuracy                                              0.632754\n",
      "TrainPrecision                                             0.630294\n",
      "TestAccuracy                                               0.639357\n",
      "TestPrecision                                              0.638372\n",
      "TestF1                                                     0.699809\n",
      "BestParams        <bound method BaseEstimator.get_params of Logi...\n",
      "TestEquity                                              4812.980927\n",
      "TestCagr                                                 884.468164\n",
      "dtype: object\n",
      "198 21:18:12 Trying with following combo ('feat_vixOpen', 'feat_vixPrevClose', 'feat_vvixOpen', 'feat_vvixPrevClose', 'feat_PrevCluster')\n",
      "Equity: 5015.701752392578\n"
     ]
    },
    {
     "name": "stderr",
     "output_type": "stream",
     "text": [
      "C:\\Users\\vitto\\AppData\\Local\\Temp\\ipykernel_10512\\820412064.py:67: SettingWithCopyWarning: \n",
      "A value is trying to be set on a copy of a slice from a DataFrame.\n",
      "Try using .loc[row_indexer,col_indexer] = value instead\n",
      "\n",
      "See the caveats in the documentation: https://pandas.pydata.org/pandas-docs/stable/user_guide/indexing.html#returning-a-view-versus-a-copy\n",
      "  test_data['cluster'] = y_test_pred\n"
     ]
    },
    {
     "name": "stdout",
     "output_type": "stream",
     "text": [
      "Train metrics...\n",
      "Test metrics...\n",
      "DataSetName       (feat_vixOpen, feat_vixPrevClose, feat_vvixOpe...\n",
      "TrainAccuracy                                              0.632097\n",
      "TrainPrecision                                             0.630576\n",
      "TestAccuracy                                               0.644717\n",
      "TestPrecision                                              0.643948\n",
      "TestF1                                                     0.702564\n",
      "BestParams        <bound method BaseEstimator.get_params of Logi...\n",
      "TestEquity                                              5015.701752\n",
      "TestCagr                                                 921.721608\n",
      "dtype: object\n",
      "199 21:18:12 Trying with following combo ('feat_vixOpen', 'feat_vixPrevClose', 'feat_vvixOpen', 'feat_vvixPrevClose', 'feat_bigBodyRange')\n",
      "Equity: 4468.62167426758\n"
     ]
    },
    {
     "name": "stderr",
     "output_type": "stream",
     "text": [
      "C:\\Users\\vitto\\AppData\\Local\\Temp\\ipykernel_10512\\820412064.py:67: SettingWithCopyWarning: \n",
      "A value is trying to be set on a copy of a slice from a DataFrame.\n",
      "Try using .loc[row_indexer,col_indexer] = value instead\n",
      "\n",
      "See the caveats in the documentation: https://pandas.pydata.org/pandas-docs/stable/user_guide/indexing.html#returning-a-view-versus-a-copy\n",
      "  test_data['cluster'] = y_test_pred\n"
     ]
    },
    {
     "name": "stdout",
     "output_type": "stream",
     "text": [
      "Train metrics...\n",
      "Test metrics...\n",
      "DataSetName       (feat_vixOpen, feat_vixPrevClose, feat_vvixOpe...\n",
      "TrainAccuracy                                              0.639317\n",
      "TrainPrecision                                             0.635142\n",
      "TestAccuracy                                               0.639357\n",
      "TestPrecision                                              0.637413\n",
      "TestF1                                                     0.700952\n",
      "BestParams        <bound method BaseEstimator.get_params of Logi...\n",
      "TestEquity                                              4468.621674\n",
      "TestCagr                                                 821.186219\n",
      "dtype: object\n",
      "200 21:18:13 Trying with following combo ('feat_vixOpen', 'feat_vixPrevClose', 'feat_vvixOpen', 'feat_Acc', 'feat_PrevCluster')\n",
      "Equity: 2630.360810009759\n"
     ]
    },
    {
     "name": "stderr",
     "output_type": "stream",
     "text": [
      "C:\\Users\\vitto\\AppData\\Local\\Temp\\ipykernel_10512\\820412064.py:67: SettingWithCopyWarning: \n",
      "A value is trying to be set on a copy of a slice from a DataFrame.\n",
      "Try using .loc[row_indexer,col_indexer] = value instead\n",
      "\n",
      "See the caveats in the documentation: https://pandas.pydata.org/pandas-docs/stable/user_guide/indexing.html#returning-a-view-versus-a-copy\n",
      "  test_data['cluster'] = y_test_pred\n"
     ]
    },
    {
     "name": "stdout",
     "output_type": "stream",
     "text": [
      "Train metrics...\n",
      "Test metrics...\n",
      "DataSetName       (feat_vixOpen, feat_vixPrevClose, feat_vvixOpe...\n",
      "TrainAccuracy                                              0.606826\n",
      "TrainPrecision                                             0.601742\n",
      "TestAccuracy                                               0.592649\n",
      "TestPrecision                                              0.595676\n",
      "TestF1                                                     0.674419\n",
      "BestParams        <bound method BaseEstimator.get_params of Logi...\n",
      "TestEquity                                               2630.36081\n",
      "TestCagr                                                 483.374115\n",
      "dtype: object\n",
      "201 21:18:13 Trying with following combo ('feat_vixOpen', 'feat_vixPrevClose', 'feat_vvixOpen', 'feat_Acc', 'feat_bigBodyRange')\n",
      "Equity: 3203.521576611317\n"
     ]
    },
    {
     "name": "stderr",
     "output_type": "stream",
     "text": [
      "C:\\Users\\vitto\\AppData\\Local\\Temp\\ipykernel_10512\\820412064.py:67: SettingWithCopyWarning: \n",
      "A value is trying to be set on a copy of a slice from a DataFrame.\n",
      "Try using .loc[row_indexer,col_indexer] = value instead\n",
      "\n",
      "See the caveats in the documentation: https://pandas.pydata.org/pandas-docs/stable/user_guide/indexing.html#returning-a-view-versus-a-copy\n",
      "  test_data['cluster'] = y_test_pred\n"
     ]
    },
    {
     "name": "stdout",
     "output_type": "stream",
     "text": [
      "Train metrics...\n",
      "Test metrics...\n",
      "DataSetName       (feat_vixOpen, feat_vixPrevClose, feat_vvixOpe...\n",
      "TrainAccuracy                                              0.602232\n",
      "TrainPrecision                                             0.597461\n",
      "TestAccuracy                                               0.608729\n",
      "TestPrecision                                              0.605996\n",
      "TestF1                                                     0.688984\n",
      "BestParams        <bound method BaseEstimator.get_params of Logi...\n",
      "TestEquity                                              3203.521577\n",
      "TestCagr                                                 588.702281\n",
      "dtype: object\n",
      "202 21:18:14 Trying with following combo ('feat_vixOpen', 'feat_vixPrevClose', 'feat_vvixOpen', 'feat_PrevCluster', 'feat_bigBodyRange')\n",
      "Equity: 3486.9429633300706\n"
     ]
    },
    {
     "name": "stderr",
     "output_type": "stream",
     "text": [
      "C:\\Users\\vitto\\AppData\\Local\\Temp\\ipykernel_10512\\820412064.py:67: SettingWithCopyWarning: \n",
      "A value is trying to be set on a copy of a slice from a DataFrame.\n",
      "Try using .loc[row_indexer,col_indexer] = value instead\n",
      "\n",
      "See the caveats in the documentation: https://pandas.pydata.org/pandas-docs/stable/user_guide/indexing.html#returning-a-view-versus-a-copy\n",
      "  test_data['cluster'] = y_test_pred\n"
     ]
    },
    {
     "name": "stdout",
     "output_type": "stream",
     "text": [
      "Train metrics...\n",
      "Test metrics...\n",
      "DataSetName       (feat_vixOpen, feat_vixPrevClose, feat_vvixOpe...\n",
      "TrainAccuracy                                              0.610436\n",
      "TrainPrecision                                             0.603929\n",
      "TestAccuracy                                               0.608729\n",
      "TestPrecision                                              0.605544\n",
      "TestF1                                                     0.689739\n",
      "BestParams        <bound method BaseEstimator.get_params of Logi...\n",
      "TestEquity                                              3486.942963\n",
      "TestCagr                                                 640.785843\n",
      "dtype: object\n",
      "203 21:18:15 Trying with following combo ('feat_vixOpen', 'feat_vixPrevClose', 'feat_vvixPrevClose', 'feat_Acc', 'feat_PrevCluster')\n",
      "Equity: 2632.3445746581983\n"
     ]
    },
    {
     "name": "stderr",
     "output_type": "stream",
     "text": [
      "C:\\Users\\vitto\\AppData\\Local\\Temp\\ipykernel_10512\\820412064.py:67: SettingWithCopyWarning: \n",
      "A value is trying to be set on a copy of a slice from a DataFrame.\n",
      "Try using .loc[row_indexer,col_indexer] = value instead\n",
      "\n",
      "See the caveats in the documentation: https://pandas.pydata.org/pandas-docs/stable/user_guide/indexing.html#returning-a-view-versus-a-copy\n",
      "  test_data['cluster'] = y_test_pred\n"
     ]
    },
    {
     "name": "stdout",
     "output_type": "stream",
     "text": [
      "Train metrics...\n",
      "Test metrics...\n",
      "DataSetName       (feat_vixOpen, feat_vixPrevClose, feat_vvixPre...\n",
      "TrainAccuracy                                              0.591401\n",
      "TrainPrecision                                             0.587949\n",
      "TestAccuracy                                               0.605666\n",
      "TestPrecision                                              0.601464\n",
      "TestF1                                                     0.690691\n",
      "BestParams        <bound method BaseEstimator.get_params of Logi...\n",
      "TestEquity                                              2632.344575\n",
      "TestCagr                                                 483.738666\n",
      "dtype: object\n",
      "204 21:18:15 Trying with following combo ('feat_vixOpen', 'feat_vixPrevClose', 'feat_vvixPrevClose', 'feat_Acc', 'feat_bigBodyRange')\n",
      "Equity: 3522.481903759759\n"
     ]
    },
    {
     "name": "stderr",
     "output_type": "stream",
     "text": [
      "C:\\Users\\vitto\\AppData\\Local\\Temp\\ipykernel_10512\\820412064.py:67: SettingWithCopyWarning: \n",
      "A value is trying to be set on a copy of a slice from a DataFrame.\n",
      "Try using .loc[row_indexer,col_indexer] = value instead\n",
      "\n",
      "See the caveats in the documentation: https://pandas.pydata.org/pandas-docs/stable/user_guide/indexing.html#returning-a-view-versus-a-copy\n",
      "  test_data['cluster'] = y_test_pred\n"
     ]
    },
    {
     "name": "stdout",
     "output_type": "stream",
     "text": [
      "Train metrics...\n",
      "Test metrics...\n",
      "DataSetName       (feat_vixOpen, feat_vixPrevClose, feat_vvixPre...\n",
      "TrainAccuracy                                               0.59534\n",
      "TrainPrecision                                             0.590527\n",
      "TestAccuracy                                                 0.6049\n",
      "TestPrecision                                              0.601472\n",
      "TestF1                                                     0.689157\n",
      "BestParams        <bound method BaseEstimator.get_params of Logi...\n",
      "TestEquity                                              3522.481904\n",
      "TestCagr                                                 647.316736\n",
      "dtype: object\n",
      "205 21:18:16 Trying with following combo ('feat_vixOpen', 'feat_vixPrevClose', 'feat_vvixPrevClose', 'feat_PrevCluster', 'feat_bigBodyRange')\n",
      "Equity: 2869.1236273925724\n"
     ]
    },
    {
     "name": "stderr",
     "output_type": "stream",
     "text": [
      "C:\\Users\\vitto\\AppData\\Local\\Temp\\ipykernel_10512\\820412064.py:67: SettingWithCopyWarning: \n",
      "A value is trying to be set on a copy of a slice from a DataFrame.\n",
      "Try using .loc[row_indexer,col_indexer] = value instead\n",
      "\n",
      "See the caveats in the documentation: https://pandas.pydata.org/pandas-docs/stable/user_guide/indexing.html#returning-a-view-versus-a-copy\n",
      "  test_data['cluster'] = y_test_pred\n"
     ]
    },
    {
     "name": "stdout",
     "output_type": "stream",
     "text": [
      "Train metrics...\n",
      "Test metrics...\n",
      "DataSetName       (feat_vixOpen, feat_vixPrevClose, feat_vvixPre...\n",
      "TrainAccuracy                                              0.597965\n",
      "TrainPrecision                                             0.592543\n",
      "TestAccuracy                                               0.606432\n",
      "TestPrecision                                              0.601881\n",
      "TestF1                                                     0.691477\n",
      "BestParams        <bound method BaseEstimator.get_params of Logi...\n",
      "TestEquity                                              2869.123627\n",
      "TestCagr                                                 527.250896\n",
      "dtype: object\n",
      "206 21:18:16 Trying with following combo ('feat_vixOpen', 'feat_vixPrevClose', 'feat_Acc', 'feat_PrevCluster', 'feat_bigBodyRange')\n",
      "Equity: 3286.742645947258\n"
     ]
    },
    {
     "name": "stderr",
     "output_type": "stream",
     "text": [
      "C:\\Users\\vitto\\AppData\\Local\\Temp\\ipykernel_10512\\820412064.py:67: SettingWithCopyWarning: \n",
      "A value is trying to be set on a copy of a slice from a DataFrame.\n",
      "Try using .loc[row_indexer,col_indexer] = value instead\n",
      "\n",
      "See the caveats in the documentation: https://pandas.pydata.org/pandas-docs/stable/user_guide/indexing.html#returning-a-view-versus-a-copy\n",
      "  test_data['cluster'] = y_test_pred\n"
     ]
    },
    {
     "name": "stdout",
     "output_type": "stream",
     "text": [
      "Train metrics...\n",
      "Test metrics...\n",
      "DataSetName       (feat_vixOpen, feat_vixPrevClose, feat_Acc, fe...\n",
      "TrainAccuracy                                              0.600263\n",
      "TrainPrecision                                             0.595324\n",
      "TestAccuracy                                                0.61026\n",
      "TestPrecision                                              0.605485\n",
      "TestF1                                                     0.692818\n",
      "BestParams        <bound method BaseEstimator.get_params of Logi...\n",
      "TestEquity                                              3286.742646\n",
      "TestCagr                                                 603.995586\n",
      "dtype: object\n",
      "207 21:18:17 Trying with following combo ('feat_vixOpen', 'feat_vvixOpen', 'feat_vvixPrevClose', 'feat_Acc', 'feat_PrevCluster')\n",
      "Equity: 5466.261444775389\n"
     ]
    },
    {
     "name": "stderr",
     "output_type": "stream",
     "text": [
      "C:\\Users\\vitto\\AppData\\Local\\Temp\\ipykernel_10512\\820412064.py:67: SettingWithCopyWarning: \n",
      "A value is trying to be set on a copy of a slice from a DataFrame.\n",
      "Try using .loc[row_indexer,col_indexer] = value instead\n",
      "\n",
      "See the caveats in the documentation: https://pandas.pydata.org/pandas-docs/stable/user_guide/indexing.html#returning-a-view-versus-a-copy\n",
      "  test_data['cluster'] = y_test_pred\n"
     ]
    },
    {
     "name": "stdout",
     "output_type": "stream",
     "text": [
      "Train metrics...\n",
      "Test metrics...\n",
      "DataSetName       (feat_vixOpen, feat_vvixOpen, feat_vvixPrevClo...\n",
      "TrainAccuracy                                              0.633738\n",
      "TrainPrecision                                             0.629175\n",
      "TestAccuracy                                               0.645482\n",
      "TestPrecision                                              0.641379\n",
      "TestF1                                                     0.706776\n",
      "BestParams        <bound method BaseEstimator.get_params of Logi...\n",
      "TestEquity                                              5466.261445\n",
      "TestCagr                                                1004.519714\n",
      "dtype: object\n",
      "208 21:18:18 Trying with following combo ('feat_vixOpen', 'feat_vvixOpen', 'feat_vvixPrevClose', 'feat_Acc', 'feat_bigBodyRange')\n",
      "Equity: 5088.361786572264\n"
     ]
    },
    {
     "name": "stderr",
     "output_type": "stream",
     "text": [
      "C:\\Users\\vitto\\AppData\\Local\\Temp\\ipykernel_10512\\820412064.py:67: SettingWithCopyWarning: \n",
      "A value is trying to be set on a copy of a slice from a DataFrame.\n",
      "Try using .loc[row_indexer,col_indexer] = value instead\n",
      "\n",
      "See the caveats in the documentation: https://pandas.pydata.org/pandas-docs/stable/user_guide/indexing.html#returning-a-view-versus-a-copy\n",
      "  test_data['cluster'] = y_test_pred\n"
     ]
    },
    {
     "name": "stdout",
     "output_type": "stream",
     "text": [
      "Train metrics...\n",
      "Test metrics...\n",
      "DataSetName       (feat_vixOpen, feat_vvixOpen, feat_vvixPrevClo...\n",
      "TrainAccuracy                                              0.639317\n",
      "TrainPrecision                                             0.632893\n",
      "TestAccuracy                                               0.643951\n",
      "TestPrecision                                              0.637698\n",
      "TestF1                                                     0.708464\n",
      "BestParams        <bound method BaseEstimator.get_params of Logi...\n",
      "TestEquity                                              5088.361787\n",
      "TestCagr                                                 935.074141\n",
      "dtype: object\n",
      "209 21:18:18 Trying with following combo ('feat_vixOpen', 'feat_vvixOpen', 'feat_vvixPrevClose', 'feat_PrevCluster', 'feat_bigBodyRange')\n",
      "Equity: 5171.422577587885\n"
     ]
    },
    {
     "name": "stderr",
     "output_type": "stream",
     "text": [
      "C:\\Users\\vitto\\AppData\\Local\\Temp\\ipykernel_10512\\820412064.py:67: SettingWithCopyWarning: \n",
      "A value is trying to be set on a copy of a slice from a DataFrame.\n",
      "Try using .loc[row_indexer,col_indexer] = value instead\n",
      "\n",
      "See the caveats in the documentation: https://pandas.pydata.org/pandas-docs/stable/user_guide/indexing.html#returning-a-view-versus-a-copy\n",
      "  test_data['cluster'] = y_test_pred\n"
     ]
    },
    {
     "name": "stdout",
     "output_type": "stream",
     "text": [
      "Train metrics...\n",
      "Test metrics...\n",
      "DataSetName       (feat_vixOpen, feat_vvixOpen, feat_vvixPrevClo...\n",
      "TrainAccuracy                                              0.638989\n",
      "TrainPrecision                                             0.632713\n",
      "TestAccuracy                                               0.650842\n",
      "TestPrecision                                              0.644571\n",
      "TestF1                                                     0.712121\n",
      "BestParams        <bound method BaseEstimator.get_params of Logi...\n",
      "TestEquity                                              5171.422578\n",
      "TestCagr                                                 950.337993\n",
      "dtype: object\n",
      "210 21:18:19 Trying with following combo ('feat_vixOpen', 'feat_vvixOpen', 'feat_Acc', 'feat_PrevCluster', 'feat_bigBodyRange')\n",
      "Equity: -1268.2583306152333\n"
     ]
    },
    {
     "name": "stderr",
     "output_type": "stream",
     "text": [
      "C:\\Users\\vitto\\AppData\\Local\\Temp\\ipykernel_10512\\820412064.py:67: SettingWithCopyWarning: \n",
      "A value is trying to be set on a copy of a slice from a DataFrame.\n",
      "Try using .loc[row_indexer,col_indexer] = value instead\n",
      "\n",
      "See the caveats in the documentation: https://pandas.pydata.org/pandas-docs/stable/user_guide/indexing.html#returning-a-view-versus-a-copy\n",
      "  test_data['cluster'] = y_test_pred\n"
     ]
    },
    {
     "name": "stdout",
     "output_type": "stream",
     "text": [
      "Train metrics...\n",
      "Test metrics...\n",
      "DataSetName       (feat_vixOpen, feat_vvixOpen, feat_Acc, feat_P...\n",
      "TrainAccuracy                                              0.564818\n",
      "TrainPrecision                                             0.566836\n",
      "TestAccuracy                                               0.530628\n",
      "TestPrecision                                              0.547059\n",
      "TestF1                                                      0.64546\n",
      "BestParams        <bound method BaseEstimator.get_params of Logi...\n",
      "TestEquity                                             -1268.258331\n",
      "TestCagr                                                -233.064318\n",
      "dtype: object\n",
      "211 21:18:19 Trying with following combo ('feat_vixOpen', 'feat_vvixPrevClose', 'feat_Acc', 'feat_PrevCluster', 'feat_bigBodyRange')\n",
      "Equity: -361.2538140136716\n"
     ]
    },
    {
     "name": "stderr",
     "output_type": "stream",
     "text": [
      "C:\\Users\\vitto\\AppData\\Local\\Temp\\ipykernel_10512\\820412064.py:67: SettingWithCopyWarning: \n",
      "A value is trying to be set on a copy of a slice from a DataFrame.\n",
      "Try using .loc[row_indexer,col_indexer] = value instead\n",
      "\n",
      "See the caveats in the documentation: https://pandas.pydata.org/pandas-docs/stable/user_guide/indexing.html#returning-a-view-versus-a-copy\n",
      "  test_data['cluster'] = y_test_pred\n"
     ]
    },
    {
     "name": "stdout",
     "output_type": "stream",
     "text": [
      "Train metrics...\n",
      "Test metrics...\n",
      "DataSetName       (feat_vixOpen, feat_vvixPrevClose, feat_Acc, f...\n",
      "TrainAccuracy                                               0.54808\n",
      "TrainPrecision                                             0.550708\n",
      "TestAccuracy                                               0.546708\n",
      "TestPrecision                                              0.551816\n",
      "TestF1                                                     0.677911\n",
      "BestParams        <bound method BaseEstimator.get_params of Logi...\n",
      "TestEquity                                              -361.253814\n",
      "TestCagr                                                 -66.386612\n",
      "dtype: object\n",
      "212 21:18:20 Trying with following combo ('feat_vixPrevClose', 'feat_vvixOpen', 'feat_vvixPrevClose', 'feat_Acc', 'feat_PrevCluster')\n",
      "Equity: 5510.482269970703\n"
     ]
    },
    {
     "name": "stderr",
     "output_type": "stream",
     "text": [
      "C:\\Users\\vitto\\AppData\\Local\\Temp\\ipykernel_10512\\820412064.py:67: SettingWithCopyWarning: \n",
      "A value is trying to be set on a copy of a slice from a DataFrame.\n",
      "Try using .loc[row_indexer,col_indexer] = value instead\n",
      "\n",
      "See the caveats in the documentation: https://pandas.pydata.org/pandas-docs/stable/user_guide/indexing.html#returning-a-view-versus-a-copy\n",
      "  test_data['cluster'] = y_test_pred\n"
     ]
    },
    {
     "name": "stdout",
     "output_type": "stream",
     "text": [
      "Train metrics...\n",
      "Test metrics...\n",
      "DataSetName       (feat_vixPrevClose, feat_vvixOpen, feat_vvixPr...\n",
      "TrainAccuracy                                              0.635379\n",
      "TrainPrecision                                             0.630467\n",
      "TestAccuracy                                               0.647779\n",
      "TestPrecision                                              0.643599\n",
      "TestF1                                                     0.708122\n",
      "BestParams        <bound method BaseEstimator.get_params of Logi...\n",
      "TestEquity                                               5510.48227\n",
      "TestCagr                                                1012.646053\n",
      "dtype: object\n",
      "213 21:18:20 Trying with following combo ('feat_vixPrevClose', 'feat_vvixOpen', 'feat_vvixPrevClose', 'feat_Acc', 'feat_bigBodyRange')\n",
      "Equity: 5095.682099072262\n"
     ]
    },
    {
     "name": "stderr",
     "output_type": "stream",
     "text": [
      "C:\\Users\\vitto\\AppData\\Local\\Temp\\ipykernel_10512\\820412064.py:67: SettingWithCopyWarning: \n",
      "A value is trying to be set on a copy of a slice from a DataFrame.\n",
      "Try using .loc[row_indexer,col_indexer] = value instead\n",
      "\n",
      "See the caveats in the documentation: https://pandas.pydata.org/pandas-docs/stable/user_guide/indexing.html#returning-a-view-versus-a-copy\n",
      "  test_data['cluster'] = y_test_pred\n"
     ]
    },
    {
     "name": "stdout",
     "output_type": "stream",
     "text": [
      "Train metrics...\n",
      "Test metrics...\n",
      "DataSetName       (feat_vixPrevClose, feat_vvixOpen, feat_vvixPr...\n",
      "TrainAccuracy                                              0.638333\n",
      "TrainPrecision                                             0.632353\n",
      "TestAccuracy                                               0.644717\n",
      "TestPrecision                                              0.639681\n",
      "TestF1                                                      0.70744\n",
      "BestParams        <bound method BaseEstimator.get_params of Logi...\n",
      "TestEquity                                              5095.682099\n",
      "TestCagr                                                 936.419375\n",
      "dtype: object\n",
      "214 21:18:21 Trying with following combo ('feat_vixPrevClose', 'feat_vvixOpen', 'feat_vvixPrevClose', 'feat_PrevCluster', 'feat_bigBodyRange')\n",
      "Equity: 5240.38143989258\n"
     ]
    },
    {
     "name": "stderr",
     "output_type": "stream",
     "text": [
      "C:\\Users\\vitto\\AppData\\Local\\Temp\\ipykernel_10512\\820412064.py:67: SettingWithCopyWarning: \n",
      "A value is trying to be set on a copy of a slice from a DataFrame.\n",
      "Try using .loc[row_indexer,col_indexer] = value instead\n",
      "\n",
      "See the caveats in the documentation: https://pandas.pydata.org/pandas-docs/stable/user_guide/indexing.html#returning-a-view-versus-a-copy\n",
      "  test_data['cluster'] = y_test_pred\n"
     ]
    },
    {
     "name": "stdout",
     "output_type": "stream",
     "text": [
      "Train metrics...\n",
      "Test metrics...\n",
      "DataSetName       (feat_vixPrevClose, feat_vvixOpen, feat_vvixPr...\n",
      "TrainAccuracy                                              0.638005\n",
      "TrainPrecision                                             0.631914\n",
      "TestAccuracy                                               0.651608\n",
      "TestPrecision                                              0.645309\n",
      "TestF1                                                     0.712571\n",
      "BestParams        <bound method BaseEstimator.get_params of Logi...\n",
      "TestEquity                                               5240.38144\n",
      "TestCagr                                                 963.010372\n",
      "dtype: object\n",
      "215 21:18:22 Trying with following combo ('feat_vixPrevClose', 'feat_vvixOpen', 'feat_Acc', 'feat_PrevCluster', 'feat_bigBodyRange')\n",
      "Equity: -602.9783013183599\n"
     ]
    },
    {
     "name": "stderr",
     "output_type": "stream",
     "text": [
      "C:\\Users\\vitto\\AppData\\Local\\Temp\\ipykernel_10512\\820412064.py:67: SettingWithCopyWarning: \n",
      "A value is trying to be set on a copy of a slice from a DataFrame.\n",
      "Try using .loc[row_indexer,col_indexer] = value instead\n",
      "\n",
      "See the caveats in the documentation: https://pandas.pydata.org/pandas-docs/stable/user_guide/indexing.html#returning-a-view-versus-a-copy\n",
      "  test_data['cluster'] = y_test_pred\n"
     ]
    },
    {
     "name": "stdout",
     "output_type": "stream",
     "text": [
      "Train metrics...\n",
      "Test metrics...\n",
      "DataSetName       (feat_vixPrevClose, feat_vvixOpen, feat_Acc, f...\n",
      "TrainAccuracy                                              0.566459\n",
      "TrainPrecision                                             0.569996\n",
      "TestAccuracy                                               0.533691\n",
      "TestPrecision                                              0.549702\n",
      "TestF1                                                     0.644898\n",
      "BestParams        <bound method BaseEstimator.get_params of Logi...\n",
      "TestEquity                                              -602.978301\n",
      "TestCagr                                                -110.807651\n",
      "dtype: object\n",
      "216 21:18:22 Trying with following combo ('feat_vixPrevClose', 'feat_vvixPrevClose', 'feat_Acc', 'feat_PrevCluster', 'feat_bigBodyRange')\n",
      "Equity: 35.205536572265366\n"
     ]
    },
    {
     "name": "stderr",
     "output_type": "stream",
     "text": [
      "C:\\Users\\vitto\\AppData\\Local\\Temp\\ipykernel_10512\\820412064.py:67: SettingWithCopyWarning: \n",
      "A value is trying to be set on a copy of a slice from a DataFrame.\n",
      "Try using .loc[row_indexer,col_indexer] = value instead\n",
      "\n",
      "See the caveats in the documentation: https://pandas.pydata.org/pandas-docs/stable/user_guide/indexing.html#returning-a-view-versus-a-copy\n",
      "  test_data['cluster'] = y_test_pred\n"
     ]
    },
    {
     "name": "stdout",
     "output_type": "stream",
     "text": [
      "Train metrics...\n",
      "Test metrics...\n",
      "DataSetName       (feat_vixPrevClose, feat_vvixPrevClose, feat_A...\n",
      "TrainAccuracy                                              0.549393\n",
      "TrainPrecision                                             0.551991\n",
      "TestAccuracy                                               0.547473\n",
      "TestPrecision                                               0.55212\n",
      "TestF1                                                     0.678979\n",
      "BestParams        <bound method BaseEstimator.get_params of Logi...\n",
      "TestEquity                                                35.205537\n",
      "TestCagr                                                   6.469624\n",
      "dtype: object\n",
      "217 21:18:23 Trying with following combo ('feat_vvixOpen', 'feat_vvixPrevClose', 'feat_Acc', 'feat_PrevCluster', 'feat_bigBodyRange')\n",
      "Equity: 5267.621552197262\n"
     ]
    },
    {
     "name": "stderr",
     "output_type": "stream",
     "text": [
      "C:\\Users\\vitto\\AppData\\Local\\Temp\\ipykernel_10512\\820412064.py:67: SettingWithCopyWarning: \n",
      "A value is trying to be set on a copy of a slice from a DataFrame.\n",
      "Try using .loc[row_indexer,col_indexer] = value instead\n",
      "\n",
      "See the caveats in the documentation: https://pandas.pydata.org/pandas-docs/stable/user_guide/indexing.html#returning-a-view-versus-a-copy\n",
      "  test_data['cluster'] = y_test_pred\n"
     ]
    },
    {
     "name": "stdout",
     "output_type": "stream",
     "text": [
      "Train metrics...\n",
      "Test metrics...\n",
      "DataSetName       (feat_vvixOpen, feat_vvixPrevClose, feat_Acc, ...\n",
      "TrainAccuracy                                              0.638333\n",
      "TrainPrecision                                             0.632613\n",
      "TestAccuracy                                               0.650077\n",
      "TestPrecision                                              0.645161\n",
      "TestF1                                                     0.710209\n",
      "BestParams        <bound method BaseEstimator.get_params of Logi...\n",
      "TestEquity                                              5267.621552\n",
      "TestCagr                                                 968.016212\n",
      "dtype: object\n",
      "218 21:18:24 Trying with following combo ('feat_Open', 'feat_vixOpen', 'feat_vixPrevClose', 'feat_vvixOpen', 'feat_vvixPrevClose', 'feat_Acc')\n",
      "Equity: 5461.761810986326\n"
     ]
    },
    {
     "name": "stderr",
     "output_type": "stream",
     "text": [
      "C:\\Users\\vitto\\AppData\\Local\\Temp\\ipykernel_10512\\820412064.py:67: SettingWithCopyWarning: \n",
      "A value is trying to be set on a copy of a slice from a DataFrame.\n",
      "Try using .loc[row_indexer,col_indexer] = value instead\n",
      "\n",
      "See the caveats in the documentation: https://pandas.pydata.org/pandas-docs/stable/user_guide/indexing.html#returning-a-view-versus-a-copy\n",
      "  test_data['cluster'] = y_test_pred\n"
     ]
    },
    {
     "name": "stdout",
     "output_type": "stream",
     "text": [
      "Train metrics...\n",
      "Test metrics...\n",
      "DataSetName       (feat_Open, feat_vixOpen, feat_vixPrevClose, f...\n",
      "TrainAccuracy                                               0.63702\n",
      "TrainPrecision                                             0.634673\n",
      "TestAccuracy                                               0.637825\n",
      "TestPrecision                                              0.639151\n",
      "TestF1                                                     0.696211\n",
      "BestParams        <bound method BaseEstimator.get_params of Logi...\n",
      "TestEquity                                              5461.761811\n",
      "TestCagr                                                1003.692829\n",
      "dtype: object\n",
      "219 21:18:24 Trying with following combo ('feat_Open', 'feat_vixOpen', 'feat_vixPrevClose', 'feat_vvixOpen', 'feat_vvixPrevClose', 'feat_PrevCluster')\n",
      "Equity: 5057.102020947265\n"
     ]
    },
    {
     "name": "stderr",
     "output_type": "stream",
     "text": [
      "C:\\Users\\vitto\\AppData\\Local\\Temp\\ipykernel_10512\\820412064.py:67: SettingWithCopyWarning: \n",
      "A value is trying to be set on a copy of a slice from a DataFrame.\n",
      "Try using .loc[row_indexer,col_indexer] = value instead\n",
      "\n",
      "See the caveats in the documentation: https://pandas.pydata.org/pandas-docs/stable/user_guide/indexing.html#returning-a-view-versus-a-copy\n",
      "  test_data['cluster'] = y_test_pred\n"
     ]
    },
    {
     "name": "stdout",
     "output_type": "stream",
     "text": [
      "Train metrics...\n",
      "Test metrics...\n",
      "DataSetName       (feat_Open, feat_vixOpen, feat_vixPrevClose, f...\n",
      "TrainAccuracy                                               0.63341\n",
      "TrainPrecision                                             0.630923\n",
      "TestAccuracy                                               0.638591\n",
      "TestPrecision                                              0.640237\n",
      "TestF1                                                     0.696268\n",
      "BestParams        <bound method BaseEstimator.get_params of Logi...\n",
      "TestEquity                                              5057.102021\n",
      "TestCagr                                                 929.329621\n",
      "dtype: object\n",
      "220 21:18:25 Trying with following combo ('feat_Open', 'feat_vixOpen', 'feat_vixPrevClose', 'feat_vvixOpen', 'feat_vvixPrevClose', 'feat_bigBodyRange')\n",
      "Equity: 4334.061981884765\n"
     ]
    },
    {
     "name": "stderr",
     "output_type": "stream",
     "text": [
      "C:\\Users\\vitto\\AppData\\Local\\Temp\\ipykernel_10512\\820412064.py:67: SettingWithCopyWarning: \n",
      "A value is trying to be set on a copy of a slice from a DataFrame.\n",
      "Try using .loc[row_indexer,col_indexer] = value instead\n",
      "\n",
      "See the caveats in the documentation: https://pandas.pydata.org/pandas-docs/stable/user_guide/indexing.html#returning-a-view-versus-a-copy\n",
      "  test_data['cluster'] = y_test_pred\n"
     ]
    },
    {
     "name": "stdout",
     "output_type": "stream",
     "text": [
      "Train metrics...\n",
      "Test metrics...\n",
      "DataSetName       (feat_Open, feat_vixOpen, feat_vixPrevClose, f...\n",
      "TrainAccuracy                                              0.638989\n",
      "TrainPrecision                                             0.634692\n",
      "TestAccuracy                                               0.637825\n",
      "TestPrecision                                              0.635945\n",
      "TestF1                                                     0.700063\n",
      "BestParams        <bound method BaseEstimator.get_params of Logi...\n",
      "TestEquity                                              4334.061982\n",
      "TestCagr                                                 796.458557\n",
      "dtype: object\n",
      "221 21:18:26 Trying with following combo ('feat_Open', 'feat_vixOpen', 'feat_vixPrevClose', 'feat_vvixOpen', 'feat_Acc', 'feat_PrevCluster')\n",
      "Equity: 2589.842987744134\n"
     ]
    },
    {
     "name": "stderr",
     "output_type": "stream",
     "text": [
      "C:\\Users\\vitto\\AppData\\Local\\Temp\\ipykernel_10512\\820412064.py:67: SettingWithCopyWarning: \n",
      "A value is trying to be set on a copy of a slice from a DataFrame.\n",
      "Try using .loc[row_indexer,col_indexer] = value instead\n",
      "\n",
      "See the caveats in the documentation: https://pandas.pydata.org/pandas-docs/stable/user_guide/indexing.html#returning-a-view-versus-a-copy\n",
      "  test_data['cluster'] = y_test_pred\n"
     ]
    },
    {
     "name": "stdout",
     "output_type": "stream",
     "text": [
      "Train metrics...\n",
      "Test metrics...\n",
      "DataSetName       (feat_Open, feat_vixOpen, feat_vixPrevClose, f...\n",
      "TrainAccuracy                                              0.606498\n",
      "TrainPrecision                                             0.601188\n",
      "TestAccuracy                                               0.594181\n",
      "TestPrecision                                              0.596757\n",
      "TestF1                                                     0.675643\n",
      "BestParams        <bound method BaseEstimator.get_params of Logi...\n",
      "TestEquity                                              2589.842988\n",
      "TestCagr                                                 475.928267\n",
      "dtype: object\n",
      "222 21:18:26 Trying with following combo ('feat_Open', 'feat_vixOpen', 'feat_vixPrevClose', 'feat_vvixOpen', 'feat_Acc', 'feat_bigBodyRange')\n",
      "Equity: 3440.722016064443\n"
     ]
    },
    {
     "name": "stderr",
     "output_type": "stream",
     "text": [
      "C:\\Users\\vitto\\AppData\\Local\\Temp\\ipykernel_10512\\820412064.py:67: SettingWithCopyWarning: \n",
      "A value is trying to be set on a copy of a slice from a DataFrame.\n",
      "Try using .loc[row_indexer,col_indexer] = value instead\n",
      "\n",
      "See the caveats in the documentation: https://pandas.pydata.org/pandas-docs/stable/user_guide/indexing.html#returning-a-view-versus-a-copy\n",
      "  test_data['cluster'] = y_test_pred\n"
     ]
    },
    {
     "name": "stdout",
     "output_type": "stream",
     "text": [
      "Train metrics...\n",
      "Test metrics...\n",
      "DataSetName       (feat_Open, feat_vixOpen, feat_vixPrevClose, f...\n",
      "TrainAccuracy                                              0.605514\n",
      "TrainPrecision                                             0.599638\n",
      "TestAccuracy                                               0.607198\n",
      "TestPrecision                                              0.603814\n",
      "TestF1                                                     0.689655\n",
      "BestParams        <bound method BaseEstimator.get_params of Logi...\n",
      "TestEquity                                              3440.722016\n",
      "TestCagr                                                 632.291948\n",
      "dtype: object\n",
      "223 21:18:27 Trying with following combo ('feat_Open', 'feat_vixOpen', 'feat_vixPrevClose', 'feat_vvixOpen', 'feat_PrevCluster', 'feat_bigBodyRange')\n",
      "Equity: 3738.982514111319\n"
     ]
    },
    {
     "name": "stderr",
     "output_type": "stream",
     "text": [
      "C:\\Users\\vitto\\AppData\\Local\\Temp\\ipykernel_10512\\820412064.py:67: SettingWithCopyWarning: \n",
      "A value is trying to be set on a copy of a slice from a DataFrame.\n",
      "Try using .loc[row_indexer,col_indexer] = value instead\n",
      "\n",
      "See the caveats in the documentation: https://pandas.pydata.org/pandas-docs/stable/user_guide/indexing.html#returning-a-view-versus-a-copy\n",
      "  test_data['cluster'] = y_test_pred\n"
     ]
    },
    {
     "name": "stdout",
     "output_type": "stream",
     "text": [
      "Train metrics...\n",
      "Test metrics...\n",
      "DataSetName       (feat_Open, feat_vixOpen, feat_vixPrevClose, f...\n",
      "TrainAccuracy                                              0.610765\n",
      "TrainPrecision                                             0.603542\n",
      "TestAccuracy                                               0.613323\n",
      "TestPrecision                                              0.608511\n",
      "TestF1                                                     0.693754\n",
      "BestParams        <bound method BaseEstimator.get_params of Logi...\n",
      "TestEquity                                              3738.982514\n",
      "TestCagr                                                 687.102453\n",
      "dtype: object\n",
      "224 21:18:27 Trying with following combo ('feat_Open', 'feat_vixOpen', 'feat_vixPrevClose', 'feat_vvixPrevClose', 'feat_Acc', 'feat_PrevCluster')\n",
      "Equity: 2650.502411572261\n"
     ]
    },
    {
     "name": "stderr",
     "output_type": "stream",
     "text": [
      "C:\\Users\\vitto\\AppData\\Local\\Temp\\ipykernel_10512\\820412064.py:67: SettingWithCopyWarning: \n",
      "A value is trying to be set on a copy of a slice from a DataFrame.\n",
      "Try using .loc[row_indexer,col_indexer] = value instead\n",
      "\n",
      "See the caveats in the documentation: https://pandas.pydata.org/pandas-docs/stable/user_guide/indexing.html#returning-a-view-versus-a-copy\n",
      "  test_data['cluster'] = y_test_pred\n"
     ]
    },
    {
     "name": "stdout",
     "output_type": "stream",
     "text": [
      "Train metrics...\n",
      "Test metrics...\n",
      "DataSetName       (feat_Open, feat_vixOpen, feat_vixPrevClose, f...\n",
      "TrainAccuracy                                              0.587463\n",
      "TrainPrecision                                             0.585976\n",
      "TestAccuracy                                               0.598009\n",
      "TestPrecision                                              0.597252\n",
      "TestF1                                                     0.682779\n",
      "BestParams        <bound method BaseEstimator.get_params of Logi...\n",
      "TestEquity                                              2650.502412\n",
      "TestCagr                                                 487.075481\n",
      "dtype: object\n",
      "225 21:18:28 Trying with following combo ('feat_Open', 'feat_vixOpen', 'feat_vixPrevClose', 'feat_vvixPrevClose', 'feat_Acc', 'feat_bigBodyRange')\n",
      "Equity: 2661.9017035644465\n"
     ]
    },
    {
     "name": "stderr",
     "output_type": "stream",
     "text": [
      "C:\\Users\\vitto\\AppData\\Local\\Temp\\ipykernel_10512\\820412064.py:67: SettingWithCopyWarning: \n",
      "A value is trying to be set on a copy of a slice from a DataFrame.\n",
      "Try using .loc[row_indexer,col_indexer] = value instead\n",
      "\n",
      "See the caveats in the documentation: https://pandas.pydata.org/pandas-docs/stable/user_guide/indexing.html#returning-a-view-versus-a-copy\n",
      "  test_data['cluster'] = y_test_pred\n"
     ]
    },
    {
     "name": "stdout",
     "output_type": "stream",
     "text": [
      "Train metrics...\n",
      "Test metrics...\n",
      "DataSetName       (feat_Open, feat_vixOpen, feat_vixPrevClose, f...\n",
      "TrainAccuracy                                              0.596981\n",
      "TrainPrecision                                             0.591918\n",
      "TestAccuracy                                               0.606432\n",
      "TestPrecision                                              0.603393\n",
      "TestF1                                                     0.688862\n",
      "BestParams        <bound method BaseEstimator.get_params of Logi...\n",
      "TestEquity                                              2661.901704\n",
      "TestCagr                                                 489.170298\n",
      "dtype: object\n",
      "226 21:18:29 Trying with following combo ('feat_Open', 'feat_vixOpen', 'feat_vixPrevClose', 'feat_vvixPrevClose', 'feat_PrevCluster', 'feat_bigBodyRange')\n",
      "Equity: 3271.2017523925724\n"
     ]
    },
    {
     "name": "stderr",
     "output_type": "stream",
     "text": [
      "C:\\Users\\vitto\\AppData\\Local\\Temp\\ipykernel_10512\\820412064.py:67: SettingWithCopyWarning: \n",
      "A value is trying to be set on a copy of a slice from a DataFrame.\n",
      "Try using .loc[row_indexer,col_indexer] = value instead\n",
      "\n",
      "See the caveats in the documentation: https://pandas.pydata.org/pandas-docs/stable/user_guide/indexing.html#returning-a-view-versus-a-copy\n",
      "  test_data['cluster'] = y_test_pred\n"
     ]
    },
    {
     "name": "stdout",
     "output_type": "stream",
     "text": [
      "Train metrics...\n",
      "Test metrics...\n",
      "DataSetName       (feat_Open, feat_vixOpen, feat_vixPrevClose, f...\n",
      "TrainAccuracy                                              0.595011\n",
      "TrainPrecision                                             0.591071\n",
      "TestAccuracy                                               0.608729\n",
      "TestPrecision                                               0.60443\n",
      "TestF1                                                     0.691611\n",
      "BestParams        <bound method BaseEstimator.get_params of Logi...\n",
      "TestEquity                                              3271.201752\n",
      "TestCagr                                                 601.139679\n",
      "dtype: object\n",
      "227 21:18:29 Trying with following combo ('feat_Open', 'feat_vixOpen', 'feat_vixPrevClose', 'feat_Acc', 'feat_PrevCluster', 'feat_bigBodyRange')\n",
      "Equity: 3177.603241650383\n"
     ]
    },
    {
     "name": "stderr",
     "output_type": "stream",
     "text": [
      "C:\\Users\\vitto\\AppData\\Local\\Temp\\ipykernel_10512\\820412064.py:67: SettingWithCopyWarning: \n",
      "A value is trying to be set on a copy of a slice from a DataFrame.\n",
      "Try using .loc[row_indexer,col_indexer] = value instead\n",
      "\n",
      "See the caveats in the documentation: https://pandas.pydata.org/pandas-docs/stable/user_guide/indexing.html#returning-a-view-versus-a-copy\n",
      "  test_data['cluster'] = y_test_pred\n"
     ]
    },
    {
     "name": "stdout",
     "output_type": "stream",
     "text": [
      "Train metrics...\n",
      "Test metrics...\n",
      "DataSetName       (feat_Open, feat_vixOpen, feat_vixPrevClose, f...\n",
      "TrainAccuracy                                              0.597637\n",
      "TrainPrecision                                             0.593525\n",
      "TestAccuracy                                               0.607198\n",
      "TestPrecision                                              0.604034\n",
      "TestF1                                                     0.689279\n",
      "BestParams        <bound method BaseEstimator.get_params of Logi...\n",
      "TestEquity                                              3177.603242\n",
      "TestCagr                                                  583.93934\n",
      "dtype: object\n",
      "228 21:18:30 Trying with following combo ('feat_Open', 'feat_vixOpen', 'feat_vvixOpen', 'feat_vvixPrevClose', 'feat_Acc', 'feat_PrevCluster')\n",
      "Equity: 5453.421356884764\n"
     ]
    },
    {
     "name": "stderr",
     "output_type": "stream",
     "text": [
      "C:\\Users\\vitto\\AppData\\Local\\Temp\\ipykernel_10512\\820412064.py:67: SettingWithCopyWarning: \n",
      "A value is trying to be set on a copy of a slice from a DataFrame.\n",
      "Try using .loc[row_indexer,col_indexer] = value instead\n",
      "\n",
      "See the caveats in the documentation: https://pandas.pydata.org/pandas-docs/stable/user_guide/indexing.html#returning-a-view-versus-a-copy\n",
      "  test_data['cluster'] = y_test_pred\n"
     ]
    },
    {
     "name": "stdout",
     "output_type": "stream",
     "text": [
      "Train metrics...\n",
      "Test metrics...\n",
      "DataSetName       (feat_Open, feat_vixOpen, feat_vvixOpen, feat_...\n",
      "TrainAccuracy                                              0.632097\n",
      "TrainPrecision                                              0.62801\n",
      "TestAccuracy                                               0.644717\n",
      "TestPrecision                                              0.640967\n",
      "TestF1                                                     0.705957\n",
      "BestParams        <bound method BaseEstimator.get_params of Logi...\n",
      "TestEquity                                              5453.421357\n",
      "TestCagr                                                1002.160127\n",
      "dtype: object\n",
      "229 21:18:30 Trying with following combo ('feat_Open', 'feat_vixOpen', 'feat_vvixOpen', 'feat_vvixPrevClose', 'feat_Acc', 'feat_bigBodyRange')\n",
      "Equity: 5065.801972119139\n"
     ]
    },
    {
     "name": "stderr",
     "output_type": "stream",
     "text": [
      "C:\\Users\\vitto\\AppData\\Local\\Temp\\ipykernel_10512\\820412064.py:67: SettingWithCopyWarning: \n",
      "A value is trying to be set on a copy of a slice from a DataFrame.\n",
      "Try using .loc[row_indexer,col_indexer] = value instead\n",
      "\n",
      "See the caveats in the documentation: https://pandas.pydata.org/pandas-docs/stable/user_guide/indexing.html#returning-a-view-versus-a-copy\n",
      "  test_data['cluster'] = y_test_pred\n"
     ]
    },
    {
     "name": "stdout",
     "output_type": "stream",
     "text": [
      "Train metrics...\n",
      "Test metrics...\n",
      "DataSetName       (feat_Open, feat_vixOpen, feat_vvixOpen, feat_...\n",
      "TrainAccuracy                                              0.638989\n",
      "TrainPrecision                                             0.632324\n",
      "TestAccuracy                                                0.64242\n",
      "TestPrecision                                              0.636261\n",
      "TestF1                                                     0.707577\n",
      "BestParams        <bound method BaseEstimator.get_params of Logi...\n",
      "TestEquity                                              5065.801972\n",
      "TestCagr                                                 930.928387\n",
      "dtype: object\n",
      "230 21:18:31 Trying with following combo ('feat_Open', 'feat_vixOpen', 'feat_vvixOpen', 'feat_vvixPrevClose', 'feat_PrevCluster', 'feat_bigBodyRange')\n",
      "Equity: 5035.262665478515\n"
     ]
    },
    {
     "name": "stderr",
     "output_type": "stream",
     "text": [
      "C:\\Users\\vitto\\AppData\\Local\\Temp\\ipykernel_10512\\820412064.py:67: SettingWithCopyWarning: \n",
      "A value is trying to be set on a copy of a slice from a DataFrame.\n",
      "Try using .loc[row_indexer,col_indexer] = value instead\n",
      "\n",
      "See the caveats in the documentation: https://pandas.pydata.org/pandas-docs/stable/user_guide/indexing.html#returning-a-view-versus-a-copy\n",
      "  test_data['cluster'] = y_test_pred\n"
     ]
    },
    {
     "name": "stdout",
     "output_type": "stream",
     "text": [
      "Train metrics...\n",
      "Test metrics...\n",
      "DataSetName       (feat_Open, feat_vixOpen, feat_vvixOpen, feat_...\n",
      "TrainAccuracy                                              0.638661\n",
      "TrainPrecision                                             0.632274\n",
      "TestAccuracy                                               0.647014\n",
      "TestPrecision                                               0.64123\n",
      "TestF1                                                     0.709515\n",
      "BestParams        <bound method BaseEstimator.get_params of Logi...\n",
      "TestEquity                                              5035.262665\n",
      "TestCagr                                                 925.316263\n",
      "dtype: object\n",
      "231 21:18:32 Trying with following combo ('feat_Open', 'feat_vixOpen', 'feat_vvixOpen', 'feat_Acc', 'feat_PrevCluster', 'feat_bigBodyRange')\n",
      "Equity: -1326.6587212402328\n"
     ]
    },
    {
     "name": "stderr",
     "output_type": "stream",
     "text": [
      "C:\\Users\\vitto\\AppData\\Local\\Temp\\ipykernel_10512\\820412064.py:67: SettingWithCopyWarning: \n",
      "A value is trying to be set on a copy of a slice from a DataFrame.\n",
      "Try using .loc[row_indexer,col_indexer] = value instead\n",
      "\n",
      "See the caveats in the documentation: https://pandas.pydata.org/pandas-docs/stable/user_guide/indexing.html#returning-a-view-versus-a-copy\n",
      "  test_data['cluster'] = y_test_pred\n"
     ]
    },
    {
     "name": "stdout",
     "output_type": "stream",
     "text": [
      "Train metrics...\n",
      "Test metrics...\n",
      "DataSetName       (feat_Open, feat_vixOpen, feat_vvixOpen, feat_...\n",
      "TrainAccuracy                                              0.563833\n",
      "TrainPrecision                                             0.566117\n",
      "TestAccuracy                                               0.531394\n",
      "TestPrecision                                              0.547502\n",
      "TestF1                                                     0.646243\n",
      "BestParams        <bound method BaseEstimator.get_params of Logi...\n",
      "TestEquity                                             -1326.658721\n",
      "TestCagr                                                -243.796396\n",
      "dtype: object\n",
      "232 21:18:32 Trying with following combo ('feat_Open', 'feat_vixOpen', 'feat_vvixPrevClose', 'feat_Acc', 'feat_PrevCluster', 'feat_bigBodyRange')\n",
      "Equity: -629.1571343261717\n"
     ]
    },
    {
     "name": "stderr",
     "output_type": "stream",
     "text": [
      "C:\\Users\\vitto\\AppData\\Local\\Temp\\ipykernel_10512\\820412064.py:67: SettingWithCopyWarning: \n",
      "A value is trying to be set on a copy of a slice from a DataFrame.\n",
      "Try using .loc[row_indexer,col_indexer] = value instead\n",
      "\n",
      "See the caveats in the documentation: https://pandas.pydata.org/pandas-docs/stable/user_guide/indexing.html#returning-a-view-versus-a-copy\n",
      "  test_data['cluster'] = y_test_pred\n"
     ]
    },
    {
     "name": "stdout",
     "output_type": "stream",
     "text": [
      "Train metrics...\n",
      "Test metrics...\n",
      "DataSetName       (feat_Open, feat_vixOpen, feat_vvixPrevClose, ...\n",
      "TrainAccuracy                                               0.55169\n",
      "TrainPrecision                                             0.556143\n",
      "TestAccuracy                                               0.542113\n",
      "TestPrecision                                              0.552607\n",
      "TestF1                                                     0.660998\n",
      "BestParams        <bound method BaseEstimator.get_params of Logi...\n",
      "TestEquity                                              -629.157134\n",
      "TestCagr                                                -115.618463\n",
      "dtype: object\n",
      "233 21:18:33 Trying with following combo ('feat_Open', 'feat_vixPrevClose', 'feat_vvixOpen', 'feat_vvixPrevClose', 'feat_Acc', 'feat_PrevCluster')\n",
      "Equity: 5389.443207470703\n"
     ]
    },
    {
     "name": "stderr",
     "output_type": "stream",
     "text": [
      "C:\\Users\\vitto\\AppData\\Local\\Temp\\ipykernel_10512\\820412064.py:67: SettingWithCopyWarning: \n",
      "A value is trying to be set on a copy of a slice from a DataFrame.\n",
      "Try using .loc[row_indexer,col_indexer] = value instead\n",
      "\n",
      "See the caveats in the documentation: https://pandas.pydata.org/pandas-docs/stable/user_guide/indexing.html#returning-a-view-versus-a-copy\n",
      "  test_data['cluster'] = y_test_pred\n"
     ]
    },
    {
     "name": "stdout",
     "output_type": "stream",
     "text": [
      "Train metrics...\n",
      "Test metrics...\n",
      "DataSetName       (feat_Open, feat_vixPrevClose, feat_vvixOpen, ...\n",
      "TrainAccuracy                                              0.635379\n",
      "TrainPrecision                                             0.630982\n",
      "TestAccuracy                                               0.643185\n",
      "TestPrecision                                              0.640788\n",
      "TestF1                                                     0.703562\n",
      "BestParams        <bound method BaseEstimator.get_params of Logi...\n",
      "TestEquity                                              5389.443207\n",
      "TestCagr                                                  990.40304\n",
      "dtype: object\n",
      "234 21:18:34 Trying with following combo ('feat_Open', 'feat_vixPrevClose', 'feat_vvixOpen', 'feat_vvixPrevClose', 'feat_Acc', 'feat_bigBodyRange')\n",
      "Equity: 5095.682099072262\n"
     ]
    },
    {
     "name": "stderr",
     "output_type": "stream",
     "text": [
      "C:\\Users\\vitto\\AppData\\Local\\Temp\\ipykernel_10512\\820412064.py:67: SettingWithCopyWarning: \n",
      "A value is trying to be set on a copy of a slice from a DataFrame.\n",
      "Try using .loc[row_indexer,col_indexer] = value instead\n",
      "\n",
      "See the caveats in the documentation: https://pandas.pydata.org/pandas-docs/stable/user_guide/indexing.html#returning-a-view-versus-a-copy\n",
      "  test_data['cluster'] = y_test_pred\n"
     ]
    },
    {
     "name": "stdout",
     "output_type": "stream",
     "text": [
      "Train metrics...\n",
      "Test metrics...\n",
      "DataSetName       (feat_Open, feat_vixPrevClose, feat_vvixOpen, ...\n",
      "TrainAccuracy                                              0.638989\n",
      "TrainPrecision                                             0.632713\n",
      "TestAccuracy                                               0.644717\n",
      "TestPrecision                                              0.639681\n",
      "TestF1                                                      0.70744\n",
      "BestParams        <bound method BaseEstimator.get_params of Logi...\n",
      "TestEquity                                              5095.682099\n",
      "TestCagr                                                 936.419375\n",
      "dtype: object\n",
      "235 21:18:34 Trying with following combo ('feat_Open', 'feat_vixPrevClose', 'feat_vvixOpen', 'feat_vvixPrevClose', 'feat_PrevCluster', 'feat_bigBodyRange')\n",
      "Equity: 5098.482269970701\n"
     ]
    },
    {
     "name": "stderr",
     "output_type": "stream",
     "text": [
      "C:\\Users\\vitto\\AppData\\Local\\Temp\\ipykernel_10512\\820412064.py:67: SettingWithCopyWarning: \n",
      "A value is trying to be set on a copy of a slice from a DataFrame.\n",
      "Try using .loc[row_indexer,col_indexer] = value instead\n",
      "\n",
      "See the caveats in the documentation: https://pandas.pydata.org/pandas-docs/stable/user_guide/indexing.html#returning-a-view-versus-a-copy\n",
      "  test_data['cluster'] = y_test_pred\n"
     ]
    },
    {
     "name": "stdout",
     "output_type": "stream",
     "text": [
      "Train metrics...\n",
      "Test metrics...\n",
      "DataSetName       (feat_Open, feat_vixPrevClose, feat_vvixOpen, ...\n",
      "TrainAccuracy                                              0.641615\n",
      "TrainPrecision                                             0.635069\n",
      "TestAccuracy                                               0.643185\n",
      "TestPrecision                                               0.63854\n",
      "TestF1                                                     0.706179\n",
      "BestParams        <bound method BaseEstimator.get_params of Logi...\n",
      "TestEquity                                               5098.48227\n",
      "TestCagr                                                 936.933955\n",
      "dtype: object\n",
      "236 21:18:35 Trying with following combo ('feat_Open', 'feat_vixPrevClose', 'feat_vvixOpen', 'feat_Acc', 'feat_PrevCluster', 'feat_bigBodyRange')\n",
      "Equity: -608.8176567871101\n"
     ]
    },
    {
     "name": "stderr",
     "output_type": "stream",
     "text": [
      "C:\\Users\\vitto\\AppData\\Local\\Temp\\ipykernel_10512\\820412064.py:67: SettingWithCopyWarning: \n",
      "A value is trying to be set on a copy of a slice from a DataFrame.\n",
      "Try using .loc[row_indexer,col_indexer] = value instead\n",
      "\n",
      "See the caveats in the documentation: https://pandas.pydata.org/pandas-docs/stable/user_guide/indexing.html#returning-a-view-versus-a-copy\n",
      "  test_data['cluster'] = y_test_pred\n"
     ]
    },
    {
     "name": "stdout",
     "output_type": "stream",
     "text": [
      "Train metrics...\n",
      "Test metrics...\n",
      "DataSetName       (feat_Open, feat_vixPrevClose, feat_vvixOpen, ...\n",
      "TrainAccuracy                                              0.564161\n",
      "TrainPrecision                                             0.567382\n",
      "TestAccuracy                                               0.539051\n",
      "TestPrecision                                              0.552709\n",
      "TestF1                                                     0.650812\n",
      "BestParams        <bound method BaseEstimator.get_params of Logi...\n",
      "TestEquity                                              -608.817657\n",
      "TestCagr                                                -111.880733\n",
      "dtype: object\n",
      "237 21:18:35 Trying with following combo ('feat_Open', 'feat_vixPrevClose', 'feat_vvixPrevClose', 'feat_Acc', 'feat_PrevCluster', 'feat_bigBodyRange')\n",
      "Equity: -670.0957329589851\n"
     ]
    },
    {
     "name": "stderr",
     "output_type": "stream",
     "text": [
      "C:\\Users\\vitto\\AppData\\Local\\Temp\\ipykernel_10512\\820412064.py:67: SettingWithCopyWarning: \n",
      "A value is trying to be set on a copy of a slice from a DataFrame.\n",
      "Try using .loc[row_indexer,col_indexer] = value instead\n",
      "\n",
      "See the caveats in the documentation: https://pandas.pydata.org/pandas-docs/stable/user_guide/indexing.html#returning-a-view-versus-a-copy\n",
      "  test_data['cluster'] = y_test_pred\n"
     ]
    },
    {
     "name": "stdout",
     "output_type": "stream",
     "text": [
      "Train metrics...\n",
      "Test metrics...\n",
      "DataSetName       (feat_Open, feat_vixPrevClose, feat_vvixPrevCl...\n",
      "TrainAccuracy                                               0.55169\n",
      "TrainPrecision                                             0.554416\n",
      "TestAccuracy                                               0.539816\n",
      "TestPrecision                                               0.54927\n",
      "TestF1                                                     0.667036\n",
      "BestParams        <bound method BaseEstimator.get_params of Logi...\n",
      "TestEquity                                              -670.095733\n",
      "TestCagr                                                -123.141635\n",
      "dtype: object\n",
      "238 21:18:36 Trying with following combo ('feat_Open', 'feat_vvixOpen', 'feat_vvixPrevClose', 'feat_Acc', 'feat_PrevCluster', 'feat_bigBodyRange')\n",
      "Equity: 5421.821259228512\n"
     ]
    },
    {
     "name": "stderr",
     "output_type": "stream",
     "text": [
      "C:\\Users\\vitto\\AppData\\Local\\Temp\\ipykernel_10512\\820412064.py:67: SettingWithCopyWarning: \n",
      "A value is trying to be set on a copy of a slice from a DataFrame.\n",
      "Try using .loc[row_indexer,col_indexer] = value instead\n",
      "\n",
      "See the caveats in the documentation: https://pandas.pydata.org/pandas-docs/stable/user_guide/indexing.html#returning-a-view-versus-a-copy\n",
      "  test_data['cluster'] = y_test_pred\n"
     ]
    },
    {
     "name": "stdout",
     "output_type": "stream",
     "text": [
      "Train metrics...\n",
      "Test metrics...\n",
      "DataSetName       (feat_Open, feat_vvixOpen, feat_vvixPrevClose,...\n",
      "TrainAccuracy                                              0.637676\n",
      "TrainPrecision                                             0.632122\n",
      "TestAccuracy                                               0.652374\n",
      "TestPrecision                                              0.646383\n",
      "TestF1                                                     0.712658\n",
      "BestParams        <bound method BaseEstimator.get_params of Logi...\n",
      "TestEquity                                              5421.821259\n",
      "TestCagr                                                 996.353064\n",
      "dtype: object\n",
      "239 21:18:37 Trying with following combo ('feat_vixOpen', 'feat_vixPrevClose', 'feat_vvixOpen', 'feat_vvixPrevClose', 'feat_Acc', 'feat_PrevCluster')\n",
      "Equity: 4765.842133251953\n"
     ]
    },
    {
     "name": "stderr",
     "output_type": "stream",
     "text": [
      "C:\\Users\\vitto\\AppData\\Local\\Temp\\ipykernel_10512\\820412064.py:67: SettingWithCopyWarning: \n",
      "A value is trying to be set on a copy of a slice from a DataFrame.\n",
      "Try using .loc[row_indexer,col_indexer] = value instead\n",
      "\n",
      "See the caveats in the documentation: https://pandas.pydata.org/pandas-docs/stable/user_guide/indexing.html#returning-a-view-versus-a-copy\n",
      "  test_data['cluster'] = y_test_pred\n"
     ]
    },
    {
     "name": "stdout",
     "output_type": "stream",
     "text": [
      "Train metrics...\n",
      "Test metrics...\n",
      "DataSetName       (feat_vixOpen, feat_vixPrevClose, feat_vvixOpe...\n",
      "TrainAccuracy                                              0.634394\n",
      "TrainPrecision                                                0.632\n",
      "TestAccuracy                                               0.646248\n",
      "TestPrecision                                              0.645465\n",
      "TestF1                                                     0.703466\n",
      "BestParams        <bound method BaseEstimator.get_params of Logi...\n",
      "TestEquity                                              4765.842133\n",
      "TestCagr                                                 875.805599\n",
      "dtype: object\n",
      "240 21:18:37 Trying with following combo ('feat_vixOpen', 'feat_vixPrevClose', 'feat_vvixOpen', 'feat_vvixPrevClose', 'feat_Acc', 'feat_bigBodyRange')\n",
      "Equity: 4557.64169379883\n"
     ]
    },
    {
     "name": "stderr",
     "output_type": "stream",
     "text": [
      "C:\\Users\\vitto\\AppData\\Local\\Temp\\ipykernel_10512\\820412064.py:67: SettingWithCopyWarning: \n",
      "A value is trying to be set on a copy of a slice from a DataFrame.\n",
      "Try using .loc[row_indexer,col_indexer] = value instead\n",
      "\n",
      "See the caveats in the documentation: https://pandas.pydata.org/pandas-docs/stable/user_guide/indexing.html#returning-a-view-versus-a-copy\n",
      "  test_data['cluster'] = y_test_pred\n"
     ]
    },
    {
     "name": "stdout",
     "output_type": "stream",
     "text": [
      "Train metrics...\n",
      "Test metrics...\n",
      "DataSetName       (feat_vixOpen, feat_vixPrevClose, feat_vvixOpe...\n",
      "TrainAccuracy                                              0.639974\n",
      "TrainPrecision                                             0.635505\n",
      "TestAccuracy                                               0.639357\n",
      "TestPrecision                                              0.637413\n",
      "TestF1                                                     0.700952\n",
      "BestParams        <bound method BaseEstimator.get_params of Logi...\n",
      "TestEquity                                              4557.641694\n",
      "TestCagr                                                 837.545181\n",
      "dtype: object\n",
      "241 21:18:38 Trying with following combo ('feat_vixOpen', 'feat_vixPrevClose', 'feat_vvixOpen', 'feat_vvixPrevClose', 'feat_PrevCluster', 'feat_bigBodyRange')\n",
      "Equity: 5057.52169868164\n"
     ]
    },
    {
     "name": "stderr",
     "output_type": "stream",
     "text": [
      "C:\\Users\\vitto\\AppData\\Local\\Temp\\ipykernel_10512\\820412064.py:67: SettingWithCopyWarning: \n",
      "A value is trying to be set on a copy of a slice from a DataFrame.\n",
      "Try using .loc[row_indexer,col_indexer] = value instead\n",
      "\n",
      "See the caveats in the documentation: https://pandas.pydata.org/pandas-docs/stable/user_guide/indexing.html#returning-a-view-versus-a-copy\n",
      "  test_data['cluster'] = y_test_pred\n"
     ]
    },
    {
     "name": "stdout",
     "output_type": "stream",
     "text": [
      "Train metrics...\n",
      "Test metrics...\n",
      "DataSetName       (feat_vixOpen, feat_vixPrevClose, feat_vvixOpe...\n",
      "TrainAccuracy                                               0.64063\n",
      "TrainPrecision                                             0.635732\n",
      "TestAccuracy                                               0.650077\n",
      "TestPrecision                                              0.647541\n",
      "TestF1                                                     0.707614\n",
      "BestParams        <bound method BaseEstimator.get_params of Logi...\n",
      "TestEquity                                              5057.521699\n",
      "TestCagr                                                 929.406744\n",
      "dtype: object\n",
      "242 21:18:39 Trying with following combo ('feat_vixOpen', 'feat_vixPrevClose', 'feat_vvixOpen', 'feat_Acc', 'feat_PrevCluster', 'feat_bigBodyRange')\n",
      "Equity: 3453.5630805175724\n"
     ]
    },
    {
     "name": "stderr",
     "output_type": "stream",
     "text": [
      "C:\\Users\\vitto\\AppData\\Local\\Temp\\ipykernel_10512\\820412064.py:67: SettingWithCopyWarning: \n",
      "A value is trying to be set on a copy of a slice from a DataFrame.\n",
      "Try using .loc[row_indexer,col_indexer] = value instead\n",
      "\n",
      "See the caveats in the documentation: https://pandas.pydata.org/pandas-docs/stable/user_guide/indexing.html#returning-a-view-versus-a-copy\n",
      "  test_data['cluster'] = y_test_pred\n"
     ]
    },
    {
     "name": "stdout",
     "output_type": "stream",
     "text": [
      "Train metrics...\n",
      "Test metrics...\n",
      "DataSetName       (feat_vixOpen, feat_vixPrevClose, feat_vvixOpe...\n",
      "TrainAccuracy                                              0.612734\n",
      "TrainPrecision                                             0.605769\n",
      "TestAccuracy                                               0.607963\n",
      "TestPrecision                                              0.604676\n",
      "TestF1                                                     0.689697\n",
      "BestParams        <bound method BaseEstimator.get_params of Logi...\n",
      "TestEquity                                              3453.563081\n",
      "TestCagr                                                 634.651715\n",
      "dtype: object\n",
      "243 21:18:39 Trying with following combo ('feat_vixOpen', 'feat_vixPrevClose', 'feat_vvixPrevClose', 'feat_Acc', 'feat_PrevCluster', 'feat_bigBodyRange')\n",
      "Equity: 2830.304413525385\n"
     ]
    },
    {
     "name": "stderr",
     "output_type": "stream",
     "text": [
      "C:\\Users\\vitto\\AppData\\Local\\Temp\\ipykernel_10512\\820412064.py:67: SettingWithCopyWarning: \n",
      "A value is trying to be set on a copy of a slice from a DataFrame.\n",
      "Try using .loc[row_indexer,col_indexer] = value instead\n",
      "\n",
      "See the caveats in the documentation: https://pandas.pydata.org/pandas-docs/stable/user_guide/indexing.html#returning-a-view-versus-a-copy\n",
      "  test_data['cluster'] = y_test_pred\n"
     ]
    },
    {
     "name": "stdout",
     "output_type": "stream",
     "text": [
      "Train metrics...\n",
      "Test metrics...\n",
      "DataSetName       (feat_vixOpen, feat_vixPrevClose, feat_vvixPre...\n",
      "TrainAccuracy                                              0.599934\n",
      "TrainPrecision                                             0.594378\n",
      "TestAccuracy                                               0.607963\n",
      "TestPrecision                                              0.603141\n",
      "TestF1                                                     0.692308\n",
      "BestParams        <bound method BaseEstimator.get_params of Logi...\n",
      "TestEquity                                              2830.304414\n",
      "TestCagr                                                 520.117197\n",
      "dtype: object\n",
      "244 21:18:40 Trying with following combo ('feat_vixOpen', 'feat_vvixOpen', 'feat_vvixPrevClose', 'feat_Acc', 'feat_PrevCluster', 'feat_bigBodyRange')\n",
      "Equity: 5187.441376416012\n"
     ]
    },
    {
     "name": "stderr",
     "output_type": "stream",
     "text": [
      "C:\\Users\\vitto\\AppData\\Local\\Temp\\ipykernel_10512\\820412064.py:67: SettingWithCopyWarning: \n",
      "A value is trying to be set on a copy of a slice from a DataFrame.\n",
      "Try using .loc[row_indexer,col_indexer] = value instead\n",
      "\n",
      "See the caveats in the documentation: https://pandas.pydata.org/pandas-docs/stable/user_guide/indexing.html#returning-a-view-versus-a-copy\n",
      "  test_data['cluster'] = y_test_pred\n"
     ]
    },
    {
     "name": "stdout",
     "output_type": "stream",
     "text": [
      "Train metrics...\n",
      "Test metrics...\n",
      "DataSetName       (feat_vixOpen, feat_vvixOpen, feat_vvixPrevClo...\n",
      "TrainAccuracy                                              0.639317\n",
      "TrainPrecision                                             0.633023\n",
      "TestAccuracy                                               0.649311\n",
      "TestPrecision                                              0.644419\n",
      "TestF1                                                     0.709759\n",
      "BestParams        <bound method BaseEstimator.get_params of Logi...\n",
      "TestEquity                                              5187.441376\n",
      "TestCagr                                                 953.281723\n",
      "dtype: object\n",
      "245 21:18:40 Trying with following combo ('feat_vixPrevClose', 'feat_vvixOpen', 'feat_vvixPrevClose', 'feat_Acc', 'feat_PrevCluster', 'feat_bigBodyRange')\n",
      "Equity: 5218.100678173828\n"
     ]
    },
    {
     "name": "stderr",
     "output_type": "stream",
     "text": [
      "C:\\Users\\vitto\\AppData\\Local\\Temp\\ipykernel_10512\\820412064.py:67: SettingWithCopyWarning: \n",
      "A value is trying to be set on a copy of a slice from a DataFrame.\n",
      "Try using .loc[row_indexer,col_indexer] = value instead\n",
      "\n",
      "See the caveats in the documentation: https://pandas.pydata.org/pandas-docs/stable/user_guide/indexing.html#returning-a-view-versus-a-copy\n",
      "  test_data['cluster'] = y_test_pred\n"
     ]
    },
    {
     "name": "stdout",
     "output_type": "stream",
     "text": [
      "Train metrics...\n",
      "Test metrics...\n",
      "DataSetName       (feat_vixPrevClose, feat_vvixOpen, feat_vvixPr...\n",
      "TrainAccuracy                                              0.637676\n",
      "TrainPrecision                                             0.632122\n",
      "TestAccuracy                                               0.650842\n",
      "TestPrecision                                              0.645235\n",
      "TestF1                                                     0.711392\n",
      "BestParams        <bound method BaseEstimator.get_params of Logi...\n",
      "TestEquity                                              5218.100678\n",
      "TestCagr                                                 958.915898\n",
      "dtype: object\n",
      "246 21:18:41 Trying with following combo ('feat_Open', 'feat_vixOpen', 'feat_vixPrevClose', 'feat_vvixOpen', 'feat_vvixPrevClose', 'feat_Acc', 'feat_PrevCluster')\n",
      "Equity: 5108.901215283203\n"
     ]
    },
    {
     "name": "stderr",
     "output_type": "stream",
     "text": [
      "C:\\Users\\vitto\\AppData\\Local\\Temp\\ipykernel_10512\\820412064.py:67: SettingWithCopyWarning: \n",
      "A value is trying to be set on a copy of a slice from a DataFrame.\n",
      "Try using .loc[row_indexer,col_indexer] = value instead\n",
      "\n",
      "See the caveats in the documentation: https://pandas.pydata.org/pandas-docs/stable/user_guide/indexing.html#returning-a-view-versus-a-copy\n",
      "  test_data['cluster'] = y_test_pred\n"
     ]
    },
    {
     "name": "stdout",
     "output_type": "stream",
     "text": [
      "Train metrics...\n",
      "Test metrics...\n",
      "DataSetName       (feat_Open, feat_vixOpen, feat_vixPrevClose, f...\n",
      "TrainAccuracy                                              0.634394\n",
      "TrainPrecision                                                0.632\n",
      "TestAccuracy                                               0.647779\n",
      "TestPrecision                                              0.646643\n",
      "TestF1                                                      0.70475\n",
      "BestParams        <bound method BaseEstimator.get_params of Logi...\n",
      "TestEquity                                              5108.901215\n",
      "TestCagr                                                 938.848615\n",
      "dtype: object\n",
      "247 21:18:42 Trying with following combo ('feat_Open', 'feat_vixOpen', 'feat_vixPrevClose', 'feat_vvixOpen', 'feat_vvixPrevClose', 'feat_Acc', 'feat_bigBodyRange')\n",
      "Equity: 4437.141937939455\n"
     ]
    },
    {
     "name": "stderr",
     "output_type": "stream",
     "text": [
      "C:\\Users\\vitto\\AppData\\Local\\Temp\\ipykernel_10512\\820412064.py:67: SettingWithCopyWarning: \n",
      "A value is trying to be set on a copy of a slice from a DataFrame.\n",
      "Try using .loc[row_indexer,col_indexer] = value instead\n",
      "\n",
      "See the caveats in the documentation: https://pandas.pydata.org/pandas-docs/stable/user_guide/indexing.html#returning-a-view-versus-a-copy\n",
      "  test_data['cluster'] = y_test_pred\n"
     ]
    },
    {
     "name": "stdout",
     "output_type": "stream",
     "text": [
      "Train metrics...\n",
      "Test metrics...\n",
      "DataSetName       (feat_Open, feat_vixOpen, feat_vixPrevClose, f...\n",
      "TrainAccuracy                                              0.639646\n",
      "TrainPrecision                                             0.635189\n",
      "TestAccuracy                                               0.639357\n",
      "TestPrecision                                              0.637413\n",
      "TestF1                                                     0.700952\n",
      "BestParams        <bound method BaseEstimator.get_params of Logi...\n",
      "TestEquity                                              4437.141938\n",
      "TestCagr                                                 815.401275\n",
      "dtype: object\n",
      "248 21:18:42 Trying with following combo ('feat_Open', 'feat_vixOpen', 'feat_vixPrevClose', 'feat_vvixOpen', 'feat_vvixPrevClose', 'feat_PrevCluster', 'feat_bigBodyRange')\n",
      "Equity: 5039.081513134769\n"
     ]
    },
    {
     "name": "stderr",
     "output_type": "stream",
     "text": [
      "C:\\Users\\vitto\\AppData\\Local\\Temp\\ipykernel_10512\\820412064.py:67: SettingWithCopyWarning: \n",
      "A value is trying to be set on a copy of a slice from a DataFrame.\n",
      "Try using .loc[row_indexer,col_indexer] = value instead\n",
      "\n",
      "See the caveats in the documentation: https://pandas.pydata.org/pandas-docs/stable/user_guide/indexing.html#returning-a-view-versus-a-copy\n",
      "  test_data['cluster'] = y_test_pred\n"
     ]
    },
    {
     "name": "stdout",
     "output_type": "stream",
     "text": [
      "Train metrics...\n",
      "Test metrics...\n",
      "DataSetName       (feat_Open, feat_vixOpen, feat_vixPrevClose, f...\n",
      "TrainAccuracy                                               0.64063\n",
      "TrainPrecision                                             0.635867\n",
      "TestAccuracy                                               0.649311\n",
      "TestPrecision                                              0.647128\n",
      "TestF1                                                     0.706786\n",
      "BestParams        <bound method BaseEstimator.get_params of Logi...\n",
      "TestEquity                                              5039.081513\n",
      "TestCagr                                                 926.018042\n",
      "dtype: object\n",
      "249 21:18:43 Trying with following combo ('feat_Open', 'feat_vixOpen', 'feat_vixPrevClose', 'feat_vvixOpen', 'feat_Acc', 'feat_PrevCluster', 'feat_bigBodyRange')\n",
      "Equity: 3562.803803173819\n"
     ]
    },
    {
     "name": "stderr",
     "output_type": "stream",
     "text": [
      "C:\\Users\\vitto\\AppData\\Local\\Temp\\ipykernel_10512\\820412064.py:67: SettingWithCopyWarning: \n",
      "A value is trying to be set on a copy of a slice from a DataFrame.\n",
      "Try using .loc[row_indexer,col_indexer] = value instead\n",
      "\n",
      "See the caveats in the documentation: https://pandas.pydata.org/pandas-docs/stable/user_guide/indexing.html#returning-a-view-versus-a-copy\n",
      "  test_data['cluster'] = y_test_pred\n"
     ]
    },
    {
     "name": "stdout",
     "output_type": "stream",
     "text": [
      "Train metrics...\n",
      "Test metrics...\n",
      "DataSetName       (feat_Open, feat_vixOpen, feat_vixPrevClose, f...\n",
      "TrainAccuracy                                              0.612734\n",
      "TrainPrecision                                             0.605479\n",
      "TestAccuracy                                               0.607963\n",
      "TestPrecision                                              0.604676\n",
      "TestF1                                                     0.689697\n",
      "BestParams        <bound method BaseEstimator.get_params of Logi...\n",
      "TestEquity                                              3562.803803\n",
      "TestCagr                                                 654.726579\n",
      "dtype: object\n",
      "250 21:18:44 Trying with following combo ('feat_Open', 'feat_vixOpen', 'feat_vixPrevClose', 'feat_vvixPrevClose', 'feat_Acc', 'feat_PrevCluster', 'feat_bigBodyRange')\n",
      "Equity: 2878.7828070800706\n"
     ]
    },
    {
     "name": "stderr",
     "output_type": "stream",
     "text": [
      "C:\\Users\\vitto\\AppData\\Local\\Temp\\ipykernel_10512\\820412064.py:67: SettingWithCopyWarning: \n",
      "A value is trying to be set on a copy of a slice from a DataFrame.\n",
      "Try using .loc[row_indexer,col_indexer] = value instead\n",
      "\n",
      "See the caveats in the documentation: https://pandas.pydata.org/pandas-docs/stable/user_guide/indexing.html#returning-a-view-versus-a-copy\n",
      "  test_data['cluster'] = y_test_pred\n"
     ]
    },
    {
     "name": "stdout",
     "output_type": "stream",
     "text": [
      "Train metrics...\n",
      "Test metrics...\n",
      "DataSetName       (feat_Open, feat_vixOpen, feat_vixPrevClose, f...\n",
      "TrainAccuracy                                              0.595011\n",
      "TrainPrecision                                             0.591234\n",
      "TestAccuracy                                                 0.6049\n",
      "TestPrecision                                              0.601901\n",
      "TestF1                                                     0.688406\n",
      "BestParams        <bound method BaseEstimator.get_params of Logi...\n",
      "TestEquity                                              2878.782807\n",
      "TestCagr                                                 529.025937\n",
      "dtype: object\n",
      "251 21:18:44 Trying with following combo ('feat_Open', 'feat_vixOpen', 'feat_vvixOpen', 'feat_vvixPrevClose', 'feat_Acc', 'feat_PrevCluster', 'feat_bigBodyRange')\n",
      "Equity: 5309.00167915039\n"
     ]
    },
    {
     "name": "stderr",
     "output_type": "stream",
     "text": [
      "C:\\Users\\vitto\\AppData\\Local\\Temp\\ipykernel_10512\\820412064.py:67: SettingWithCopyWarning: \n",
      "A value is trying to be set on a copy of a slice from a DataFrame.\n",
      "Try using .loc[row_indexer,col_indexer] = value instead\n",
      "\n",
      "See the caveats in the documentation: https://pandas.pydata.org/pandas-docs/stable/user_guide/indexing.html#returning-a-view-versus-a-copy\n",
      "  test_data['cluster'] = y_test_pred\n"
     ]
    },
    {
     "name": "stdout",
     "output_type": "stream",
     "text": [
      "Train metrics...\n",
      "Test metrics...\n",
      "DataSetName       (feat_Open, feat_vixOpen, feat_vvixOpen, feat_...\n",
      "TrainAccuracy                                              0.637348\n",
      "TrainPrecision                                             0.631941\n",
      "TestAccuracy                                               0.652374\n",
      "TestPrecision                                              0.646048\n",
      "TestF1                                                     0.713021\n",
      "BestParams        <bound method BaseEstimator.get_params of Logi...\n",
      "TestEquity                                              5309.001679\n",
      "TestCagr                                                 975.620523\n",
      "dtype: object\n",
      "252 21:18:45 Trying with following combo ('feat_Open', 'feat_vixPrevClose', 'feat_vvixOpen', 'feat_vvixPrevClose', 'feat_Acc', 'feat_PrevCluster', 'feat_bigBodyRange')\n",
      "Equity: 5218.100678173828\n"
     ]
    },
    {
     "name": "stderr",
     "output_type": "stream",
     "text": [
      "C:\\Users\\vitto\\AppData\\Local\\Temp\\ipykernel_10512\\820412064.py:67: SettingWithCopyWarning: \n",
      "A value is trying to be set on a copy of a slice from a DataFrame.\n",
      "Try using .loc[row_indexer,col_indexer] = value instead\n",
      "\n",
      "See the caveats in the documentation: https://pandas.pydata.org/pandas-docs/stable/user_guide/indexing.html#returning-a-view-versus-a-copy\n",
      "  test_data['cluster'] = y_test_pred\n"
     ]
    },
    {
     "name": "stdout",
     "output_type": "stream",
     "text": [
      "Train metrics...\n",
      "Test metrics...\n",
      "DataSetName       (feat_Open, feat_vixPrevClose, feat_vvixOpen, ...\n",
      "TrainAccuracy                                              0.637676\n",
      "TrainPrecision                                             0.632122\n",
      "TestAccuracy                                               0.650842\n",
      "TestPrecision                                              0.645235\n",
      "TestF1                                                     0.711392\n",
      "BestParams        <bound method BaseEstimator.get_params of Logi...\n",
      "TestEquity                                              5218.100678\n",
      "TestCagr                                                 958.915898\n",
      "dtype: object\n",
      "253 21:18:46 Trying with following combo ('feat_vixOpen', 'feat_vixPrevClose', 'feat_vvixOpen', 'feat_vvixPrevClose', 'feat_Acc', 'feat_PrevCluster', 'feat_bigBodyRange')\n",
      "Equity: 5080.10214301758\n"
     ]
    },
    {
     "name": "stderr",
     "output_type": "stream",
     "text": [
      "C:\\Users\\vitto\\AppData\\Local\\Temp\\ipykernel_10512\\820412064.py:67: SettingWithCopyWarning: \n",
      "A value is trying to be set on a copy of a slice from a DataFrame.\n",
      "Try using .loc[row_indexer,col_indexer] = value instead\n",
      "\n",
      "See the caveats in the documentation: https://pandas.pydata.org/pandas-docs/stable/user_guide/indexing.html#returning-a-view-versus-a-copy\n",
      "  test_data['cluster'] = y_test_pred\n"
     ]
    },
    {
     "name": "stdout",
     "output_type": "stream",
     "text": [
      "Train metrics...\n",
      "Test metrics...\n",
      "DataSetName       (feat_vixOpen, feat_vixPrevClose, feat_vvixOpe...\n",
      "TrainAccuracy                                              0.642271\n",
      "TrainPrecision                                             0.637587\n",
      "TestAccuracy                                               0.647779\n",
      "TestPrecision                                              0.645955\n",
      "TestF1                                                     0.705506\n",
      "BestParams        <bound method BaseEstimator.get_params of Logi...\n",
      "TestEquity                                              5080.102143\n",
      "TestCagr                                                  933.55629\n",
      "dtype: object\n",
      "254 21:18:46 Trying with following combo ('feat_Open', 'feat_vixOpen', 'feat_vixPrevClose', 'feat_vvixOpen', 'feat_vvixPrevClose', 'feat_Acc', 'feat_PrevCluster', 'feat_bigBodyRange')\n",
      "Equity: 4914.682587353519\n"
     ]
    },
    {
     "name": "stderr",
     "output_type": "stream",
     "text": [
      "C:\\Users\\vitto\\AppData\\Local\\Temp\\ipykernel_10512\\820412064.py:67: SettingWithCopyWarning: \n",
      "A value is trying to be set on a copy of a slice from a DataFrame.\n",
      "Try using .loc[row_indexer,col_indexer] = value instead\n",
      "\n",
      "See the caveats in the documentation: https://pandas.pydata.org/pandas-docs/stable/user_guide/indexing.html#returning-a-view-versus-a-copy\n",
      "  test_data['cluster'] = y_test_pred\n"
     ]
    },
    {
     "name": "stdout",
     "output_type": "stream",
     "text": [
      "Train metrics...\n",
      "Test metrics...\n",
      "DataSetName       (feat_Open, feat_vixOpen, feat_vixPrevClose, f...\n",
      "TrainAccuracy                                              0.640958\n",
      "TrainPrecision                                             0.636863\n",
      "TestAccuracy                                               0.648545\n",
      "TestPrecision                                              0.647754\n",
      "TestF1                                                     0.704823\n",
      "BestParams        <bound method BaseEstimator.get_params of Logi...\n",
      "TestEquity                                              4914.682587\n",
      "TestCagr                                                 903.157596\n",
      "dtype: object\n"
     ]
    }
   ],
   "source": [
    "data = getData()\n",
    "\n",
    "features = ['feat_Open', 'feat_vixOpen', 'feat_vixPrevClose', 'feat_vvixOpen', 'feat_vvixPrevClose', 'feat_Acc', 'feat_PrevCluster', 'feat_bigBodyRange']\n",
    "combinazioni = chain.from_iterable(combinations(features, r) for r in range(1, len(features) + 1))\n",
    "\n",
    "combos=[]\n",
    "for idx,combinazione in enumerate(combinazioni):\n",
    "  current_GMT = time.gmtime()\n",
    "  time_stamp = calendar.timegm(current_GMT)\n",
    "\n",
    "  print(idx,time.strftime(\"%H:%M:%S\", time.localtime()), ':', combinazione)\n",
    "  combos.append(combinazione)\n",
    "\n",
    "dataframe = pd.DataFrame(columns=['DataSetName', 'TrainAccuracy', 'TrainPrecision', 'TrainF2','TrainRecall','TrainROC' ,'TestAccuracy', 'TestPrecision', 'TestF2','TestRecall','TestROC', 'BestParams'])\n",
    "\n",
    "split_test_date = '2019-02-21'\n",
    "start_date = '1990-09-04'\n",
    "\n",
    "# Split Dataset\n",
    "print(\"Performing splitting operations....\")\n",
    "# train_data = data[(data['Date'] < split_test_date) & (data['Date'] > start_date)].reset_index(drop=True)\n",
    "# val_data = data[(data['Date'] < split_test_date) & (data['Date'] > start_date)].reset_index(drop=True)\n",
    "# test_data = data[data['Date'] >= split_test_date].reset_index(drop=True)\n",
    "\n",
    "# Select 'feat' columns\n",
    "print(\"Extracting features columns and creating target variable...\")\n",
    "\n",
    "print(combos)\n",
    "\n",
    "for idx,combo in enumerate(combos):\n",
    "  current_GMT = time.gmtime()\n",
    "  time_stamp = calendar.timegm(current_GMT)\n",
    "  print(idx, time.strftime(\"%H:%M:%S\", time.localtime()),'Trying with following combo', combo)\n",
    "  feat_cols = [col for col in combo if 'feat' in col]\n",
    "  # Import Training and Validation Data\n",
    "  # x_train = train_data[feat_cols]\n",
    "  # y_train = np.where(train_data['Close'] > train_data['Open'], 1, -1)\n",
    "\n",
    "  # x_test = test_data[feat_cols]\n",
    "  # y_test = np.where(test_data['Close'] > test_data['Open'], 1, -1)\n",
    "\n",
    "  x_train, x_test, y_train, y_test = train_test_split(data[feat_cols], data['Cluster'], test_size= 0.3, random_state= 0)\n",
    "\n",
    "  x_train = x_train.sort_index()\n",
    "  x_test = x_test.sort_index()\n",
    "  y_train= y_train.sort_index()\n",
    "  y_test = y_test.sort_index()\n",
    "\n",
    "  model = trainModel(x_train, y_train)\n",
    "\n",
    "  # Predictions\n",
    "  y_train_pred = model.predict(x_train.sort_index())\n",
    "  y_test_pred = model.predict(x_test.sort_index())\n",
    "\n",
    "  # print('y_test_pred', y_test_pred)\n",
    "  # clf.fit(x_train,y_train)\n",
    "\n",
    "  # y_train_pred = clf.predict(x_train)\n",
    "  # y_test_pred = clf.predict(x_test)\n",
    "\n",
    "\n",
    "  #VN Calcolo la equity\n",
    "\n",
    "  test_data = data[data.index.isin(x_test.index)]\n",
    "  # print('test_data',test_data)\n",
    "\n",
    "  test_data['cluster'] = y_test_pred\n",
    "  test_equity, test_cagr= computeEquity(test_data, commissioni, feat_cols)\n",
    "\n",
    "  print(\"Train metrics...\")\n",
    "  # Metrics\n",
    "  train_accuracy = accuracy_score(y_train, y_train_pred)\n",
    "  train_precision = precision_score(y_train, y_train_pred)\n",
    "\n",
    "  print(\"Test metrics...\")\n",
    "  test_accuracy = accuracy_score(y_test, y_test_pred)\n",
    "  test_precision = precision_score(y_test, y_test_pred)\n",
    "  test_f1 = f1_score(y_test, y_test_pred)\n",
    "\n",
    "  # Save Results\n",
    "  new_row = pd.Series({\n",
    "      'DataSetName': combo,\n",
    "      'TrainAccuracy': train_accuracy,\n",
    "      'TrainPrecision': train_precision,\n",
    "      'TestAccuracy': test_accuracy,\n",
    "      'TestPrecision': test_precision,\n",
    "      'TestF1': test_f1,\n",
    "      'BestParams': model.get_params,\n",
    "      'TestEquity': test_equity,\n",
    "      'TestCagr': test_cagr\n",
    "  })\n",
    "  print(new_row)\n",
    "  dataframe=pd.concat([dataframe, new_row.to_frame().T], ignore_index=True)\n",
    "\n",
    "dataframe.to_excel(\"Dataframe/\"+str(time_stamp) + \".xlsx\")\n",
    "\n",
    "# print(result)"
   ]
  }
 ],
 "metadata": {
  "kernelspec": {
   "display_name": "Python 3",
   "language": "python",
   "name": "python3"
  },
  "language_info": {
   "codemirror_mode": {
    "name": "ipython",
    "version": 3
   },
   "file_extension": ".py",
   "mimetype": "text/x-python",
   "name": "python",
   "nbconvert_exporter": "python",
   "pygments_lexer": "ipython3",
   "version": "3.11.2"
  }
 },
 "nbformat": 4,
 "nbformat_minor": 2
}
