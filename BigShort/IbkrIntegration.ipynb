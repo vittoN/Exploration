{
 "cells": [
  {
   "cell_type": "code",
   "execution_count": 7,
   "metadata": {},
   "outputs": [],
   "source": [
    "from flask import Flask\n",
    "from datetime import date, timedelta\n",
    "import yfinance as yf #Alternative package if webreader does not work: pip install yfinance\n",
    "import joblib\n",
    "import numpy as np # Fundamental package for scientific computing with Python\n",
    "import pandas as pd # Additional functions for analysing and manipulating data\n",
    "from ibapi.client import *\n",
    "from ibapi.wrapper import *\n",
    "from ibapi.contract import Contract\n",
    "import threading\n",
    "import time"
   ]
  },
  {
   "cell_type": "code",
   "execution_count": 8,
   "metadata": {},
   "outputs": [],
   "source": [
    "class IBapi(EWrapper, EClient):\n",
    "    def __init__(self):\n",
    "        EClient.__init__(self, self)\n",
    "        self.data = [] #Initialize variable to store candle\n",
    "\n",
    "    def historicalData(self, reqId, bar):\n",
    "        print(f'DateTime: {bar.date}  Open: {bar.open}  High: {bar.high} Close: {bar.close}  Low: {bar.low}  Volume: {bar.volume}')\n",
    "        self.data.append([bar.date, bar.open,bar.high,bar.close,bar.low,bar.volume])\n",
    "\n",
    "    def cleanData(self):\n",
    "        print('Cleaning Data')\n",
    "        self.data.clear()\n",
    "    \n",
    "def run_loop():\n",
    "    app.run()"
   ]
  },
  {
   "cell_type": "code",
   "execution_count": 9,
   "metadata": {},
   "outputs": [
    {
     "name": "stderr",
     "output_type": "stream",
     "text": [
      "ERROR -1 2104 Connessione con il Server dei dati di mercato è OK:hfarm\n",
      "ERROR -1 2104 Connessione con il Server dei dati di mercato è OK:usfarm.nj\n",
      "ERROR -1 2104 Connessione con il Server dei dati di mercato è OK:jfarm\n",
      "ERROR -1 2104 Connessione con il Server dei dati di mercato è OK:usfuture\n",
      "ERROR -1 2104 Connessione con il Server dei dati di mercato è OK:cashfarm\n",
      "ERROR -1 2104 Connessione con il Server dei dati di mercato è OK:eufarmnj\n",
      "ERROR -1 2104 Connessione con il Server dei dati di mercato è OK:usfarm\n",
      "ERROR -1 2106 Connessione con il HMDS data farm è OK:euhmds\n",
      "ERROR -1 2106 Connessione con il HMDS data farm è OK:fundfarm\n",
      "ERROR -1 2106 Connessione con il HMDS data farm è OK:ushmds\n",
      "ERROR -1 2158 Connessione alla raccolta dati Sec-def stabilita:secdefil\n"
     ]
    }
   ],
   "source": [
    "app = IBapi()\n",
    "# app.disconnect()\n",
    "app.connect('127.0.0.1', 7497, 123)\n",
    "\n",
    "#Start the socket in a thread\n",
    "api_thread = threading.Thread(target=run_loop, daemon=True)\n",
    "api_thread.start()\n",
    "time.sleep(7)"
   ]
  },
  {
   "cell_type": "code",
   "execution_count": 10,
   "metadata": {},
   "outputs": [],
   "source": [
    "def create_contract(symbol, secType='IND', exchange='CBOE', currency='USD'):\n",
    "    contract = Contract()\n",
    "    contract.symbol = symbol\n",
    "    contract.secType = secType\n",
    "    contract.exchange = exchange\n",
    "    contract.currency = currency\n",
    "    return contract\n",
    "\n",
    "def request_historical_data(app, contract):\n",
    "    app.cleanData()\n",
    "    app.reqHistoricalData(1, contract, '', \"2 D\", \"1 Day\", \"TRADES\", 0, 1, False, [])\n",
    "    time.sleep(3)\n",
    "    return app.data\n",
    "\n",
    "def process_data(data, result_df, prefix):\n",
    "    if len(data) == 0:\n",
    "        print('ERROR - Probabilmente ci sono problemi di connessione alla TWS')\n",
    "        return result_df\n",
    "\n",
    "    df = pd.DataFrame(data, columns=['Date', 'Open', 'High', 'Close', 'Low', 'Volume'])\n",
    "    df['Date'] = df['Date'].str[:17]\n",
    "    df['Date'] = df['Date'].str[:4] + '-' + df['Date'].str[4:6] + '-' + df['Date'].str[6:8] + '' + df['Date'].str[8:]\n",
    "    df['Date'] = pd.to_datetime(df['Date'], format=\"%Y-%m-%d\")\n",
    "\n",
    "    result_df[f'feat_{prefix}Open'] = df['Open']\n",
    "    result_df[f'feat_{prefix}PrevClose'] = df['Close'].shift(1)\n",
    "\n",
    "    return result_df"
   ]
  },
  {
   "cell_type": "code",
   "execution_count": 11,
   "metadata": {},
   "outputs": [
    {
     "name": "stdout",
     "output_type": "stream",
     "text": [
      "Cleaning Data\n",
      "DateTime: 20240801  Open: 94.0  High: 117.24 Close: 111.18  Low: 93.31  Volume: 0\n",
      "DateTime: 20240802  Open: 119.84  High: 162.68 Close: 136.81  Low: 119.03  Volume: 0\n",
      "Cleaning Data\n",
      "DateTime: 20240802  Open: 20.52  High: 29.66 Close: 23.39  Low: 20.01  Volume: 0\n",
      "DateTime: 20240805  Open: 23.39  High: 41.8 Close: 34.22  Low: 23.39  Volume: 0\n",
      "Cleaning Data\n",
      "DateTime: 20240801  Open: 5537.84  High: 5566.16 Close: 5446.68  Low: 5410.42  Volume: 0\n",
      "DateTime: 20240802  Open: 5376.63  High: 5383.89 Close: 5346.56  Low: 5302.03  Volume: 0\n",
      "Dati inseriti nel DF    feat_vvixOpen  feat_vvixPrevClose  feat_vixOpen  feat_vixPrevClose  \\\n",
      "0          94.00                 NaN         20.52                NaN   \n",
      "1         119.84              111.18         23.39              23.39   \n",
      "\n",
      "   feat_Open-PrevClose       Date  \n",
      "0                    0 2024-08-01  \n",
      "1                    0 2024-08-02  \n"
     ]
    }
   ],
   "source": [
    "result_df = pd.DataFrame()\n",
    "\n",
    "# VVIX\n",
    "vvix_contract = create_contract('VVIX')\n",
    "vvix_data = request_historical_data(app, vvix_contract)\n",
    "result_df = process_data(vvix_data, result_df, 'vvix')\n",
    "\n",
    "# VIX\n",
    "vix_contract = create_contract('VIX')\n",
    "vix_data = request_historical_data(app, vix_contract)\n",
    "result_df = process_data(vix_data, result_df, 'vix')\n",
    "\n",
    "# SPX\n",
    "spx_contract = create_contract('SPX')\n",
    "spx_data = request_historical_data(app, spx_contract)\n",
    "\n",
    "if len(spx_data) == 0:\n",
    "    print('ERROR - Probabilmente ci sono problemi di connessione alla TWS')\n",
    "else:\n",
    "    spx = pd.DataFrame(spx_data, columns=['Date', 'Open', 'High', 'Close', 'Low', 'Volume'])\n",
    "    spx['Date'] = spx['Date'].str[:17]\n",
    "    spx['Date'] = spx['Date'].str[:4] + '-' + spx['Date'].str[4:6] + '-' + spx['Date'].str[6:8] + '' + spx['Date'].str[8:]\n",
    "    spx['Date'] = pd.to_datetime(spx['Date'], format=\"%Y-%m-%d\")\n",
    "\n",
    "    result_df['feat_Open-PrevClose'] = np.where(spx['Open'] - spx['Close'].shift(1) > 0, 1, 0)\n",
    "    result_df['Date'] = pd.to_datetime(spx['Date'])\n",
    "\n",
    "# Print and return result\n",
    "print('Dati inseriti nel DF', result_df)\n"
   ]
  },
  {
   "cell_type": "code",
   "execution_count": 4,
   "metadata": {},
   "outputs": [
    {
     "name": "stderr",
     "output_type": "stream",
     "text": [
      "ERROR 1 504 Not connected\n",
      "ERROR 1 504 Not connected\n"
     ]
    },
    {
     "name": "stdout",
     "output_type": "stream",
     "text": [
      "Dati ottenuti da TWS []\n",
      "ERROR - Probabilmente ci sono problemi di connessione alla TWS\n",
      "Cleaning Data\n"
     ]
    },
    {
     "name": "stderr",
     "output_type": "stream",
     "text": [
      "ERROR 1 504 Not connected\n"
     ]
    },
    {
     "name": "stdout",
     "output_type": "stream",
     "text": [
      "Dati ottenuti da TWS []\n",
      "ERROR - Probabilmente ci sono problemi di connessione alla TWS\n",
      "Cleaning Data\n",
      "Dati ottenuti da TWS []\n",
      "ERROR - Probabilmente ci sono problemi di connessione alla TWS\n"
     ]
    }
   ],
   "source": [
    "resultDataFrame = pd.DataFrame()\n",
    "\n",
    "orderType = 'noTrade'\n",
    "\n",
    "time.sleep(3) #Sleep interval to allow time for connection to server\n",
    "\n",
    "#Create contract object\n",
    "contract = Contract()\n",
    "contract.symbol = 'VVIX'\n",
    "contract.secType = 'IND'\n",
    "contract.exchange = 'CBOE'\n",
    "contract.currency = 'USD'\n",
    "\n",
    "#Request historical candles\n",
    "app.reqHistoricalData(1, contract, '', \"2 D\", \"1 Day\", \"TRADES\", 0, 1, False, [])\n",
    "\n",
    "time.sleep(3) #sleep to allow enough time for data to be returned\n",
    "# app.disconnect()\n",
    "\n",
    "print('Dati ottenuti da TWS', app.data)\n",
    "\n",
    "if(len(app.data)==0):\n",
    "    print('ERROR - Probabilmente ci sono problemi di connessione alla TWS')\n",
    "else:\n",
    "    vvix = pd.DataFrame(app.data, columns=['Date','Open', 'High', 'Close', 'Low', 'Volume'])\n",
    "    vvix['Date'] = vvix['Date'].str[:17]\n",
    "    vvix['Date'] = vvix['Date'].str[:4] + '-' + vvix['Date'].str[4:6] +  '-' + vvix['Date'].str[6:8] + '' + vvix['Date'].str[8:]\n",
    "    \n",
    "    vvix['Date'] = pd.to_datetime(vvix['Date'], format=\"%Y-%m-%d\")# %H:%M:%S\")\n",
    "    \n",
    "    # setting first name as index column\n",
    "\n",
    "    \n",
    "    resultDataFrame['feat_vvixOpen'] = vvix['Open']\n",
    "    resultDataFrame['feat_vvixPrevClose'] = vvix['Close'].shift(1)\n",
    "    # vvix = vvix.drop(['Open','Close', 'High','Low', 'Volume'], axis=1)\n",
    "\n",
    "    print('Dati inseriti nel DF', vvix)\n",
    "\n",
    "    # -------------------------\n",
    "\n",
    "#Create contract object\n",
    "contract = Contract()\n",
    "contract.symbol = 'VIX'\n",
    "contract.secType = 'IND'\n",
    "contract.exchange = 'CBOE'\n",
    "contract.currency = 'USD'\n",
    "\n",
    "\n",
    "#Request historical candles\n",
    "app.cleanData()\n",
    "app.reqHistoricalData(1, contract, '', \"2 D\", \"1 Day\", \"TRADES\", 0, 1, False, [])\n",
    "time.sleep(3)\n",
    "\n",
    "print('Dati ottenuti da TWS', app.data)\n",
    "\n",
    "# app.connect('127.0.0.1', 7497, 123)\n",
    "\n",
    "#Start the socket in a thread\n",
    "# api_thread = threading.Thread(target=run_loop, daemon=True)\n",
    "# api_thread.start()\n",
    "if(len(app.data)==0):\n",
    "    print('ERROR - Probabilmente ci sono problemi di connessione alla TWS')\n",
    "else:\n",
    "    vix = pd.DataFrame(app.data, columns=['Date','Open', 'High', 'Close', 'Low', 'Volume'])\n",
    "    vix['Date'] = vix['Date'].str[:17]\n",
    "    vix['Date'] = vix['Date'].str[:4] + '-' + vix['Date'].str[4:6] +  '-' + vix['Date'].str[6:8] + '' + vix['Date'].str[8:]\n",
    "    \n",
    "    vix['Date'] = pd.to_datetime(vix['Date'], format=\"%Y-%m-%d\")# %H:%M:%S\")\n",
    "    \n",
    "    resultDataFrame['feat_vixOpen'] = vix['Open']\n",
    "    resultDataFrame['feat_vixPrevClose'] = vix['Close'].shift(1)\n",
    "\n",
    "    # vix = vix.drop(['Open','Close', 'High','Low', 'Volume'], axis=1)\n",
    "    \n",
    "    # Seleziona le colonne con il prefisso \"feat\"\n",
    "    feat_cols = [col for col in resultDataFrame.columns if 'feat' in col]\n",
    "    # resultDataFrame.dropna(how='any', inplace=True)\n",
    "\n",
    "#Create contract object\n",
    "contract = Contract()\n",
    "contract.symbol = 'SPX'\n",
    "contract.secType = 'IND'\n",
    "contract.exchange = 'CBOE'\n",
    "contract.currency = 'USD'\n",
    "\n",
    "\n",
    "#Request historical candles\n",
    "app.cleanData()\n",
    "app.reqHistoricalData(1, contract, '', \"2 D\", \"1 Day\", \"TRADES\", 0, 1, False, [])\n",
    "time.sleep(3)\n",
    "\n",
    "print('Dati ottenuti da TWS', app.data)\n",
    "\n",
    "# app.connect('127.0.0.1', 7497, 123)\n",
    "\n",
    "#Start the socket in a thread\n",
    "# api_thread = threading.Thread(target=run_loop, daemon=True)\n",
    "# api_thread.start()\n",
    "if(len(app.data)==0):\n",
    "    print('ERROR - Probabilmente ci sono problemi di connessione alla TWS')\n",
    "else:\n",
    "    spx = pd.DataFrame(app.data, columns=['Date','Open', 'High', 'Close', 'Low', 'Volume'])\n",
    "    spx['Date'] = spx['Date'].str[:17]\n",
    "    spx['Date'] = spx['Date'].str[:4] + '-' + spx['Date'].str[4:6] +  '-' + spx['Date'].str[6:8] + '' + spx['Date'].str[8:]\n",
    "    \n",
    "    spx['Date'] = pd.to_datetime(spx['Date'], format=\"%Y-%m-%d\")# %H:%M:%S\")\n",
    "    \n",
    "    resultDataFrame['feat_Open-PrevClose'] = np.where(spx['Open']-spx['Close'].shift(1)>0,1,0)\n",
    "    resultDataFrame['Date'] = pd.to_datetime(spx['Date'])\n",
    "    # resultDataFrame.set_index(\"Date\", inplace = True)\n",
    "    # vix = vix.drop(['Open','Close', 'High','Low', 'Volume'], axis=1)\n",
    "    \n",
    "    # Seleziona le colonne con il prefisso \"feat\"\n",
    "    feat_cols = [col for col in resultDataFrame.columns if 'feat' in col]\n",
    "    # resultDataFrame.dropna(how='any', inplace=True)    \n",
    "\n"
   ]
  },
  {
   "cell_type": "code",
   "execution_count": 12,
   "metadata": {},
   "outputs": [
    {
     "name": "stdout",
     "output_type": "stream",
     "text": [
      "final DF Empty DataFrame\n",
      "Columns: []\n",
      "Index: []\n"
     ]
    }
   ],
   "source": [
    "print('final DF', result_df)\n",
    "time.sleep(3) #sleep to allow enough time for data to be returned\n",
    "app.disconnect()\n",
    "time.sleep(3) #sleep to allow enough time for data to be returned"
   ]
  },
  {
   "cell_type": "code",
   "execution_count": 13,
   "metadata": {},
   "outputs": [
    {
     "name": "stdout",
     "output_type": "stream",
     "text": [
      "[-1]\n",
      "   feat_vvixOpen  feat_vvixPrevClose  feat_vixOpen  feat_vixPrevClose  \\\n",
      "1         119.84              111.18         23.39              23.39   \n",
      "\n",
      "   feat_Open-PrevClose       Date  \n",
      "1                    0 2024-08-02  \n",
      "Dati per oggi non ancora disponibili. Ultima data disponibile: 2024-08-02\n",
      "Direzione prevista per oggi: noTrade\n"
     ]
    }
   ],
   "source": [
    "# CLASSIFICATION\n",
    "result_df = result_df.dropna()\n",
    "clf = loaded_rf = joblib.load(\"./BigShort.joblib\")\n",
    "features = [ 'feat_Open-PrevClose', 'feat_vixOpen', 'feat_vixPrevClose', 'feat_vvixOpen', 'feat_vvixPrevClose']\n",
    "\n",
    "# TEST\n",
    "# datas = [[date.today(), 1, 25.61000061, 25.43000031, 89.37000275, 79.58999634]] # SELL\n",
    "# datas = [[date.today(), 0, 23.27000046, 23.79000092, 79.58999634, 79.51000214]] # BUY\n",
    "# resultDataFrame = pd.DataFrame(datas, columns=['Date','feat_Open-PrevClose', 'feat_vixOpen', 'feat_vixPrevClose', 'feat_vvixOpen', 'feat_vvixPrevClose'])\n",
    "\n",
    "x_live = result_df[features]\n",
    "\n",
    "y_live_pred = clf.predict(x_live)\n",
    "\n",
    "print(y_live_pred)\n",
    "\n",
    "print(result_df)\n",
    "if(result_df['Date'].iloc[-1]==(date.today())):\n",
    "    orderType = 'HOLD' if y_live_pred==1 else 'SELL'\n",
    "    print('Direzione Prevista:', orderType)\n",
    "else:\n",
    "    orderType = 'noTrade'\n",
    "    print('Dati per oggi non ancora disponibili. Ultima data disponibile:', result_df['Date'].iloc[-1].date())\n",
    "        \n",
    "print('Direzione prevista per oggi:', orderType)\n",
    "    # return orderType"
   ]
  }
 ],
 "metadata": {
  "kernelspec": {
   "display_name": "Python 3",
   "language": "python",
   "name": "python3"
  },
  "language_info": {
   "codemirror_mode": {
    "name": "ipython",
    "version": 3
   },
   "file_extension": ".py",
   "mimetype": "text/x-python",
   "name": "python",
   "nbconvert_exporter": "python",
   "pygments_lexer": "ipython3",
   "version": "3.11.2"
  }
 },
 "nbformat": 4,
 "nbformat_minor": 2
}
